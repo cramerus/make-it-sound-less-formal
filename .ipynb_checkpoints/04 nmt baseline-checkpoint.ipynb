{
 "cells": [
  {
   "cell_type": "code",
   "execution_count": 8,
   "metadata": {},
   "outputs": [],
   "source": [
    "import numpy as np\n",
    "from nltk.tokenize import word_tokenize\n",
    "import pandas as pd\n",
    "import pickle\n",
    "from tqdm import tqdm_notebook as tqdm\n",
    "import torch\n",
    "import spacy"
   ]
  },
  {
   "cell_type": "markdown",
   "metadata": {},
   "source": [
    "# prepare text files to use with OpenNMT"
   ]
  },
  {
   "cell_type": "code",
   "execution_count": 4,
   "metadata": {},
   "outputs": [
    {
     "data": {
      "text/html": [
       "<div>\n",
       "<style scoped>\n",
       "    .dataframe tbody tr th:only-of-type {\n",
       "        vertical-align: middle;\n",
       "    }\n",
       "\n",
       "    .dataframe tbody tr th {\n",
       "        vertical-align: top;\n",
       "    }\n",
       "\n",
       "    .dataframe thead th {\n",
       "        text-align: right;\n",
       "    }\n",
       "</style>\n",
       "<table border=\"1\" class=\"dataframe\">\n",
       "  <thead>\n",
       "    <tr style=\"text-align: right;\">\n",
       "      <th></th>\n",
       "      <th>Original</th>\n",
       "      <th>Target 0</th>\n",
       "      <th>Target 1</th>\n",
       "      <th>Target 2</th>\n",
       "      <th>Target 3</th>\n",
       "      <th>Category</th>\n",
       "      <th>Dataset</th>\n",
       "    </tr>\n",
       "  </thead>\n",
       "  <tbody>\n",
       "    <tr>\n",
       "      <th>0</th>\n",
       "      <td>I mean that you have to really be her friend.</td>\n",
       "      <td>And I mean Really be her friend.</td>\n",
       "      <td>Just be her BFF 4 real.</td>\n",
       "      <td>you have to be her friend.</td>\n",
       "      <td>You have to actually be her friend, for real.</td>\n",
       "      <td>Family_Relationships</td>\n",
       "      <td>test</td>\n",
       "    </tr>\n",
       "    <tr>\n",
       "      <th>1</th>\n",
       "      <td>Are you posing a rhetorical question?</td>\n",
       "      <td>Sounds like a rhetorical question :)</td>\n",
       "      <td>Do you really want an answer?</td>\n",
       "      <td>That sounds more like a rhetorical question th...</td>\n",
       "      <td>Are you asking me a rhetorical question?</td>\n",
       "      <td>Family_Relationships</td>\n",
       "      <td>test</td>\n",
       "    </tr>\n",
       "    <tr>\n",
       "      <th>2</th>\n",
       "      <td>Men pretend to love in order to have intercour...</td>\n",
       "      <td>Men play at love to get sex, women play at sex...</td>\n",
       "      <td>Men fake love to get laid, women fake orgasms ...</td>\n",
       "      <td>Guys PRETEND to love so they can get laid, wom...</td>\n",
       "      <td>Dudes just act like they love a chick to get b...</td>\n",
       "      <td>Family_Relationships</td>\n",
       "      <td>test</td>\n",
       "    </tr>\n",
       "    <tr>\n",
       "      <th>3</th>\n",
       "      <td>I do not intend to be mean.</td>\n",
       "      <td>I don't want to be mean.</td>\n",
       "      <td>I wasn't trying to be a jerk.</td>\n",
       "      <td>I'm not tryin to be mean...</td>\n",
       "      <td>I didn't want to be mean</td>\n",
       "      <td>Family_Relationships</td>\n",
       "      <td>test</td>\n",
       "    </tr>\n",
       "    <tr>\n",
       "      <th>4</th>\n",
       "      <td>I would estimate an average of 45% initially b...</td>\n",
       "      <td>On average I'd say about 45% at first but than...</td>\n",
       "      <td>It's a little less than 50/50 at the start, bu...</td>\n",
       "      <td>Prolly 45% at the start but when you get to no...</td>\n",
       "      <td>I guess it'd be around 45% to start with, but ...</td>\n",
       "      <td>Family_Relationships</td>\n",
       "      <td>test</td>\n",
       "    </tr>\n",
       "  </tbody>\n",
       "</table>\n",
       "</div>"
      ],
      "text/plain": [
       "                                            Original  \\\n",
       "0      I mean that you have to really be her friend.   \n",
       "1              Are you posing a rhetorical question?   \n",
       "2  Men pretend to love in order to have intercour...   \n",
       "3                        I do not intend to be mean.   \n",
       "4  I would estimate an average of 45% initially b...   \n",
       "\n",
       "                                            Target 0  \\\n",
       "0                   And I mean Really be her friend.   \n",
       "1               Sounds like a rhetorical question :)   \n",
       "2  Men play at love to get sex, women play at sex...   \n",
       "3                           I don't want to be mean.   \n",
       "4  On average I'd say about 45% at first but than...   \n",
       "\n",
       "                                            Target 1  \\\n",
       "0                            Just be her BFF 4 real.   \n",
       "1                      Do you really want an answer?   \n",
       "2  Men fake love to get laid, women fake orgasms ...   \n",
       "3                      I wasn't trying to be a jerk.   \n",
       "4  It's a little less than 50/50 at the start, bu...   \n",
       "\n",
       "                                            Target 2  \\\n",
       "0                         you have to be her friend.   \n",
       "1  That sounds more like a rhetorical question th...   \n",
       "2  Guys PRETEND to love so they can get laid, wom...   \n",
       "3                        I'm not tryin to be mean...   \n",
       "4  Prolly 45% at the start but when you get to no...   \n",
       "\n",
       "                                            Target 3              Category  \\\n",
       "0      You have to actually be her friend, for real.  Family_Relationships   \n",
       "1           Are you asking me a rhetorical question?  Family_Relationships   \n",
       "2  Dudes just act like they love a chick to get b...  Family_Relationships   \n",
       "3                           I didn't want to be mean  Family_Relationships   \n",
       "4  I guess it'd be around 45% to start with, but ...  Family_Relationships   \n",
       "\n",
       "  Dataset  \n",
       "0    test  \n",
       "1    test  \n",
       "2    test  \n",
       "3    test  \n",
       "4    test  "
      ]
     },
     "execution_count": 4,
     "metadata": {},
     "output_type": "execute_result"
    }
   ],
   "source": [
    "all_df = pd.read_pickle('data/rule_based_corrected_df.pkl')\n",
    "all_df.head()"
   ]
  },
  {
   "cell_type": "code",
   "execution_count": 18,
   "metadata": {},
   "outputs": [],
   "source": [
    "train_src = all_df[all_df['Dataset'] == 'train']['Original']\n",
    "train_tgt = all_df[all_df['Dataset'] == 'train']['Target 0']\n",
    "val_src = all_df[all_df['Dataset'] == 'tune']['Original']\n",
    "val_tgt = all_df[all_df['Dataset'] == 'tune']['Target 0']\n",
    "\n",
    "assert len(train_src) == len(train_tgt)\n",
    "assert len(val_src) == len(val_tgt)"
   ]
  },
  {
   "cell_type": "code",
   "execution_count": 5,
   "metadata": {},
   "outputs": [],
   "source": [
    "def series_to_txt(series, filename):\n",
    "    with open(filename, 'w', encoding='utf-8') as f:\n",
    "        for item in series:\n",
    "            tokens = word_tokenize(item)\n",
    "            tokens = ' '.join(tokens)\n",
    "            f.write(tokens + '\\n')"
   ]
  },
  {
   "cell_type": "code",
   "execution_count": 27,
   "metadata": {},
   "outputs": [],
   "source": [
    "series_to_txt(val_src, 'data/src-val.txt')\n",
    "series_to_txt(val_tgt, 'data/tgt-val.txt')\n",
    "series_to_txt(train_src, 'data/src-train.txt')\n",
    "series_to_txt(train_tgt, 'data/tgt-train.txt')"
   ]
  },
  {
   "cell_type": "code",
   "execution_count": 6,
   "metadata": {},
   "outputs": [],
   "source": [
    "test_src = all_df[all_df['Dataset'] == 'test']['Original']\n",
    "test_tgt = all_df[all_df['Dataset'] == 'test']['Target 0']\n",
    "\n",
    "assert len(test_src) == len(test_tgt)\n",
    "\n",
    "series_to_txt(test_src, 'data/src-test.txt')\n",
    "series_to_txt(test_tgt, 'data/tgt-test.txt')"
   ]
  },
  {
   "cell_type": "markdown",
   "metadata": {},
   "source": [
    "# openNMT with default parameters"
   ]
  },
  {
   "cell_type": "code",
   "execution_count": 28,
   "metadata": {},
   "outputs": [
    {
     "data": {
      "text/plain": [
       "False"
      ]
     },
     "execution_count": 28,
     "metadata": {},
     "output_type": "execute_result"
    }
   ],
   "source": [
    "torch.cuda.is_available()"
   ]
  },
  {
   "cell_type": "code",
   "execution_count": null,
   "metadata": {},
   "outputs": [],
   "source": [
    "# using OpenNMT\n",
    "\n",
    "# http://opennmt.net/OpenNMT-py/quickstart.html\n",
    "\n",
    "# % OpenNMT-py/preprocess.py -train_src make-it-sound-less-formal/data/src-train.txt -train_tgt make-it-sound-less-formal/data/tgt-train.txt -valid_src make-it-sound-less-formal/data/src-val.txt -valid_tgt make-it-sound-less-formal/data/tgt-val.txt -save_data make-it-sound-less-formal/data/OpenNMTData\n",
    "\n",
    "# % tools/embeddings_to_torch.py -emb_file_both \"data/YahooCorpus/YahooVectors.txt\" -dict_file \"data/YahooCorpus/OpenNMTData.vocab.pt\" -output_file \"data/YahooCorpus/embeddings\"\n",
    "\n",
    "# % python3 train.py -save_model data/YahooCorpus/model -data data/YahooCorpus/OpenNMTData -word_vec_size 300 -pre_word_vecs_enc \"data/YahooCorpus/embeddings.enc.pt\" -pre_word_vecs_dec \"data/YahooCorpus/embeddings.dec.pt\" "
   ]
  },
  {
   "cell_type": "code",
   "execution_count": null,
   "metadata": {},
   "outputs": [],
   "source": [
    "# preprocess.py -train_src data/YahooCorpus/src-train.txt -train_tgt data/YahooCorpus/tgt-train.txt -valid_src data/YahooCorpus/src-val.txt -valid_tgt data/YahooCorpus/tgt-val.txt -save_data data/model_pretrained_embed_with_copy/data -dynamic_dict\n",
    "# python3 train.py -save_model data/model_pretrained_embed_with_copy/ -data data/model_pretrained_embed_with_copy/data -word_vec_size 300 -pre_word_vecs_enc \"data/glove_pretrained/embeddings.enc.pt\" -pre_word_vecs_dec \"data/glove_pretrained/embeddings.dec.pt\" -copy_attn\n",
    "# take 2"
   ]
  },
  {
   "cell_type": "markdown",
   "metadata": {},
   "source": [
    "# Collect source, target, pred in excel sheet"
   ]
  },
  {
   "cell_type": "code",
   "execution_count": 4,
   "metadata": {},
   "outputs": [
    {
     "name": "stdout",
     "output_type": "stream",
     "text": [
      "/home/rebekah/Documents/OpenNMT-py/data/YahooCorpus\n"
     ]
    }
   ],
   "source": [
    "% cd /home/rebekah/Documents/OpenNMT-py/data/YahooCorpus"
   ]
  },
  {
   "cell_type": "code",
   "execution_count": 7,
   "metadata": {},
   "outputs": [],
   "source": [
    "pred_file = open('pred-test.txt')\n",
    "pred = [line.rstrip() for line in pred_file.readlines()]\n",
    "pred_file.close()\n",
    "\n",
    "source_file = open('src-test.txt')\n",
    "source = [line.rstrip() for line in source_file.readlines()]\n",
    "source_file.close()\n",
    "\n",
    "target_file = open('tgt-test.txt')\n",
    "target = [line.rstrip() for line in target_file.readlines()]\n",
    "target_file.close()"
   ]
  },
  {
   "cell_type": "code",
   "execution_count": 11,
   "metadata": {},
   "outputs": [],
   "source": [
    "v1_results = pd.DataFrame({'Source': source, 'Target': target, 'Prediction': pred})"
   ]
  },
  {
   "cell_type": "code",
   "execution_count": 13,
   "metadata": {},
   "outputs": [
    {
     "name": "stdout",
     "output_type": "stream",
     "text": [
      "/home/rebekah/Documents/make-it-sound-less-formal/data\n"
     ]
    }
   ],
   "source": [
    "% cd /home/rebekah/Documents/make-it-sound-less-formal/data/"
   ]
  },
  {
   "cell_type": "code",
   "execution_count": 16,
   "metadata": {},
   "outputs": [],
   "source": [
    "writer = pd.ExcelWriter('version_1_test.xlsx')\n",
    "v1_results.to_excel(writer, engine='xlsxwriter')\n",
    "writer.save()"
   ]
  },
  {
   "cell_type": "code",
   "execution_count": 3,
   "metadata": {},
   "outputs": [
    {
     "data": {
      "text/html": [
       "<div>\n",
       "<style scoped>\n",
       "    .dataframe tbody tr th:only-of-type {\n",
       "        vertical-align: middle;\n",
       "    }\n",
       "\n",
       "    .dataframe tbody tr th {\n",
       "        vertical-align: top;\n",
       "    }\n",
       "\n",
       "    .dataframe thead th {\n",
       "        text-align: right;\n",
       "    }\n",
       "</style>\n",
       "<table border=\"1\" class=\"dataframe\">\n",
       "  <thead>\n",
       "    <tr style=\"text-align: right;\">\n",
       "      <th></th>\n",
       "      <th>Source</th>\n",
       "      <th>Target</th>\n",
       "      <th>Prediction</th>\n",
       "      <th>source_lf</th>\n",
       "      <th>target_lf</th>\n",
       "      <th>pred_lf</th>\n",
       "      <th>src_tgt_diff</th>\n",
       "      <th>src_pred_diff</th>\n",
       "    </tr>\n",
       "  </thead>\n",
       "  <tbody>\n",
       "    <tr>\n",
       "      <th>0</th>\n",
       "      <td>I mean that you have to really be her friend .</td>\n",
       "      <td>And I mean Really be her friend .</td>\n",
       "      <td>I mean you have to really be her friend .</td>\n",
       "      <td>-0.270857</td>\n",
       "      <td>-0.271620</td>\n",
       "      <td>-0.275536</td>\n",
       "      <td>0.000763</td>\n",
       "      <td>0.004680</td>\n",
       "    </tr>\n",
       "    <tr>\n",
       "      <th>1</th>\n",
       "      <td>Are you posing a rhetorical question ?</td>\n",
       "      <td>Sounds like a rhetorical question : )</td>\n",
       "      <td>What kind of question is that ?</td>\n",
       "      <td>-0.142981</td>\n",
       "      <td>-0.178207</td>\n",
       "      <td>-0.207015</td>\n",
       "      <td>0.035226</td>\n",
       "      <td>0.064035</td>\n",
       "    </tr>\n",
       "    <tr>\n",
       "      <th>2</th>\n",
       "      <td>Men pretend to love in order to have intercour...</td>\n",
       "      <td>Men play at love to get sex , women play at se...</td>\n",
       "      <td>Men play love to have sex , women play for sex...</td>\n",
       "      <td>-0.195864</td>\n",
       "      <td>-0.237748</td>\n",
       "      <td>-0.216562</td>\n",
       "      <td>0.041885</td>\n",
       "      <td>0.020698</td>\n",
       "    </tr>\n",
       "    <tr>\n",
       "      <th>3</th>\n",
       "      <td>I do not intend to be mean .</td>\n",
       "      <td>I do n't want to be mean .</td>\n",
       "      <td>I do n't mean to be mean .</td>\n",
       "      <td>-0.204783</td>\n",
       "      <td>-0.242434</td>\n",
       "      <td>-0.219974</td>\n",
       "      <td>0.037651</td>\n",
       "      <td>0.015191</td>\n",
       "    </tr>\n",
       "    <tr>\n",
       "      <th>4</th>\n",
       "      <td>I would estimate an average of 45 % initially ...</td>\n",
       "      <td>On average I 'd say about 45 % at first but th...</td>\n",
       "      <td>I would say a 15 % of 45 % , then once you get...</td>\n",
       "      <td>-0.126478</td>\n",
       "      <td>-0.218232</td>\n",
       "      <td>-0.182693</td>\n",
       "      <td>0.091754</td>\n",
       "      <td>0.056215</td>\n",
       "    </tr>\n",
       "  </tbody>\n",
       "</table>\n",
       "</div>"
      ],
      "text/plain": [
       "                                              Source  \\\n",
       "0     I mean that you have to really be her friend .   \n",
       "1             Are you posing a rhetorical question ?   \n",
       "2  Men pretend to love in order to have intercour...   \n",
       "3                       I do not intend to be mean .   \n",
       "4  I would estimate an average of 45 % initially ...   \n",
       "\n",
       "                                              Target  \\\n",
       "0                  And I mean Really be her friend .   \n",
       "1              Sounds like a rhetorical question : )   \n",
       "2  Men play at love to get sex , women play at se...   \n",
       "3                         I do n't want to be mean .   \n",
       "4  On average I 'd say about 45 % at first but th...   \n",
       "\n",
       "                                          Prediction  source_lf  target_lf  \\\n",
       "0          I mean you have to really be her friend .  -0.270857  -0.271620   \n",
       "1                    What kind of question is that ?  -0.142981  -0.178207   \n",
       "2  Men play love to have sex , women play for sex...  -0.195864  -0.237748   \n",
       "3                         I do n't mean to be mean .  -0.204783  -0.242434   \n",
       "4  I would say a 15 % of 45 % , then once you get...  -0.126478  -0.218232   \n",
       "\n",
       "    pred_lf  src_tgt_diff  src_pred_diff  \n",
       "0 -0.275536      0.000763       0.004680  \n",
       "1 -0.207015      0.035226       0.064035  \n",
       "2 -0.216562      0.041885       0.020698  \n",
       "3 -0.219974      0.037651       0.015191  \n",
       "4 -0.182693      0.091754       0.056215  "
      ]
     },
     "execution_count": 3,
     "metadata": {},
     "output_type": "execute_result"
    }
   ],
   "source": [
    "results_df = pd.read_pickle('data/v1_results.pkl')\n",
    "results_df.head()"
   ]
  },
  {
   "cell_type": "code",
   "execution_count": 6,
   "metadata": {},
   "outputs": [],
   "source": [
    "copy_pred_file = open('data/copy-pred-test.txt')\n",
    "copy_pred = [line.rstrip() for line in copy_pred_file.readlines()]\n",
    "copy_pred_file.close()"
   ]
  },
  {
   "cell_type": "code",
   "execution_count": 8,
   "metadata": {},
   "outputs": [],
   "source": [
    "results_df['Copy Prediction'] = copy_pred"
   ]
  },
  {
   "cell_type": "code",
   "execution_count": 10,
   "metadata": {},
   "outputs": [],
   "source": [
    "results_df.to_pickle('data/v1_results.pkl')"
   ]
  },
  {
   "cell_type": "markdown",
   "metadata": {},
   "source": [
    "# Remove NER from dataset for last model type"
   ]
  },
  {
   "cell_type": "code",
   "execution_count": 2,
   "metadata": {},
   "outputs": [
    {
     "data": {
      "text/html": [
       "<div>\n",
       "<style scoped>\n",
       "    .dataframe tbody tr th:only-of-type {\n",
       "        vertical-align: middle;\n",
       "    }\n",
       "\n",
       "    .dataframe tbody tr th {\n",
       "        vertical-align: top;\n",
       "    }\n",
       "\n",
       "    .dataframe thead th {\n",
       "        text-align: right;\n",
       "    }\n",
       "</style>\n",
       "<table border=\"1\" class=\"dataframe\">\n",
       "  <thead>\n",
       "    <tr style=\"text-align: right;\">\n",
       "      <th></th>\n",
       "      <th>Original</th>\n",
       "      <th>Target 0</th>\n",
       "      <th>Target 1</th>\n",
       "      <th>Target 2</th>\n",
       "      <th>Target 3</th>\n",
       "      <th>Category</th>\n",
       "      <th>Dataset</th>\n",
       "    </tr>\n",
       "  </thead>\n",
       "  <tbody>\n",
       "    <tr>\n",
       "      <th>0</th>\n",
       "      <td>I mean that you have to really be her friend.</td>\n",
       "      <td>And I mean Really be her friend.</td>\n",
       "      <td>Just be her BFF 4 real.</td>\n",
       "      <td>you have to be her friend.</td>\n",
       "      <td>You have to actually be her friend, for real.</td>\n",
       "      <td>Family_Relationships</td>\n",
       "      <td>test</td>\n",
       "    </tr>\n",
       "    <tr>\n",
       "      <th>1</th>\n",
       "      <td>Are you posing a rhetorical question?</td>\n",
       "      <td>Sounds like a rhetorical question :)</td>\n",
       "      <td>Do you really want an answer?</td>\n",
       "      <td>That sounds more like a rhetorical question th...</td>\n",
       "      <td>Are you asking me a rhetorical question?</td>\n",
       "      <td>Family_Relationships</td>\n",
       "      <td>test</td>\n",
       "    </tr>\n",
       "    <tr>\n",
       "      <th>2</th>\n",
       "      <td>Men pretend to love in order to have intercour...</td>\n",
       "      <td>Men play at love to get sex, women play at sex...</td>\n",
       "      <td>Men fake love to get laid, women fake orgasms ...</td>\n",
       "      <td>Guys PRETEND to love so they can get laid, wom...</td>\n",
       "      <td>Dudes just act like they love a chick to get b...</td>\n",
       "      <td>Family_Relationships</td>\n",
       "      <td>test</td>\n",
       "    </tr>\n",
       "    <tr>\n",
       "      <th>3</th>\n",
       "      <td>I do not intend to be mean.</td>\n",
       "      <td>I don't want to be mean.</td>\n",
       "      <td>I wasn't trying to be a jerk.</td>\n",
       "      <td>I'm not tryin to be mean...</td>\n",
       "      <td>I didn't want to be mean</td>\n",
       "      <td>Family_Relationships</td>\n",
       "      <td>test</td>\n",
       "    </tr>\n",
       "    <tr>\n",
       "      <th>4</th>\n",
       "      <td>I would estimate an average of 45% initially b...</td>\n",
       "      <td>On average I'd say about 45% at first but than...</td>\n",
       "      <td>It's a little less than 50/50 at the start, bu...</td>\n",
       "      <td>Prolly 45% at the start but when you get to no...</td>\n",
       "      <td>I guess it'd be around 45% to start with, but ...</td>\n",
       "      <td>Family_Relationships</td>\n",
       "      <td>test</td>\n",
       "    </tr>\n",
       "  </tbody>\n",
       "</table>\n",
       "</div>"
      ],
      "text/plain": [
       "                                            Original  \\\n",
       "0      I mean that you have to really be her friend.   \n",
       "1              Are you posing a rhetorical question?   \n",
       "2  Men pretend to love in order to have intercour...   \n",
       "3                        I do not intend to be mean.   \n",
       "4  I would estimate an average of 45% initially b...   \n",
       "\n",
       "                                            Target 0  \\\n",
       "0                   And I mean Really be her friend.   \n",
       "1               Sounds like a rhetorical question :)   \n",
       "2  Men play at love to get sex, women play at sex...   \n",
       "3                           I don't want to be mean.   \n",
       "4  On average I'd say about 45% at first but than...   \n",
       "\n",
       "                                            Target 1  \\\n",
       "0                            Just be her BFF 4 real.   \n",
       "1                      Do you really want an answer?   \n",
       "2  Men fake love to get laid, women fake orgasms ...   \n",
       "3                      I wasn't trying to be a jerk.   \n",
       "4  It's a little less than 50/50 at the start, bu...   \n",
       "\n",
       "                                            Target 2  \\\n",
       "0                         you have to be her friend.   \n",
       "1  That sounds more like a rhetorical question th...   \n",
       "2  Guys PRETEND to love so they can get laid, wom...   \n",
       "3                        I'm not tryin to be mean...   \n",
       "4  Prolly 45% at the start but when you get to no...   \n",
       "\n",
       "                                            Target 3              Category  \\\n",
       "0      You have to actually be her friend, for real.  Family_Relationships   \n",
       "1           Are you asking me a rhetorical question?  Family_Relationships   \n",
       "2  Dudes just act like they love a chick to get b...  Family_Relationships   \n",
       "3                           I didn't want to be mean  Family_Relationships   \n",
       "4  I guess it'd be around 45% to start with, but ...  Family_Relationships   \n",
       "\n",
       "  Dataset  \n",
       "0    test  \n",
       "1    test  \n",
       "2    test  \n",
       "3    test  \n",
       "4    test  "
      ]
     },
     "execution_count": 2,
     "metadata": {},
     "output_type": "execute_result"
    }
   ],
   "source": [
    "all_df = pd.read_pickle('data/rule_based_corrected_df.pkl')\n",
    "all_df.head()"
   ]
  },
  {
   "cell_type": "code",
   "execution_count": 10,
   "metadata": {},
   "outputs": [
    {
     "ename": "OSError",
     "evalue": "[E050] Can't find model 'en_core_web_sm'. It doesn't seem to be a shortcut link, a Python package or a valid path to a data directory.",
     "output_type": "error",
     "traceback": [
      "\u001b[0;31m---------------------------------------------------------------------------\u001b[0m",
      "\u001b[0;31mOSError\u001b[0m                                   Traceback (most recent call last)",
      "\u001b[0;32m<ipython-input-10-12102ff9e1a9>\u001b[0m in \u001b[0;36m<module>\u001b[0;34m()\u001b[0m\n\u001b[0;32m----> 1\u001b[0;31m \u001b[0mnlp\u001b[0m \u001b[0;34m=\u001b[0m \u001b[0mspacy\u001b[0m\u001b[0;34m.\u001b[0m\u001b[0mload\u001b[0m\u001b[0;34m(\u001b[0m\u001b[0;34m'en_core_web_sm'\u001b[0m\u001b[0;34m)\u001b[0m\u001b[0;34m\u001b[0m\u001b[0;34m\u001b[0m\u001b[0m\n\u001b[0m",
      "\u001b[0;32m/home/rebekah/.local/lib/python3.6/site-packages/spacy/__init__.py\u001b[0m in \u001b[0;36mload\u001b[0;34m(name, **overrides)\u001b[0m\n\u001b[1;32m     25\u001b[0m     \u001b[0;32mif\u001b[0m \u001b[0mdepr_path\u001b[0m \u001b[0;32mnot\u001b[0m \u001b[0;32min\u001b[0m \u001b[0;34m(\u001b[0m\u001b[0;32mTrue\u001b[0m\u001b[0;34m,\u001b[0m \u001b[0;32mFalse\u001b[0m\u001b[0;34m,\u001b[0m \u001b[0;32mNone\u001b[0m\u001b[0;34m)\u001b[0m\u001b[0;34m:\u001b[0m\u001b[0;34m\u001b[0m\u001b[0;34m\u001b[0m\u001b[0m\n\u001b[1;32m     26\u001b[0m         \u001b[0mdeprecation_warning\u001b[0m\u001b[0;34m(\u001b[0m\u001b[0mWarnings\u001b[0m\u001b[0;34m.\u001b[0m\u001b[0mW001\u001b[0m\u001b[0;34m.\u001b[0m\u001b[0mformat\u001b[0m\u001b[0;34m(\u001b[0m\u001b[0mpath\u001b[0m\u001b[0;34m=\u001b[0m\u001b[0mdepr_path\u001b[0m\u001b[0;34m)\u001b[0m\u001b[0;34m)\u001b[0m\u001b[0;34m\u001b[0m\u001b[0;34m\u001b[0m\u001b[0m\n\u001b[0;32m---> 27\u001b[0;31m     \u001b[0;32mreturn\u001b[0m \u001b[0mutil\u001b[0m\u001b[0;34m.\u001b[0m\u001b[0mload_model\u001b[0m\u001b[0;34m(\u001b[0m\u001b[0mname\u001b[0m\u001b[0;34m,\u001b[0m \u001b[0;34m**\u001b[0m\u001b[0moverrides\u001b[0m\u001b[0;34m)\u001b[0m\u001b[0;34m\u001b[0m\u001b[0;34m\u001b[0m\u001b[0m\n\u001b[0m\u001b[1;32m     28\u001b[0m \u001b[0;34m\u001b[0m\u001b[0m\n\u001b[1;32m     29\u001b[0m \u001b[0;34m\u001b[0m\u001b[0m\n",
      "\u001b[0;32m/home/rebekah/.local/lib/python3.6/site-packages/spacy/util.py\u001b[0m in \u001b[0;36mload_model\u001b[0;34m(name, **overrides)\u001b[0m\n\u001b[1;32m    134\u001b[0m     \u001b[0;32melif\u001b[0m \u001b[0mhasattr\u001b[0m\u001b[0;34m(\u001b[0m\u001b[0mname\u001b[0m\u001b[0;34m,\u001b[0m \u001b[0;34m\"exists\"\u001b[0m\u001b[0;34m)\u001b[0m\u001b[0;34m:\u001b[0m  \u001b[0;31m# Path or Path-like to model data\u001b[0m\u001b[0;34m\u001b[0m\u001b[0;34m\u001b[0m\u001b[0m\n\u001b[1;32m    135\u001b[0m         \u001b[0;32mreturn\u001b[0m \u001b[0mload_model_from_path\u001b[0m\u001b[0;34m(\u001b[0m\u001b[0mname\u001b[0m\u001b[0;34m,\u001b[0m \u001b[0;34m**\u001b[0m\u001b[0moverrides\u001b[0m\u001b[0;34m)\u001b[0m\u001b[0;34m\u001b[0m\u001b[0;34m\u001b[0m\u001b[0m\n\u001b[0;32m--> 136\u001b[0;31m     \u001b[0;32mraise\u001b[0m \u001b[0mIOError\u001b[0m\u001b[0;34m(\u001b[0m\u001b[0mErrors\u001b[0m\u001b[0;34m.\u001b[0m\u001b[0mE050\u001b[0m\u001b[0;34m.\u001b[0m\u001b[0mformat\u001b[0m\u001b[0;34m(\u001b[0m\u001b[0mname\u001b[0m\u001b[0;34m=\u001b[0m\u001b[0mname\u001b[0m\u001b[0;34m)\u001b[0m\u001b[0;34m)\u001b[0m\u001b[0;34m\u001b[0m\u001b[0;34m\u001b[0m\u001b[0m\n\u001b[0m\u001b[1;32m    137\u001b[0m \u001b[0;34m\u001b[0m\u001b[0m\n\u001b[1;32m    138\u001b[0m \u001b[0;34m\u001b[0m\u001b[0m\n",
      "\u001b[0;31mOSError\u001b[0m: [E050] Can't find model 'en_core_web_sm'. It doesn't seem to be a shortcut link, a Python package or a valid path to a data directory."
     ]
    }
   ],
   "source": [
    "nlp = spacy.load('en_core_web_sm')"
   ]
  },
  {
   "cell_type": "code",
   "execution_count": null,
   "metadata": {},
   "outputs": [],
   "source": [
    "for index, row in tqdm_notebook(all_df.iterrows(), total=all_df.shape[0]):\n",
    "    "
   ]
  },
  {
   "cell_type": "code",
   "execution_count": null,
   "metadata": {},
   "outputs": [],
   "source": [
    "train_src = all_df[all_df['Dataset'] == 'train']['Original']\n",
    "train_tgt = all_df[all_df['Dataset'] == 'train']['Target 0']\n",
    "val_src = all_df[all_df['Dataset'] == 'tune']['Original']\n",
    "val_tgt = all_df[all_df['Dataset'] == 'tune']['Target 0']\n",
    "\n",
    "assert len(train_src) == len(train_tgt)\n",
    "assert len(val_src) == len(val_tgt)\n",
    "\n",
    "def series_to_txt(series, filename):\n",
    "    with open(filename, 'w', encoding='utf-8') as f:\n",
    "        for item in series:\n",
    "            tokens = word_tokenize(item)\n",
    "            tokens = ' '.join(tokens)\n",
    "            f.write(tokens + '\\n')\n",
    "            \n",
    "series_to_txt(val_src, 'data/src-val.txt')\n",
    "series_to_txt(val_tgt, 'data/tgt-val.txt')\n",
    "series_to_txt(train_src, 'data/src-train.txt')\n",
    "series_to_txt(train_tgt, 'data/tgt-train.txt')"
   ]
  }
 ],
 "metadata": {
  "kernelspec": {
   "display_name": "Python 3",
   "language": "python",
   "name": "python3"
  },
  "language_info": {
   "codemirror_mode": {
    "name": "ipython",
    "version": 3
   },
   "file_extension": ".py",
   "mimetype": "text/x-python",
   "name": "python",
   "nbconvert_exporter": "python",
   "pygments_lexer": "ipython3",
   "version": "3.6.7"
  }
 },
 "nbformat": 4,
 "nbformat_minor": 2
}
