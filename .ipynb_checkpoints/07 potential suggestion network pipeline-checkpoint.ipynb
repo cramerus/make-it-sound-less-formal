{
 "cells": [
  {
   "cell_type": "code",
   "execution_count": 1,
   "metadata": {},
   "outputs": [
    {
     "name": "stderr",
     "output_type": "stream",
     "text": [
      "Using TensorFlow backend.\n"
     ]
    }
   ],
   "source": [
    "import pandas as pd\n",
    "import numpy as np\n",
    "from tqdm import tqdm_notebook as tqdm\n",
    "from tqdm import tqdm_pandas\n",
    "import matplotlib.pyplot as plt\n",
    "import pickle\n",
    "from nltk import word_tokenize\n",
    "import tensorflow as tf\n",
    "\n",
    "import keras.backend as K\n",
    "from keras import initializers, regularizers\n",
    "from keras.models import Model\n",
    "from keras.layers import Input, Activation, Embedding, RNN, LSTM, LSTMCell, Dense, Dropout, Concatenate\n",
    "from keras.layers import TimeDistributed, Bidirectional, Lambda, Layer\n",
    "from keras.layers import concatenate\n",
    "from keras.layers.recurrent import Recurrent\n",
    "from keras.layers.core import Reshape\n",
    "from keras.activations import tanh, softmax\n",
    "from keras.utils import to_categorical\n",
    "from keras.preprocessing.sequence import pad_sequences"
   ]
  },
  {
   "cell_type": "code",
   "execution_count": 2,
   "metadata": {},
   "outputs": [
    {
     "data": {
      "text/plain": [
       "['/job:localhost/replica:0/task:0/device:GPU:0']"
      ]
     },
     "execution_count": 2,
     "metadata": {},
     "output_type": "execute_result"
    }
   ],
   "source": [
    "# make sure gpu is available\n",
    "K.tensorflow_backend._get_available_gpus()"
   ]
  },
  {
   "cell_type": "code",
   "execution_count": 3,
   "metadata": {},
   "outputs": [],
   "source": [
    "K.clear_session()"
   ]
  },
  {
   "cell_type": "markdown",
   "metadata": {},
   "source": [
    "# import embedding"
   ]
  },
  {
   "cell_type": "raw",
   "metadata": {},
   "source": [
    "# pretrained GloVe embeddings unpacked\n",
    "\n",
    "file = 'glove.6B.300d.txt'\n",
    "embed_dim = 300\n",
    "\n",
    "w2idx = {}\n",
    "w2vec = {}\n",
    "\n",
    "with open(file) as f:\n",
    "    for idx, line in enumerate(f):\n",
    "        line = [part.strip() for part in line.split()]\n",
    "        word = line[0]\n",
    "        vec = np.asarray(line[1 : embed_dim + 1], dtype='float32')\n",
    "        \n",
    "        w2idx[word] = idx\n",
    "        w2vec[word] = vec\n",
    "        \n",
    "# include empty character for padding - put last\n",
    "w2idx[''] = len(w2idx)\n",
    "w2vec[''] = np.zeros(embed_dim)\n",
    "\n",
    "# create embedding matrix\n",
    "embeddings = np.zeros((len(w2idx), embed_dim))\n",
    "\n",
    "for word, idx in w2idx.items():\n",
    "    embeddings[idx] = np.array(w2vec[word])\n",
    "    \n",
    "# save\n",
    "with open('glv_embed_matrix.pkl', 'wb') as f:\n",
    "    pickle.dump(embeddings, f)\n",
    "    \n",
    "with open('glv_w2idx.pkl', 'wb') as f:\n",
    "    pickle.dump(w2idx, f)"
   ]
  },
  {
   "cell_type": "code",
   "execution_count": 4,
   "metadata": {},
   "outputs": [],
   "source": [
    "# dictionaries, pretrained embeddings\n",
    "with open('data/glv_w2idx.pkl', 'rb') as f:\n",
    "    w2idx = pickle.load(f)\n",
    "with open('data/glv_embed_matrix.pkl', 'rb') as f:\n",
    "    embedding = pickle.load(f)\n",
    "    \n",
    "# need to append BOS ('\\t') and EOS ('\\n') tokens to embeddings\n",
    "# give (consistently) random initialization since they don't actually mean anything\n",
    "# padding already exists as '' at the end of the embedding\n",
    "\n",
    "pad = len(w2idx) - 1\n",
    "\n",
    "w2idx['\\t'] = embedding.shape[0]\n",
    "np.random.seed(1)\n",
    "embedding = np.append(embedding, np.random.rand(1, 300), axis=0)\n",
    "\n",
    "w2idx['\\n'] = embedding.shape[0]\n",
    "np.random.seed(2)\n",
    "embedding = np.append(embedding, np.random.rand(1, 300), axis=0)"
   ]
  },
  {
   "cell_type": "markdown",
   "metadata": {},
   "source": [
    "# dataset"
   ]
  },
  {
   "cell_type": "code",
   "execution_count": 24,
   "metadata": {},
   "outputs": [
    {
     "data": {
      "text/html": [
       "<div>\n",
       "<style scoped>\n",
       "    .dataframe tbody tr th:only-of-type {\n",
       "        vertical-align: middle;\n",
       "    }\n",
       "\n",
       "    .dataframe tbody tr th {\n",
       "        vertical-align: top;\n",
       "    }\n",
       "\n",
       "    .dataframe thead th {\n",
       "        text-align: right;\n",
       "    }\n",
       "</style>\n",
       "<table border=\"1\" class=\"dataframe\">\n",
       "  <thead>\n",
       "    <tr style=\"text-align: right;\">\n",
       "      <th></th>\n",
       "      <th>Original</th>\n",
       "      <th>Replacement</th>\n",
       "      <th>Sentence</th>\n",
       "    </tr>\n",
       "  </thead>\n",
       "  <tbody>\n",
       "    <tr>\n",
       "      <th>0</th>\n",
       "      <td>do not</td>\n",
       "      <td>don't</td>\n",
       "      <td>I do not know what to say.</td>\n",
       "    </tr>\n",
       "    <tr>\n",
       "      <th>1</th>\n",
       "      <td>will not</td>\n",
       "      <td>won't</td>\n",
       "      <td>The girl will not go to bed.</td>\n",
       "    </tr>\n",
       "    <tr>\n",
       "      <th>2</th>\n",
       "      <td>will not</td>\n",
       "      <td>won't</td>\n",
       "      <td>He will not come tomorrow night.</td>\n",
       "    </tr>\n",
       "    <tr>\n",
       "      <th>3</th>\n",
       "      <td>would not</td>\n",
       "      <td>wouldn't</td>\n",
       "      <td>They would not want you to do that.</td>\n",
       "    </tr>\n",
       "    <tr>\n",
       "      <th>4</th>\n",
       "      <td>can not</td>\n",
       "      <td>can't</td>\n",
       "      <td>We can not believe that this happened.</td>\n",
       "    </tr>\n",
       "  </tbody>\n",
       "</table>\n",
       "</div>"
      ],
      "text/plain": [
       "    Original Replacement                                Sentence\n",
       "0     do not       don't              I do not know what to say.\n",
       "1   will not       won't            The girl will not go to bed.\n",
       "2   will not       won't        He will not come tomorrow night.\n",
       "3  would not    wouldn't     They would not want you to do that.\n",
       "4    can not       can't  We can not believe that this happened."
      ]
     },
     "execution_count": 24,
     "metadata": {},
     "output_type": "execute_result"
    }
   ],
   "source": [
    "# placeholder dataset\n",
    "\n",
    "df = pd.DataFrame({'Sentence': [\"I do not know what to say.\", \n",
    "                                \"The girl will not go to bed.\",\n",
    "                               \"He will not come tomorrow night.\",\n",
    "                               \"They would not want you to do that.\",\n",
    "                               \"We can not believe that this happened.\",\n",
    "                               \"I could not handle the truth.\"], \n",
    "                  'Original': [\"do not\", \"will not\", \"will not\", \"would not\", \"can not\", \"could not\"],\n",
    "                  'Replacement': [\"don't\", \"won't\", \"won't\", \"wouldn't\", \"can't\", \"couldn't\"]})\n",
    "df.head()"
   ]
  },
  {
   "cell_type": "code",
   "execution_count": 27,
   "metadata": {},
   "outputs": [
    {
     "data": {
      "text/html": [
       "<div>\n",
       "<style scoped>\n",
       "    .dataframe tbody tr th:only-of-type {\n",
       "        vertical-align: middle;\n",
       "    }\n",
       "\n",
       "    .dataframe tbody tr th {\n",
       "        vertical-align: top;\n",
       "    }\n",
       "\n",
       "    .dataframe thead th {\n",
       "        text-align: right;\n",
       "    }\n",
       "</style>\n",
       "<table border=\"1\" class=\"dataframe\">\n",
       "  <thead>\n",
       "    <tr style=\"text-align: right;\">\n",
       "      <th></th>\n",
       "      <th>Sentence</th>\n",
       "      <th>Original</th>\n",
       "      <th>Replacement</th>\n",
       "    </tr>\n",
       "  </thead>\n",
       "  <tbody>\n",
       "    <tr>\n",
       "      <th>0</th>\n",
       "      <td>Imagine that you have just written what you be...</td>\n",
       "      <td>you have</td>\n",
       "      <td>you 've</td>\n",
       "    </tr>\n",
       "    <tr>\n",
       "      <th>1</th>\n",
       "      <td>You are ready to get it off your plate and sen...</td>\n",
       "      <td>You are</td>\n",
       "      <td>You 're</td>\n",
       "    </tr>\n",
       "    <tr>\n",
       "      <th>2</th>\n",
       "      <td>Before you hit the publish button , are you po...</td>\n",
       "      <td>you have</td>\n",
       "      <td>you 've</td>\n",
       "    </tr>\n",
       "    <tr>\n",
       "      <th>3</th>\n",
       "      <td>After all , you have probably worked hard to c...</td>\n",
       "      <td>you have</td>\n",
       "      <td>you 've</td>\n",
       "    </tr>\n",
       "    <tr>\n",
       "      <th>4</th>\n",
       "      <td>Maybe you are already asking yourself some of ...</td>\n",
       "      <td>you are</td>\n",
       "      <td>you 're</td>\n",
       "    </tr>\n",
       "  </tbody>\n",
       "</table>\n",
       "</div>"
      ],
      "text/plain": [
       "                                            Sentence  Original Replacement\n",
       "0  Imagine that you have just written what you be...  you have     you 've\n",
       "1  You are ready to get it off your plate and sen...   You are     You 're\n",
       "2  Before you hit the publish button , are you po...  you have     you 've\n",
       "3  After all , you have probably worked hard to c...  you have     you 've\n",
       "4  Maybe you are already asking yourself some of ...   you are     you 're"
      ]
     },
     "execution_count": 27,
     "metadata": {},
     "output_type": "execute_result"
    }
   ],
   "source": [
    "df = pd.read_pickle('data/Acrolinx Blog Posts/acrolinx_blog_annotated_df.pkl')\n",
    "df.head()"
   ]
  },
  {
   "cell_type": "code",
   "execution_count": 28,
   "metadata": {},
   "outputs": [],
   "source": [
    "# preprocessing\n",
    "# change from text to indices\n",
    "\n",
    "# NOTE: there is word lowering in this because the pretrained word vectors, GloVe, only include\n",
    "# lowercase tokens\n",
    "\n",
    "def preprocess(df):\n",
    "    x_token = []\n",
    "    y_idx_start = []\n",
    "    y_idx_end = []\n",
    "    y_repl = []\n",
    "    x_orig = []\n",
    "    \n",
    "    for idx, row in tqdm(df.iterrows(), total = df.shape[0]):\n",
    "        \n",
    "        # Converting sentence strings to lists of indices.\n",
    "        # Adding BOS (\"\\t\") and EOS (\"\\n\") markers to all.\n",
    "        \n",
    "        sent = word_tokenize(row['Sentence'])\n",
    "        # add start-of-sequence ('\\t') and end-of-sequence ('\\n') markers to all texts\n",
    "        #sent = ['\\t'] + sent + ['\\n']\n",
    "        sent_indices = []\n",
    "        for word in sent:\n",
    "            word = word.lower()\n",
    "            if word in w2idx:\n",
    "                sent_indices.append(w2idx[word])\n",
    "            #else:\n",
    "            #    sent_indices.append(pad) # This adds padding instead of unknown. Fix?         \n",
    "        if len(sent_indices) == 0:\n",
    "            x_token.append(np.nan)\n",
    "            y_idx_start.append(np.nan)\n",
    "            y_idx_end.append(np.nan)\n",
    "            y_repl.append(np.nan)\n",
    "            x_orig.append(np.nan)\n",
    "            print('Empty sentence: ' + row['Sentence'])\n",
    "            continue\n",
    "        x_token.append(sent_indices)\n",
    "        \n",
    "        # Finding original segment locations in sentence.\n",
    "        \n",
    "        orig = word_tokenize(row['Original'])\n",
    "        orig_indices = []\n",
    "        for word in orig:\n",
    "            word = word.lower()\n",
    "            if word in w2idx:\n",
    "                orig_indices.append(w2idx[word])\n",
    "            #else:\n",
    "            #    orig_indices.append(pad) # This adds padding instead of unknown. Fix?         \n",
    "        if len(orig_indices) == 0:    \n",
    "            y_idx_start.append(np.nan)\n",
    "            y_idx_end.append(np.nan)\n",
    "            y_repl.append(np.nan)\n",
    "            x_orig.append(np.nan)\n",
    "            print('Empty fragment: ' + row['Original'])\n",
    "            continue\n",
    "        x_orig.append(orig_indices)\n",
    "                \n",
    "        # take indices and find the 1st occurrence of the slice in the whole sentence\n",
    "        starts = [i for i, x in enumerate(sent_indices) if x == orig_indices[0]]\n",
    "        y_s = np.nan\n",
    "        y_e = np.nan\n",
    "        for potential_start in starts:\n",
    "            potential_slice = sent_indices[potential_start : potential_start + len(orig_indices)]\n",
    "            if (potential_slice == np.array(orig_indices)).all():\n",
    "                y_s = potential_start\n",
    "                y_e = potential_start + len(orig_indices) + 1\n",
    "                break\n",
    "        if np.isnan(y_s) or np.isnan(y_e):\n",
    "            print('Original not found in sentence.')\n",
    "            print(row['Sentence'])\n",
    "            print(row['Original'])\n",
    "        y_idx_start.append(y_s)\n",
    "        y_idx_end.append(y_e)\n",
    "                \n",
    "        # Tokenize, put through w2idx, add BOS/EOS markers to replacement text.\n",
    "        \n",
    "        repl = word_tokenize(row['Replacement'])\n",
    "        # add start-of-sequence ('\\t') and end-of-sequence ('\\n') markers to these\n",
    "        # this, the replacement/target text, will be used in the decoder step of training only\n",
    "        repl = ['\\t'] + repl + ['\\n']\n",
    "        repl_indices = []\n",
    "        for word in repl:\n",
    "            word = word.lower()\n",
    "            if word in w2idx:\n",
    "                repl_indices.append(w2idx[word])\n",
    "            #else:\n",
    "            #    repl_indices.append(pad) # This adds padding instead of unknown. Fix?\n",
    "        y_repl.append(repl_indices)\n",
    "                \n",
    "    df['x_token'] = x_token\n",
    "    df['y_idx_start'] = y_idx_start\n",
    "    df['y_idx_end'] = y_idx_end\n",
    "    df['y_repl'] = y_repl\n",
    "    df['x_orig'] = x_orig\n",
    "    \n",
    "    return df"
   ]
  },
  {
   "cell_type": "code",
   "execution_count": 29,
   "metadata": {
    "scrolled": true
   },
   "outputs": [
    {
     "data": {
      "application/vnd.jupyter.widget-view+json": {
       "model_id": "37e1a663add34cecbbd6b2241005566f",
       "version_major": 2,
       "version_minor": 0
      },
      "text/plain": [
       "HBox(children=(IntProgress(value=0, max=4848), HTML(value='')))"
      ]
     },
     "metadata": {},
     "output_type": "display_data"
    },
    {
     "name": "stdout",
     "output_type": "stream",
     "text": [
      "Original not found in sentence.\n",
      "Now you have seen all of the problem words that we have collectedd .\n",
      "that we have collected\n",
      "Original not found in sentence.\n",
      "Yet the separation of technical content creation makes it difficultr to ensure consistency , both across all technical output and compared with a company 's other branded content .\n",
      "makes it difficult\n",
      "Original not found in sentence.\n",
      "It does not mean… We 're rigid or uptight .\n",
      "It does not mean\n",
      "Empty fragment: Acrolinx\n",
      "Original not found in sentence.\n",
      "It is a great event and one that you should definitely check out if you have not't before ( by the way , you can still register for it by clicking here ) .\n",
      "have not\n",
      "Original not found in sentence.\n",
      "Thmay be conference is all about being smarter with your content — whether you 're a marketer or in tech docs — and following the lead of pioneering companies such as Google , IBM , and Cisco Systems .\n",
      "This\n",
      "Original not found in sentence.\n",
      "Thmay be conference is all about being smarter with your content — whether you 're a marketer or in tech docs — and following the lead of pioneering companies such as Google , IBM , and Cisco Systems .\n",
      "may be\n",
      "Original not found in sentence.\n",
      "Considering that Americans eat over ten billion doughnut every year ( that 's 31 donuts per person if you 're wondering ) , it 's a food that many of us seem to be familiarr with .\n",
      "familiar\n",
      "Original not found in sentence.\n",
      "`` Content Connections is a great event because it not only packs a real punch in terms of ideas , takeaways , and insight , it 's alvery so convenient , '' continues Bredenkamp .\n",
      "very\n",
      "Original not found in sentence.\n",
      "That is because that websites finally gave us a place to put all of the collateral we had been creating about our companies ' products and services .\n",
      "that we\n",
      "Original not found in sentence.\n",
      "You will get a sense of achievement , and it is often easierr to edit what is there than to start creating from scratch .\n",
      "easier\n",
      "Original not found in sentence.\n",
      "This handy rethereforeurce gathers all of the most established style guides for you , so you can choose the best one for your brand of writing .\n",
      "therefore\n",
      "\n"
     ]
    },
    {
     "data": {
      "text/html": [
       "<div>\n",
       "<style scoped>\n",
       "    .dataframe tbody tr th:only-of-type {\n",
       "        vertical-align: middle;\n",
       "    }\n",
       "\n",
       "    .dataframe tbody tr th {\n",
       "        vertical-align: top;\n",
       "    }\n",
       "\n",
       "    .dataframe thead th {\n",
       "        text-align: right;\n",
       "    }\n",
       "</style>\n",
       "<table border=\"1\" class=\"dataframe\">\n",
       "  <thead>\n",
       "    <tr style=\"text-align: right;\">\n",
       "      <th></th>\n",
       "      <th>Sentence</th>\n",
       "      <th>Original</th>\n",
       "      <th>Replacement</th>\n",
       "      <th>x_token</th>\n",
       "      <th>y_idx_start</th>\n",
       "      <th>y_idx_end</th>\n",
       "      <th>y_repl</th>\n",
       "      <th>x_orig</th>\n",
       "    </tr>\n",
       "  </thead>\n",
       "  <tbody>\n",
       "    <tr>\n",
       "      <th>0</th>\n",
       "      <td>Imagine that you have just written what you be...</td>\n",
       "      <td>you have</td>\n",
       "      <td>you 've</td>\n",
       "      <td>[4779, 12, 81, 33, 120, 982, 102, 81, 733, 14,...</td>\n",
       "      <td>2.0</td>\n",
       "      <td>5.0</td>\n",
       "      <td>[400001, 81, 462, 400002]</td>\n",
       "      <td>[81, 33]</td>\n",
       "    </tr>\n",
       "    <tr>\n",
       "      <th>1</th>\n",
       "      <td>You are ready to get it off your plate and sen...</td>\n",
       "      <td>You are</td>\n",
       "      <td>You 're</td>\n",
       "      <td>[81, 32, 1188, 4, 169, 20, 138, 392, 4364, 5, ...</td>\n",
       "      <td>0.0</td>\n",
       "      <td>3.0</td>\n",
       "      <td>[400001, 81, 267, 400002]</td>\n",
       "      <td>[81, 32]</td>\n",
       "    </tr>\n",
       "    <tr>\n",
       "      <th>2</th>\n",
       "      <td>Before you hit the publish button , are you po...</td>\n",
       "      <td>you have</td>\n",
       "      <td>you 've</td>\n",
       "      <td>[106, 81, 416, 0, 6231, 6910, 1, 32, 81, 1335,...</td>\n",
       "      <td>11.0</td>\n",
       "      <td>14.0</td>\n",
       "      <td>[400001, 81, 462, 400002]</td>\n",
       "      <td>[81, 33]</td>\n",
       "    </tr>\n",
       "    <tr>\n",
       "      <th>3</th>\n",
       "      <td>After all , you have probably worked hard to c...</td>\n",
       "      <td>you have</td>\n",
       "      <td>you 've</td>\n",
       "      <td>[49, 64, 1, 81, 33, 965, 762, 605, 4, 1210, 12...</td>\n",
       "      <td>3.0</td>\n",
       "      <td>6.0</td>\n",
       "      <td>[400001, 81, 462, 400002]</td>\n",
       "      <td>[81, 33]</td>\n",
       "    </tr>\n",
       "    <tr>\n",
       "      <th>4</th>\n",
       "      <td>Maybe you are already asking yourself some of ...</td>\n",
       "      <td>you are</td>\n",
       "      <td>you 're</td>\n",
       "      <td>[1881, 81, 32, 411, 2619, 4961, 77, 3, 101, 1,...</td>\n",
       "      <td>1.0</td>\n",
       "      <td>4.0</td>\n",
       "      <td>[400001, 81, 267, 400002]</td>\n",
       "      <td>[81, 32]</td>\n",
       "    </tr>\n",
       "  </tbody>\n",
       "</table>\n",
       "</div>"
      ],
      "text/plain": [
       "                                            Sentence  Original Replacement  \\\n",
       "0  Imagine that you have just written what you be...  you have     you 've   \n",
       "1  You are ready to get it off your plate and sen...   You are     You 're   \n",
       "2  Before you hit the publish button , are you po...  you have     you 've   \n",
       "3  After all , you have probably worked hard to c...  you have     you 've   \n",
       "4  Maybe you are already asking yourself some of ...   you are     you 're   \n",
       "\n",
       "                                             x_token  y_idx_start  y_idx_end  \\\n",
       "0  [4779, 12, 81, 33, 120, 982, 102, 81, 733, 14,...          2.0        5.0   \n",
       "1  [81, 32, 1188, 4, 169, 20, 138, 392, 4364, 5, ...          0.0        3.0   \n",
       "2  [106, 81, 416, 0, 6231, 6910, 1, 32, 81, 1335,...         11.0       14.0   \n",
       "3  [49, 64, 1, 81, 33, 965, 762, 605, 4, 1210, 12...          3.0        6.0   \n",
       "4  [1881, 81, 32, 411, 2619, 4961, 77, 3, 101, 1,...          1.0        4.0   \n",
       "\n",
       "                      y_repl    x_orig  \n",
       "0  [400001, 81, 462, 400002]  [81, 33]  \n",
       "1  [400001, 81, 267, 400002]  [81, 32]  \n",
       "2  [400001, 81, 462, 400002]  [81, 33]  \n",
       "3  [400001, 81, 462, 400002]  [81, 33]  \n",
       "4  [400001, 81, 267, 400002]  [81, 32]  "
      ]
     },
     "execution_count": 29,
     "metadata": {},
     "output_type": "execute_result"
    }
   ],
   "source": [
    "df = preprocess(df)\n",
    "df.head()"
   ]
  },
  {
   "cell_type": "code",
   "execution_count": 30,
   "metadata": {},
   "outputs": [
    {
     "data": {
      "text/plain": [
       "4848"
      ]
     },
     "execution_count": 30,
     "metadata": {},
     "output_type": "execute_result"
    }
   ],
   "source": [
    "len(df)"
   ]
  },
  {
   "cell_type": "code",
   "execution_count": 31,
   "metadata": {},
   "outputs": [
    {
     "data": {
      "text/plain": [
       "4836"
      ]
     },
     "execution_count": 31,
     "metadata": {},
     "output_type": "execute_result"
    }
   ],
   "source": [
    "df = df.dropna()\n",
    "len(df)"
   ]
  },
  {
   "cell_type": "code",
   "execution_count": 32,
   "metadata": {},
   "outputs": [
    {
     "ename": "MemoryError",
     "evalue": "",
     "output_type": "error",
     "traceback": [
      "\u001b[0;31m---------------------------------------------------------------------------\u001b[0m",
      "\u001b[0;31mMemoryError\u001b[0m                               Traceback (most recent call last)",
      "\u001b[0;32m<ipython-input-32-29c5e3ba0815>\u001b[0m in \u001b[0;36m<module>\u001b[0;34m\u001b[0m\n\u001b[1;32m      8\u001b[0m \u001b[0my_idx_start\u001b[0m \u001b[0;34m=\u001b[0m \u001b[0mto_categorical\u001b[0m\u001b[0;34m(\u001b[0m\u001b[0mnp\u001b[0m\u001b[0;34m.\u001b[0m\u001b[0marray\u001b[0m\u001b[0;34m(\u001b[0m\u001b[0mdf\u001b[0m\u001b[0;34m[\u001b[0m\u001b[0;34m'y_idx_start'\u001b[0m\u001b[0;34m]\u001b[0m\u001b[0;34m)\u001b[0m\u001b[0;34m,\u001b[0m \u001b[0mnum_classes\u001b[0m \u001b[0;34m=\u001b[0m \u001b[0mX\u001b[0m\u001b[0;34m.\u001b[0m\u001b[0mshape\u001b[0m\u001b[0;34m[\u001b[0m\u001b[0;36m1\u001b[0m\u001b[0;34m]\u001b[0m\u001b[0;34m,\u001b[0m \u001b[0mdtype\u001b[0m \u001b[0;34m=\u001b[0m \u001b[0;34m'int64'\u001b[0m\u001b[0;34m)\u001b[0m\u001b[0;34m\u001b[0m\u001b[0m\n\u001b[1;32m      9\u001b[0m \u001b[0my_idx_end\u001b[0m \u001b[0;34m=\u001b[0m \u001b[0mto_categorical\u001b[0m\u001b[0;34m(\u001b[0m\u001b[0mnp\u001b[0m\u001b[0;34m.\u001b[0m\u001b[0marray\u001b[0m\u001b[0;34m(\u001b[0m\u001b[0mdf\u001b[0m\u001b[0;34m[\u001b[0m\u001b[0;34m'y_idx_end'\u001b[0m\u001b[0;34m]\u001b[0m\u001b[0;34m)\u001b[0m\u001b[0;34m,\u001b[0m \u001b[0mnum_classes\u001b[0m \u001b[0;34m=\u001b[0m \u001b[0mX\u001b[0m\u001b[0;34m.\u001b[0m\u001b[0mshape\u001b[0m\u001b[0;34m[\u001b[0m\u001b[0;36m1\u001b[0m\u001b[0;34m]\u001b[0m\u001b[0;34m,\u001b[0m \u001b[0mdtype\u001b[0m \u001b[0;34m=\u001b[0m \u001b[0;34m'int64'\u001b[0m\u001b[0;34m)\u001b[0m\u001b[0;34m\u001b[0m\u001b[0m\n\u001b[0;32m---> 10\u001b[0;31m \u001b[0my_repl_cat\u001b[0m \u001b[0;34m=\u001b[0m \u001b[0mnp\u001b[0m\u001b[0;34m.\u001b[0m\u001b[0marray\u001b[0m\u001b[0;34m(\u001b[0m\u001b[0;34m[\u001b[0m\u001b[0mto_categorical\u001b[0m\u001b[0;34m(\u001b[0m\u001b[0mx\u001b[0m\u001b[0;34m,\u001b[0m \u001b[0mnum_classes\u001b[0m \u001b[0;34m=\u001b[0m \u001b[0membedding\u001b[0m\u001b[0;34m.\u001b[0m\u001b[0mshape\u001b[0m\u001b[0;34m[\u001b[0m\u001b[0;36m0\u001b[0m\u001b[0;34m]\u001b[0m\u001b[0;34m)\u001b[0m \u001b[0;32mfor\u001b[0m \u001b[0mx\u001b[0m \u001b[0;32min\u001b[0m \u001b[0my_repl\u001b[0m\u001b[0;34m]\u001b[0m\u001b[0;34m)\u001b[0m\u001b[0;34m\u001b[0m\u001b[0m\n\u001b[0m",
      "\u001b[0;31mMemoryError\u001b[0m: "
     ]
    }
   ],
   "source": [
    "# extract data to arrays from df, add PRE-padding\n",
    "\n",
    "X = pad_sequences(df['x_token'], value = pad).astype('int64')\n",
    "X_orig = pad_sequences(df['x_orig'], value = pad).astype('int64')\n",
    "y_repl = pad_sequences(df['y_repl'], value = pad).astype('int64')\n",
    "\n",
    "# set up target data from output sequence, 1 timestep off from y_rep\n",
    "y_idx_start = to_categorical(np.array(df['y_idx_start']), num_classes = X.shape[1], dtype = 'int64')\n",
    "y_idx_end = to_categorical(np.array(df['y_idx_end']), num_classes = X.shape[1], dtype = 'int64')\n",
    "y_repl_cat = np.array([to_categorical(x, num_classes = embedding.shape[0]) for x in y_repl]) "
   ]
  },
  {
   "cell_type": "code",
   "execution_count": 33,
   "metadata": {},
   "outputs": [
    {
     "data": {
      "text/plain": [
       "400003"
      ]
     },
     "execution_count": 33,
     "metadata": {},
     "output_type": "execute_result"
    }
   ],
   "source": [
    "embedding.shape[0]"
   ]
  },
  {
   "cell_type": "markdown",
   "metadata": {},
   "source": [
    "# Model architectures"
   ]
  },
  {
   "cell_type": "code",
   "execution_count": 9,
   "metadata": {},
   "outputs": [],
   "source": [
    "num_units = 256\n",
    "epochs = 100\n",
    "batch_size = 32\n",
    "learning_rate = 0.1\n",
    "\n",
    "input_len = X.shape[1]\n",
    "orig_len = X_orig.shape[1]\n",
    "repl_len = y_repl.shape[1]"
   ]
  },
  {
   "cell_type": "code",
   "execution_count": 10,
   "metadata": {},
   "outputs": [],
   "source": [
    "# helper function taken from https://github.com/datalogue/keras-attention/issues/15\n",
    "def _time_distributed_dense(x, w, b=None, dropout=None,\n",
    "                        input_dim=None, output_dim=None,\n",
    "                        timesteps=None, training=None):\n",
    "    \"\"\"Apply `y . w + b` for every temporal slice y of x.\n",
    "    # Arguments\n",
    "        x: input tensor.\n",
    "        w: weight matrix.\n",
    "        b: optional bias vector.\n",
    "        dropout: wether to apply dropout (same dropout mask\n",
    "            for every temporal slice of the input).\n",
    "        input_dim: integer; optional dimensionality of the input.\n",
    "        output_dim: integer; optional dimensionality of the output.\n",
    "        timesteps: integer; optional number of timesteps.\n",
    "        training: training phase tensor or boolean.\n",
    "    # Returns\n",
    "        Output tensor.\n",
    "    \"\"\"\n",
    "\n",
    "    if not input_dim:\n",
    "        input_dim = K.shape(x)[2]\n",
    "    if not timesteps:\n",
    "        timesteps = K.shape(x)[1]\n",
    "    if not output_dim:\n",
    "        output_dim = K.shape(w)[1]\n",
    "\n",
    "    if dropout is not None and 0. < dropout < 1.:\n",
    "        # apply the same dropout pattern at every timestep\n",
    "        ones = K.ones_like(K.reshape(x[:, 0, :], (-1, input_dim)))\n",
    "        dropout_matrix = K.dropout(ones, dropout)\n",
    "        expanded_dropout_matrix = K.repeat(dropout_matrix, timesteps)\n",
    "        x = K.in_train_phase(x * expanded_dropout_matrix, x, training=training)\n",
    "\n",
    "    # collapse time dimension and batch dimension together\n",
    "    x = K.reshape(x, (-1, input_dim))\n",
    "    x = K.dot(x, w)\n",
    "    if b is not None:\n",
    "        x = K.bias_add(x, b)\n",
    "        \n",
    "    # reshape to 3D tensor\n",
    "    if K.backend() == 'tensorflow':\n",
    "        x = K.reshape(x, K.stack([-1, timesteps, output_dim]))\n",
    "        x.set_shape([None, None, output_dim])\n",
    "    else:\n",
    "        x = K.reshape(x, (-1, timesteps, output_dim))\n",
    "        \n",
    "    return x\n",
    "\n",
    "# pointer network implementation\n",
    "class PointerNet(LSTM):\n",
    "    def __init__(self, units, *args, **kwargs):\n",
    "        super().__init__(units, *args, **kwargs)\n",
    "    \n",
    "    def build(self, input_shape):\n",
    "        # immediately set variables for later use\n",
    "        # keep same number as units as encoder LSTM by default\n",
    "        self.num_units = input_shape[2]\n",
    "        self.seq_len = input_shape[1]\n",
    "        \n",
    "        # add trainable attention weights\n",
    "        self.W1 = self.add_weight(name=\"W1\",\n",
    "                                  shape=(self.num_units, 1),\n",
    "                                  initializer=\"uniform\",\n",
    "                                  trainable=True)\n",
    "        self.W2 = self.add_weight(name=\"W2\",\n",
    "                                  shape=(self.num_units, 1),\n",
    "                                  initializer=\"uniform\",\n",
    "                                  trainable=True)\n",
    "        self.vt = self.add_weight(name=\"vt\",\n",
    "                                  shape=(self.seq_len, 1),\n",
    "                                  initializer='uniform',\n",
    "                                  trainable=True)\n",
    "        \n",
    "        super(PointerNet, self).build(input_shape)\n",
    "    \n",
    "    def call(self, x):\n",
    "        initial_state = self.get_initial_state(x)\n",
    "                \n",
    "        pointer, _, _ = K.rnn(self.step, x, initial_state, \n",
    "                              constants = [x], input_length = self.seq_len)\n",
    "        \n",
    "        return pointer # only need 1 pointer for whole sequence, so h/c don't matter for this task\n",
    "    \n",
    "    def step(self, x_input, states):\n",
    "        # x_input = original input at current time stamp (batch_size, num_units)\n",
    "        # states = 3 tensors:\n",
    "        # states[0] = h hidden state (batch_size, num_units)\n",
    "        # states[1] = c cell state/memory (batch_size, num_units)\n",
    "        # states[2] = x next word input (batch_size, seq_len, num_units)        \n",
    "        encoded = states[2]\n",
    "        _, [h, c] = self.cell.call(x_input, states[0:2])\n",
    "        decoded = K.repeat(h, self.seq_len)\n",
    "\n",
    "        # vt*tanh(W1*e+W2*d)\n",
    "        W1_eij = _time_distributed_dense(encoded, self.W1, output_dim=1)\n",
    "        W2_dij = _time_distributed_dense(decoded, self.W2, output_dim=1)\n",
    "        U = self.vt * tanh(W1_eij + W2_dij)\n",
    "        U = K.squeeze(U, 2) # removes a 1-dimension at 2nd axis\n",
    "\n",
    "        # softmax over U to get probability distribution over input length\n",
    "        pointer = softmax(U)\n",
    "        return pointer, [h, c]\n",
    "    \n",
    "    def compute_output_shape(self, input_shape):\n",
    "        # input shape should be (batch_size, seq_len, units)\n",
    "        # output shape should be (batch_size, seq_len)\n",
    "        return (input_shape[0], input_shape[1])"
   ]
  },
  {
   "cell_type": "code",
   "execution_count": 11,
   "metadata": {
    "scrolled": true
   },
   "outputs": [
    {
     "name": "stdout",
     "output_type": "stream",
     "text": [
      "WARNING:tensorflow:From /usr/local/lib/python3.5/dist-packages/tensorflow/python/framework/op_def_library.py:263: colocate_with (from tensorflow.python.framework.ops) is deprecated and will be removed in a future version.\n",
      "Instructions for updating:\n",
      "Colocations handled automatically by placer.\n"
     ]
    }
   ],
   "source": [
    "# Model\n",
    "\n",
    "main_input = Input(shape = (input_len,), dtype = 'int64', name = 'main_input')\n",
    "orig_input = Input(shape = (orig_len,), dtype = 'int64', name = 'orig_input')\n",
    "repl_input = Input(shape = (repl_len,), dtype = 'int64', name = 'repl_input')\n",
    "\n",
    "with tf.device('/cpu:0'):\n",
    "    # note for later: can use mask_zero parameter in embedding layer, but would need to go back and change some indices\n",
    "    embedding_layer = Embedding(input_dim = embedding.shape[0],\n",
    "                          output_dim = embedding.shape[1],\n",
    "                          weights = [embedding],\n",
    "                          trainable = False, \n",
    "                          name = 'embedding_layer')\n",
    "    input_embed = embedding_layer(main_input)\n",
    "    orig_embed = embedding_layer(orig_input)\n",
    "    repl_embed = embedding_layer(repl_input)"
   ]
  },
  {
   "cell_type": "code",
   "execution_count": 12,
   "metadata": {},
   "outputs": [],
   "source": [
    "lstm = LSTM(return_sequences = True, units = num_units, name = 'lstm')(input_embed)\n",
    "y_start = PointerNet(units = num_units, activation=\"softmax\", input_shape = (input_len, num_units), name = 'y_start')(lstm)\n",
    "y_end = PointerNet(units = num_units, activation=\"softmax\", input_shape = (input_len, num_units), name = 'y_end')(lstm)"
   ]
  },
  {
   "cell_type": "code",
   "execution_count": 13,
   "metadata": {},
   "outputs": [],
   "source": [
    "### feed encoder input (main_input), decoder input (repl_input) and sliced replacement text to enc-dec system\n",
    "\n",
    "# these should change later to some sort of context-based or conditional model\n",
    "# also with attention\n",
    "\n",
    "# decoder given 2*units to accept bidirectional outputs\n",
    "encoder = Bidirectional(LSTM(return_state = True, units = num_units), name = \"encoder\")\n",
    "decoder = LSTM(return_sequences = True, return_state = True, name = \"decoder\", units = 2 * num_units)\n",
    "\n",
    "# sequence is unnecessary for the encoder - just states, to start the decoder correctly\n",
    "# state and sequence for decoder will be necessary in inference, but not right now\n",
    "enc_output, enc_h_forward, enc_c_forward, enc_h_backward, enc_c_backward = encoder(orig_embed)\n",
    "enc_h = Concatenate()([enc_h_forward, enc_h_backward])\n",
    "enc_c = Concatenate()([enc_c_forward, enc_c_backward])\n",
    "dec_output, _, _ = decoder(repl_embed, initial_state = [enc_h, enc_c])\n",
    "\n",
    "# Dropout?\n",
    "\n",
    "dec_tdd = TimeDistributed(Dense(embedding.shape[0], activation='softmax'), \n",
    "                               name = 'y_rep_output')\n",
    "y_repl_output = dec_tdd(dec_output)"
   ]
  },
  {
   "cell_type": "markdown",
   "metadata": {},
   "source": [
    "# Step 1: Pointer - find indices"
   ]
  },
  {
   "cell_type": "code",
   "execution_count": 14,
   "metadata": {
    "scrolled": true
   },
   "outputs": [
    {
     "name": "stdout",
     "output_type": "stream",
     "text": [
      "WARNING:tensorflow:From /usr/local/lib/python3.5/dist-packages/tensorflow/python/ops/math_ops.py:3066: to_int32 (from tensorflow.python.ops.math_ops) is deprecated and will be removed in a future version.\n",
      "Instructions for updating:\n",
      "Use tf.cast instead.\n",
      "Epoch 1/100\n",
      "6/6 [==============================] - 6s 1s/step - loss: 4.3934 - y_start_loss: 2.1978 - y_end_loss: 2.1955 - y_start_acc: 0.0000e+00 - y_end_acc: 0.6667\n",
      "Epoch 2/100\n",
      "6/6 [==============================] - 0s 18ms/step - loss: 4.3700 - y_start_loss: 2.1955 - y_end_loss: 2.1745 - y_start_acc: 0.6667 - y_end_acc: 0.8333\n",
      "Epoch 3/100\n",
      "6/6 [==============================] - 0s 15ms/step - loss: 4.3552 - y_start_loss: 2.1923 - y_end_loss: 2.1629 - y_start_acc: 0.5000 - y_end_acc: 0.8333\n",
      "Epoch 4/100\n",
      "6/6 [==============================] - 0s 18ms/step - loss: 4.3463 - y_start_loss: 2.1879 - y_end_loss: 2.1583 - y_start_acc: 0.1667 - y_end_acc: 0.8333\n",
      "Epoch 5/100\n",
      "6/6 [==============================] - 0s 17ms/step - loss: 4.3408 - y_start_loss: 2.1842 - y_end_loss: 2.1566 - y_start_acc: 0.1667 - y_end_acc: 0.8333\n",
      "Epoch 6/100\n",
      "6/6 [==============================] - 0s 16ms/step - loss: 4.3375 - y_start_loss: 2.1817 - y_end_loss: 2.1558 - y_start_acc: 0.3333 - y_end_acc: 0.8333\n",
      "Epoch 7/100\n",
      "6/6 [==============================] - 0s 26ms/step - loss: 4.3354 - y_start_loss: 2.1799 - y_end_loss: 2.1555 - y_start_acc: 0.6667 - y_end_acc: 0.8333\n",
      "Epoch 8/100\n",
      "6/6 [==============================] - 0s 25ms/step - loss: 4.3335 - y_start_loss: 2.1782 - y_end_loss: 2.1553 - y_start_acc: 0.6667 - y_end_acc: 0.8333\n",
      "Epoch 9/100\n",
      "6/6 [==============================] - 0s 21ms/step - loss: 4.3318 - y_start_loss: 2.1766 - y_end_loss: 2.1552 - y_start_acc: 0.5000 - y_end_acc: 0.8333\n",
      "Epoch 10/100\n",
      "6/6 [==============================] - 0s 29ms/step - loss: 4.3300 - y_start_loss: 2.1749 - y_end_loss: 2.1551 - y_start_acc: 0.5000 - y_end_acc: 0.8333\n",
      "Epoch 11/100\n",
      "6/6 [==============================] - 0s 19ms/step - loss: 4.3282 - y_start_loss: 2.1732 - y_end_loss: 2.1550 - y_start_acc: 0.5000 - y_end_acc: 0.8333\n",
      "Epoch 12/100\n",
      "6/6 [==============================] - 0s 24ms/step - loss: 4.3265 - y_start_loss: 2.1715 - y_end_loss: 2.1550 - y_start_acc: 0.5000 - y_end_acc: 0.8333\n",
      "Epoch 13/100\n",
      "6/6 [==============================] - 0s 21ms/step - loss: 4.3249 - y_start_loss: 2.1699 - y_end_loss: 2.1550 - y_start_acc: 0.5000 - y_end_acc: 0.8333\n",
      "Epoch 14/100\n",
      "6/6 [==============================] - 0s 19ms/step - loss: 4.3233 - y_start_loss: 2.1683 - y_end_loss: 2.1550 - y_start_acc: 0.5000 - y_end_acc: 0.8333\n",
      "Epoch 15/100\n",
      "6/6 [==============================] - 0s 20ms/step - loss: 4.3218 - y_start_loss: 2.1668 - y_end_loss: 2.1550 - y_start_acc: 0.5000 - y_end_acc: 0.8333\n",
      "Epoch 16/100\n",
      "6/6 [==============================] - 0s 26ms/step - loss: 4.3204 - y_start_loss: 2.1655 - y_end_loss: 2.1549 - y_start_acc: 0.5000 - y_end_acc: 0.8333\n",
      "Epoch 17/100\n",
      "6/6 [==============================] - 0s 21ms/step - loss: 4.3192 - y_start_loss: 2.1643 - y_end_loss: 2.1549 - y_start_acc: 0.5000 - y_end_acc: 0.8333\n",
      "Epoch 18/100\n",
      "6/6 [==============================] - 0s 24ms/step - loss: 4.3182 - y_start_loss: 2.1633 - y_end_loss: 2.1549 - y_start_acc: 0.6667 - y_end_acc: 0.8333\n",
      "Epoch 19/100\n",
      "6/6 [==============================] - 0s 16ms/step - loss: 4.3174 - y_start_loss: 2.1625 - y_end_loss: 2.1549 - y_start_acc: 0.6667 - y_end_acc: 0.8333\n",
      "Epoch 20/100\n",
      "6/6 [==============================] - 0s 27ms/step - loss: 4.3168 - y_start_loss: 2.1619 - y_end_loss: 2.1549 - y_start_acc: 0.6667 - y_end_acc: 0.8333\n",
      "Epoch 21/100\n",
      "6/6 [==============================] - 0s 15ms/step - loss: 4.3163 - y_start_loss: 2.1614 - y_end_loss: 2.1549 - y_start_acc: 0.6667 - y_end_acc: 0.8333\n",
      "Epoch 22/100\n",
      "6/6 [==============================] - 0s 19ms/step - loss: 4.3158 - y_start_loss: 2.1609 - y_end_loss: 2.1549 - y_start_acc: 0.6667 - y_end_acc: 0.8333\n",
      "Epoch 23/100\n",
      "6/6 [==============================] - 0s 20ms/step - loss: 4.3153 - y_start_loss: 2.1604 - y_end_loss: 2.1549 - y_start_acc: 0.6667 - y_end_acc: 0.8333\n",
      "Epoch 24/100\n",
      "6/6 [==============================] - 0s 12ms/step - loss: 4.3147 - y_start_loss: 2.1598 - y_end_loss: 2.1549 - y_start_acc: 0.6667 - y_end_acc: 0.8333\n",
      "Epoch 25/100\n",
      "6/6 [==============================] - 0s 18ms/step - loss: 4.3141 - y_start_loss: 2.1593 - y_end_loss: 2.1549 - y_start_acc: 0.6667 - y_end_acc: 0.8333\n",
      "Epoch 26/100\n",
      "6/6 [==============================] - 0s 16ms/step - loss: 4.3135 - y_start_loss: 2.1587 - y_end_loss: 2.1549 - y_start_acc: 0.6667 - y_end_acc: 0.8333\n",
      "Epoch 27/100\n",
      "6/6 [==============================] - 0s 15ms/step - loss: 4.3129 - y_start_loss: 2.1581 - y_end_loss: 2.1549 - y_start_acc: 0.6667 - y_end_acc: 0.8333\n",
      "Epoch 28/100\n",
      "6/6 [==============================] - 0s 23ms/step - loss: 4.3124 - y_start_loss: 2.1576 - y_end_loss: 2.1549 - y_start_acc: 0.6667 - y_end_acc: 0.8333\n",
      "Epoch 29/100\n",
      "6/6 [==============================] - 0s 17ms/step - loss: 4.3120 - y_start_loss: 2.1572 - y_end_loss: 2.1549 - y_start_acc: 0.6667 - y_end_acc: 0.8333\n",
      "Epoch 30/100\n",
      "6/6 [==============================] - 0s 19ms/step - loss: 4.3117 - y_start_loss: 2.1569 - y_end_loss: 2.1548 - y_start_acc: 0.6667 - y_end_acc: 0.8333\n",
      "Epoch 31/100\n",
      "6/6 [==============================] - 0s 24ms/step - loss: 4.3114 - y_start_loss: 2.1566 - y_end_loss: 2.1548 - y_start_acc: 0.6667 - y_end_acc: 0.8333\n",
      "Epoch 32/100\n",
      "6/6 [==============================] - 0s 22ms/step - loss: 4.3112 - y_start_loss: 2.1563 - y_end_loss: 2.1548 - y_start_acc: 0.6667 - y_end_acc: 0.8333\n",
      "Epoch 33/100\n",
      "6/6 [==============================] - 0s 22ms/step - loss: 4.3109 - y_start_loss: 2.1561 - y_end_loss: 2.1548 - y_start_acc: 0.6667 - y_end_acc: 0.8333\n",
      "Epoch 34/100\n",
      "6/6 [==============================] - 0s 22ms/step - loss: 4.3106 - y_start_loss: 2.1558 - y_end_loss: 2.1548 - y_start_acc: 0.6667 - y_end_acc: 0.8333\n",
      "Epoch 35/100\n",
      "6/6 [==============================] - 0s 20ms/step - loss: 4.3104 - y_start_loss: 2.1556 - y_end_loss: 2.1548 - y_start_acc: 0.6667 - y_end_acc: 0.8333\n",
      "Epoch 36/100\n",
      "6/6 [==============================] - 0s 24ms/step - loss: 4.3101 - y_start_loss: 2.1553 - y_end_loss: 2.1548 - y_start_acc: 0.6667 - y_end_acc: 0.8333\n",
      "Epoch 37/100\n",
      "6/6 [==============================] - 0s 20ms/step - loss: 4.3099 - y_start_loss: 2.1551 - y_end_loss: 2.1548 - y_start_acc: 0.6667 - y_end_acc: 0.8333\n",
      "Epoch 38/100\n",
      "6/6 [==============================] - 0s 11ms/step - loss: 4.3097 - y_start_loss: 2.1549 - y_end_loss: 2.1548 - y_start_acc: 0.6667 - y_end_acc: 0.8333\n",
      "Epoch 39/100\n",
      "6/6 [==============================] - 0s 24ms/step - loss: 4.3096 - y_start_loss: 2.1548 - y_end_loss: 2.1548 - y_start_acc: 0.6667 - y_end_acc: 0.8333\n",
      "Epoch 40/100\n",
      "6/6 [==============================] - 0s 19ms/step - loss: 4.3095 - y_start_loss: 2.1546 - y_end_loss: 2.1548 - y_start_acc: 0.6667 - y_end_acc: 0.8333\n",
      "Epoch 41/100\n",
      "6/6 [==============================] - 0s 17ms/step - loss: 4.3093 - y_start_loss: 2.1545 - y_end_loss: 2.1548 - y_start_acc: 0.6667 - y_end_acc: 0.8333\n",
      "Epoch 42/100\n",
      "6/6 [==============================] - 0s 22ms/step - loss: 4.3092 - y_start_loss: 2.1544 - y_end_loss: 2.1548 - y_start_acc: 0.6667 - y_end_acc: 0.8333\n",
      "Epoch 43/100\n",
      "6/6 [==============================] - 0s 19ms/step - loss: 4.3091 - y_start_loss: 2.1543 - y_end_loss: 2.1548 - y_start_acc: 0.6667 - y_end_acc: 0.8333\n",
      "Epoch 44/100\n",
      "6/6 [==============================] - 0s 16ms/step - loss: 4.3091 - y_start_loss: 2.1543 - y_end_loss: 2.1548 - y_start_acc: 0.6667 - y_end_acc: 0.8333\n",
      "Epoch 45/100\n",
      "6/6 [==============================] - 0s 20ms/step - loss: 4.3090 - y_start_loss: 2.1542 - y_end_loss: 2.1548 - y_start_acc: 0.6667 - y_end_acc: 0.8333\n",
      "Epoch 46/100\n",
      "6/6 [==============================] - 0s 16ms/step - loss: 4.3089 - y_start_loss: 2.1541 - y_end_loss: 2.1548 - y_start_acc: 0.6667 - y_end_acc: 0.8333\n",
      "Epoch 47/100\n",
      "6/6 [==============================] - 0s 10ms/step - loss: 4.3088 - y_start_loss: 2.1540 - y_end_loss: 2.1548 - y_start_acc: 0.6667 - y_end_acc: 0.8333\n",
      "Epoch 48/100\n",
      "6/6 [==============================] - 0s 15ms/step - loss: 4.3087 - y_start_loss: 2.1539 - y_end_loss: 2.1548 - y_start_acc: 0.6667 - y_end_acc: 0.8333\n"
     ]
    },
    {
     "name": "stdout",
     "output_type": "stream",
     "text": [
      "Epoch 49/100\n",
      "6/6 [==============================] - 0s 15ms/step - loss: 4.3086 - y_start_loss: 2.1539 - y_end_loss: 2.1548 - y_start_acc: 0.6667 - y_end_acc: 0.8333\n",
      "Epoch 50/100\n",
      "6/6 [==============================] - 0s 14ms/step - loss: 4.3086 - y_start_loss: 2.1538 - y_end_loss: 2.1548 - y_start_acc: 0.6667 - y_end_acc: 0.8333\n",
      "Epoch 51/100\n",
      "6/6 [==============================] - 0s 21ms/step - loss: 4.3085 - y_start_loss: 2.1537 - y_end_loss: 2.1548 - y_start_acc: 0.6667 - y_end_acc: 0.8333\n",
      "Epoch 52/100\n",
      "6/6 [==============================] - 0s 18ms/step - loss: 4.3084 - y_start_loss: 2.1536 - y_end_loss: 2.1548 - y_start_acc: 0.6667 - y_end_acc: 0.8333\n",
      "Epoch 53/100\n",
      "6/6 [==============================] - 0s 21ms/step - loss: 4.3083 - y_start_loss: 2.1535 - y_end_loss: 2.1548 - y_start_acc: 0.6667 - y_end_acc: 0.8333\n",
      "Epoch 54/100\n",
      "6/6 [==============================] - 0s 20ms/step - loss: 4.3082 - y_start_loss: 2.1534 - y_end_loss: 2.1548 - y_start_acc: 0.6667 - y_end_acc: 0.8333\n",
      "Epoch 55/100\n",
      "6/6 [==============================] - 0s 17ms/step - loss: 4.3081 - y_start_loss: 2.1534 - y_end_loss: 2.1548 - y_start_acc: 0.6667 - y_end_acc: 0.8333\n",
      "Epoch 56/100\n",
      "6/6 [==============================] - 0s 16ms/step - loss: 4.3080 - y_start_loss: 2.1533 - y_end_loss: 2.1548 - y_start_acc: 0.6667 - y_end_acc: 0.8333\n",
      "Epoch 57/100\n",
      "6/6 [==============================] - 0s 21ms/step - loss: 4.3079 - y_start_loss: 2.1532 - y_end_loss: 2.1548 - y_start_acc: 0.6667 - y_end_acc: 0.8333\n",
      "Epoch 58/100\n",
      "6/6 [==============================] - 0s 17ms/step - loss: 4.3078 - y_start_loss: 2.1531 - y_end_loss: 2.1548 - y_start_acc: 0.6667 - y_end_acc: 0.8333\n",
      "Epoch 59/100\n",
      "6/6 [==============================] - 0s 25ms/step - loss: 4.3077 - y_start_loss: 2.1530 - y_end_loss: 2.1548 - y_start_acc: 0.6667 - y_end_acc: 0.8333\n",
      "Epoch 60/100\n",
      "6/6 [==============================] - 0s 22ms/step - loss: 4.3076 - y_start_loss: 2.1529 - y_end_loss: 2.1548 - y_start_acc: 0.8333 - y_end_acc: 0.8333\n",
      "Epoch 61/100\n",
      "6/6 [==============================] - 0s 13ms/step - loss: 4.3075 - y_start_loss: 2.1528 - y_end_loss: 2.1547 - y_start_acc: 0.8333 - y_end_acc: 0.8333\n",
      "Epoch 62/100\n",
      "6/6 [==============================] - 0s 15ms/step - loss: 4.3074 - y_start_loss: 2.1527 - y_end_loss: 2.1547 - y_start_acc: 0.8333 - y_end_acc: 0.8333\n",
      "Epoch 63/100\n",
      "6/6 [==============================] - 0s 11ms/step - loss: 4.3073 - y_start_loss: 2.1526 - y_end_loss: 2.1547 - y_start_acc: 0.8333 - y_end_acc: 0.8333\n",
      "Epoch 64/100\n",
      "6/6 [==============================] - 0s 17ms/step - loss: 4.3072 - y_start_loss: 2.1525 - y_end_loss: 2.1547 - y_start_acc: 0.8333 - y_end_acc: 0.8333\n",
      "Epoch 65/100\n",
      "6/6 [==============================] - 0s 17ms/step - loss: 4.3071 - y_start_loss: 2.1524 - y_end_loss: 2.1547 - y_start_acc: 0.8333 - y_end_acc: 0.8333\n",
      "Epoch 66/100\n",
      "6/6 [==============================] - 0s 19ms/step - loss: 4.3070 - y_start_loss: 2.1522 - y_end_loss: 2.1547 - y_start_acc: 0.8333 - y_end_acc: 0.8333\n",
      "Epoch 67/100\n",
      "6/6 [==============================] - 0s 15ms/step - loss: 4.3069 - y_start_loss: 2.1521 - y_end_loss: 2.1547 - y_start_acc: 0.8333 - y_end_acc: 0.8333\n",
      "Epoch 68/100\n",
      "6/6 [==============================] - 0s 10ms/step - loss: 4.3067 - y_start_loss: 2.1520 - y_end_loss: 2.1547 - y_start_acc: 0.8333 - y_end_acc: 0.8333\n",
      "Epoch 69/100\n",
      "6/6 [==============================] - 0s 11ms/step - loss: 4.3066 - y_start_loss: 2.1519 - y_end_loss: 2.1547 - y_start_acc: 0.8333 - y_end_acc: 0.8333\n",
      "Epoch 70/100\n",
      "6/6 [==============================] - 0s 9ms/step - loss: 4.3065 - y_start_loss: 2.1518 - y_end_loss: 2.1547 - y_start_acc: 0.8333 - y_end_acc: 0.8333\n",
      "Epoch 71/100\n",
      "6/6 [==============================] - 0s 9ms/step - loss: 4.3064 - y_start_loss: 2.1517 - y_end_loss: 2.1547 - y_start_acc: 0.8333 - y_end_acc: 0.8333\n",
      "Epoch 72/100\n",
      "6/6 [==============================] - 0s 11ms/step - loss: 4.3063 - y_start_loss: 2.1516 - y_end_loss: 2.1547 - y_start_acc: 0.8333 - y_end_acc: 0.8333\n",
      "Epoch 73/100\n",
      "6/6 [==============================] - 0s 13ms/step - loss: 4.3061 - y_start_loss: 2.1514 - y_end_loss: 2.1547 - y_start_acc: 0.8333 - y_end_acc: 0.8333\n",
      "Epoch 74/100\n",
      "6/6 [==============================] - 0s 20ms/step - loss: 4.3060 - y_start_loss: 2.1513 - y_end_loss: 2.1547 - y_start_acc: 0.8333 - y_end_acc: 0.8333\n",
      "Epoch 75/100\n",
      "6/6 [==============================] - 0s 14ms/step - loss: 4.3059 - y_start_loss: 2.1512 - y_end_loss: 2.1547 - y_start_acc: 0.8333 - y_end_acc: 0.8333\n",
      "Epoch 76/100\n",
      "6/6 [==============================] - 0s 18ms/step - loss: 4.3058 - y_start_loss: 2.1511 - y_end_loss: 2.1547 - y_start_acc: 0.8333 - y_end_acc: 0.8333\n",
      "Epoch 77/100\n",
      "6/6 [==============================] - 0s 20ms/step - loss: 4.3057 - y_start_loss: 2.1510 - y_end_loss: 2.1547 - y_start_acc: 0.8333 - y_end_acc: 0.8333\n",
      "Epoch 78/100\n",
      "6/6 [==============================] - 0s 21ms/step - loss: 4.3056 - y_start_loss: 2.1509 - y_end_loss: 2.1547 - y_start_acc: 0.8333 - y_end_acc: 0.8333\n",
      "Epoch 79/100\n",
      "6/6 [==============================] - 0s 19ms/step - loss: 4.3054 - y_start_loss: 2.1508 - y_end_loss: 2.1547 - y_start_acc: 0.8333 - y_end_acc: 0.8333\n",
      "Epoch 80/100\n",
      "6/6 [==============================] - 0s 23ms/step - loss: 4.3053 - y_start_loss: 2.1507 - y_end_loss: 2.1547 - y_start_acc: 0.8333 - y_end_acc: 0.8333\n",
      "Epoch 81/100\n",
      "6/6 [==============================] - 0s 20ms/step - loss: 4.3052 - y_start_loss: 2.1505 - y_end_loss: 2.1547 - y_start_acc: 0.8333 - y_end_acc: 0.8333\n",
      "Epoch 82/100\n",
      "6/6 [==============================] - 0s 19ms/step - loss: 4.3051 - y_start_loss: 2.1504 - y_end_loss: 2.1547 - y_start_acc: 0.8333 - y_end_acc: 0.8333\n",
      "Epoch 83/100\n",
      "6/6 [==============================] - 0s 25ms/step - loss: 4.3050 - y_start_loss: 2.1503 - y_end_loss: 2.1547 - y_start_acc: 0.8333 - y_end_acc: 0.8333\n",
      "Epoch 84/100\n",
      "6/6 [==============================] - 0s 26ms/step - loss: 4.3049 - y_start_loss: 2.1502 - y_end_loss: 2.1547 - y_start_acc: 0.8333 - y_end_acc: 0.8333\n",
      "Epoch 85/100\n",
      "6/6 [==============================] - 0s 25ms/step - loss: 4.3048 - y_start_loss: 2.1501 - y_end_loss: 2.1547 - y_start_acc: 0.8333 - y_end_acc: 0.8333\n",
      "Epoch 86/100\n",
      "6/6 [==============================] - 0s 20ms/step - loss: 4.3046 - y_start_loss: 2.1500 - y_end_loss: 2.1547 - y_start_acc: 0.8333 - y_end_acc: 0.8333\n",
      "Epoch 87/100\n",
      "6/6 [==============================] - 0s 20ms/step - loss: 4.3045 - y_start_loss: 2.1499 - y_end_loss: 2.1546 - y_start_acc: 0.8333 - y_end_acc: 0.8333\n",
      "Epoch 88/100\n",
      "6/6 [==============================] - 0s 23ms/step - loss: 4.3044 - y_start_loss: 2.1498 - y_end_loss: 2.1546 - y_start_acc: 0.8333 - y_end_acc: 0.8333\n",
      "Epoch 89/100\n",
      "6/6 [==============================] - 0s 25ms/step - loss: 4.3043 - y_start_loss: 2.1497 - y_end_loss: 2.1546 - y_start_acc: 0.8333 - y_end_acc: 0.8333\n",
      "Epoch 90/100\n",
      "6/6 [==============================] - 0s 28ms/step - loss: 4.3042 - y_start_loss: 2.1495 - y_end_loss: 2.1546 - y_start_acc: 0.8333 - y_end_acc: 0.8333\n",
      "Epoch 91/100\n",
      "6/6 [==============================] - 0s 17ms/step - loss: 4.3041 - y_start_loss: 2.1494 - y_end_loss: 2.1546 - y_start_acc: 0.8333 - y_end_acc: 0.8333\n",
      "Epoch 92/100\n",
      "6/6 [==============================] - 0s 11ms/step - loss: 4.3039 - y_start_loss: 2.1493 - y_end_loss: 2.1546 - y_start_acc: 0.8333 - y_end_acc: 0.8333\n",
      "Epoch 93/100\n",
      "6/6 [==============================] - 0s 14ms/step - loss: 4.3038 - y_start_loss: 2.1492 - y_end_loss: 2.1546 - y_start_acc: 0.8333 - y_end_acc: 0.8333\n",
      "Epoch 94/100\n",
      "6/6 [==============================] - 0s 20ms/step - loss: 4.3037 - y_start_loss: 2.1491 - y_end_loss: 2.1546 - y_start_acc: 0.8333 - y_end_acc: 0.8333\n",
      "Epoch 95/100\n",
      "6/6 [==============================] - 0s 19ms/step - loss: 4.3036 - y_start_loss: 2.1490 - y_end_loss: 2.1546 - y_start_acc: 0.8333 - y_end_acc: 0.8333\n",
      "Epoch 96/100\n",
      "6/6 [==============================] - 0s 14ms/step - loss: 4.3035 - y_start_loss: 2.1489 - y_end_loss: 2.1546 - y_start_acc: 0.8333 - y_end_acc: 0.8333\n",
      "Epoch 97/100\n",
      "6/6 [==============================] - 0s 25ms/step - loss: 4.3033 - y_start_loss: 2.1487 - y_end_loss: 2.1546 - y_start_acc: 0.8333 - y_end_acc: 0.8333\n",
      "Epoch 98/100\n",
      "6/6 [==============================] - 0s 15ms/step - loss: 4.3032 - y_start_loss: 2.1486 - y_end_loss: 2.1546 - y_start_acc: 0.8333 - y_end_acc: 0.8333\n"
     ]
    },
    {
     "name": "stdout",
     "output_type": "stream",
     "text": [
      "Epoch 99/100\n",
      "6/6 [==============================] - 0s 13ms/step - loss: 4.3031 - y_start_loss: 2.1485 - y_end_loss: 2.1546 - y_start_acc: 0.8333 - y_end_acc: 0.8333\n",
      "Epoch 100/100\n",
      "6/6 [==============================] - 0s 27ms/step - loss: 4.3030 - y_start_loss: 2.1484 - y_end_loss: 2.1546 - y_start_acc: 0.8333 - y_end_acc: 0.8333\n"
     ]
    }
   ],
   "source": [
    "pointer_model = Model(inputs = main_input, outputs = [y_start, y_end])\n",
    "pointer_model.compile(optimizer = 'adam',\n",
    "             loss = 'categorical_crossentropy',\n",
    "             metrics = ['accuracy'])\n",
    "\n",
    "pointer_history = pointer_model.fit(X, [y_idx_start, y_idx_end], epochs = epochs, batch_size = batch_size)"
   ]
  },
  {
   "cell_type": "code",
   "execution_count": 15,
   "metadata": {},
   "outputs": [
    {
     "name": "stdout",
     "output_type": "stream",
     "text": [
      "__________________________________________________________________________________________________\n",
      "Layer (type)                    Output Shape         Param #     Connected to                     \n",
      "==================================================================================================\n",
      "main_input (InputLayer)         (None, 9)            0                                            \n",
      "__________________________________________________________________________________________________\n",
      "embedding_layer (Embedding)     multiple             120000900   main_input[0][0]                 \n",
      "__________________________________________________________________________________________________\n",
      "lstm (LSTM)                     (None, 9, 512)       1665024     embedding_layer[0][0]            \n",
      "__________________________________________________________________________________________________\n",
      "y_start (PointerNet)            (None, 9)            2099200     lstm[0][0]                       \n",
      "__________________________________________________________________________________________________\n",
      "y_end (PointerNet)              (None, 9)            2099200     lstm[0][0]                       \n",
      "==================================================================================================\n",
      "Total params: 125,864,324\n",
      "Trainable params: 5,863,424\n",
      "Non-trainable params: 120,000,900\n",
      "__________________________________________________________________________________________________\n"
     ]
    }
   ],
   "source": [
    "pointer_model.summary()"
   ]
  },
  {
   "cell_type": "code",
   "execution_count": 16,
   "metadata": {},
   "outputs": [
    {
     "data": {
      "text/plain": [
       "<matplotlib.legend.Legend at 0x7febd12f0630>"
      ]
     },
     "execution_count": 16,
     "metadata": {},
     "output_type": "execute_result"
    },
    {
     "data": {
      "image/png": "[encoded data removed]",
      "text/plain": [
       "<Figure size 432x288 with 1 Axes>"
      ]
     },
     "metadata": {
      "needs_background": "light"
     },
     "output_type": "display_data"
    }
   ],
   "source": [
    "plt.plot(pointer_history.history['y_start_acc'], label='y_start')\n",
    "plt.plot(pointer_history.history['y_end_acc'], label='y_end')\n",
    "plt.title('Accuracy')\n",
    "plt.xlabel('epochs')\n",
    "plt.ylabel('accuracy')\n",
    "plt.legend()"
   ]
  },
  {
   "cell_type": "code",
   "execution_count": 17,
   "metadata": {},
   "outputs": [
    {
     "data": {
      "text/plain": [
       "<matplotlib.legend.Legend at 0x7febd1270198>"
      ]
     },
     "execution_count": 17,
     "metadata": {},
     "output_type": "execute_result"
    },
    {
     "data": {
      "image/png": "[encoded data removed]",
      "text/plain": [
       "<Figure size 432x288 with 1 Axes>"
      ]
     },
     "metadata": {
      "needs_background": "light"
     },
     "output_type": "display_data"
    }
   ],
   "source": [
    "plt.plot(pointer_history.history['y_start_loss'], label='y_start')\n",
    "plt.plot(pointer_history.history['y_end_loss'], label='y_end')\n",
    "plt.title('Loss')\n",
    "plt.xlabel('epochs')\n",
    "plt.ylabel('loss')\n",
    "plt.legend()"
   ]
  },
  {
   "cell_type": "markdown",
   "metadata": {},
   "source": [
    "# SECOND: turn index into slice"
   ]
  },
  {
   "cell_type": "code",
   "execution_count": 25,
   "metadata": {},
   "outputs": [],
   "source": [
    "y_idx_pred = pointer_model.predict(X, batch_size = batch_size)\n",
    "y_idx_pred = np.argmax(y_idx_pred, axis = 1)"
   ]
  },
  {
   "cell_type": "code",
   "execution_count": 26,
   "metadata": {
    "scrolled": true
   },
   "outputs": [
    {
     "data": {
      "text/plain": [
       "array([1, 2, 1, 1, 1, 1])"
      ]
     },
     "execution_count": 26,
     "metadata": {},
     "output_type": "execute_result"
    }
   ],
   "source": [
    "for item in X:\n",
    "\n",
    "y_idx_pred"
   ]
  },
  {
   "cell_type": "code",
   "execution_count": null,
   "metadata": {},
   "outputs": [],
   "source": [
    "# RESET PARAMETER ORIG_LEN HERE BASED ON PADDING"
   ]
  },
  {
   "cell_type": "markdown",
   "metadata": {},
   "source": [
    "# Step 3: NMT for finding suggestion"
   ]
  },
  {
   "cell_type": "markdown",
   "metadata": {},
   "source": [
    "Currently does NOT include whole context of sentence."
   ]
  },
  {
   "cell_type": "code",
   "execution_count": 18,
   "metadata": {
    "scrolled": true
   },
   "outputs": [
    {
     "name": "stdout",
     "output_type": "stream",
     "text": [
      "Epoch 1/100\n"
     ]
    },
    {
     "ename": "ResourceExhaustedError",
     "evalue": "OOM when allocating tensor with shape[1024,400003] and type float on /job:localhost/replica:0/task:0/device:GPU:0 by allocator GPU_0_bfc\n\t [[{{node training_1/Adam/gradients/y_rep_output/MatMul_grad/MatMul_1}}]]\nHint: If you want to see a list of allocated tensors when OOM happens, add report_tensor_allocations_upon_oom to RunOptions for current allocation info.\n",
     "output_type": "error",
     "traceback": [
      "\u001b[0;31m---------------------------------------------------------------------------\u001b[0m",
      "\u001b[0;31mResourceExhaustedError\u001b[0m                    Traceback (most recent call last)",
      "\u001b[0;32m<ipython-input-18-e1439941a5e1>\u001b[0m in \u001b[0;36m<module>\u001b[0;34m\u001b[0m\n\u001b[1;32m      8\u001b[0m              metrics = ['accuracy'])\n\u001b[1;32m      9\u001b[0m \u001b[0;34m\u001b[0m\u001b[0m\n\u001b[0;32m---> 10\u001b[0;31m \u001b[0mnmt_history\u001b[0m \u001b[0;34m=\u001b[0m \u001b[0mnmt_model\u001b[0m\u001b[0;34m.\u001b[0m\u001b[0mfit\u001b[0m\u001b[0;34m(\u001b[0m\u001b[0;34m[\u001b[0m\u001b[0mX_orig\u001b[0m\u001b[0;34m,\u001b[0m \u001b[0my_repl\u001b[0m\u001b[0;34m]\u001b[0m\u001b[0;34m,\u001b[0m \u001b[0my_repl_cat\u001b[0m\u001b[0;34m,\u001b[0m \u001b[0mepochs\u001b[0m \u001b[0;34m=\u001b[0m \u001b[0mepochs\u001b[0m\u001b[0;34m,\u001b[0m \u001b[0mbatch_size\u001b[0m \u001b[0;34m=\u001b[0m \u001b[0mbatch_size\u001b[0m\u001b[0;34m)\u001b[0m\u001b[0;34m\u001b[0m\u001b[0m\n\u001b[0m",
      "\u001b[0;32m~/.local/lib/python3.5/site-packages/keras/engine/training.py\u001b[0m in \u001b[0;36mfit\u001b[0;34m(self, x, y, batch_size, epochs, verbose, callbacks, validation_split, validation_data, shuffle, class_weight, sample_weight, initial_epoch, steps_per_epoch, validation_steps, **kwargs)\u001b[0m\n\u001b[1;32m   1037\u001b[0m                                         \u001b[0minitial_epoch\u001b[0m\u001b[0;34m=\u001b[0m\u001b[0minitial_epoch\u001b[0m\u001b[0;34m,\u001b[0m\u001b[0;34m\u001b[0m\u001b[0m\n\u001b[1;32m   1038\u001b[0m                                         \u001b[0msteps_per_epoch\u001b[0m\u001b[0;34m=\u001b[0m\u001b[0msteps_per_epoch\u001b[0m\u001b[0;34m,\u001b[0m\u001b[0;34m\u001b[0m\u001b[0m\n\u001b[0;32m-> 1039\u001b[0;31m                                         validation_steps=validation_steps)\n\u001b[0m\u001b[1;32m   1040\u001b[0m \u001b[0;34m\u001b[0m\u001b[0m\n\u001b[1;32m   1041\u001b[0m     def evaluate(self, x=None, y=None,\n",
      "\u001b[0;32m~/.local/lib/python3.5/site-packages/keras/engine/training_arrays.py\u001b[0m in \u001b[0;36mfit_loop\u001b[0;34m(model, f, ins, out_labels, batch_size, epochs, verbose, callbacks, val_f, val_ins, shuffle, callback_metrics, initial_epoch, steps_per_epoch, validation_steps)\u001b[0m\n\u001b[1;32m    197\u001b[0m                     \u001b[0mins_batch\u001b[0m\u001b[0;34m[\u001b[0m\u001b[0mi\u001b[0m\u001b[0;34m]\u001b[0m \u001b[0;34m=\u001b[0m \u001b[0mins_batch\u001b[0m\u001b[0;34m[\u001b[0m\u001b[0mi\u001b[0m\u001b[0;34m]\u001b[0m\u001b[0;34m.\u001b[0m\u001b[0mtoarray\u001b[0m\u001b[0;34m(\u001b[0m\u001b[0;34m)\u001b[0m\u001b[0;34m\u001b[0m\u001b[0m\n\u001b[1;32m    198\u001b[0m \u001b[0;34m\u001b[0m\u001b[0m\n\u001b[0;32m--> 199\u001b[0;31m                 \u001b[0mouts\u001b[0m \u001b[0;34m=\u001b[0m \u001b[0mf\u001b[0m\u001b[0;34m(\u001b[0m\u001b[0mins_batch\u001b[0m\u001b[0;34m)\u001b[0m\u001b[0;34m\u001b[0m\u001b[0m\n\u001b[0m\u001b[1;32m    200\u001b[0m                 \u001b[0mouts\u001b[0m \u001b[0;34m=\u001b[0m \u001b[0mto_list\u001b[0m\u001b[0;34m(\u001b[0m\u001b[0mouts\u001b[0m\u001b[0;34m)\u001b[0m\u001b[0;34m\u001b[0m\u001b[0m\n\u001b[1;32m    201\u001b[0m                 \u001b[0;32mfor\u001b[0m \u001b[0ml\u001b[0m\u001b[0;34m,\u001b[0m \u001b[0mo\u001b[0m \u001b[0;32min\u001b[0m \u001b[0mzip\u001b[0m\u001b[0;34m(\u001b[0m\u001b[0mout_labels\u001b[0m\u001b[0;34m,\u001b[0m \u001b[0mouts\u001b[0m\u001b[0;34m)\u001b[0m\u001b[0;34m:\u001b[0m\u001b[0;34m\u001b[0m\u001b[0m\n",
      "\u001b[0;32m~/.local/lib/python3.5/site-packages/keras/backend/tensorflow_backend.py\u001b[0m in \u001b[0;36m__call__\u001b[0;34m(self, inputs)\u001b[0m\n\u001b[1;32m   2713\u001b[0m                 \u001b[0;32mreturn\u001b[0m \u001b[0mself\u001b[0m\u001b[0;34m.\u001b[0m\u001b[0m_legacy_call\u001b[0m\u001b[0;34m(\u001b[0m\u001b[0minputs\u001b[0m\u001b[0;34m)\u001b[0m\u001b[0;34m\u001b[0m\u001b[0m\n\u001b[1;32m   2714\u001b[0m \u001b[0;34m\u001b[0m\u001b[0m\n\u001b[0;32m-> 2715\u001b[0;31m             \u001b[0;32mreturn\u001b[0m \u001b[0mself\u001b[0m\u001b[0;34m.\u001b[0m\u001b[0m_call\u001b[0m\u001b[0;34m(\u001b[0m\u001b[0minputs\u001b[0m\u001b[0;34m)\u001b[0m\u001b[0;34m\u001b[0m\u001b[0m\n\u001b[0m\u001b[1;32m   2716\u001b[0m         \u001b[0;32melse\u001b[0m\u001b[0;34m:\u001b[0m\u001b[0;34m\u001b[0m\u001b[0m\n\u001b[1;32m   2717\u001b[0m             \u001b[0;32mif\u001b[0m \u001b[0mpy_any\u001b[0m\u001b[0;34m(\u001b[0m\u001b[0mis_tensor\u001b[0m\u001b[0;34m(\u001b[0m\u001b[0mx\u001b[0m\u001b[0;34m)\u001b[0m \u001b[0;32mfor\u001b[0m \u001b[0mx\u001b[0m \u001b[0;32min\u001b[0m \u001b[0minputs\u001b[0m\u001b[0;34m)\u001b[0m\u001b[0;34m:\u001b[0m\u001b[0;34m\u001b[0m\u001b[0m\n",
      "\u001b[0;32m~/.local/lib/python3.5/site-packages/keras/backend/tensorflow_backend.py\u001b[0m in \u001b[0;36m_call\u001b[0;34m(self, inputs)\u001b[0m\n\u001b[1;32m   2673\u001b[0m             \u001b[0mfetched\u001b[0m \u001b[0;34m=\u001b[0m \u001b[0mself\u001b[0m\u001b[0;34m.\u001b[0m\u001b[0m_callable_fn\u001b[0m\u001b[0;34m(\u001b[0m\u001b[0;34m*\u001b[0m\u001b[0marray_vals\u001b[0m\u001b[0;34m,\u001b[0m \u001b[0mrun_metadata\u001b[0m\u001b[0;34m=\u001b[0m\u001b[0mself\u001b[0m\u001b[0;34m.\u001b[0m\u001b[0mrun_metadata\u001b[0m\u001b[0;34m)\u001b[0m\u001b[0;34m\u001b[0m\u001b[0m\n\u001b[1;32m   2674\u001b[0m         \u001b[0;32melse\u001b[0m\u001b[0;34m:\u001b[0m\u001b[0;34m\u001b[0m\u001b[0m\n\u001b[0;32m-> 2675\u001b[0;31m             \u001b[0mfetched\u001b[0m \u001b[0;34m=\u001b[0m \u001b[0mself\u001b[0m\u001b[0;34m.\u001b[0m\u001b[0m_callable_fn\u001b[0m\u001b[0;34m(\u001b[0m\u001b[0;34m*\u001b[0m\u001b[0marray_vals\u001b[0m\u001b[0;34m)\u001b[0m\u001b[0;34m\u001b[0m\u001b[0m\n\u001b[0m\u001b[1;32m   2676\u001b[0m         \u001b[0;32mreturn\u001b[0m \u001b[0mfetched\u001b[0m\u001b[0;34m[\u001b[0m\u001b[0;34m:\u001b[0m\u001b[0mlen\u001b[0m\u001b[0;34m(\u001b[0m\u001b[0mself\u001b[0m\u001b[0;34m.\u001b[0m\u001b[0moutputs\u001b[0m\u001b[0;34m)\u001b[0m\u001b[0;34m]\u001b[0m\u001b[0;34m\u001b[0m\u001b[0m\n\u001b[1;32m   2677\u001b[0m \u001b[0;34m\u001b[0m\u001b[0m\n",
      "\u001b[0;32m/usr/local/lib/python3.5/dist-packages/tensorflow/python/client/session.py\u001b[0m in \u001b[0;36m__call__\u001b[0;34m(self, *args, **kwargs)\u001b[0m\n\u001b[1;32m   1437\u001b[0m           ret = tf_session.TF_SessionRunCallable(\n\u001b[1;32m   1438\u001b[0m               \u001b[0mself\u001b[0m\u001b[0;34m.\u001b[0m\u001b[0m_session\u001b[0m\u001b[0;34m.\u001b[0m\u001b[0m_session\u001b[0m\u001b[0;34m,\u001b[0m \u001b[0mself\u001b[0m\u001b[0;34m.\u001b[0m\u001b[0m_handle\u001b[0m\u001b[0;34m,\u001b[0m \u001b[0margs\u001b[0m\u001b[0;34m,\u001b[0m \u001b[0mstatus\u001b[0m\u001b[0;34m,\u001b[0m\u001b[0;34m\u001b[0m\u001b[0m\n\u001b[0;32m-> 1439\u001b[0;31m               run_metadata_ptr)\n\u001b[0m\u001b[1;32m   1440\u001b[0m         \u001b[0;32mif\u001b[0m \u001b[0mrun_metadata\u001b[0m\u001b[0;34m:\u001b[0m\u001b[0;34m\u001b[0m\u001b[0m\n\u001b[1;32m   1441\u001b[0m           \u001b[0mproto_data\u001b[0m \u001b[0;34m=\u001b[0m \u001b[0mtf_session\u001b[0m\u001b[0;34m.\u001b[0m\u001b[0mTF_GetBuffer\u001b[0m\u001b[0;34m(\u001b[0m\u001b[0mrun_metadata_ptr\u001b[0m\u001b[0;34m)\u001b[0m\u001b[0;34m\u001b[0m\u001b[0m\n",
      "\u001b[0;32m/usr/local/lib/python3.5/dist-packages/tensorflow/python/framework/errors_impl.py\u001b[0m in \u001b[0;36m__exit__\u001b[0;34m(self, type_arg, value_arg, traceback_arg)\u001b[0m\n\u001b[1;32m    526\u001b[0m             \u001b[0;32mNone\u001b[0m\u001b[0;34m,\u001b[0m \u001b[0;32mNone\u001b[0m\u001b[0;34m,\u001b[0m\u001b[0;34m\u001b[0m\u001b[0m\n\u001b[1;32m    527\u001b[0m             \u001b[0mcompat\u001b[0m\u001b[0;34m.\u001b[0m\u001b[0mas_text\u001b[0m\u001b[0;34m(\u001b[0m\u001b[0mc_api\u001b[0m\u001b[0;34m.\u001b[0m\u001b[0mTF_Message\u001b[0m\u001b[0;34m(\u001b[0m\u001b[0mself\u001b[0m\u001b[0;34m.\u001b[0m\u001b[0mstatus\u001b[0m\u001b[0;34m.\u001b[0m\u001b[0mstatus\u001b[0m\u001b[0;34m)\u001b[0m\u001b[0;34m)\u001b[0m\u001b[0;34m,\u001b[0m\u001b[0;34m\u001b[0m\u001b[0m\n\u001b[0;32m--> 528\u001b[0;31m             c_api.TF_GetCode(self.status.status))\n\u001b[0m\u001b[1;32m    529\u001b[0m     \u001b[0;31m# Delete the underlying status object from memory otherwise it stays alive\u001b[0m\u001b[0;34m\u001b[0m\u001b[0;34m\u001b[0m\u001b[0m\n\u001b[1;32m    530\u001b[0m     \u001b[0;31m# as there is a reference to status from this from the traceback due to\u001b[0m\u001b[0;34m\u001b[0m\u001b[0;34m\u001b[0m\u001b[0m\n",
      "\u001b[0;31mResourceExhaustedError\u001b[0m: OOM when allocating tensor with shape[1024,400003] and type float on /job:localhost/replica:0/task:0/device:GPU:0 by allocator GPU_0_bfc\n\t [[{{node training_1/Adam/gradients/y_rep_output/MatMul_grad/MatMul_1}}]]\nHint: If you want to see a list of allocated tensors when OOM happens, add report_tensor_allocations_upon_oom to RunOptions for current allocation info.\n"
     ]
    }
   ],
   "source": [
    "# other parameters\n",
    "# https://keras.io/examples/lstm_seq2seq/\n",
    "\n",
    "nmt_model = Model(inputs = [orig_input, repl_input], outputs = y_repl_output)\n",
    "\n",
    "nmt_model.compile(optimizer = 'adam',\n",
    "             loss = 'categorical_crossentropy',\n",
    "             metrics = ['accuracy'])\n",
    "\n",
    "nmt_history = nmt_model.fit([X_orig, y_repl], y_repl_cat, epochs = epochs, batch_size = batch_size)"
   ]
  },
  {
   "cell_type": "code",
   "execution_count": 19,
   "metadata": {},
   "outputs": [
    {
     "name": "stdout",
     "output_type": "stream",
     "text": [
      "__________________________________________________________________________________________________\n",
      "Layer (type)                    Output Shape         Param #     Connected to                     \n",
      "==================================================================================================\n",
      "repl_input (InputLayer)         (None, 4)            0                                            \n",
      "__________________________________________________________________________________________________\n",
      "orig_input (InputLayer)         (None, 2)            0                                            \n",
      "__________________________________________________________________________________________________\n",
      "embedding_layer (Embedding)     multiple             120000900   orig_input[0][0]                 \n",
      "                                                                 repl_input[0][0]                 \n",
      "__________________________________________________________________________________________________\n",
      "encoder (Bidirectional)         [(None, 1024), (None 3330048     embedding_layer[1][0]            \n",
      "__________________________________________________________________________________________________\n",
      "concatenate_1 (Concatenate)     (None, 1024)         0           encoder[0][1]                    \n",
      "                                                                 encoder[0][3]                    \n",
      "__________________________________________________________________________________________________\n",
      "concatenate_2 (Concatenate)     (None, 1024)         0           encoder[0][2]                    \n",
      "                                                                 encoder[0][4]                    \n",
      "__________________________________________________________________________________________________\n",
      "decoder (LSTM)                  [(None, 4, 1024), (N 5427200     embedding_layer[2][0]            \n",
      "                                                                 concatenate_1[0][0]              \n",
      "                                                                 concatenate_2[0][0]              \n",
      "__________________________________________________________________________________________________\n",
      "y_rep_output (TimeDistributed)  (None, 4, 400003)    410003075   decoder[0][0]                    \n",
      "==================================================================================================\n",
      "Total params: 538,761,223\n",
      "Trainable params: 418,760,323\n",
      "Non-trainable params: 120,000,900\n",
      "__________________________________________________________________________________________________\n"
     ]
    }
   ],
   "source": [
    "nmt_model.summary()"
   ]
  },
  {
   "cell_type": "code",
   "execution_count": null,
   "metadata": {},
   "outputs": [],
   "source": [
    "plt.plot(nmt_history.history['acc'], label='accuracy')\n",
    "plt.title('Accuracy')\n",
    "plt.xlabel('epochs')\n",
    "plt.ylabel('accuracy')\n",
    "plt.legend()"
   ]
  },
  {
   "cell_type": "code",
   "execution_count": null,
   "metadata": {},
   "outputs": [],
   "source": [
    "plt.plot(nmt_history.history['loss'], label='loss')\n",
    "plt.title('Loss')\n",
    "plt.xlabel('epochs')\n",
    "plt.ylabel('loss')\n",
    "plt.legend()"
   ]
  },
  {
   "cell_type": "markdown",
   "metadata": {},
   "source": [
    "## inference mode for NMT"
   ]
  },
  {
   "cell_type": "code",
   "execution_count": 27,
   "metadata": {
    "scrolled": true
   },
   "outputs": [
    {
     "ename": "ValueError",
     "evalue": "Graph disconnected: cannot obtain value for tensor Tensor(\"orig_input:0\", shape=(?, 4), dtype=int64) at layer \"orig_input\". The following previous layers were accessed without issue: []",
     "output_type": "error",
     "traceback": [
      "\u001b[0;31m---------------------------------------------------------------------------\u001b[0m",
      "\u001b[0;31mValueError\u001b[0m                                Traceback (most recent call last)",
      "\u001b[0;32m<ipython-input-27-7388e6f7fae0>\u001b[0m in \u001b[0;36m<module>\u001b[0;34m\u001b[0m\n\u001b[1;32m      7\u001b[0m \u001b[0minf_dec_output\u001b[0m \u001b[0;34m=\u001b[0m \u001b[0mdec_tdd\u001b[0m\u001b[0;34m(\u001b[0m\u001b[0minf_dec_main\u001b[0m\u001b[0;34m)\u001b[0m\u001b[0;34m\u001b[0m\u001b[0m\n\u001b[1;32m      8\u001b[0m \u001b[0;34m\u001b[0m\u001b[0m\n\u001b[0;32m----> 9\u001b[0;31m \u001b[0minf_enc_model\u001b[0m \u001b[0;34m=\u001b[0m \u001b[0mModel\u001b[0m\u001b[0;34m(\u001b[0m\u001b[0minputs\u001b[0m \u001b[0;34m=\u001b[0m \u001b[0;34m[\u001b[0m\u001b[0mmain_input\u001b[0m\u001b[0;34m]\u001b[0m\u001b[0;34m,\u001b[0m \u001b[0moutputs\u001b[0m \u001b[0;34m=\u001b[0m \u001b[0;34m[\u001b[0m\u001b[0menc_h\u001b[0m\u001b[0;34m,\u001b[0m \u001b[0menc_c\u001b[0m\u001b[0;34m]\u001b[0m\u001b[0;34m)\u001b[0m\u001b[0;34m\u001b[0m\u001b[0m\n\u001b[0m\u001b[1;32m     10\u001b[0m \u001b[0minf_dec_model\u001b[0m \u001b[0;34m=\u001b[0m \u001b[0mModel\u001b[0m\u001b[0;34m(\u001b[0m\u001b[0;34m[\u001b[0m\u001b[0mrepl_input\u001b[0m\u001b[0;34m]\u001b[0m \u001b[0;34m+\u001b[0m \u001b[0minf_dec_states_input\u001b[0m\u001b[0;34m,\u001b[0m \u001b[0;34m[\u001b[0m\u001b[0minf_dec_output\u001b[0m\u001b[0;34m]\u001b[0m \u001b[0;34m+\u001b[0m \u001b[0minf_dec_states\u001b[0m\u001b[0;34m)\u001b[0m\u001b[0;34m\u001b[0m\u001b[0m\n",
      "\u001b[0;32m~/.local/lib/python3.5/site-packages/keras/legacy/interfaces.py\u001b[0m in \u001b[0;36mwrapper\u001b[0;34m(*args, **kwargs)\u001b[0m\n\u001b[1;32m     89\u001b[0m                 warnings.warn('Update your `' + object_name + '` call to the ' +\n\u001b[1;32m     90\u001b[0m                               'Keras 2 API: ' + signature, stacklevel=2)\n\u001b[0;32m---> 91\u001b[0;31m             \u001b[0;32mreturn\u001b[0m \u001b[0mfunc\u001b[0m\u001b[0;34m(\u001b[0m\u001b[0;34m*\u001b[0m\u001b[0margs\u001b[0m\u001b[0;34m,\u001b[0m \u001b[0;34m**\u001b[0m\u001b[0mkwargs\u001b[0m\u001b[0;34m)\u001b[0m\u001b[0;34m\u001b[0m\u001b[0m\n\u001b[0m\u001b[1;32m     92\u001b[0m         \u001b[0mwrapper\u001b[0m\u001b[0;34m.\u001b[0m\u001b[0m_original_function\u001b[0m \u001b[0;34m=\u001b[0m \u001b[0mfunc\u001b[0m\u001b[0;34m\u001b[0m\u001b[0m\n\u001b[1;32m     93\u001b[0m         \u001b[0;32mreturn\u001b[0m \u001b[0mwrapper\u001b[0m\u001b[0;34m\u001b[0m\u001b[0m\n",
      "\u001b[0;32m~/.local/lib/python3.5/site-packages/keras/engine/network.py\u001b[0m in \u001b[0;36m__init__\u001b[0;34m(self, *args, **kwargs)\u001b[0m\n\u001b[1;32m     91\u001b[0m                 'inputs' in kwargs and 'outputs' in kwargs):\n\u001b[1;32m     92\u001b[0m             \u001b[0;31m# Graph network\u001b[0m\u001b[0;34m\u001b[0m\u001b[0;34m\u001b[0m\u001b[0m\n\u001b[0;32m---> 93\u001b[0;31m             \u001b[0mself\u001b[0m\u001b[0;34m.\u001b[0m\u001b[0m_init_graph_network\u001b[0m\u001b[0;34m(\u001b[0m\u001b[0;34m*\u001b[0m\u001b[0margs\u001b[0m\u001b[0;34m,\u001b[0m \u001b[0;34m**\u001b[0m\u001b[0mkwargs\u001b[0m\u001b[0;34m)\u001b[0m\u001b[0;34m\u001b[0m\u001b[0m\n\u001b[0m\u001b[1;32m     94\u001b[0m         \u001b[0;32melse\u001b[0m\u001b[0;34m:\u001b[0m\u001b[0;34m\u001b[0m\u001b[0m\n\u001b[1;32m     95\u001b[0m             \u001b[0;31m# Subclassed network\u001b[0m\u001b[0;34m\u001b[0m\u001b[0;34m\u001b[0m\u001b[0m\n",
      "\u001b[0;32m~/.local/lib/python3.5/site-packages/keras/engine/network.py\u001b[0m in \u001b[0;36m_init_graph_network\u001b[0;34m(self, inputs, outputs, name)\u001b[0m\n\u001b[1;32m    229\u001b[0m         \u001b[0;31m# Keep track of the network's nodes and layers.\u001b[0m\u001b[0;34m\u001b[0m\u001b[0;34m\u001b[0m\u001b[0m\n\u001b[1;32m    230\u001b[0m         nodes, nodes_by_depth, layers, layers_by_depth = _map_graph_network(\n\u001b[0;32m--> 231\u001b[0;31m             self.inputs, self.outputs)\n\u001b[0m\u001b[1;32m    232\u001b[0m         \u001b[0mself\u001b[0m\u001b[0;34m.\u001b[0m\u001b[0m_network_nodes\u001b[0m \u001b[0;34m=\u001b[0m \u001b[0mnodes\u001b[0m\u001b[0;34m\u001b[0m\u001b[0m\n\u001b[1;32m    233\u001b[0m         \u001b[0mself\u001b[0m\u001b[0;34m.\u001b[0m\u001b[0m_nodes_by_depth\u001b[0m \u001b[0;34m=\u001b[0m \u001b[0mnodes_by_depth\u001b[0m\u001b[0;34m\u001b[0m\u001b[0m\n",
      "\u001b[0;32m~/.local/lib/python3.5/site-packages/keras/engine/network.py\u001b[0m in \u001b[0;36m_map_graph_network\u001b[0;34m(inputs, outputs)\u001b[0m\n\u001b[1;32m   1441\u001b[0m                                          \u001b[0;34m'The following previous layers '\u001b[0m\u001b[0;34m\u001b[0m\u001b[0m\n\u001b[1;32m   1442\u001b[0m                                          \u001b[0;34m'were accessed without issue: '\u001b[0m \u001b[0;34m+\u001b[0m\u001b[0;34m\u001b[0m\u001b[0m\n\u001b[0;32m-> 1443\u001b[0;31m                                          str(layers_with_complete_input))\n\u001b[0m\u001b[1;32m   1444\u001b[0m                 \u001b[0;32mfor\u001b[0m \u001b[0mx\u001b[0m \u001b[0;32min\u001b[0m \u001b[0mnode\u001b[0m\u001b[0;34m.\u001b[0m\u001b[0moutput_tensors\u001b[0m\u001b[0;34m:\u001b[0m\u001b[0;34m\u001b[0m\u001b[0m\n\u001b[1;32m   1445\u001b[0m                     \u001b[0mcomputable_tensors\u001b[0m\u001b[0;34m.\u001b[0m\u001b[0mappend\u001b[0m\u001b[0;34m(\u001b[0m\u001b[0mx\u001b[0m\u001b[0;34m)\u001b[0m\u001b[0;34m\u001b[0m\u001b[0m\n",
      "\u001b[0;31mValueError\u001b[0m: Graph disconnected: cannot obtain value for tensor Tensor(\"orig_input:0\", shape=(?, 4), dtype=int64) at layer \"orig_input\". The following previous layers were accessed without issue: []"
     ]
    }
   ],
   "source": [
    "inf_dec_h_input = Input(shape=(num_units * 2,))\n",
    "inf_dec_c_input = Input(shape=(num_units * 2,))\n",
    "inf_dec_states_input = [inf_dec_h_input, inf_dec_c_input]\n",
    "\n",
    "inf_dec_main, inf_dec_h, inf_dec_c = decoder(repl_embed, initial_state = inf_dec_states_input)\n",
    "inf_dec_states = [inf_dec_h, inf_dec_c]\n",
    "inf_dec_output = dec_tdd(inf_dec_main)\n",
    "\n",
    "inf_enc_model = Model(inputs = [orig_input], outputs = [enc_h, enc_c])\n",
    "inf_dec_model = Model([repl_input] + inf_dec_states_input, [inf_dec_output] + inf_dec_states)"
   ]
  },
  {
   "cell_type": "code",
   "execution_count": null,
   "metadata": {},
   "outputs": [],
   "source": [
    "def decode(input_seq):\n",
    "    return"
   ]
  },
  {
   "cell_type": "code",
   "execution_count": null,
   "metadata": {},
   "outputs": [],
   "source": [
    "encoder_model = Model(encoder_inputs, encoder_states)\n",
    "\n",
    "decoder_state_input_h = Input(shape=(latent_dim,))\n",
    "decoder_state_input_c = Input(shape=(latent_dim,))\n",
    "decoder_states_inputs = [decoder_state_input_h, decoder_state_input_c]\n",
    "decoder_outputs, state_h, state_c = decoder_lstm(\n",
    "    decoder_inputs, initial_state=decoder_states_inputs)\n",
    "decoder_states = [state_h, state_c]\n",
    "decoder_outputs = decoder_dense(decoder_outputs)\n",
    "decoder_model = Model(\n",
    "    [decoder_inputs] + decoder_states_inputs,\n",
    "    [decoder_outputs] + decoder_states)"
   ]
  },
  {
   "cell_type": "markdown",
   "metadata": {},
   "source": [
    "# Step 4: put it together"
   ]
  },
  {
   "cell_type": "markdown",
   "metadata": {},
   "source": [
    "# tbd"
   ]
  },
  {
   "cell_type": "code",
   "execution_count": null,
   "metadata": {},
   "outputs": [],
   "source": [
    "# 1) encode input and retrieve initial decoder state\n",
    "# 2) run one step of decoder with this initial state\n",
    "# and a \"start of sequence\" token as target.\n",
    "# Output will be the next target token\n",
    "# 3) Repeat with the current target token and current states\n",
    "\n",
    "# Define sampling models\n",
    "encoder_model = Model(encoder_inputs, encoder_states)\n",
    "\n",
    "decoder_state_input_h = Input(shape=(latent_dim,))\n",
    "decoder_state_input_c = Input(shape=(latent_dim,))\n",
    "decoder_states_inputs = [decoder_state_input_h, decoder_state_input_c]\n",
    "decoder_outputs, state_h, state_c = decoder_lstm(\n",
    "    decoder_inputs, initial_state=decoder_states_inputs)\n",
    "decoder_states = [state_h, state_c]\n",
    "decoder_outputs = decoder_dense(decoder_outputs)\n",
    "decoder_model = Model(\n",
    "    [decoder_inputs] + decoder_states_inputs,\n",
    "    [decoder_outputs] + decoder_states)\n",
    "\n",
    "# Reverse-lookup token index to decode sequences back to\n",
    "# something readable.\n",
    "reverse_input_char_index = dict(\n",
    "    (i, char) for char, i in input_token_index.items())\n",
    "reverse_target_char_index = dict(\n",
    "    (i, char) for char, i in target_token_index.items())\n",
    "\n",
    "\n",
    "def decode_sequence(input_seq):\n",
    "    # Encode the input as state vectors.\n",
    "    states_value = encoder_model.predict(input_seq)\n",
    "\n",
    "    # Generate empty target sequence of length 1.\n",
    "    target_seq = np.zeros((1, 1, num_decoder_tokens))\n",
    "    # Populate the first character of target sequence with the start character.\n",
    "    target_seq[0, 0, target_token_index['\\t']] = 1.\n",
    "\n",
    "    # Sampling loop for a batch of sequences\n",
    "    # (to simplify, here we assume a batch of size 1).\n",
    "    stop_condition = False\n",
    "    decoded_sentence = ''\n",
    "    while not stop_condition:\n",
    "        output_tokens, h, c = decoder_model.predict(\n",
    "            [target_seq] + states_value)\n",
    "\n",
    "        # Sample a token\n",
    "        sampled_token_index = np.argmax(output_tokens[0, -1, :])\n",
    "        sampled_char = reverse_target_char_index[sampled_token_index]\n",
    "        decoded_sentence += sampled_char\n",
    "\n",
    "        # Exit condition: either hit max length\n",
    "        # or find stop character.\n",
    "        if (sampled_char == '\\n' or\n",
    "           len(decoded_sentence) > max_decoder_seq_length):\n",
    "            stop_condition = True\n",
    "\n",
    "        # Update the target sequence (of length 1).\n",
    "        target_seq = np.zeros((1, 1, num_decoder_tokens))\n",
    "        target_seq[0, 0, sampled_token_index] = 1.\n",
    "\n",
    "        # Update states\n",
    "        states_value = [h, c]\n",
    "\n",
    "    return decoded_sentence\n",
    "\n",
    "\n",
    "for seq_index in range(100):\n",
    "    # Take one sequence (part of the training set)\n",
    "    # for trying out decoding.\n",
    "    input_seq = encoder_input_data[seq_index: seq_index + 1]\n",
    "    decoded_sentence = decode_sequence(input_seq)\n",
    "    print('-')\n",
    "    print('Input sentence:', input_texts[seq_index])\n",
    "    print('Decoded sentence:', decoded_sentence)"
   ]
  }
 ],
 "metadata": {
  "kernelspec": {
   "display_name": "Python 3",
   "language": "python",
   "name": "python3"
  },
  "language_info": {
   "codemirror_mode": {
    "name": "ipython",
    "version": 3
   },
   "file_extension": ".py",
   "mimetype": "text/x-python",
   "name": "python",
   "nbconvert_exporter": "python",
   "pygments_lexer": "ipython3",
   "version": "3.5.2"
  }
 },
 "nbformat": 4,
 "nbformat_minor": 2
}
