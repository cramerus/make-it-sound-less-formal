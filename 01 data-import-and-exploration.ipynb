{
 "cells": [
  {
   "cell_type": "code",
   "execution_count": 1,
   "metadata": {},
   "outputs": [],
   "source": [
    "from glob import glob\n",
    "import pandas as pd\n",
    "import numpy as np"
   ]
  },
  {
   "cell_type": "markdown",
   "metadata": {},
   "source": [
    "# how do these files work"
   ]
  },
  {
   "cell_type": "code",
   "execution_count": 3,
   "metadata": {},
   "outputs": [],
   "source": [
    "filenames = glob(\"GYAFC_Corpus\\\\Entertainment_Music\\\\test\\\\*\")"
   ]
  },
  {
   "cell_type": "code",
   "execution_count": 4,
   "metadata": {},
   "outputs": [
    {
     "data": {
      "text/plain": [
       "['GYAFC_Corpus\\\\Entertainment_Music\\\\test\\\\formal',\n",
       " 'GYAFC_Corpus\\\\Entertainment_Music\\\\test\\\\formal.ref0',\n",
       " 'GYAFC_Corpus\\\\Entertainment_Music\\\\test\\\\formal.ref1',\n",
       " 'GYAFC_Corpus\\\\Entertainment_Music\\\\test\\\\formal.ref2',\n",
       " 'GYAFC_Corpus\\\\Entertainment_Music\\\\test\\\\formal.ref3',\n",
       " 'GYAFC_Corpus\\\\Entertainment_Music\\\\test\\\\informal',\n",
       " 'GYAFC_Corpus\\\\Entertainment_Music\\\\test\\\\informal.ref0',\n",
       " 'GYAFC_Corpus\\\\Entertainment_Music\\\\test\\\\informal.ref1',\n",
       " 'GYAFC_Corpus\\\\Entertainment_Music\\\\test\\\\informal.ref2',\n",
       " 'GYAFC_Corpus\\\\Entertainment_Music\\\\test\\\\informal.ref3']"
      ]
     },
     "execution_count": 4,
     "metadata": {},
     "output_type": "execute_result"
    }
   ],
   "source": [
    "filenames"
   ]
  },
  {
   "cell_type": "code",
   "execution_count": 5,
   "metadata": {},
   "outputs": [],
   "source": [
    "formal = open(filenames[0], encoding='utf-8')\n",
    "formal = formal.readlines()\n",
    "\n",
    "formal_0 = open(filenames[1], encoding='utf-8')\n",
    "formal_0 = formal_0.readlines()\n",
    "\n",
    "formal_1 = open(filenames[2], encoding='utf-8')\n",
    "formal_1 = formal_1.readlines()\n",
    "\n",
    "formal_2 = open(filenames[3], encoding='utf-8')\n",
    "formal_2 = formal_2.readlines()\n",
    "\n",
    "formal_3 = open(filenames[4], encoding='utf-8')\n",
    "formal_3 = formal_3.readlines()\n",
    "\n",
    "informal = open(filenames[5], encoding='utf-8')\n",
    "informal = informal.readlines()\n",
    "\n",
    "informal_0 = open(filenames[6], encoding='utf-8')\n",
    "informal_0 = informal_0.readlines()\n",
    "\n",
    "informal_1 = open(filenames[7], encoding='utf-8')\n",
    "informal_1 = informal_1.readlines()\n",
    "\n",
    "informal_2 = open(filenames[8], encoding='utf-8')\n",
    "informal_2 = informal_2.readlines()\n",
    "\n",
    "informal_3 = open(filenames[9], encoding='utf-8')\n",
    "informal_3 = informal_3.readlines()"
   ]
  },
  {
   "cell_type": "code",
   "execution_count": 6,
   "metadata": {},
   "outputs": [
    {
     "name": "stdout",
     "output_type": "stream",
     "text": [
      "I was unaware that you were in law enforcement, as well.\n",
      "\n",
      "I didn't realize you were a cop, too.\n",
      "\n",
      "i didn't know you were a cop\n",
      "\n",
      "you're a cop too?? I had no idea.\n",
      "\n",
      "i didnt know u were a cop\n",
      "\n"
     ]
    }
   ],
   "source": [
    "x = 7\n",
    "\n",
    "print(formal[x])\n",
    "print(informal_0[x])\n",
    "print(informal_1[x])\n",
    "print(informal_2[x])\n",
    "print(informal_3[x])"
   ]
  },
  {
   "cell_type": "code",
   "execution_count": 7,
   "metadata": {},
   "outputs": [
    {
     "data": {
      "text/plain": [
       "'I like Rhythm and Blue music'"
      ]
     },
     "execution_count": 7,
     "metadata": {},
     "output_type": "execute_result"
    }
   ],
   "source": [
    "formal[0][:-2]"
   ]
  },
  {
   "cell_type": "markdown",
   "metadata": {},
   "source": [
    "# put in dataframe for easier use later"
   ]
  },
  {
   "cell_type": "code",
   "execution_count": 2,
   "metadata": {},
   "outputs": [],
   "source": [
    "def files_to_df():\n",
    "    # takes all files and puts data into dataframes \n",
    "    # (one for formal -> informal, one for informal -> formal)\n",
    "    # \"tune\" and \"test\" datasets give 3 reference outputs for each input.\n",
    "    # \"train\" dataset only has 1 (Target 0)\n",
    "    \n",
    "    f2i_file_ref = {'formal' : 'Original',\n",
    "               'informal.ref0' : 'Target 0',\n",
    "               'informal.ref1' : 'Target 1',\n",
    "               'informal.ref2' : 'Target 2',\n",
    "               'informal.ref3' : 'Target 3'}\n",
    "    i2f_file_ref = {'informal' : 'Original',\n",
    "               'formal.ref0' : 'Target 0',\n",
    "               'formal.ref1' : 'Target 1',\n",
    "               'formal.ref2' : 'Target 2',\n",
    "               'formal.ref3' : 'Target 3'}\n",
    "    \n",
    "    f2i_df = pd.DataFrame(columns=['Original',\n",
    "                                  'Target 0',\n",
    "                                  'Target 1',\n",
    "                                  'Target 2',\n",
    "                                  'Target 3',\n",
    "                                  'Category',\n",
    "                                  'Dataset'])\n",
    "    i2f_df = pd.DataFrame(columns=['Original',\n",
    "                                    'Target 0',\n",
    "                                    'Target 1',\n",
    "                                    'Target 2',\n",
    "                                    'Target 3',\n",
    "                                    'Category',\n",
    "                                    'Dataset'])\n",
    "    \n",
    "    categories = [\"Entertainment_Music\", \"Family_Relationships\"]\n",
    "    datasets = [\"train\", \"tune\", \"test\"]\n",
    "    \n",
    "    for cat in categories:\n",
    "        for ds in datasets:\n",
    "            \n",
    "            f2i_df_temp = pd.DataFrame(columns = f2i_df.columns.values)\n",
    "            i2f_df_temp = pd.DataFrame(columns = i2f_df.columns.values)\n",
    "            \n",
    "            filenames = glob(\"GYAFC_Corpus\\\\\" + cat + \"\\\\\" + ds + \"\\\\*\")\n",
    "            \n",
    "            for fn in filenames:\n",
    "                name = fn[fn.rfind('\\\\')+1:] # formal, informal, formal.ref0, informal.ref3, etc\n",
    "                f = open(fn, encoding=\"utf-8\")\n",
    "                data = [sent for sent in f.readlines()]\n",
    "                \n",
    "                if name in i2f_file_ref:\n",
    "                    i2f_df_temp[i2f_file_ref[name]] = data\n",
    "                if name in f2i_file_ref:\n",
    "                    f2i_df_temp[f2i_file_ref[name]] = data\n",
    "                if ds == 'train':\n",
    "                    if name == 'formal':\n",
    "                        i2f_df_temp['Target 0'] = data\n",
    "                    elif name == 'informal':\n",
    "                        f2i_df_temp['Target 0'] = data\n",
    "                    \n",
    "            f2i_df_temp['Category'] = [cat] * f2i_df_temp.shape[0]\n",
    "            i2f_df_temp['Category'] = [cat] * i2f_df_temp.shape[0]\n",
    "            f2i_df_temp['Dataset'] = [ds] * f2i_df_temp.shape[0]\n",
    "            i2f_df_temp['Dataset'] = [ds] * i2f_df_temp.shape[0]\n",
    "                \n",
    "            f2i_df = pd.concat([f2i_df_temp, f2i_df], axis = 0).reset_index(drop=True)\n",
    "            i2f_df = pd.concat([i2f_df_temp, i2f_df], axis = 0).reset_index(drop=True)\n",
    "    \n",
    "    return f2i_df, i2f_df"
   ]
  },
  {
   "cell_type": "code",
   "execution_count": 3,
   "metadata": {},
   "outputs": [],
   "source": [
    "formal_to_informal_df, informal_to_formal_df = files_to_df()"
   ]
  },
  {
   "cell_type": "code",
   "execution_count": 4,
   "metadata": {},
   "outputs": [],
   "source": [
    "formal_to_informal_df.to_pickle('formal_to_informal_df.pkl')"
   ]
  },
  {
   "cell_type": "code",
   "execution_count": 5,
   "metadata": {},
   "outputs": [],
   "source": [
    "informal_to_formal_df.to_pickle('informal_to_formal_df.pkl')"
   ]
  },
  {
   "cell_type": "code",
   "execution_count": null,
   "metadata": {},
   "outputs": [],
   "source": []
  }
 ],
 "metadata": {
  "kernelspec": {
   "display_name": "Python 3",
   "language": "python",
   "name": "python3"
  },
  "language_info": {
   "codemirror_mode": {
    "name": "ipython",
    "version": 3
   },
   "file_extension": ".py",
   "mimetype": "text/x-python",
   "name": "python",
   "nbconvert_exporter": "python",
   "pygments_lexer": "ipython3",
   "version": "3.6.7"
  }
 },
 "nbformat": 4,
 "nbformat_minor": 2
}
