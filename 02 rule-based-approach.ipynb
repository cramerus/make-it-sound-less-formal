{
 "cells": [
  {
   "cell_type": "code",
   "execution_count": 164,
   "metadata": {},
   "outputs": [],
   "source": [
    "import pandas as pd\n",
    "import re\n",
    "from nltk import word_tokenize\n",
    "import random"
   ]
  },
  {
   "cell_type": "markdown",
   "metadata": {},
   "source": [
    "# import data"
   ]
  },
  {
   "cell_type": "code",
   "execution_count": 69,
   "metadata": {},
   "outputs": [],
   "source": [
    "informal_to_formal_df = pd.read_pickle('informal_to_formal_df.pkl')\n",
    "formal_to_informal_df = pd.read_pickle('formal_to_informal_df.pkl')"
   ]
  },
  {
   "cell_type": "code",
   "execution_count": 190,
   "metadata": {},
   "outputs": [
    {
     "data": {
      "text/html": [
       "<div>\n",
       "<style scoped>\n",
       "    .dataframe tbody tr th:only-of-type {\n",
       "        vertical-align: middle;\n",
       "    }\n",
       "\n",
       "    .dataframe tbody tr th {\n",
       "        vertical-align: top;\n",
       "    }\n",
       "\n",
       "    .dataframe thead th {\n",
       "        text-align: right;\n",
       "    }\n",
       "</style>\n",
       "<table border=\"1\" class=\"dataframe\">\n",
       "  <thead>\n",
       "    <tr style=\"text-align: right;\">\n",
       "      <th></th>\n",
       "      <th>Original</th>\n",
       "      <th>Target 0</th>\n",
       "      <th>Target 1</th>\n",
       "      <th>Target 2</th>\n",
       "      <th>Target 3</th>\n",
       "      <th>Category</th>\n",
       "      <th>Dataset</th>\n",
       "    </tr>\n",
       "  </thead>\n",
       "  <tbody>\n",
       "    <tr>\n",
       "      <th>3266</th>\n",
       "      <td>I prefer to let the guy ask me.\\n</td>\n",
       "      <td>Sure, it's ok, but I always have let the guy a...</td>\n",
       "      <td>NaN</td>\n",
       "      <td>NaN</td>\n",
       "      <td>NaN</td>\n",
       "      <td>Family_Relationships</td>\n",
       "      <td>train</td>\n",
       "    </tr>\n",
       "    <tr>\n",
       "      <th>3267</th>\n",
       "      <td>I suffer through verbal abuse from my wife.\\n</td>\n",
       "      <td>Hmmm, I'm a guy suffering from verbal abuse fr...</td>\n",
       "      <td>NaN</td>\n",
       "      <td>NaN</td>\n",
       "      <td>NaN</td>\n",
       "      <td>Family_Relationships</td>\n",
       "      <td>train</td>\n",
       "    </tr>\n",
       "    <tr>\n",
       "      <th>3268</th>\n",
       "      <td>You will have more friends than you want.\\n</td>\n",
       "      <td>You will have more friends that you want... ;)\\n</td>\n",
       "      <td>NaN</td>\n",
       "      <td>NaN</td>\n",
       "      <td>NaN</td>\n",
       "      <td>Family_Relationships</td>\n",
       "      <td>train</td>\n",
       "    </tr>\n",
       "    <tr>\n",
       "      <th>3269</th>\n",
       "      <td>It's nice that you get to see pictures of who ...</td>\n",
       "      <td>It's nice, you get to see pictures of who you ...</td>\n",
       "      <td>NaN</td>\n",
       "      <td>NaN</td>\n",
       "      <td>NaN</td>\n",
       "      <td>Family_Relationships</td>\n",
       "      <td>train</td>\n",
       "    </tr>\n",
       "    <tr>\n",
       "      <th>3270</th>\n",
       "      <td>I need to know what to do.\\n</td>\n",
       "      <td>I NEED TO KNOW WHAT 2 DO\\n</td>\n",
       "      <td>NaN</td>\n",
       "      <td>NaN</td>\n",
       "      <td>NaN</td>\n",
       "      <td>Family_Relationships</td>\n",
       "      <td>train</td>\n",
       "    </tr>\n",
       "  </tbody>\n",
       "</table>\n",
       "</div>"
      ],
      "text/plain": [
       "                                               Original  \\\n",
       "3266                  I prefer to let the guy ask me.\\n   \n",
       "3267      I suffer through verbal abuse from my wife.\\n   \n",
       "3268        You will have more friends than you want.\\n   \n",
       "3269  It's nice that you get to see pictures of who ...   \n",
       "3270                       I need to know what to do.\\n   \n",
       "\n",
       "                                               Target 0 Target 1 Target 2  \\\n",
       "3266  Sure, it's ok, but I always have let the guy a...      NaN      NaN   \n",
       "3267  Hmmm, I'm a guy suffering from verbal abuse fr...      NaN      NaN   \n",
       "3268   You will have more friends that you want... ;)\\n      NaN      NaN   \n",
       "3269  It's nice, you get to see pictures of who you ...      NaN      NaN   \n",
       "3270                         I NEED TO KNOW WHAT 2 DO\\n      NaN      NaN   \n",
       "\n",
       "     Target 3              Category Dataset  \n",
       "3266      NaN  Family_Relationships   train  \n",
       "3267      NaN  Family_Relationships   train  \n",
       "3268      NaN  Family_Relationships   train  \n",
       "3269      NaN  Family_Relationships   train  \n",
       "3270      NaN  Family_Relationships   train  "
      ]
     },
     "execution_count": 190,
     "metadata": {},
     "output_type": "execute_result"
    }
   ],
   "source": [
    "formal_to_informal_df[formal_to_informal_df['Dataset'] == 'train'].head()"
   ]
  },
  {
   "cell_type": "markdown",
   "metadata": {},
   "source": [
    "# implement rule-based approach"
   ]
  },
  {
   "cell_type": "code",
   "execution_count": null,
   "metadata": {},
   "outputs": [],
   "source": [
    "# Notes:\n",
    "# Nem tudom, miért mondja Uncle Sam, hogy én tettem. <- why\n",
    "# Vseki den sym piian, vseki den - sram! <- why???"
   ]
  },
  {
   "cell_type": "code",
   "execution_count": 9,
   "metadata": {},
   "outputs": [],
   "source": [
    "### Covered in their rule-based system\n",
    "# Capitalization (51%)\n",
    "# Punctuation (69%)\n",
    "# Contractions (8%)\n",
    "# Lowercase (8%)\n",
    "# Normalization (61%)\n",
    "# Repetitions (5%)\n",
    "\n",
    "### NOT covered in rule-based system\n",
    "# Delete fillers (\"Well\")\n",
    "# Completion (ellipsis)\n",
    "# Spelling (should do this)\n",
    "# Split Sentences"
   ]
  },
  {
   "cell_type": "code",
   "execution_count": 191,
   "metadata": {},
   "outputs": [],
   "source": [
    "informal = formal_to_informal_df['Target 0']\n",
    "formal = formal_to_informal_df['Original']"
   ]
  },
  {
   "cell_type": "code",
   "execution_count": 290,
   "metadata": {},
   "outputs": [
    {
     "name": "stdout",
     "output_type": "stream",
     "text": [
      "i would tell him eye to eye.\n",
      "I would tell him eye to eye.\n",
      "I would tell him face to face.\n",
      "\n",
      "If you want a hoe, find a hoe.\n",
      "If you want a hoe, find a hoe.\n",
      "If you want a prostitute, find a prostitute.\n",
      "\n",
      "just need to know how old u are email me at blockboy12@yahoo.com\n",
      "Just need to know how old you are email me at blockboy12@yahoo.com\n",
      "You can send me an email at blockboy12@yahoo.com to tell me how old you are.\n",
      "\n",
      "well duh if he smiled then he luved it and you played STA?\n",
      "Well duh if he smiled then he luved it and you played STA?\n",
      "Well, if he smiled he loved it, and you played STA?\n",
      "\n",
      "It doesnt matter if the girl admits if she likes u or not.\n",
      "It doesn't matter if the girl admits if she likes you or not.\n",
      "It does not matter whether the woman admits to liking you or not.\n",
      "\n",
      "IF YOU DO......DON'T PRESENT YOURSELF AS A EASY GO-ER OR ANYTHING.\n",
      "If you do.. . don't present yourself as a easy go-er or anything.\n",
      "If you do, do not present yourself as easy.\n",
      "\n",
      "Nice name for a (Hindu) baby girl!\n",
      "Nice name for a (Hindu) baby girl!\n",
      "It is an appealing name for a baby girl in Hindu culture.\n",
      "\n",
      "IT'S CHICO TIME -   'CHICO'  Thats majorly embarrassing...\n",
      "IT'S CHICO TIME - 'CHICO' that's majorly embarrassing.. .\n",
      "That is very embarassing.\n",
      "\n",
      "I believe that would be    Greatest Hits, Vol.\n",
      "I believe that would be Greatest Hits, Vol.\n",
      "I trust that volume would be the Greatest Hits.\n",
      "\n",
      "the first time i watched it was last nite and he decides to become a priest\n",
      "The first time I watched it was last nite and he decides to become a priest\n",
      "I watched it for the first time last night. He chose to become a priest.\n",
      "\n"
     ]
    }
   ],
   "source": [
    "for i in range(10):\n",
    "    n = random.randint(1, len(informal))\n",
    "    print(informal[n] + correct(informal[n]) + '\\n' + formal[n])"
   ]
  },
  {
   "cell_type": "code",
   "execution_count": 242,
   "metadata": {},
   "outputs": [
    {
     "name": "stdout",
     "output_type": "stream",
     "text": [
      "So what to ddo YOU think!\n",
      "And so what if you get the girl, he's just haten\n",
      "Then, you'll look back when you're old and say what the Hell was I worried about?\n",
      "I think that's is what you too should b doing... listen to your heart but let your brains guide you.\n",
      "He is really hot but I never thought he would be instered in me what should I do\n",
      "So plz tell me what should I do?\n",
      "Go fo what eva she wnts\n",
      "If you always in thinking something, n you should ask your heart tht what are you feeling.\n",
      "P.s- I agree with what you think, they are eveywhere!\n",
      "because it does what it wants.\n",
      "you know what there's a lot of sakuras song why don't you be specific & identify the singer also\n",
      "Suddenly he's inmobalized and he asked what the boy did.\n",
      "I don't belief anybody every watched what you on about lol\n",
      "that's what I would look for according 2 my experience\n"
     ]
    }
   ],
   "source": [
    "for sent in informal:\n",
    "    if ' wht ' in sent:\n",
    "        print(correct(sent))"
   ]
  },
  {
   "cell_type": "code",
   "execution_count": 47,
   "metadata": {},
   "outputs": [
    {
     "name": "stdout",
     "output_type": "stream",
     "text": [
      "I like hbo\n"
     ]
    }
   ],
   "source": [
    "text = \"i like HBO\"\n",
    "print(text.capitalize())"
   ]
  },
  {
   "cell_type": "code",
   "execution_count": 289,
   "metadata": {},
   "outputs": [
    {
     "data": {
      "text/plain": [
       "\"Go to a-zlyrics.com don't worry. I am shure\""
      ]
     },
     "execution_count": 289,
     "metadata": {},
     "output_type": "execute_result"
    }
   ],
   "source": [
    "ex = \"Go to a-zlyrics.com don't worry . I am shure\"\n",
    "correct(ex)"
   ]
  },
  {
   "cell_type": "code",
   "execution_count": 288,
   "metadata": {},
   "outputs": [],
   "source": [
    "def normalize(sentence):\n",
    "    # \"chatspeak\" to \"normal\" text\n",
    "    sentence = re.sub(r'\\bim\\b', \"I'm\", sentence, flags=re.I) #re.I = ignore case when matching\n",
    "    sentence = re.sub(r\"\\bi'm\\b\", \"I'm\", sentence)\n",
    "    sentence = re.sub(r\"\\bive\\b\", \"I've\", sentence, flags=re.I)\n",
    "    sentence = re.sub(r\"\\bi've\\b\", \"I've\", sentence)\n",
    "    sentence = re.sub(r\"\\bill\\b\", \"I'll\", sentence, flags=re.I)\n",
    "    sentence = re.sub(r\"\\bi'll\\b\", \"I'll\", sentence)\n",
    "    sentence = re.sub(r\"\\bi\\b\", \"I\", sentence)\n",
    "    sentence = re.sub(r\"\\bId\\b\", \"I'd\", sentence)\n",
    "    sentence = re.sub(r\"\\br\\b\", \"are\", sentence, flags=re.I)\n",
    "    sentence = re.sub(r\"\\bu\\b\", \"you\", sentence, flags=re.I)\n",
    "    sentence = re.sub(r\"\\bur\\b\", \"your\", sentence, flags=re.I)\n",
    "    sentence = re.sub(r\"\\burself\\b\", \"yourself\", sentence, flags=re.I)\n",
    "    sentence = re.sub(r\"\\byoure\\b\", \"you're\", sentence, flags=re.I)\n",
    "    sentence = re.sub(r\"\\buve\\b\", \"you've\", sentence, flags=re.I)\n",
    "    sentence = re.sub(r\"\\bu've\\b\", \"you've\", sentence, flags=re.I)\n",
    "    sentence = re.sub(r\"\\bull\\b\", \"you'll\", sentence, flags=re.I)\n",
    "    sentence = re.sub(r\"\\bu'll\\b\", \"you'll\", sentence, flags=re.I)\n",
    "    sentence = re.sub(r\"\\balot\\b\", \"a lot\", sentence, flags=re.I)\n",
    "    sentence = re.sub(r\"\\bcant\\b\", \"can't\", sentence, flags=re.I)\n",
    "    sentence = re.sub(r\"\\bisnt\\b\", \"isn't\", sentence, flags=re.I)\n",
    "    sentence = re.sub(r\"\\bdont\\b\", \"don't\", sentence, flags=re.I)\n",
    "    sentence = re.sub(r\"\\bthats\\b\", \"that's\", sentence, flags=re.I)\n",
    "    sentence = re.sub(r\"\\btheyll\\b\", \"they'll\", sentence, flags=re.I)\n",
    "    sentence = re.sub(r\"\\btheyre\\b\", \"they're\", sentence, flags=re.I)\n",
    "    sentence = re.sub(r\"\\bhes\\b\", \"he's\", sentence, flags=re.I)\n",
    "    sentence = re.sub(r\"\\bshes\\b\", \"she's\", sentence, flags=re.I)\n",
    "    sentence = re.sub(r\"\\bshud\\b\", \"should\", sentence, flags=re.I)\n",
    "    sentence = re.sub(r\"\\bshld\\b\", \"should\", sentence, flags=re.I)\n",
    "    sentence = re.sub(r\"\\bcya\\b\", \"see you\", sentence, flags=re.I)\n",
    "    sentence = re.sub(r\"\\bluv\\b\", \"love\", sentence, flags=re.I)\n",
    "    sentence = re.sub(r\"\\bbtw\\b\", \"by the way\", sentence, flags=re.I)\n",
    "    sentence = re.sub(r\"\\bb/c \", \"because \", sentence, flags=re.I)\n",
    "    sentence = re.sub(r\"\\bw/ \", \"with \", sentence, flags=re.I)\n",
    "    sentence = re.sub(r\"\\bw/o \", \"without \", sentence, flags=re.I)\n",
    "    sentence = re.sub(r\"\\bluv\\b\", \"love\", sentence, flags=re.I)\n",
    "    sentence = re.sub(r\"\\bhavent\\b\", \"haven't\", sentence, flags=re.I)\n",
    "    sentence = re.sub(r\"\\btuff\\b\", \"tough\", sentence, flags=re.I)\n",
    "    sentence = re.sub(r\"\\bgurl\\b\", \"girl\", sentence, flags=re.I)\n",
    "    sentence = re.sub(r\"\\bdoesnt\\b\", \"doesn't\", sentence, flags=re.I)\n",
    "    sentence = re.sub(r\"\\blets\\b\", \"let's\", sentence, flags=re.I)\n",
    "    sentence = re.sub(r\"\\btheres\\b\", \"there's\", sentence, flags=re.I)\n",
    "    sentence = re.sub(r\"\\bwhats\\b\", \"what's\", sentence, flags=re.I)\n",
    "    sentence = re.sub(r\"\\bwhut\\b\", \"what\", sentence, flags=re.I)\n",
    "    sentence = re.sub(r\"\\balot\\b\", \"a lot\", sentence, flags=re.I)\n",
    "    sentence = re.sub(r\"\\bcos\\b\", \"because\", sentence, flags=re.I)\n",
    "    sentence = re.sub(r\"\\bcuz\\b\", \"because\", sentence, flags=re.I)\n",
    "    sentence = re.sub(r\"\\bbcuz\\b\", \"because\", sentence, flags=re.I)\n",
    "    sentence = re.sub(r\"\\bteh\\b\", \"the\", sentence, flags=re.I)\n",
    "    sentence = re.sub(r\"\\bkewl\\b\", \"cool\", sentence, flags=re.I)\n",
    "    sentence = re.sub(r\"\\bdat\\b\", \"that\", sentence, flags=re.I)\n",
    "    sentence = re.sub(r\"\\bda\\b\", \"the\", sentence, flags=re.I)\n",
    "    sentence = re.sub(r\"\\brite\\b\", \"right\", sentence, flags=re.I)\n",
    "    sentence = re.sub(r\"\\bwont\\b\", \"won't\", sentence, flags=re.I)\n",
    "    sentence = re.sub(r\"\\bryt\\b\", \"right\", sentence, flags=re.I)\n",
    "    sentence = re.sub(r\"\\bcud\\b\", \"could\", sentence, flags=re.I)\n",
    "    sentence = re.sub(r\"\\bcood\\b\", \"could\", sentence, flags=re.I)\n",
    "    sentence = re.sub(r\"\\byur\\b\", \"your\", sentence, flags=re.I)\n",
    "    sentence = re.sub(r\"\\bnd\\b\", \"and\", sentence, flags=re.I)\n",
    "    sentence = re.sub(r\"\\bbout\\b\", \"about\", sentence, flags=re.I)\n",
    "    sentence = re.sub(r\"\\bwat\\b\", \"what\", sentence, flags=re.I)\n",
    "    sentence = re.sub(r\"\\bwht\\b\", \"what\", sentence, flags=re.I)\n",
    "    \n",
    "    if ' id is ' in sentence:\n",
    "        sentence = sentence.replace(' id ', \" ID \")\n",
    "    else:\n",
    "        sentence = sentence.replace(' id ', \" I'd \")\n",
    "    return sentence\n",
    "\n",
    "def capital(sentence):\n",
    "    # check if entire sentence is capitalized: if so lowercase all but 1st character\n",
    "    if sentence == sentence.upper():\n",
    "        sentence = sentence.capitalize()\n",
    "    else:\n",
    "        sentence = sentence[0].upper() + sentence[1:] # capitalize 1st letter\n",
    "    return sentence\n",
    "\n",
    "def punctuate(sentence):\n",
    "    # too much, none at all, spacing and punctuation issues\n",
    "    sentence = re.sub(r'[\\?\\!]+(?=[\\?\\!])', '', sentence) # reduce extra punctuation marks\n",
    "    sentence = re.sub(r'[.]+[.]', '... ', sentence) # turn more than 1 period into 3\n",
    "    sentence = re.sub(r'\\s+', ' ', sentence).strip() # remove extra whitespace\n",
    "    sentence = re.sub(r'(?<=[.,])(?=[^\\s])', ' ', sentence) # handle comma and period with no following space\n",
    "    sentence = re.sub(r\". com\", \".com\", sentence) # fix URLs changed by previous command\n",
    "    sentence = re.sub(r\" , \", \", \", sentence)\n",
    "    sentence = re.sub(r\" \\. \", \". \", sentence)\n",
    "    return sentence\n",
    "\n",
    "def repeat(sentence):\n",
    "    # i'd find out what realllllllllllllly happened -> I would determine what really happened\n",
    "    return sentence\n",
    "\n",
    "def lowercase(sentence):\n",
    "    # all caps words to lowercase\n",
    "    return sentence\n",
    "\n",
    "def spellcheck(sentence):\n",
    "    return sentence\n",
    "\n",
    "def correct(sentence):\n",
    "    sentence = capital(sentence)\n",
    "    sentence = lowercase(sentence)\n",
    "    sentence = normalize(sentence)\n",
    "    sentence = repeat(sentence)\n",
    "    sentence = punctuate(sentence)\n",
    "    sentence = spellcheck(sentence)\n",
    "    return sentence"
   ]
  },
  {
   "cell_type": "code",
   "execution_count": null,
   "metadata": {},
   "outputs": [],
   "source": []
  }
 ],
 "metadata": {
  "kernelspec": {
   "display_name": "Python 3",
   "language": "python",
   "name": "python3"
  },
  "language_info": {
   "codemirror_mode": {
    "name": "ipython",
    "version": 3
   },
   "file_extension": ".py",
   "mimetype": "text/x-python",
   "name": "python",
   "nbconvert_exporter": "python",
   "pygments_lexer": "ipython3",
   "version": "3.6.4"
  }
 },
 "nbformat": 4,
 "nbformat_minor": 2
}
