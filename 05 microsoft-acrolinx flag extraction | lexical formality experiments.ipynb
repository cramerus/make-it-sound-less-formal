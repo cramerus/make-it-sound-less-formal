{
 "cells": [
  {
   "cell_type": "code",
   "execution_count": 16,
   "metadata": {},
   "outputs": [
    {
     "data": {
      "application/vnd.jupyter.widget-view+json": {
       "model_id": "fa624f5d1fbf489897bf5e8ab696d027"
      }
     },
     "metadata": {},
     "output_type": "display_data"
    },
    {
     "name": "stdout",
     "output_type": "stream",
     "text": [
      "\n"
     ]
    }
   ],
   "source": [
    "import xml.etree.ElementTree as ET\n",
    "from collections import Counter\n",
    "from collections import defaultdict\n",
    "import nltk\n",
    "from glob import glob\n",
    "from nltk import word_tokenize, sent_tokenize\n",
    "from tqdm import tqdm_notebook as tqdm\n",
    "import pandas as pd\n",
    "from collections import Counter\n",
    "from ast import literal_eval\n",
    "import json\n",
    "from scipy import stats\n",
    "import matplotlib.pyplot as plt\n",
    "import numpy as np\n",
    "\n",
    "tqdm().pandas()"
   ]
  },
  {
   "cell_type": "markdown",
   "metadata": {},
   "source": [
    "To better get a sense of what potential the first NMT baseline model has, I collected sentences which Acrolinx flags as formal from our Microsoft Azure documents. I then put these sentences, tokenized, into a text file for OpenNMT to be able to process and test."
   ]
  },
  {
   "cell_type": "code",
   "execution_count": 6,
   "metadata": {},
   "outputs": [],
   "source": [
    "files = glob('data/Microsoft Results/*.xml')\n",
    "assert len(files) == 9712"
   ]
  },
  {
   "cell_type": "code",
   "execution_count": 92,
   "metadata": {},
   "outputs": [
    {
     "name": "stdout",
     "output_type": "stream",
     "text": [
      "/home/rebekah/Documents/make-it-sound-less-formal\n"
     ]
    }
   ],
   "source": [
    "cd /home/rebekah/Documents/make-it-sound-less-formal"
   ]
  },
  {
   "cell_type": "code",
   "execution_count": 93,
   "metadata": {},
   "outputs": [],
   "source": [
    "def flag_data(files):\n",
    "    # takes list of file names\n",
    "    # extracts flagged sentences\n",
    "    # puts in new pandas dataframe, already tokenized\n",
    "    \n",
    "    guidelines = []\n",
    "    sentences = []\n",
    "    \n",
    "    for idx in tqdm_notebook(range(len(files))):\n",
    "        file = files[idx]\n",
    "        tree = ET.parse(file)\n",
    "        root = tree.getroot()\n",
    "        body = tree.find('body')\n",
    "        results = body.find('results')\n",
    "        voice = results.find('voiceGuidance')\n",
    "        flags = voice.find('listOfVoiceGuidanceFlags')\n",
    "        \n",
    "        for flag in flags:\n",
    "            guideline = flag.get('name')     \n",
    "            if 'conversationalTone' in guideline:\n",
    "                context = flag.find('context').text\n",
    "                if type(context) == str:\n",
    "                    if len(context) > 0:\n",
    "                        sents = sent_tokenize(context)\n",
    "                        for sent in sents:\n",
    "                            sentences.append((' ').join(word_tokenize(sent)))\n",
    "                            guidelines.append(guideline)\n",
    "    \n",
    "    return pd.DataFrame(data={'guideline': guidelines, 'source': sentences})"
   ]
  },
  {
   "cell_type": "code",
   "execution_count": 94,
   "metadata": {},
   "outputs": [
    {
     "data": {
      "application/vnd.jupyter.widget-view+json": {
       "model_id": "3bacac9de7a34800ba9f8a9fdc574795"
      }
     },
     "metadata": {},
     "output_type": "display_data"
    }
   ],
   "source": [
    "ms_df = flag_data(files)"
   ]
  },
  {
   "cell_type": "code",
   "execution_count": 95,
   "metadata": {},
   "outputs": [
    {
     "data": {
      "text/plain": [
       "'If you want to log to a different destination than a Log Analytics workspace , use the appropriate parameters for an Azure Storage account or Event Hub .'"
      ]
     },
     "execution_count": 95,
     "metadata": {},
     "output_type": "execute_result"
    }
   ],
   "source": [
    "ms_df.iloc[1860]['source']"
   ]
  },
  {
   "cell_type": "code",
   "execution_count": 96,
   "metadata": {},
   "outputs": [],
   "source": [
    "ms_df.to_pickle('data/microsoft_df.pkl')"
   ]
  },
  {
   "cell_type": "code",
   "execution_count": 97,
   "metadata": {},
   "outputs": [],
   "source": [
    "def series_to_txt(series, filename):\n",
    "    with open(filename, 'w', encoding='utf-8') as f:\n",
    "        for item in series:\n",
    "            f.write(item + '\\n')\n",
    "            \n",
    "series_to_txt(ms_df['source'], 'data/microsoft_df.txt')"
   ]
  },
  {
   "cell_type": "raw",
   "metadata": {},
   "source": [
    "SENT 509: ['sudo', 'firewall-cmd', '--', 'zone=public', '--', 'add-port=40302/tcp', 'sudo', 'firewall-cmd', '--', 'zone=public', '--', 'add-port=40301/tcp', '--', 'permanent', 'sudo', 'firewall-cmd', '--', 'zone=public', '--', 'add-port=40301/tcp', 'sudo', 'firewall-cmd', '--', 'zone=public', '--', 'add-port=40307/tcp', '--', 'permanent', 'sudo', 'firewall-cmd', '--', 'zone=public', '--', 'add-port=40307/tcp', 'sudo', 'firewall-cmd', '--', 'zone=public', '--', 'add-port=40303/tcp', '--', 'permanent', 'sudo', 'firewall-cmd', '--', 'zone=public', '--', 'add-port=40303/tcp', 'sudo', 'firewall-cmd', '--', 'zone=public', '--', 'add-port=40340/tcp', '--', 'permanent', 'sudo', 'firewall-cmd', '--', 'zone=public', '--', 'add-port=40340/tcp', 'sudo', 'firewall-cmd', '--', 'zone=public', '--', 'add-port=30340/tcp', '--', 'permanent', 'sudo', 'firewall-cmd', '--', 'zone=public', '--', 'add-port=30340/tcp', 'sudo', 'firewall-cmd', '--', 'zone=public', '--', 'add-port=30341/tcp', '--', 'permanent', 'sudo', 'firewall-cmd', '--', 'zone=public', '--', 'add-port=30341/tcp', 'sudo', 'firewall-cmd', '--', 'zone=public', '--', 'add-port=30342/tcp', '--', 'permanent', 'sudo', 'firewall-cmd', '--', 'zone=public', '--', 'add-port=30342/tcp']\n",
    "\n",
    "PRED 509: Christy senthil ... indy ... tatum Bullshit ... Bullshit ... Bullshit ... Bullshit ... Bullshit ... Bullshit ... Bullshit ... Bullshit ... Bullshit ... Bullshit ... Bullshit ... Bullshit ...\n"
   ]
  },
  {
   "cell_type": "markdown",
   "metadata": {},
   "source": [
    "# check vocabulary vs. difficult word list from previously"
   ]
  },
  {
   "cell_type": "code",
   "execution_count": 36,
   "metadata": {},
   "outputs": [
    {
     "name": "stdout",
     "output_type": "stream",
     "text": [
      "/home/rebekah/Documents/past tasks/2019-01 word embeddings\n"
     ]
    }
   ],
   "source": [
    "% cd /home/rebekah/Documents/past\\ tasks/2019-01\\ word\\ embeddings"
   ]
  },
  {
   "cell_type": "code",
   "execution_count": 37,
   "metadata": {},
   "outputs": [],
   "source": [
    "ms_words = pd.read_excel('words_actual_final.xls')"
   ]
  },
  {
   "cell_type": "code",
   "execution_count": 38,
   "metadata": {},
   "outputs": [
    {
     "data": {
      "text/html": [
       "<div>\n",
       "<style scoped>\n",
       "    .dataframe tbody tr th:only-of-type {\n",
       "        vertical-align: middle;\n",
       "    }\n",
       "\n",
       "    .dataframe tbody tr th {\n",
       "        vertical-align: top;\n",
       "    }\n",
       "\n",
       "    .dataframe thead th {\n",
       "        text-align: right;\n",
       "    }\n",
       "</style>\n",
       "<table border=\"1\" class=\"dataframe\">\n",
       "  <thead>\n",
       "    <tr style=\"text-align: right;\">\n",
       "      <th></th>\n",
       "      <th>Unnamed: 0</th>\n",
       "      <th>words</th>\n",
       "      <th>3vote</th>\n",
       "    </tr>\n",
       "  </thead>\n",
       "  <tbody>\n",
       "    <tr>\n",
       "      <th>0</th>\n",
       "      <td>0</td>\n",
       "      <td>pervasive</td>\n",
       "      <td>['prevalent', 'widespread']</td>\n",
       "    </tr>\n",
       "    <tr>\n",
       "      <th>1</th>\n",
       "      <td>1</td>\n",
       "      <td>intriguing</td>\n",
       "      <td>['interesting']</td>\n",
       "    </tr>\n",
       "    <tr>\n",
       "      <th>2</th>\n",
       "      <td>3</td>\n",
       "      <td>shutterbugs</td>\n",
       "      <td>['photographers']</td>\n",
       "    </tr>\n",
       "    <tr>\n",
       "      <th>3</th>\n",
       "      <td>4</td>\n",
       "      <td>caress</td>\n",
       "      <td>['kiss']</td>\n",
       "    </tr>\n",
       "    <tr>\n",
       "      <th>4</th>\n",
       "      <td>5</td>\n",
       "      <td>upbraided</td>\n",
       "      <td>['scolded']</td>\n",
       "    </tr>\n",
       "  </tbody>\n",
       "</table>\n",
       "</div>"
      ],
      "text/plain": [
       "   Unnamed: 0        words                        3vote\n",
       "0           0    pervasive  ['prevalent', 'widespread']\n",
       "1           1   intriguing              ['interesting']\n",
       "2           3  shutterbugs            ['photographers']\n",
       "3           4       caress                     ['kiss']\n",
       "4           5    upbraided                  ['scolded']"
      ]
     },
     "execution_count": 38,
     "metadata": {},
     "output_type": "execute_result"
    }
   ],
   "source": [
    "ms_words.head()"
   ]
  },
  {
   "cell_type": "code",
   "execution_count": 39,
   "metadata": {},
   "outputs": [
    {
     "name": "stdout",
     "output_type": "stream",
     "text": [
      "/home/rebekah/Documents/make-it-sound-less-formal\n"
     ]
    }
   ],
   "source": [
    "% cd /home/rebekah/Documents/make-it-sound-less-formal\n",
    "\n",
    "diff_words = list(ms_words['words'])\n",
    "\n",
    "with open('data/diff_words.txt', 'w') as f:\n",
    "    for word in diff_words:\n",
    "        f.write(word + '\\n')"
   ]
  },
  {
   "cell_type": "code",
   "execution_count": 40,
   "metadata": {},
   "outputs": [],
   "source": [
    "diff_words = list(ms_words['words'])\n",
    "simp_words_lists = list(ms_words['3vote'])\n",
    "simp_words = []\n",
    "for item in simp_words_lists:\n",
    "    item = literal_eval(item)\n",
    "    for word in item:\n",
    "        simp_words.append(word)\n",
    "sentences = list(ms_df['source'])"
   ]
  },
  {
   "cell_type": "code",
   "execution_count": 41,
   "metadata": {},
   "outputs": [
    {
     "data": {
      "application/vnd.jupyter.widget-view+json": {
       "model_id": "fb83c029d2ae4dbdb4f9fdb261b79369"
      }
     },
     "metadata": {},
     "output_type": "display_data"
    },
    {
     "name": "stdout",
     "output_type": "stream",
     "text": [
      "\n",
      "4714725\n"
     ]
    }
   ],
   "source": [
    "n = 0\n",
    "\n",
    "for i in tqdm_notebook(range(len(sentences))):\n",
    "    n += len(sentences[i].split())\n",
    "    \n",
    "print(n)"
   ]
  },
  {
   "cell_type": "code",
   "execution_count": 42,
   "metadata": {},
   "outputs": [
    {
     "data": {
      "application/vnd.jupyter.widget-view+json": {
       "model_id": "6e6c802a8205462988d450d398aa449a"
      }
     },
     "metadata": {},
     "output_type": "display_data"
    },
    {
     "name": "stdout",
     "output_type": "stream",
     "text": [
      "\n",
      "47257\n"
     ]
    }
   ],
   "source": [
    "ms_vocab = Counter()\n",
    "\n",
    "for i in tqdm_notebook(range(len(sentences))):\n",
    "    ms_vocab.update(sentences[i].split())\n",
    "\n",
    "print(len(ms_vocab))"
   ]
  },
  {
   "cell_type": "code",
   "execution_count": 81,
   "metadata": {},
   "outputs": [
    {
     "name": "stdout",
     "output_type": "stream",
     "text": [
      "Number of difficult words: 3791\n",
      "Unique difficult words which appear in corpus: 585\n",
      "Occurrences of difficult words in corpus: 55338\n"
     ]
    }
   ],
   "source": [
    "print('Number of difficult words: ' + str(len(diff_words)))\n",
    "times = 0\n",
    "counts = 0\n",
    "for word in diff_words:\n",
    "    if word in ms_vocab:\n",
    "        times += 1\n",
    "        counts += ms_vocab[word]\n",
    "print('Unique difficult words which appear in corpus: ' + str(times))\n",
    "print('Occurrences of difficult words in corpus: ' + str(counts))"
   ]
  },
  {
   "cell_type": "code",
   "execution_count": 82,
   "metadata": {},
   "outputs": [
    {
     "name": "stdout",
     "output_type": "stream",
     "text": [
      "Number of simpler words: 4132\n",
      "Unique simpler words which appear in corpus: 1709\n",
      "Occurrences of simpler words in corpus: 446287\n"
     ]
    }
   ],
   "source": [
    "print('Number of simpler words: ' + str(len(simp_words)))\n",
    "times = 0\n",
    "counts = 0\n",
    "for word in simp_words:\n",
    "    if word in ms_vocab:\n",
    "        times += 1\n",
    "        counts += ms_vocab[word]\n",
    "print('Unique simpler words which appear in corpus: ' + str(times))\n",
    "print('Occurrences of simpler words in corpus: ' + str(counts))"
   ]
  },
  {
   "cell_type": "markdown",
   "metadata": {},
   "source": [
    "# results"
   ]
  },
  {
   "cell_type": "code",
   "execution_count": 4,
   "metadata": {},
   "outputs": [
    {
     "data": {
      "text/html": [
       "<div>\n",
       "<style scoped>\n",
       "    .dataframe tbody tr th:only-of-type {\n",
       "        vertical-align: middle;\n",
       "    }\n",
       "\n",
       "    .dataframe tbody tr th {\n",
       "        vertical-align: top;\n",
       "    }\n",
       "\n",
       "    .dataframe thead th {\n",
       "        text-align: right;\n",
       "    }\n",
       "</style>\n",
       "<table border=\"1\" class=\"dataframe\">\n",
       "  <thead>\n",
       "    <tr style=\"text-align: right;\">\n",
       "      <th></th>\n",
       "      <th>guideline</th>\n",
       "      <th>source</th>\n",
       "    </tr>\n",
       "  </thead>\n",
       "  <tbody>\n",
       "    <tr>\n",
       "      <th>0</th>\n",
       "      <td>guideline_conversationalTone_lexical</td>\n",
       "      <td>code-csharpTop-level declarations ]</td>\n",
       "    </tr>\n",
       "    <tr>\n",
       "      <th>1</th>\n",
       "      <td>guideline_conversationalTone_general</td>\n",
       "      <td>You can set up alerts to trigger an alert when...</td>\n",
       "    </tr>\n",
       "    <tr>\n",
       "      <th>2</th>\n",
       "      <td>guideline_conversationalTone_general</td>\n",
       "      <td>For example , you might set up an alert for a ...</td>\n",
       "    </tr>\n",
       "    <tr>\n",
       "      <th>3</th>\n",
       "      <td>guideline_conversationalTone_lexical</td>\n",
       "      <td>Azure IoT Hub provides the features and an ext...</td>\n",
       "    </tr>\n",
       "    <tr>\n",
       "      <th>4</th>\n",
       "      <td>guideline_conversationalTone_lexical</td>\n",
       "      <td>Devices range from constrained sensors and sin...</td>\n",
       "    </tr>\n",
       "  </tbody>\n",
       "</table>\n",
       "</div>"
      ],
      "text/plain": [
       "                              guideline  \\\n",
       "0  guideline_conversationalTone_lexical   \n",
       "1  guideline_conversationalTone_general   \n",
       "2  guideline_conversationalTone_general   \n",
       "3  guideline_conversationalTone_lexical   \n",
       "4  guideline_conversationalTone_lexical   \n",
       "\n",
       "                                              source  \n",
       "0                code-csharpTop-level declarations ]  \n",
       "1  You can set up alerts to trigger an alert when...  \n",
       "2  For example , you might set up an alert for a ...  \n",
       "3  Azure IoT Hub provides the features and an ext...  \n",
       "4  Devices range from constrained sensors and sin...  "
      ]
     },
     "execution_count": 4,
     "metadata": {},
     "output_type": "execute_result"
    }
   ],
   "source": [
    "ms_df = pd.read_pickle('data/microsoft_df.pkl')\n",
    "ms_df.head()"
   ]
  },
  {
   "cell_type": "code",
   "execution_count": 7,
   "metadata": {},
   "outputs": [],
   "source": [
    "ms_pred_path = open('data/microsoft_df_pred.txt')\n",
    "ms_pred = [line.rstrip() for line in ms_pred_path.readlines()]\n",
    "del ms_pred_path"
   ]
  },
  {
   "cell_type": "code",
   "execution_count": 9,
   "metadata": {},
   "outputs": [
    {
     "data": {
      "text/html": [
       "<div>\n",
       "<style scoped>\n",
       "    .dataframe tbody tr th:only-of-type {\n",
       "        vertical-align: middle;\n",
       "    }\n",
       "\n",
       "    .dataframe tbody tr th {\n",
       "        vertical-align: top;\n",
       "    }\n",
       "\n",
       "    .dataframe thead th {\n",
       "        text-align: right;\n",
       "    }\n",
       "</style>\n",
       "<table border=\"1\" class=\"dataframe\">\n",
       "  <thead>\n",
       "    <tr style=\"text-align: right;\">\n",
       "      <th></th>\n",
       "      <th>guideline</th>\n",
       "      <th>source</th>\n",
       "      <th>target</th>\n",
       "    </tr>\n",
       "  </thead>\n",
       "  <tbody>\n",
       "    <tr>\n",
       "      <th>0</th>\n",
       "      <td>guideline_conversationalTone_lexical</td>\n",
       "      <td>code-csharpTop-level declarations ]</td>\n",
       "      <td>Putin Hamm - you 'll know .</td>\n",
       "    </tr>\n",
       "    <tr>\n",
       "      <th>1</th>\n",
       "      <td>guideline_conversationalTone_general</td>\n",
       "      <td>You can set up alerts to trigger an alert when...</td>\n",
       "      <td>You can always put a little busy to lighten a ...</td>\n",
       "    </tr>\n",
       "    <tr>\n",
       "      <th>2</th>\n",
       "      <td>guideline_conversationalTone_general</td>\n",
       "      <td>For example , you might set up an alert for a ...</td>\n",
       "      <td>For example , you might set up a matter of a s...</td>\n",
       "    </tr>\n",
       "    <tr>\n",
       "      <th>3</th>\n",
       "      <td>guideline_conversationalTone_lexical</td>\n",
       "      <td>Azure IoT Hub provides the features and an ext...</td>\n",
       "      <td>Drown shui ( I 've got that ! )</td>\n",
       "    </tr>\n",
       "    <tr>\n",
       "      <th>4</th>\n",
       "      <td>guideline_conversationalTone_lexical</td>\n",
       "      <td>Devices range from constrained sensors and sin...</td>\n",
       "      <td>Christy senthil , she 's single , but he is th...</td>\n",
       "    </tr>\n",
       "  </tbody>\n",
       "</table>\n",
       "</div>"
      ],
      "text/plain": [
       "                              guideline  \\\n",
       "0  guideline_conversationalTone_lexical   \n",
       "1  guideline_conversationalTone_general   \n",
       "2  guideline_conversationalTone_general   \n",
       "3  guideline_conversationalTone_lexical   \n",
       "4  guideline_conversationalTone_lexical   \n",
       "\n",
       "                                              source  \\\n",
       "0                code-csharpTop-level declarations ]   \n",
       "1  You can set up alerts to trigger an alert when...   \n",
       "2  For example , you might set up an alert for a ...   \n",
       "3  Azure IoT Hub provides the features and an ext...   \n",
       "4  Devices range from constrained sensors and sin...   \n",
       "\n",
       "                                              target  \n",
       "0                        Putin Hamm - you 'll know .  \n",
       "1  You can always put a little busy to lighten a ...  \n",
       "2  For example , you might set up a matter of a s...  \n",
       "3                    Drown shui ( I 've got that ! )  \n",
       "4  Christy senthil , she 's single , but he is th...  "
      ]
     },
     "execution_count": 9,
     "metadata": {},
     "output_type": "execute_result"
    }
   ],
   "source": [
    "ms_df['target'] = ms_pred\n",
    "ms_df.head()"
   ]
  },
  {
   "cell_type": "code",
   "execution_count": 3,
   "metadata": {},
   "outputs": [],
   "source": [
    "#ms_df.to_pickle('data/microsoft_df.pkl')\n",
    "ms_df = pd.read_pickle('data/microsoft_df.pkl')"
   ]
  },
  {
   "cell_type": "code",
   "execution_count": 10,
   "metadata": {},
   "outputs": [
    {
     "name": "stdout",
     "output_type": "stream",
     "text": [
      "Source:\t\tThis private IP address serves as an internal endpoint , accessible only to the resources within its virtual network and the remote networks connected to the virtual network .\n",
      "Target:\t\tIt is the internal postal ... if you want the connections , the remote network the virtual network connection ...\n",
      "\n",
      "Source:\t\tFor example , ffmpeg is a popular application that processes audio and video files .\n",
      "Target:\t\tLike , rhianna is a popular site that has to do that and video files .\n",
      "\n",
      "Source:\t\tLearn how to create a virtual network peering in other scenarios by clicking the scenario from the following table :\n",
      "Target:\t\tThen learn how to create a virtual network .\n",
      "\n",
      "Source:\t\tThis quickstart demonstrates how to use the Query editor to connect to a SQL database , and then use Transact-SQL statements to query , insert , update , and delete data in the database .\n",
      "Target:\t\tHey , this begs , how to use the answering and the hook up and get bk and ask .\n",
      "\n",
      "Source:\t\tDelete the preconfigured solution from your Azure account when you have finished using it .\n",
      "Target:\t\tIf you have done with it then you 'll have done that .\n",
      "\n"
     ]
    }
   ],
   "source": [
    "general = ms_df['guideline'] == \"guideline_conversationalTone_general\"\n",
    "\n",
    "for idx, row in ms_df[general].sample(5).iterrows():\n",
    "    #print('Guideline:\\t' + row['guideline'])\n",
    "    print('Source:\\t\\t' + row['source'])\n",
    "    print('Target:\\t\\t' + row['target'])\n",
    "    print()"
   ]
  },
  {
   "cell_type": "code",
   "execution_count": 11,
   "metadata": {
    "scrolled": true
   },
   "outputs": [
    {
     "data": {
      "text/html": [
       "<div>\n",
       "<style scoped>\n",
       "    .dataframe tbody tr th:only-of-type {\n",
       "        vertical-align: middle;\n",
       "    }\n",
       "\n",
       "    .dataframe tbody tr th {\n",
       "        vertical-align: top;\n",
       "    }\n",
       "\n",
       "    .dataframe thead th {\n",
       "        text-align: right;\n",
       "    }\n",
       "</style>\n",
       "<table border=\"1\" class=\"dataframe\">\n",
       "  <thead>\n",
       "    <tr style=\"text-align: right;\">\n",
       "      <th></th>\n",
       "      <th>guideline</th>\n",
       "      <th>source</th>\n",
       "      <th>target</th>\n",
       "    </tr>\n",
       "  </thead>\n",
       "  <tbody>\n",
       "    <tr>\n",
       "      <th>1</th>\n",
       "      <td>guideline_conversationalTone_general</td>\n",
       "      <td>You can set up alerts to trigger an alert when...</td>\n",
       "      <td>You can always put a little busy to lighten a ...</td>\n",
       "    </tr>\n",
       "    <tr>\n",
       "      <th>2</th>\n",
       "      <td>guideline_conversationalTone_general</td>\n",
       "      <td>For example , you might set up an alert for a ...</td>\n",
       "      <td>For example , you might set up a matter of a s...</td>\n",
       "    </tr>\n",
       "    <tr>\n",
       "      <th>23</th>\n",
       "      <td>guideline_conversationalTone_general</td>\n",
       "      <td>Azure IoT Hub provides the features and an ext...</td>\n",
       "      <td>Drown shui ( I 've got that ! )</td>\n",
       "    </tr>\n",
       "    <tr>\n",
       "      <th>24</th>\n",
       "      <td>guideline_conversationalTone_general</td>\n",
       "      <td>Devices range from constrained sensors and sin...</td>\n",
       "      <td>Christy senthil , she 's single , but he is th...</td>\n",
       "    </tr>\n",
       "    <tr>\n",
       "      <th>25</th>\n",
       "      <td>guideline_conversationalTone_general</td>\n",
       "      <td>In addition , the use cases and requirements f...</td>\n",
       "      <td>And the use cases and the for for : the one fo...</td>\n",
       "    </tr>\n",
       "    <tr>\n",
       "      <th>26</th>\n",
       "      <td>guideline_conversationalTone_general</td>\n",
       "      <td>Despite this variation , device management wit...</td>\n",
       "      <td>Not sagging , but , that 's the way it is , bu...</td>\n",
       "    </tr>\n",
       "    <tr>\n",
       "      <th>49</th>\n",
       "      <td>guideline_conversationalTone_general</td>\n",
       "      <td>Most of the technical content that 's currentl...</td>\n",
       "      <td>I think that most of the stuff that is up with...</td>\n",
       "    </tr>\n",
       "    <tr>\n",
       "      <th>50</th>\n",
       "      <td>guideline_conversationalTone_general</td>\n",
       "      <td>It ’ s important for you to ensure that develo...</td>\n",
       "      <td>I do n't know what you mean about that .</td>\n",
       "    </tr>\n",
       "    <tr>\n",
       "      <th>124</th>\n",
       "      <td>guideline_conversationalTone_general</td>\n",
       "      <td>For a single Azure SQL database at a specific ...</td>\n",
       "      <td>I think that is a pretty good thing for you , ...</td>\n",
       "    </tr>\n",
       "    <tr>\n",
       "      <th>125</th>\n",
       "      <td>guideline_conversationalTone_general</td>\n",
       "      <td>The amount of resources is calculated as a num...</td>\n",
       "      <td>You plum is the number of Database ( s ) , The...</td>\n",
       "    </tr>\n",
       "    <tr>\n",
       "      <th>126</th>\n",
       "      <td>guideline_conversationalTone_general</td>\n",
       "      <td>The ratio amongst these resources was original...</td>\n",
       "      <td>Well the ratio were the one that was the one t...</td>\n",
       "    </tr>\n",
       "    <tr>\n",
       "      <th>127</th>\n",
       "      <td>guideline_conversationalTone_general</td>\n",
       "      <td>When your workload exceeds the amount of any o...</td>\n",
       "      <td>You ca n't look at how much you look at how mu...</td>\n",
       "    </tr>\n",
       "    <tr>\n",
       "      <th>128</th>\n",
       "      <td>guideline_conversationalTone_general</td>\n",
       "      <td>The resources used by your workload do not imp...</td>\n",
       "      <td>You can try to deal with that , you know what ...</td>\n",
       "    </tr>\n",
       "    <tr>\n",
       "      <th>177</th>\n",
       "      <td>guideline_conversationalTone_general</td>\n",
       "      <td>This quickstart shows how to deploy your first...</td>\n",
       "      <td>Well , this begs , how to get your first java ...</td>\n",
       "    </tr>\n",
       "    <tr>\n",
       "      <th>178</th>\n",
       "      <td>guideline_conversationalTone_general</td>\n",
       "      <td>When you 're finished , you have a voting appl...</td>\n",
       "      <td>If you 're done , you have a vote for a java w...</td>\n",
       "    </tr>\n",
       "    <tr>\n",
       "      <th>179</th>\n",
       "      <td>guideline_conversationalTone_general</td>\n",
       "      <td>The startup of the local cluster takes some ti...</td>\n",
       "      <td>The Metamorphosis of the laws , the Frat takes...</td>\n",
       "    </tr>\n",
       "    <tr>\n",
       "      <th>180</th>\n",
       "      <td>guideline_conversationalTone_general</td>\n",
       "      <td>To confirm that the cluster is fully up , acce...</td>\n",
       "      <td>Well to confirm that the Wang is all up , the ...</td>\n",
       "    </tr>\n",
       "    <tr>\n",
       "      <th>181</th>\n",
       "      <td>guideline_conversationalTone_general</td>\n",
       "      <td>The five healthy nodes indicate the local clus...</td>\n",
       "      <td>The 5 healthy duckie , The Bluethings is up an...</td>\n",
       "    </tr>\n",
       "    <tr>\n",
       "      <th>182</th>\n",
       "      <td>guideline_conversationalTone_general</td>\n",
       "      <td>Party clusters are free , limited-time Service...</td>\n",
       "      <td>I dunno , but I dunno I dunno , but I dunno I ...</td>\n",
       "    </tr>\n",
       "    <tr>\n",
       "      <th>183</th>\n",
       "      <td>guideline_conversationalTone_general</td>\n",
       "      <td>You can use party clusters to deploy applicati...</td>\n",
       "      <td>You can use a lot of lesbos to get pretty heav...</td>\n",
       "    </tr>\n",
       "    <tr>\n",
       "      <th>184</th>\n",
       "      <td>guideline_conversationalTone_general</td>\n",
       "      <td>The cluster uses a single , self-signed certif...</td>\n",
       "      <td>The Metamorphosis uses a single , Noddy certif...</td>\n",
       "    </tr>\n",
       "    <tr>\n",
       "      <th>185</th>\n",
       "      <td>guideline_conversationalTone_general</td>\n",
       "      <td>Through this simple management task , you 've ...</td>\n",
       "      <td>If you like the postal service you gon ' have ...</td>\n",
       "    </tr>\n",
       "    <tr>\n",
       "      <th>186</th>\n",
       "      <td>guideline_conversationalTone_general</td>\n",
       "      <td>It 's important to understand that you do n't ...</td>\n",
       "      <td>You need to understand that you do n't need a ...</td>\n",
       "    </tr>\n",
       "    <tr>\n",
       "      <th>187</th>\n",
       "      <td>guideline_conversationalTone_general</td>\n",
       "      <td>If a service fails , Service Fabric makes sure...</td>\n",
       "      <td>If a service fails , System of a new service l...</td>\n",
       "    </tr>\n",
       "    <tr>\n",
       "      <th>195</th>\n",
       "      <td>guideline_conversationalTone_general</td>\n",
       "      <td>Advisor will review your virtual machine usage...</td>\n",
       "      <td>Garrett will read your virtual machine usage o...</td>\n",
       "    </tr>\n",
       "    <tr>\n",
       "      <th>196</th>\n",
       "      <td>guideline_conversationalTone_general</td>\n",
       "      <td>Advisor will show you the regions and sizes wh...</td>\n",
       "      <td>RP will show you the music/bands and all the w...</td>\n",
       "    </tr>\n",
       "    <tr>\n",
       "      <th>222</th>\n",
       "      <td>guideline_conversationalTone_general</td>\n",
       "      <td>The Service Fabric Cluster Resource Manager 's...</td>\n",
       "      <td>Christy , misli , misli , misli , kak get the ...</td>\n",
       "    </tr>\n",
       "    <tr>\n",
       "      <th>223</th>\n",
       "      <td>guideline_conversationalTone_general</td>\n",
       "      <td>Ensuring that nodes are evenly utilized avoids...</td>\n",
       "      <td>Christy , I dunno , but I really do n't know h...</td>\n",
       "    </tr>\n",
       "    <tr>\n",
       "      <th>224</th>\n",
       "      <td>guideline_conversationalTone_general</td>\n",
       "      <td>Distributing workloads in the cluster is also ...</td>\n",
       "      <td>Well , if you know , he is the ugliest , he is...</td>\n",
       "    </tr>\n",
       "    <tr>\n",
       "      <th>225</th>\n",
       "      <td>guideline_conversationalTone_general</td>\n",
       "      <td>Distributing load in the cluster consumes some...</td>\n",
       "      <td>A\u0001hh , loaded , and some of the resources ,</td>\n",
       "    </tr>\n",
       "    <tr>\n",
       "      <th>...</th>\n",
       "      <td>...</td>\n",
       "      <td>...</td>\n",
       "      <td>...</td>\n",
       "    </tr>\n",
       "    <tr>\n",
       "      <th>243512</th>\n",
       "      <td>guideline_conversationalTone_general</td>\n",
       "      <td>The tutorials also illustrate how to combine I...</td>\n",
       "      <td>There 's tutorials also how to spice up with t...</td>\n",
       "    </tr>\n",
       "    <tr>\n",
       "      <th>243513</th>\n",
       "      <td>guideline_conversationalTone_general</td>\n",
       "      <td>The tutorials listed in the following table sh...</td>\n",
       "      <td>What you should do with all that junk , you kn...</td>\n",
       "    </tr>\n",
       "    <tr>\n",
       "      <th>243514</th>\n",
       "      <td>guideline_conversationalTone_general</td>\n",
       "      <td>To protect privileged accounts from malicious ...</td>\n",
       "      <td>No offense , but I dunno if you really want to...</td>\n",
       "    </tr>\n",
       "    <tr>\n",
       "      <th>243515</th>\n",
       "      <td>guideline_conversationalTone_general</td>\n",
       "      <td>PIM does this by limiting users to only taking...</td>\n",
       "      <td>Wang ( if you do it ) , only taking on their h...</td>\n",
       "    </tr>\n",
       "    <tr>\n",
       "      <th>243565</th>\n",
       "      <td>guideline_conversationalTone_general</td>\n",
       "      <td>To design scalable and performant tables , you...</td>\n",
       "      <td>If you want to design , it 's really good , , ...</td>\n",
       "    </tr>\n",
       "    <tr>\n",
       "      <th>243566</th>\n",
       "      <td>guideline_conversationalTone_general</td>\n",
       "      <td>If you have previously designed schemas for re...</td>\n",
       "      <td>If you really want to , I mean , I mean , I me...</td>\n",
       "    </tr>\n",
       "    <tr>\n",
       "      <th>243567</th>\n",
       "      <td>guideline_conversationalTone_general</td>\n",
       "      <td>These differences typically lead to different ...</td>\n",
       "      <td>Same differences usually lead to different art...</td>\n",
       "    </tr>\n",
       "    <tr>\n",
       "      <th>243568</th>\n",
       "      <td>guideline_conversationalTone_general</td>\n",
       "      <td>Many of your design differences reflect the fa...</td>\n",
       "      <td>There 's a lot of different differences that t...</td>\n",
       "    </tr>\n",
       "    <tr>\n",
       "      <th>243569</th>\n",
       "      <td>guideline_conversationalTone_general</td>\n",
       "      <td>Therefore , you must think differently about h...</td>\n",
       "      <td>So you have to think different about how you s...</td>\n",
       "    </tr>\n",
       "    <tr>\n",
       "      <th>243570</th>\n",
       "      <td>guideline_conversationalTone_general</td>\n",
       "      <td>A well-designed NoSQL data store can enable yo...</td>\n",
       "      <td>Nonpoint senthil data store can make it up a l...</td>\n",
       "    </tr>\n",
       "    <tr>\n",
       "      <th>243571</th>\n",
       "      <td>guideline_conversationalTone_general</td>\n",
       "      <td>This guide helps you with these topics .</td>\n",
       "      <td>This guide helps you with these .</td>\n",
       "    </tr>\n",
       "    <tr>\n",
       "      <th>243572</th>\n",
       "      <td>guideline_conversationalTone_general</td>\n",
       "      <td>This section highlights some of the key featur...</td>\n",
       "      <td>It is a pretty good section of the books that ...</td>\n",
       "    </tr>\n",
       "    <tr>\n",
       "      <th>243573</th>\n",
       "      <td>guideline_conversationalTone_general</td>\n",
       "      <td>If you 're new to Azure Storage and the Table ...</td>\n",
       "      <td>If your new to I think ... he 's the Godfather...</td>\n",
       "    </tr>\n",
       "    <tr>\n",
       "      <th>243574</th>\n",
       "      <td>guideline_conversationalTone_general</td>\n",
       "      <td>Although the focus of this guide is on the Tab...</td>\n",
       "      <td>I think its on the forum ... it is all about t...</td>\n",
       "    </tr>\n",
       "    <tr>\n",
       "      <th>243575</th>\n",
       "      <td>guideline_conversationalTone_general</td>\n",
       "      <td>So far , this data appears similar to a table ...</td>\n",
       "      <td>So far it seems like a table in a cemetary ( t...</td>\n",
       "    </tr>\n",
       "    <tr>\n",
       "      <th>243576</th>\n",
       "      <td>guideline_conversationalTone_general</td>\n",
       "      <td>Also , each of the user-defined properties suc...</td>\n",
       "      <td>Also each of the ARP tia up like Yanni or age ...</td>\n",
       "    </tr>\n",
       "    <tr>\n",
       "      <th>243577</th>\n",
       "      <td>guideline_conversationalTone_general</td>\n",
       "      <td>Although unlike in a relational database , the...</td>\n",
       "      <td>There is a very good thing , but that 's demea...</td>\n",
       "    </tr>\n",
       "    <tr>\n",
       "      <th>243578</th>\n",
       "      <td>guideline_conversationalTone_general</td>\n",
       "      <td>To store complex data types in a single proper...</td>\n",
       "      <td>If you want to go to store complex you got to ...</td>\n",
       "    </tr>\n",
       "    <tr>\n",
       "      <th>243579</th>\n",
       "      <td>guideline_conversationalTone_general</td>\n",
       "      <td>For more information about the table service s...</td>\n",
       "      <td>For more info , like if you 're a table servic...</td>\n",
       "    </tr>\n",
       "    <tr>\n",
       "      <th>243580</th>\n",
       "      <td>guideline_conversationalTone_general</td>\n",
       "      <td>In the Table service , an individual node serv...</td>\n",
       "      <td>The guy , you know , they , they do n't want t...</td>\n",
       "    </tr>\n",
       "    <tr>\n",
       "      <th>243581</th>\n",
       "      <td>guideline_conversationalTone_general</td>\n",
       "      <td>If a node is under load , the table service ca...</td>\n",
       "      <td>Well , if a hicky is in load , the maintenance...</td>\n",
       "    </tr>\n",
       "    <tr>\n",
       "      <th>243582</th>\n",
       "      <td>guideline_conversationalTone_general</td>\n",
       "      <td>In the Table service , Entity Group Transactio...</td>\n",
       "      <td>Neeli Puccini ( GAG ) , Reggae ( 603 )</td>\n",
       "    </tr>\n",
       "    <tr>\n",
       "      <th>243583</th>\n",
       "      <td>guideline_conversationalTone_general</td>\n",
       "      <td>EGTs are sometimes also referred to as batch t...</td>\n",
       "      <td>Garrett senthil , but I do n't know .</td>\n",
       "    </tr>\n",
       "    <tr>\n",
       "      <th>243584</th>\n",
       "      <td>guideline_conversationalTone_general</td>\n",
       "      <td>EGTs can only operate on entities stored in th...</td>\n",
       "      <td>Wang can only use the same in the same ... ( t...</td>\n",
       "    </tr>\n",
       "    <tr>\n",
       "      <th>243585</th>\n",
       "      <td>guideline_conversationalTone_general</td>\n",
       "      <td>So anytime you require atomic transactional be...</td>\n",
       "      <td>Well just like any of the girls that are in th...</td>\n",
       "    </tr>\n",
       "    <tr>\n",
       "      <th>243586</th>\n",
       "      <td>guideline_conversationalTone_general</td>\n",
       "      <td>This is often a reason for keeping multiple en...</td>\n",
       "      <td>This is a always a reason for the same table (...</td>\n",
       "    </tr>\n",
       "    <tr>\n",
       "      <th>243587</th>\n",
       "      <td>guideline_conversationalTone_general</td>\n",
       "      <td>A single EGT can operate on at most 100 entiti...</td>\n",
       "      <td>If a nice one can play at most 100 ,</td>\n",
       "    </tr>\n",
       "    <tr>\n",
       "      <th>243588</th>\n",
       "      <td>guideline_conversationalTone_general</td>\n",
       "      <td>If you submit multiple concurrent EGTs for pro...</td>\n",
       "      <td>Well , if you submit multiple ejaculations , t...</td>\n",
       "    </tr>\n",
       "    <tr>\n",
       "      <th>243651</th>\n",
       "      <td>guideline_conversationalTone_general</td>\n",
       "      <td>This article describes the various parameters ...</td>\n",
       "      <td>Update : That article - it 's what I pooped .</td>\n",
       "    </tr>\n",
       "    <tr>\n",
       "      <th>243652</th>\n",
       "      <td>guideline_conversationalTone_general</td>\n",
       "      <td>Application upgrade parameters control the tim...</td>\n",
       "      <td>Wang Lia ... and the health 36 &amp; 36 &amp; &amp; # 92 ;...</td>\n",
       "    </tr>\n",
       "  </tbody>\n",
       "</table>\n",
       "<p>35103 rows × 3 columns</p>\n",
       "</div>"
      ],
      "text/plain": [
       "                                   guideline  \\\n",
       "1       guideline_conversationalTone_general   \n",
       "2       guideline_conversationalTone_general   \n",
       "23      guideline_conversationalTone_general   \n",
       "24      guideline_conversationalTone_general   \n",
       "25      guideline_conversationalTone_general   \n",
       "26      guideline_conversationalTone_general   \n",
       "49      guideline_conversationalTone_general   \n",
       "50      guideline_conversationalTone_general   \n",
       "124     guideline_conversationalTone_general   \n",
       "125     guideline_conversationalTone_general   \n",
       "126     guideline_conversationalTone_general   \n",
       "127     guideline_conversationalTone_general   \n",
       "128     guideline_conversationalTone_general   \n",
       "177     guideline_conversationalTone_general   \n",
       "178     guideline_conversationalTone_general   \n",
       "179     guideline_conversationalTone_general   \n",
       "180     guideline_conversationalTone_general   \n",
       "181     guideline_conversationalTone_general   \n",
       "182     guideline_conversationalTone_general   \n",
       "183     guideline_conversationalTone_general   \n",
       "184     guideline_conversationalTone_general   \n",
       "185     guideline_conversationalTone_general   \n",
       "186     guideline_conversationalTone_general   \n",
       "187     guideline_conversationalTone_general   \n",
       "195     guideline_conversationalTone_general   \n",
       "196     guideline_conversationalTone_general   \n",
       "222     guideline_conversationalTone_general   \n",
       "223     guideline_conversationalTone_general   \n",
       "224     guideline_conversationalTone_general   \n",
       "225     guideline_conversationalTone_general   \n",
       "...                                      ...   \n",
       "243512  guideline_conversationalTone_general   \n",
       "243513  guideline_conversationalTone_general   \n",
       "243514  guideline_conversationalTone_general   \n",
       "243515  guideline_conversationalTone_general   \n",
       "243565  guideline_conversationalTone_general   \n",
       "243566  guideline_conversationalTone_general   \n",
       "243567  guideline_conversationalTone_general   \n",
       "243568  guideline_conversationalTone_general   \n",
       "243569  guideline_conversationalTone_general   \n",
       "243570  guideline_conversationalTone_general   \n",
       "243571  guideline_conversationalTone_general   \n",
       "243572  guideline_conversationalTone_general   \n",
       "243573  guideline_conversationalTone_general   \n",
       "243574  guideline_conversationalTone_general   \n",
       "243575  guideline_conversationalTone_general   \n",
       "243576  guideline_conversationalTone_general   \n",
       "243577  guideline_conversationalTone_general   \n",
       "243578  guideline_conversationalTone_general   \n",
       "243579  guideline_conversationalTone_general   \n",
       "243580  guideline_conversationalTone_general   \n",
       "243581  guideline_conversationalTone_general   \n",
       "243582  guideline_conversationalTone_general   \n",
       "243583  guideline_conversationalTone_general   \n",
       "243584  guideline_conversationalTone_general   \n",
       "243585  guideline_conversationalTone_general   \n",
       "243586  guideline_conversationalTone_general   \n",
       "243587  guideline_conversationalTone_general   \n",
       "243588  guideline_conversationalTone_general   \n",
       "243651  guideline_conversationalTone_general   \n",
       "243652  guideline_conversationalTone_general   \n",
       "\n",
       "                                                   source  \\\n",
       "1       You can set up alerts to trigger an alert when...   \n",
       "2       For example , you might set up an alert for a ...   \n",
       "23      Azure IoT Hub provides the features and an ext...   \n",
       "24      Devices range from constrained sensors and sin...   \n",
       "25      In addition , the use cases and requirements f...   \n",
       "26      Despite this variation , device management wit...   \n",
       "49      Most of the technical content that 's currentl...   \n",
       "50      It ’ s important for you to ensure that develo...   \n",
       "124     For a single Azure SQL database at a specific ...   \n",
       "125     The amount of resources is calculated as a num...   \n",
       "126     The ratio amongst these resources was original...   \n",
       "127     When your workload exceeds the amount of any o...   \n",
       "128     The resources used by your workload do not imp...   \n",
       "177     This quickstart shows how to deploy your first...   \n",
       "178     When you 're finished , you have a voting appl...   \n",
       "179     The startup of the local cluster takes some ti...   \n",
       "180     To confirm that the cluster is fully up , acce...   \n",
       "181     The five healthy nodes indicate the local clus...   \n",
       "182     Party clusters are free , limited-time Service...   \n",
       "183     You can use party clusters to deploy applicati...   \n",
       "184     The cluster uses a single , self-signed certif...   \n",
       "185     Through this simple management task , you 've ...   \n",
       "186     It 's important to understand that you do n't ...   \n",
       "187     If a service fails , Service Fabric makes sure...   \n",
       "195     Advisor will review your virtual machine usage...   \n",
       "196     Advisor will show you the regions and sizes wh...   \n",
       "222     The Service Fabric Cluster Resource Manager 's...   \n",
       "223     Ensuring that nodes are evenly utilized avoids...   \n",
       "224     Distributing workloads in the cluster is also ...   \n",
       "225     Distributing load in the cluster consumes some...   \n",
       "...                                                   ...   \n",
       "243512  The tutorials also illustrate how to combine I...   \n",
       "243513  The tutorials listed in the following table sh...   \n",
       "243514  To protect privileged accounts from malicious ...   \n",
       "243515  PIM does this by limiting users to only taking...   \n",
       "243565  To design scalable and performant tables , you...   \n",
       "243566  If you have previously designed schemas for re...   \n",
       "243567  These differences typically lead to different ...   \n",
       "243568  Many of your design differences reflect the fa...   \n",
       "243569  Therefore , you must think differently about h...   \n",
       "243570  A well-designed NoSQL data store can enable yo...   \n",
       "243571           This guide helps you with these topics .   \n",
       "243572  This section highlights some of the key featur...   \n",
       "243573  If you 're new to Azure Storage and the Table ...   \n",
       "243574  Although the focus of this guide is on the Tab...   \n",
       "243575  So far , this data appears similar to a table ...   \n",
       "243576  Also , each of the user-defined properties suc...   \n",
       "243577  Although unlike in a relational database , the...   \n",
       "243578  To store complex data types in a single proper...   \n",
       "243579  For more information about the table service s...   \n",
       "243580  In the Table service , an individual node serv...   \n",
       "243581  If a node is under load , the table service ca...   \n",
       "243582  In the Table service , Entity Group Transactio...   \n",
       "243583  EGTs are sometimes also referred to as batch t...   \n",
       "243584  EGTs can only operate on entities stored in th...   \n",
       "243585  So anytime you require atomic transactional be...   \n",
       "243586  This is often a reason for keeping multiple en...   \n",
       "243587  A single EGT can operate on at most 100 entiti...   \n",
       "243588  If you submit multiple concurrent EGTs for pro...   \n",
       "243651  This article describes the various parameters ...   \n",
       "243652  Application upgrade parameters control the tim...   \n",
       "\n",
       "                                                   target  \n",
       "1       You can always put a little busy to lighten a ...  \n",
       "2       For example , you might set up a matter of a s...  \n",
       "23                        Drown shui ( I 've got that ! )  \n",
       "24      Christy senthil , she 's single , but he is th...  \n",
       "25      And the use cases and the for for : the one fo...  \n",
       "26      Not sagging , but , that 's the way it is , bu...  \n",
       "49      I think that most of the stuff that is up with...  \n",
       "50               I do n't know what you mean about that .  \n",
       "124     I think that is a pretty good thing for you , ...  \n",
       "125     You plum is the number of Database ( s ) , The...  \n",
       "126     Well the ratio were the one that was the one t...  \n",
       "127     You ca n't look at how much you look at how mu...  \n",
       "128     You can try to deal with that , you know what ...  \n",
       "177     Well , this begs , how to get your first java ...  \n",
       "178     If you 're done , you have a vote for a java w...  \n",
       "179     The Metamorphosis of the laws , the Frat takes...  \n",
       "180     Well to confirm that the Wang is all up , the ...  \n",
       "181     The 5 healthy duckie , The Bluethings is up an...  \n",
       "182     I dunno , but I dunno I dunno , but I dunno I ...  \n",
       "183     You can use a lot of lesbos to get pretty heav...  \n",
       "184     The Metamorphosis uses a single , Noddy certif...  \n",
       "185     If you like the postal service you gon ' have ...  \n",
       "186     You need to understand that you do n't need a ...  \n",
       "187     If a service fails , System of a new service l...  \n",
       "195     Garrett will read your virtual machine usage o...  \n",
       "196     RP will show you the music/bands and all the w...  \n",
       "222     Christy , misli , misli , misli , kak get the ...  \n",
       "223     Christy , I dunno , but I really do n't know h...  \n",
       "224     Well , if you know , he is the ugliest , he is...  \n",
       "225           A\u0001hh , loaded , and some of the resources ,  \n",
       "...                                                   ...  \n",
       "243512  There 's tutorials also how to spice up with t...  \n",
       "243513  What you should do with all that junk , you kn...  \n",
       "243514  No offense , but I dunno if you really want to...  \n",
       "243515  Wang ( if you do it ) , only taking on their h...  \n",
       "243565  If you want to design , it 's really good , , ...  \n",
       "243566  If you really want to , I mean , I mean , I me...  \n",
       "243567  Same differences usually lead to different art...  \n",
       "243568  There 's a lot of different differences that t...  \n",
       "243569  So you have to think different about how you s...  \n",
       "243570  Nonpoint senthil data store can make it up a l...  \n",
       "243571                  This guide helps you with these .  \n",
       "243572  It is a pretty good section of the books that ...  \n",
       "243573  If your new to I think ... he 's the Godfather...  \n",
       "243574  I think its on the forum ... it is all about t...  \n",
       "243575  So far it seems like a table in a cemetary ( t...  \n",
       "243576  Also each of the ARP tia up like Yanni or age ...  \n",
       "243577  There is a very good thing , but that 's demea...  \n",
       "243578  If you want to go to store complex you got to ...  \n",
       "243579  For more info , like if you 're a table servic...  \n",
       "243580  The guy , you know , they , they do n't want t...  \n",
       "243581  Well , if a hicky is in load , the maintenance...  \n",
       "243582             Neeli Puccini ( GAG ) , Reggae ( 603 )  \n",
       "243583              Garrett senthil , but I do n't know .  \n",
       "243584  Wang can only use the same in the same ... ( t...  \n",
       "243585  Well just like any of the girls that are in th...  \n",
       "243586  This is a always a reason for the same table (...  \n",
       "243587               If a nice one can play at most 100 ,  \n",
       "243588  Well , if you submit multiple ejaculations , t...  \n",
       "243651      Update : That article - it 's what I pooped .  \n",
       "243652  Wang Lia ... and the health 36 & 36 & & # 92 ;...  \n",
       "\n",
       "[35103 rows x 3 columns]"
      ]
     },
     "execution_count": 11,
     "metadata": {},
     "output_type": "execute_result"
    }
   ],
   "source": [
    "ms_df[general]"
   ]
  },
  {
   "cell_type": "markdown",
   "metadata": {},
   "source": [
    "# evaluate using LexicalFormality.groovy / lf.json"
   ]
  },
  {
   "cell_type": "code",
   "execution_count": 2,
   "metadata": {},
   "outputs": [
    {
     "name": "stdout",
     "output_type": "stream",
     "text": [
      "/home/rebekah/Documents/lingware/voice/EN/generic\n",
      "/home/rebekah/Documents/make-it-sound-less-formal\n"
     ]
    }
   ],
   "source": [
    "% cd /home/rebekah/Documents/lingware/voice/EN/generic\n",
    "lf_f = open('lf.json')\n",
    "lf = json.loads(lf_f.read())\n",
    "% cd /home/rebekah/Documents/make-it-sound-less-formal"
   ]
  },
  {
   "cell_type": "code",
   "execution_count": 3,
   "metadata": {},
   "outputs": [
    {
     "data": {
      "text/plain": [
       "-0.241125"
      ]
     },
     "execution_count": 3,
     "metadata": {},
     "output_type": "execute_result"
    }
   ],
   "source": [
    "lf[\"have\"]"
   ]
  },
  {
   "cell_type": "code",
   "execution_count": 4,
   "metadata": {},
   "outputs": [],
   "source": [
    "ms_df = pd.read_pickle('data/microsoft_df.pkl')"
   ]
  },
  {
   "cell_type": "code",
   "execution_count": 6,
   "metadata": {},
   "outputs": [],
   "source": [
    "def lf_score(sent):\n",
    "    score = 0.0\n",
    "    sent = word_tokenize(sent)\n",
    "    if len(sent) == 0:\n",
    "        return 0.0\n",
    "    for word in sent:\n",
    "        word = word.lower()\n",
    "        if word in lf:\n",
    "            score += lf[word]\n",
    "    return score / len(sent)"
   ]
  },
  {
   "cell_type": "code",
   "execution_count": 7,
   "metadata": {},
   "outputs": [],
   "source": [
    "ms_df['source_lf'] = ms_df['source'].apply(lf_score)\n",
    "ms_df['target_lf'] = ms_df['target'].apply(lf_score)"
   ]
  },
  {
   "cell_type": "code",
   "execution_count": 13,
   "metadata": {},
   "outputs": [],
   "source": [
    "ms_df['difference_lf'] = ms_df['source_lf'] - ms_df['target_lf']"
   ]
  },
  {
   "cell_type": "code",
   "execution_count": 17,
   "metadata": {},
   "outputs": [
    {
     "name": "stdout",
     "output_type": "stream",
     "text": [
      "217058\n",
      "26595\n",
      "0.07012073262751525\n"
     ]
    }
   ],
   "source": [
    "pos = 0\n",
    "neg = 0\n",
    "for item in ms_df['difference_lf']:\n",
    "    if item > 0.0:\n",
    "        pos += 1\n",
    "    else:\n",
    "        neg += 1\n",
    "print(pos)\n",
    "print(neg)\n",
    "print(ms_df['difference_lf'].mean())"
   ]
  },
  {
   "cell_type": "code",
   "execution_count": 20,
   "metadata": {},
   "outputs": [],
   "source": [
    "data_df = pd.read_pickle('data/rule_based_corrected_df.pkl')"
   ]
  },
  {
   "cell_type": "code",
   "execution_count": 21,
   "metadata": {},
   "outputs": [
    {
     "data": {
      "text/html": [
       "<div>\n",
       "<style scoped>\n",
       "    .dataframe tbody tr th:only-of-type {\n",
       "        vertical-align: middle;\n",
       "    }\n",
       "\n",
       "    .dataframe tbody tr th {\n",
       "        vertical-align: top;\n",
       "    }\n",
       "\n",
       "    .dataframe thead th {\n",
       "        text-align: right;\n",
       "    }\n",
       "</style>\n",
       "<table border=\"1\" class=\"dataframe\">\n",
       "  <thead>\n",
       "    <tr style=\"text-align: right;\">\n",
       "      <th></th>\n",
       "      <th>Original</th>\n",
       "      <th>Target 0</th>\n",
       "      <th>Target 1</th>\n",
       "      <th>Target 2</th>\n",
       "      <th>Target 3</th>\n",
       "      <th>Category</th>\n",
       "      <th>Dataset</th>\n",
       "    </tr>\n",
       "  </thead>\n",
       "  <tbody>\n",
       "    <tr>\n",
       "      <th>0</th>\n",
       "      <td>I mean that you have to really be her friend.</td>\n",
       "      <td>And I mean Really be her friend.</td>\n",
       "      <td>Just be her BFF 4 real.</td>\n",
       "      <td>you have to be her friend.</td>\n",
       "      <td>You have to actually be her friend, for real.</td>\n",
       "      <td>Family_Relationships</td>\n",
       "      <td>test</td>\n",
       "    </tr>\n",
       "    <tr>\n",
       "      <th>1</th>\n",
       "      <td>Are you posing a rhetorical question?</td>\n",
       "      <td>Sounds like a rhetorical question :)</td>\n",
       "      <td>Do you really want an answer?</td>\n",
       "      <td>That sounds more like a rhetorical question th...</td>\n",
       "      <td>Are you asking me a rhetorical question?</td>\n",
       "      <td>Family_Relationships</td>\n",
       "      <td>test</td>\n",
       "    </tr>\n",
       "    <tr>\n",
       "      <th>2</th>\n",
       "      <td>Men pretend to love in order to have intercour...</td>\n",
       "      <td>Men play at love to get sex, women play at sex...</td>\n",
       "      <td>Men fake love to get laid, women fake orgasms ...</td>\n",
       "      <td>Guys PRETEND to love so they can get laid, wom...</td>\n",
       "      <td>Dudes just act like they love a chick to get b...</td>\n",
       "      <td>Family_Relationships</td>\n",
       "      <td>test</td>\n",
       "    </tr>\n",
       "    <tr>\n",
       "      <th>3</th>\n",
       "      <td>I do not intend to be mean.</td>\n",
       "      <td>I don't want to be mean.</td>\n",
       "      <td>I wasn't trying to be a jerk.</td>\n",
       "      <td>I'm not tryin to be mean...</td>\n",
       "      <td>I didn't want to be mean</td>\n",
       "      <td>Family_Relationships</td>\n",
       "      <td>test</td>\n",
       "    </tr>\n",
       "    <tr>\n",
       "      <th>4</th>\n",
       "      <td>I would estimate an average of 45% initially b...</td>\n",
       "      <td>On average I'd say about 45% at first but than...</td>\n",
       "      <td>It's a little less than 50/50 at the start, bu...</td>\n",
       "      <td>Prolly 45% at the start but when you get to no...</td>\n",
       "      <td>I guess it'd be around 45% to start with, but ...</td>\n",
       "      <td>Family_Relationships</td>\n",
       "      <td>test</td>\n",
       "    </tr>\n",
       "  </tbody>\n",
       "</table>\n",
       "</div>"
      ],
      "text/plain": [
       "                                            Original  \\\n",
       "0      I mean that you have to really be her friend.   \n",
       "1              Are you posing a rhetorical question?   \n",
       "2  Men pretend to love in order to have intercour...   \n",
       "3                        I do not intend to be mean.   \n",
       "4  I would estimate an average of 45% initially b...   \n",
       "\n",
       "                                            Target 0  \\\n",
       "0                   And I mean Really be her friend.   \n",
       "1               Sounds like a rhetorical question :)   \n",
       "2  Men play at love to get sex, women play at sex...   \n",
       "3                           I don't want to be mean.   \n",
       "4  On average I'd say about 45% at first but than...   \n",
       "\n",
       "                                            Target 1  \\\n",
       "0                            Just be her BFF 4 real.   \n",
       "1                      Do you really want an answer?   \n",
       "2  Men fake love to get laid, women fake orgasms ...   \n",
       "3                      I wasn't trying to be a jerk.   \n",
       "4  It's a little less than 50/50 at the start, bu...   \n",
       "\n",
       "                                            Target 2  \\\n",
       "0                         you have to be her friend.   \n",
       "1  That sounds more like a rhetorical question th...   \n",
       "2  Guys PRETEND to love so they can get laid, wom...   \n",
       "3                        I'm not tryin to be mean...   \n",
       "4  Prolly 45% at the start but when you get to no...   \n",
       "\n",
       "                                            Target 3              Category  \\\n",
       "0      You have to actually be her friend, for real.  Family_Relationships   \n",
       "1           Are you asking me a rhetorical question?  Family_Relationships   \n",
       "2  Dudes just act like they love a chick to get b...  Family_Relationships   \n",
       "3                           I didn't want to be mean  Family_Relationships   \n",
       "4  I guess it'd be around 45% to start with, but ...  Family_Relationships   \n",
       "\n",
       "  Dataset  \n",
       "0    test  \n",
       "1    test  \n",
       "2    test  \n",
       "3    test  \n",
       "4    test  "
      ]
     },
     "execution_count": 21,
     "metadata": {},
     "output_type": "execute_result"
    }
   ],
   "source": [
    "data_df.head()"
   ]
  },
  {
   "cell_type": "markdown",
   "metadata": {},
   "source": [
    "# Original Test Results - Yahoo/Grammarly Corpus"
   ]
  },
  {
   "cell_type": "raw",
   "metadata": {},
   "source": [
    "% cd /home/rebekah/Documents/OpenNMT-py/data/YahooCorpus\n",
    "pred_file = open('pred-test.txt')\n",
    "pred = [line.rstrip() for line in pred_file.readlines()]\n",
    "pred_file.close()\n",
    "\n",
    "source_file = open('src-test.txt')\n",
    "source = [line.rstrip() for line in source_file.readlines()]\n",
    "source_file.close()\n",
    "\n",
    "target_file = open('tgt-test.txt')\n",
    "target = [line.rstrip() for line in target_file.readlines()]\n",
    "target_file.close()\n",
    "\n",
    "v1_results = pd.DataFrame({'Source': source, 'Target': target, 'Prediction': pred})\n",
    "\n",
    "% cd /home/rebekah/Documents/make-it-sound-less-formal/data/\n",
    "\n",
    "v1_results.to_pickle('v1_results.pkl')"
   ]
  },
  {
   "cell_type": "raw",
   "metadata": {},
   "source": [
    "v1_results['source_lf'] = v1_results['Source'].apply(lf_score)\n",
    "v1_results['target_lf'] = v1_results['Target'].apply(lf_score)\n",
    "v1_results['pred_lf'] = v1_results['Prediction'].apply(lf_score)"
   ]
  },
  {
   "cell_type": "raw",
   "metadata": {},
   "source": [
    "v1_results['src_tgt_diff'] = v1_results['source_lf'] - v1_results['target_lf']\n",
    "v1_results['src_pred_diff'] = v1_results['source_lf'] - v1_results['pred_lf']"
   ]
  },
  {
   "cell_type": "code",
   "execution_count": 3,
   "metadata": {},
   "outputs": [
    {
     "data": {
      "text/html": [
       "<div>\n",
       "<style scoped>\n",
       "    .dataframe tbody tr th:only-of-type {\n",
       "        vertical-align: middle;\n",
       "    }\n",
       "\n",
       "    .dataframe tbody tr th {\n",
       "        vertical-align: top;\n",
       "    }\n",
       "\n",
       "    .dataframe thead th {\n",
       "        text-align: right;\n",
       "    }\n",
       "</style>\n",
       "<table border=\"1\" class=\"dataframe\">\n",
       "  <thead>\n",
       "    <tr style=\"text-align: right;\">\n",
       "      <th></th>\n",
       "      <th>Source</th>\n",
       "      <th>Target</th>\n",
       "      <th>Prediction</th>\n",
       "      <th>source_lf</th>\n",
       "      <th>target_lf</th>\n",
       "      <th>pred_lf</th>\n",
       "      <th>src_tgt_diff</th>\n",
       "      <th>src_pred_diff</th>\n",
       "    </tr>\n",
       "  </thead>\n",
       "  <tbody>\n",
       "    <tr>\n",
       "      <th>0</th>\n",
       "      <td>I mean that you have to really be her friend .</td>\n",
       "      <td>And I mean Really be her friend .</td>\n",
       "      <td>I mean you have to really be her friend .</td>\n",
       "      <td>-0.270857</td>\n",
       "      <td>-0.271620</td>\n",
       "      <td>-0.275536</td>\n",
       "      <td>0.000763</td>\n",
       "      <td>0.004680</td>\n",
       "    </tr>\n",
       "    <tr>\n",
       "      <th>1</th>\n",
       "      <td>Are you posing a rhetorical question ?</td>\n",
       "      <td>Sounds like a rhetorical question : )</td>\n",
       "      <td>What kind of question is that ?</td>\n",
       "      <td>-0.142981</td>\n",
       "      <td>-0.178207</td>\n",
       "      <td>-0.207015</td>\n",
       "      <td>0.035226</td>\n",
       "      <td>0.064035</td>\n",
       "    </tr>\n",
       "    <tr>\n",
       "      <th>2</th>\n",
       "      <td>Men pretend to love in order to have intercour...</td>\n",
       "      <td>Men play at love to get sex , women play at se...</td>\n",
       "      <td>Men play love to have sex , women play for sex...</td>\n",
       "      <td>-0.195864</td>\n",
       "      <td>-0.237748</td>\n",
       "      <td>-0.216562</td>\n",
       "      <td>0.041885</td>\n",
       "      <td>0.020698</td>\n",
       "    </tr>\n",
       "    <tr>\n",
       "      <th>3</th>\n",
       "      <td>I do not intend to be mean .</td>\n",
       "      <td>I do n't want to be mean .</td>\n",
       "      <td>I do n't mean to be mean .</td>\n",
       "      <td>-0.204783</td>\n",
       "      <td>-0.242434</td>\n",
       "      <td>-0.219974</td>\n",
       "      <td>0.037651</td>\n",
       "      <td>0.015191</td>\n",
       "    </tr>\n",
       "    <tr>\n",
       "      <th>4</th>\n",
       "      <td>I would estimate an average of 45 % initially ...</td>\n",
       "      <td>On average I 'd say about 45 % at first but th...</td>\n",
       "      <td>I would say a 15 % of 45 % , then once you get...</td>\n",
       "      <td>-0.126478</td>\n",
       "      <td>-0.218232</td>\n",
       "      <td>-0.182693</td>\n",
       "      <td>0.091754</td>\n",
       "      <td>0.056215</td>\n",
       "    </tr>\n",
       "  </tbody>\n",
       "</table>\n",
       "</div>"
      ],
      "text/plain": [
       "                                              Source  \\\n",
       "0     I mean that you have to really be her friend .   \n",
       "1             Are you posing a rhetorical question ?   \n",
       "2  Men pretend to love in order to have intercour...   \n",
       "3                       I do not intend to be mean .   \n",
       "4  I would estimate an average of 45 % initially ...   \n",
       "\n",
       "                                              Target  \\\n",
       "0                  And I mean Really be her friend .   \n",
       "1              Sounds like a rhetorical question : )   \n",
       "2  Men play at love to get sex , women play at se...   \n",
       "3                         I do n't want to be mean .   \n",
       "4  On average I 'd say about 45 % at first but th...   \n",
       "\n",
       "                                          Prediction  source_lf  target_lf  \\\n",
       "0          I mean you have to really be her friend .  -0.270857  -0.271620   \n",
       "1                    What kind of question is that ?  -0.142981  -0.178207   \n",
       "2  Men play love to have sex , women play for sex...  -0.195864  -0.237748   \n",
       "3                         I do n't mean to be mean .  -0.204783  -0.242434   \n",
       "4  I would say a 15 % of 45 % , then once you get...  -0.126478  -0.218232   \n",
       "\n",
       "    pred_lf  src_tgt_diff  src_pred_diff  \n",
       "0 -0.275536      0.000763       0.004680  \n",
       "1 -0.207015      0.035226       0.064035  \n",
       "2 -0.216562      0.041885       0.020698  \n",
       "3 -0.219974      0.037651       0.015191  \n",
       "4 -0.182693      0.091754       0.056215  "
      ]
     },
     "execution_count": 3,
     "metadata": {},
     "output_type": "execute_result"
    }
   ],
   "source": [
    "v1_results = pd.read_pickle('data/v1_results.pkl')\n",
    "v1_results.head()"
   ]
  },
  {
   "cell_type": "code",
   "execution_count": 37,
   "metadata": {},
   "outputs": [
    {
     "data": {
      "text/plain": [
       "0.0037219285105388623"
      ]
     },
     "execution_count": 37,
     "metadata": {},
     "output_type": "execute_result"
    }
   ],
   "source": [
    "(v1_results['target_lf'] - v1_results['pred_lf']).mean()"
   ]
  },
  {
   "cell_type": "code",
   "execution_count": 5,
   "metadata": {
    "scrolled": true
   },
   "outputs": [
    {
     "name": "stdout",
     "output_type": "stream",
     "text": [
      "source mean\t-0.1929587117844086\n",
      "target mean\t-0.21457392323635174\n",
      "pred mean\t-0.2182958517468906\n"
     ]
    }
   ],
   "source": [
    "print('source mean\\t' + str(v1_results['source_lf'].mean()))\n",
    "print('target mean\\t' + str(v1_results['target_lf'].mean()))\n",
    "print('pred mean\\t' + str(v1_results['pred_lf'].mean()))"
   ]
  },
  {
   "cell_type": "code",
   "execution_count": 6,
   "metadata": {},
   "outputs": [
    {
     "data": {
      "text/html": [
       "<div>\n",
       "<style scoped>\n",
       "    .dataframe tbody tr th:only-of-type {\n",
       "        vertical-align: middle;\n",
       "    }\n",
       "\n",
       "    .dataframe tbody tr th {\n",
       "        vertical-align: top;\n",
       "    }\n",
       "\n",
       "    .dataframe thead th {\n",
       "        text-align: right;\n",
       "    }\n",
       "</style>\n",
       "<table border=\"1\" class=\"dataframe\">\n",
       "  <thead>\n",
       "    <tr style=\"text-align: right;\">\n",
       "      <th></th>\n",
       "      <th>source_lf</th>\n",
       "      <th>target_lf</th>\n",
       "      <th>pred_lf</th>\n",
       "      <th>src_tgt_diff</th>\n",
       "      <th>src_pred_diff</th>\n",
       "    </tr>\n",
       "  </thead>\n",
       "  <tbody>\n",
       "    <tr>\n",
       "      <th>count</th>\n",
       "      <td>2101.000000</td>\n",
       "      <td>2101.000000</td>\n",
       "      <td>2101.000000</td>\n",
       "      <td>2101.000000</td>\n",
       "      <td>2101.000000</td>\n",
       "    </tr>\n",
       "    <tr>\n",
       "      <th>mean</th>\n",
       "      <td>-0.192959</td>\n",
       "      <td>-0.214574</td>\n",
       "      <td>-0.218296</td>\n",
       "      <td>0.021615</td>\n",
       "      <td>0.025337</td>\n",
       "    </tr>\n",
       "    <tr>\n",
       "      <th>std</th>\n",
       "      <td>0.049317</td>\n",
       "      <td>0.049389</td>\n",
       "      <td>0.049284</td>\n",
       "      <td>0.050025</td>\n",
       "      <td>0.043023</td>\n",
       "    </tr>\n",
       "    <tr>\n",
       "      <th>min</th>\n",
       "      <td>-0.334820</td>\n",
       "      <td>-0.487374</td>\n",
       "      <td>-0.349154</td>\n",
       "      <td>-0.200219</td>\n",
       "      <td>-0.164760</td>\n",
       "    </tr>\n",
       "    <tr>\n",
       "      <th>25%</th>\n",
       "      <td>-0.227958</td>\n",
       "      <td>-0.247298</td>\n",
       "      <td>-0.252729</td>\n",
       "      <td>-0.010516</td>\n",
       "      <td>0.000000</td>\n",
       "    </tr>\n",
       "    <tr>\n",
       "      <th>50%</th>\n",
       "      <td>-0.196117</td>\n",
       "      <td>-0.216134</td>\n",
       "      <td>-0.221436</td>\n",
       "      <td>0.017337</td>\n",
       "      <td>0.018918</td>\n",
       "    </tr>\n",
       "    <tr>\n",
       "      <th>75%</th>\n",
       "      <td>-0.159032</td>\n",
       "      <td>-0.183738</td>\n",
       "      <td>-0.188376</td>\n",
       "      <td>0.050733</td>\n",
       "      <td>0.048430</td>\n",
       "    </tr>\n",
       "    <tr>\n",
       "      <th>max</th>\n",
       "      <td>-0.009247</td>\n",
       "      <td>-0.032307</td>\n",
       "      <td>0.000000</td>\n",
       "      <td>0.256473</td>\n",
       "      <td>0.269680</td>\n",
       "    </tr>\n",
       "  </tbody>\n",
       "</table>\n",
       "</div>"
      ],
      "text/plain": [
       "         source_lf    target_lf      pred_lf  src_tgt_diff  src_pred_diff\n",
       "count  2101.000000  2101.000000  2101.000000   2101.000000    2101.000000\n",
       "mean     -0.192959    -0.214574    -0.218296      0.021615       0.025337\n",
       "std       0.049317     0.049389     0.049284      0.050025       0.043023\n",
       "min      -0.334820    -0.487374    -0.349154     -0.200219      -0.164760\n",
       "25%      -0.227958    -0.247298    -0.252729     -0.010516       0.000000\n",
       "50%      -0.196117    -0.216134    -0.221436      0.017337       0.018918\n",
       "75%      -0.159032    -0.183738    -0.188376      0.050733       0.048430\n",
       "max      -0.009247    -0.032307     0.000000      0.256473       0.269680"
      ]
     },
     "execution_count": 6,
     "metadata": {},
     "output_type": "execute_result"
    }
   ],
   "source": [
    "v1_results.describe()"
   ]
  },
  {
   "cell_type": "code",
   "execution_count": 30,
   "metadata": {},
   "outputs": [
    {
     "name": "stdout",
     "output_type": "stream",
     "text": [
      "target\n",
      "1390\n",
      "711\n",
      "0.021615211451943134\n"
     ]
    }
   ],
   "source": [
    "print('target')\n",
    "pos = 0\n",
    "neg = 0\n",
    "for item in v1_results['src_tgt_diff']:\n",
    "    if item > 0.0:\n",
    "        pos += 1\n",
    "    else:\n",
    "        neg += 1\n",
    "print(pos)\n",
    "print(neg)\n",
    "print(v1_results['src_tgt_diff'].mean())"
   ]
  },
  {
   "cell_type": "code",
   "execution_count": 31,
   "metadata": {},
   "outputs": [
    {
     "name": "stdout",
     "output_type": "stream",
     "text": [
      "pred\n",
      "1455\n",
      "646\n",
      "0.02533713996248199\n"
     ]
    }
   ],
   "source": [
    "print('pred')\n",
    "pos = 0\n",
    "neg = 0\n",
    "for item in v1_results['src_pred_diff']:\n",
    "    if item > 0.0:\n",
    "        pos += 1\n",
    "    else:\n",
    "        neg += 1\n",
    "print(pos)\n",
    "print(neg)\n",
    "print(v1_results['src_pred_diff'].mean())"
   ]
  },
  {
   "cell_type": "markdown",
   "metadata": {},
   "source": [
    "## t-tests between LF for src and LF for tgt/pred"
   ]
  },
  {
   "cell_type": "code",
   "execution_count": 8,
   "metadata": {},
   "outputs": [
    {
     "data": {
      "text/plain": [
       "LeveneResult(statistic=2.1204569180904063, pvalue=0.14541792381911198)"
      ]
     },
     "execution_count": 8,
     "metadata": {},
     "output_type": "execute_result"
    }
   ],
   "source": [
    "stats.levene(v1_results['source_lf'], v1_results['target_lf'])"
   ]
  },
  {
   "cell_type": "code",
   "execution_count": 9,
   "metadata": {},
   "outputs": [
    {
     "data": {
      "text/plain": [
       "LeveneResult(statistic=1.3962904278215476, pvalue=0.23741256319784487)"
      ]
     },
     "execution_count": 9,
     "metadata": {},
     "output_type": "execute_result"
    }
   ],
   "source": [
    "stats.levene(v1_results['source_lf'], v1_results['pred_lf'])"
   ]
  },
  {
   "cell_type": "code",
   "execution_count": 10,
   "metadata": {},
   "outputs": [
    {
     "data": {
      "text/plain": [
       "LeveneResult(statistic=0.07611743352092658, pvalue=0.7826431473626729)"
      ]
     },
     "execution_count": 10,
     "metadata": {},
     "output_type": "execute_result"
    }
   ],
   "source": [
    "stats.levene(v1_results['pred_lf'], v1_results['target_lf'])"
   ]
  },
  {
   "cell_type": "markdown",
   "metadata": {},
   "source": [
    "P = 0.05<br>\n",
    "P-value is not significant, meaning there is homogeneity of variance between all results"
   ]
  },
  {
   "cell_type": "code",
   "execution_count": 25,
   "metadata": {},
   "outputs": [],
   "source": [
    "def plot_pp(col):\n",
    "    # adapted from http://scientificpythonsnippets.com/index.php/2-uncategorised/6-q-q-plot-in-python-to-test-if-data-is-normally-distributed\n",
    "    data = list(v1_results[col])\n",
    "    data.sort()\n",
    "    norm = np.random.normal(0,2,len(data))\n",
    "    norm.sort()\n",
    "\n",
    "    plt.plot(norm,data,\"o\")\n",
    "\n",
    "    #generate a trend line as in http://widu.tumblr.com/post/43624347354/matplotlib-trendline\n",
    "    z = np.polyfit(norm,data, 1)\n",
    "    p = np.poly1d(z)\n",
    "    plt.plot(norm,p(norm),\"k--\", linewidth=2)\n",
    "    plt.title(col)\n",
    "    plt.xlabel(\"theoretical distribution\")\n",
    "    plt.ylabel(\"actual distribution\")\n",
    "    plt.tick_params()\n",
    "    plt.show()"
   ]
  },
  {
   "cell_type": "code",
   "execution_count": 27,
   "metadata": {},
   "outputs": [
    {
     "data": {
      "image/png": "[encoded data removed]",
      "text/plain": [
       "<Figure size 432x288 with 1 Axes>"
      ]
     },
     "metadata": {},
     "output_type": "display_data"
    },
    {
     "data": {
      "image/png": "[encoded data removed]",
      "text/plain": [
       "<Figure size 432x288 with 1 Axes>"
      ]
     },
     "metadata": {},
     "output_type": "display_data"
    },
    {
     "data": {
      "image/png": "[encoded data removed]",
      "text/plain": [
       "<Figure size 432x288 with 1 Axes>"
      ]
     },
     "metadata": {},
     "output_type": "display_data"
    },
    {
     "data": {
      "image/png": "[encoded data removed]",
      "text/plain": [
       "<Figure size 432x288 with 1 Axes>"
      ]
     },
     "metadata": {},
     "output_type": "display_data"
    },
    {
     "data": {
      "image/png": "[encoded data removed]",
      "text/plain": [
       "<Figure size 432x288 with 1 Axes>"
      ]
     },
     "metadata": {},
     "output_type": "display_data"
    }
   ],
   "source": [
    "plot_pp('src_tgt_diff')\n",
    "plot_pp('src_pred_diff')\n",
    "plot_pp('source_lf')\n",
    "plot_pp('target_lf')\n",
    "plot_pp('pred_lf')"
   ]
  },
  {
   "cell_type": "code",
   "execution_count": 32,
   "metadata": {},
   "outputs": [
    {
     "name": "stdout",
     "output_type": "stream",
     "text": [
      "(0.9852210283279419, 6.217566744662686e-14)\n",
      "(0.9621561169624329, 5.191658331416489e-23)\n"
     ]
    }
   ],
   "source": [
    "print(stats.shapiro(v1_results['src_tgt_diff']))\n",
    "print(stats.shapiro(v1_results['src_pred_diff']))"
   ]
  },
  {
   "cell_type": "markdown",
   "metadata": {},
   "source": [
    "Looks like residuals are normally distributed by the graphs, but the Shapiro stat produces a significant p-value"
   ]
  },
  {
   "cell_type": "code",
   "execution_count": 33,
   "metadata": {},
   "outputs": [
    {
     "data": {
      "text/plain": [
       "Ttest_indResult(statistic=14.195253623192706, pvalue=1.0441501457556802e-44)"
      ]
     },
     "execution_count": 33,
     "metadata": {},
     "output_type": "execute_result"
    }
   ],
   "source": [
    "stats.ttest_ind(v1_results['source_lf'], v1_results['target_lf'])"
   ]
  },
  {
   "cell_type": "code",
   "execution_count": 34,
   "metadata": {},
   "outputs": [
    {
     "data": {
      "text/plain": [
       "Ttest_indResult(statistic=16.657289197946156, pvalue=2.230917320422281e-60)"
      ]
     },
     "execution_count": 34,
     "metadata": {},
     "output_type": "execute_result"
    }
   ],
   "source": [
    "stats.ttest_ind(v1_results['source_lf'], v1_results['pred_lf'])"
   ]
  },
  {
   "cell_type": "code",
   "execution_count": 35,
   "metadata": {},
   "outputs": [
    {
     "data": {
      "text/plain": [
       "Ttest_indResult(statistic=-2.4450996634924658, pvalue=0.014522015014910234)"
      ]
     },
     "execution_count": 35,
     "metadata": {},
     "output_type": "execute_result"
    }
   ],
   "source": [
    "stats.ttest_ind(v1_results['pred_lf'], v1_results['target_lf'])"
   ]
  },
  {
   "cell_type": "markdown",
   "metadata": {},
   "source": [
    "Looks like the LF score between the source and the target, and the source and the predicted output, carries a difference that is statistically significant.<br>\n",
    "\n",
    "On the other hand the p-value for the pred and target values is much higher (less certain to be statistically significant, although still less than the preset value of p=0.05) which is to be expected as the pred aims to emulate target."
   ]
  },
  {
   "cell_type": "code",
   "execution_count": null,
   "metadata": {},
   "outputs": [],
   "source": []
  }
 ],
 "metadata": {
  "kernelspec": {
   "display_name": "Python 3",
   "language": "python",
   "name": "python3"
  },
  "language_info": {
   "codemirror_mode": {
    "name": "ipython",
    "version": 3
   },
   "file_extension": ".py",
   "mimetype": "text/x-python",
   "name": "python",
   "nbconvert_exporter": "python",
   "pygments_lexer": "ipython3",
   "version": "3.6.7"
  }
 },
 "nbformat": 4,
 "nbformat_minor": 2
}
