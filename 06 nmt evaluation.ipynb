{
 "cells": [
  {
   "cell_type": "code",
   "execution_count": 1,
   "metadata": {},
   "outputs": [],
   "source": [
    "import numpy as np\n",
    "from nltk.tokenize import word_tokenize\n",
    "import pandas as pd\n",
    "import pickle\n",
    "from tqdm import tqdm_notebook as tqdm\n",
    "import nltk.translate.bleu_score as bleu\n",
    "from difflib import SequenceMatcher"
   ]
  },
  {
   "cell_type": "code",
   "execution_count": 2,
   "metadata": {},
   "outputs": [
    {
     "data": {
      "text/html": [
       "<div>\n",
       "<style scoped>\n",
       "    .dataframe tbody tr th:only-of-type {\n",
       "        vertical-align: middle;\n",
       "    }\n",
       "\n",
       "    .dataframe tbody tr th {\n",
       "        vertical-align: top;\n",
       "    }\n",
       "\n",
       "    .dataframe thead th {\n",
       "        text-align: right;\n",
       "    }\n",
       "</style>\n",
       "<table border=\"1\" class=\"dataframe\">\n",
       "  <thead>\n",
       "    <tr style=\"text-align: right;\">\n",
       "      <th></th>\n",
       "      <th>Original</th>\n",
       "      <th>Target 0</th>\n",
       "      <th>Target 1</th>\n",
       "      <th>Target 2</th>\n",
       "      <th>Target 3</th>\n",
       "      <th>Category</th>\n",
       "      <th>Dataset</th>\n",
       "    </tr>\n",
       "  </thead>\n",
       "  <tbody>\n",
       "    <tr>\n",
       "      <th>0</th>\n",
       "      <td>I mean that you have to really be her friend.</td>\n",
       "      <td>And I mean Really be her friend.</td>\n",
       "      <td>Just be her BFF 4 real.</td>\n",
       "      <td>you have to be her friend.</td>\n",
       "      <td>You have to actually be her friend, for real.</td>\n",
       "      <td>Family_Relationships</td>\n",
       "      <td>test</td>\n",
       "    </tr>\n",
       "    <tr>\n",
       "      <th>1</th>\n",
       "      <td>Are you posing a rhetorical question?</td>\n",
       "      <td>Sounds like a rhetorical question :)</td>\n",
       "      <td>Do you really want an answer?</td>\n",
       "      <td>That sounds more like a rhetorical question th...</td>\n",
       "      <td>Are you asking me a rhetorical question?</td>\n",
       "      <td>Family_Relationships</td>\n",
       "      <td>test</td>\n",
       "    </tr>\n",
       "    <tr>\n",
       "      <th>2</th>\n",
       "      <td>Men pretend to love in order to have intercour...</td>\n",
       "      <td>Men play at love to get sex, women play at sex...</td>\n",
       "      <td>Men fake love to get laid, women fake orgasms ...</td>\n",
       "      <td>Guys PRETEND to love so they can get laid, wom...</td>\n",
       "      <td>Dudes just act like they love a chick to get b...</td>\n",
       "      <td>Family_Relationships</td>\n",
       "      <td>test</td>\n",
       "    </tr>\n",
       "    <tr>\n",
       "      <th>3</th>\n",
       "      <td>I do not intend to be mean.</td>\n",
       "      <td>I don't want to be mean.</td>\n",
       "      <td>I wasn't trying to be a jerk.</td>\n",
       "      <td>I'm not tryin to be mean...</td>\n",
       "      <td>I didn't want to be mean</td>\n",
       "      <td>Family_Relationships</td>\n",
       "      <td>test</td>\n",
       "    </tr>\n",
       "    <tr>\n",
       "      <th>4</th>\n",
       "      <td>I would estimate an average of 45% initially b...</td>\n",
       "      <td>On average I'd say about 45% at first but than...</td>\n",
       "      <td>It's a little less than 50/50 at the start, bu...</td>\n",
       "      <td>Prolly 45% at the start but when you get to no...</td>\n",
       "      <td>I guess it'd be around 45% to start with, but ...</td>\n",
       "      <td>Family_Relationships</td>\n",
       "      <td>test</td>\n",
       "    </tr>\n",
       "  </tbody>\n",
       "</table>\n",
       "</div>"
      ],
      "text/plain": [
       "                                            Original  \\\n",
       "0      I mean that you have to really be her friend.   \n",
       "1              Are you posing a rhetorical question?   \n",
       "2  Men pretend to love in order to have intercour...   \n",
       "3                        I do not intend to be mean.   \n",
       "4  I would estimate an average of 45% initially b...   \n",
       "\n",
       "                                            Target 0  \\\n",
       "0                   And I mean Really be her friend.   \n",
       "1               Sounds like a rhetorical question :)   \n",
       "2  Men play at love to get sex, women play at sex...   \n",
       "3                           I don't want to be mean.   \n",
       "4  On average I'd say about 45% at first but than...   \n",
       "\n",
       "                                            Target 1  \\\n",
       "0                            Just be her BFF 4 real.   \n",
       "1                      Do you really want an answer?   \n",
       "2  Men fake love to get laid, women fake orgasms ...   \n",
       "3                      I wasn't trying to be a jerk.   \n",
       "4  It's a little less than 50/50 at the start, bu...   \n",
       "\n",
       "                                            Target 2  \\\n",
       "0                         you have to be her friend.   \n",
       "1  That sounds more like a rhetorical question th...   \n",
       "2  Guys PRETEND to love so they can get laid, wom...   \n",
       "3                        I'm not tryin to be mean...   \n",
       "4  Prolly 45% at the start but when you get to no...   \n",
       "\n",
       "                                            Target 3              Category  \\\n",
       "0      You have to actually be her friend, for real.  Family_Relationships   \n",
       "1           Are you asking me a rhetorical question?  Family_Relationships   \n",
       "2  Dudes just act like they love a chick to get b...  Family_Relationships   \n",
       "3                           I didn't want to be mean  Family_Relationships   \n",
       "4  I guess it'd be around 45% to start with, but ...  Family_Relationships   \n",
       "\n",
       "  Dataset  \n",
       "0    test  \n",
       "1    test  \n",
       "2    test  \n",
       "3    test  \n",
       "4    test  "
      ]
     },
     "execution_count": 2,
     "metadata": {},
     "output_type": "execute_result"
    }
   ],
   "source": [
    "all_df = pd.read_pickle('data/rule_based_corrected_df.pkl')\n",
    "all_df.head()"
   ]
  },
  {
   "cell_type": "code",
   "execution_count": 6,
   "metadata": {},
   "outputs": [
    {
     "data": {
      "text/html": [
       "<div>\n",
       "<style scoped>\n",
       "    .dataframe tbody tr th:only-of-type {\n",
       "        vertical-align: middle;\n",
       "    }\n",
       "\n",
       "    .dataframe tbody tr th {\n",
       "        vertical-align: top;\n",
       "    }\n",
       "\n",
       "    .dataframe thead th {\n",
       "        text-align: right;\n",
       "    }\n",
       "</style>\n",
       "<table border=\"1\" class=\"dataframe\">\n",
       "  <thead>\n",
       "    <tr style=\"text-align: right;\">\n",
       "      <th></th>\n",
       "      <th>Source</th>\n",
       "      <th>Target</th>\n",
       "      <th>Prediction</th>\n",
       "      <th>Copy Prediction</th>\n",
       "      <th>No Entity Copy Prediction</th>\n",
       "    </tr>\n",
       "  </thead>\n",
       "  <tbody>\n",
       "    <tr>\n",
       "      <th>0</th>\n",
       "      <td>I mean that you have to really be her friend .</td>\n",
       "      <td>And I mean Really be her friend .</td>\n",
       "      <td>I mean you have to really be her friend .</td>\n",
       "      <td>I mean you have to really be her friend .</td>\n",
       "      <td>I mean you have to be her friend .</td>\n",
       "    </tr>\n",
       "    <tr>\n",
       "      <th>1</th>\n",
       "      <td>Are you posing a rhetorical question ?</td>\n",
       "      <td>Sounds like a rhetorical question : )</td>\n",
       "      <td>What kind of question is that ?</td>\n",
       "      <td>What are you asking a question ?</td>\n",
       "      <td>What kind of question is that ?</td>\n",
       "    </tr>\n",
       "    <tr>\n",
       "      <th>2</th>\n",
       "      <td>Men pretend to love in order to have intercour...</td>\n",
       "      <td>Men play at love to get sex , women play at se...</td>\n",
       "      <td>Men play love to have sex , women play for sex...</td>\n",
       "      <td>Men pretend to love in order to have sex , wom...</td>\n",
       "      <td>Men play to love in order to have sex , women ...</td>\n",
       "    </tr>\n",
       "    <tr>\n",
       "      <th>3</th>\n",
       "      <td>I do not intend to be mean .</td>\n",
       "      <td>I do n't want to be mean .</td>\n",
       "      <td>I do n't mean to be mean .</td>\n",
       "      <td>I do n't mean to be mean .</td>\n",
       "      <td>I do n't mean to be mean .</td>\n",
       "    </tr>\n",
       "    <tr>\n",
       "      <th>4</th>\n",
       "      <td>I would estimate an average of 45 % initially ...</td>\n",
       "      <td>On average I 'd say about 45 % at first but th...</td>\n",
       "      <td>I would say a 15 % of 45 % , then once you get...</td>\n",
       "      <td>45 % of them , but once you get to know the pe...</td>\n",
       "      <td>45 % of 45 % and then after you know the perso...</td>\n",
       "    </tr>\n",
       "  </tbody>\n",
       "</table>\n",
       "</div>"
      ],
      "text/plain": [
       "                                              Source  \\\n",
       "0     I mean that you have to really be her friend .   \n",
       "1             Are you posing a rhetorical question ?   \n",
       "2  Men pretend to love in order to have intercour...   \n",
       "3                       I do not intend to be mean .   \n",
       "4  I would estimate an average of 45 % initially ...   \n",
       "\n",
       "                                              Target  \\\n",
       "0                  And I mean Really be her friend .   \n",
       "1              Sounds like a rhetorical question : )   \n",
       "2  Men play at love to get sex , women play at se...   \n",
       "3                         I do n't want to be mean .   \n",
       "4  On average I 'd say about 45 % at first but th...   \n",
       "\n",
       "                                          Prediction  \\\n",
       "0          I mean you have to really be her friend .   \n",
       "1                    What kind of question is that ?   \n",
       "2  Men play love to have sex , women play for sex...   \n",
       "3                         I do n't mean to be mean .   \n",
       "4  I would say a 15 % of 45 % , then once you get...   \n",
       "\n",
       "                                     Copy Prediction  \\\n",
       "0          I mean you have to really be her friend .   \n",
       "1                   What are you asking a question ?   \n",
       "2  Men pretend to love in order to have sex , wom...   \n",
       "3                         I do n't mean to be mean .   \n",
       "4  45 % of them , but once you get to know the pe...   \n",
       "\n",
       "                           No Entity Copy Prediction  \n",
       "0                 I mean you have to be her friend .  \n",
       "1                    What kind of question is that ?  \n",
       "2  Men play to love in order to have sex , women ...  \n",
       "3                         I do n't mean to be mean .  \n",
       "4  45 % of 45 % and then after you know the perso...  "
      ]
     },
     "execution_count": 6,
     "metadata": {},
     "output_type": "execute_result"
    }
   ],
   "source": [
    "results_df = pd.read_pickle('data/v1_results.pkl')[['Source', 'Target', 'Prediction', 'Copy Prediction', 'No Entity Copy Prediction']]\n",
    "results_df.head()"
   ]
  },
  {
   "cell_type": "code",
   "execution_count": 4,
   "metadata": {},
   "outputs": [
    {
     "data": {
      "text/plain": [
       "2101"
      ]
     },
     "execution_count": 4,
     "metadata": {},
     "output_type": "execute_result"
    }
   ],
   "source": [
    "len(results_df)"
   ]
  },
  {
   "cell_type": "code",
   "execution_count": 137,
   "metadata": {},
   "outputs": [
    {
     "name": "stdout",
     "output_type": "stream",
     "text": [
      "Source:\t\tI behaved as such in the company of my present romantic partner .\n",
      "Target:\t\tI did this with my current boyfriend .\n",
      "Pred:\t\tI like my boyfriend and I have a boyfriend .\n",
      "Copy Pred:\tI used to love my boyfriend .\n",
      "No ENT Pred:\tI used to like my boyfriend .\n"
     ]
    }
   ],
   "source": [
    "for idx, row in results_df.sample(1).iterrows():\n",
    "    print('Source:\\t\\t' + row['Source'])\n",
    "    print('Target:\\t\\t' + row['Target'])\n",
    "    print('Pred:\\t\\t' + row['Prediction'])\n",
    "    print('Copy Pred:\\t' + row['Copy Prediction'])\n",
    "    print('No ENT Pred:\\t' + row['No Entity Copy Prediction'])"
   ]
  },
  {
   "cell_type": "markdown",
   "metadata": {},
   "source": [
    "# BLEU"
   ]
  },
  {
   "cell_type": "code",
   "execution_count": 7,
   "metadata": {},
   "outputs": [],
   "source": [
    "test_tgt0 = list(all_df[all_df['Dataset'] == 'test']['Target 0'])\n",
    "test_tgt1 = list(all_df[all_df['Dataset'] == 'test']['Target 1'])\n",
    "test_tgt2 = list(all_df[all_df['Dataset'] == 'test']['Target 2'])\n",
    "test_tgt3 = list(all_df[all_df['Dataset'] == 'test']['Target 3'])\n",
    "assert(len(test_tgt0) == len(test_tgt1) == len(test_tgt2) == len(test_tgt3))\n",
    "\n",
    "ref = []\n",
    "for idx in range(len(test_tgt0)):\n",
    "    ref.append([test_tgt0[idx], test_tgt1[idx], test_tgt2[idx], test_tgt3[idx]])\n",
    "\n",
    "hyp = list(results_df['Prediction'])"
   ]
  },
  {
   "cell_type": "code",
   "execution_count": 8,
   "metadata": {},
   "outputs": [
    {
     "name": "stdout",
     "output_type": "stream",
     "text": [
      "BLEU scores using all 4 targets.\n"
     ]
    },
    {
     "data": {
      "text/plain": [
       "0.7395791986703688"
      ]
     },
     "execution_count": 8,
     "metadata": {},
     "output_type": "execute_result"
    }
   ],
   "source": [
    "print('BLEU scores using all 4 targets.')\n",
    "bleu.corpus_bleu(ref, hyp)"
   ]
  },
  {
   "cell_type": "code",
   "execution_count": 9,
   "metadata": {},
   "outputs": [
    {
     "name": "stdout",
     "output_type": "stream",
     "text": [
      "BLEU scores using only one of 4 targets.\n",
      "0.5238716701257187\n",
      "0.4483937207801788\n",
      "0.44976733715218586\n",
      "0.45597632782422576\n"
     ]
    }
   ],
   "source": [
    "# try with only 1 target - why is it otherwise so good?\n",
    "print('BLEU scores using only one of 4 targets.')\n",
    "print(bleu.corpus_bleu([[line] for line in test_tgt0], hyp))\n",
    "print(bleu.corpus_bleu([[line] for line in test_tgt1], hyp))\n",
    "print(bleu.corpus_bleu([[line] for line in test_tgt2], hyp))\n",
    "print(bleu.corpus_bleu([[line] for line in test_tgt3], hyp))"
   ]
  },
  {
   "cell_type": "code",
   "execution_count": 13,
   "metadata": {},
   "outputs": [
    {
     "name": "stdout",
     "output_type": "stream",
     "text": [
      "BLEU score of source data to prediction\n",
      "0.6206195843828992\n"
     ]
    }
   ],
   "source": [
    "# how close are the predicted to the original?\n",
    "test_orig = list(results_df['Source'])\n",
    "print('BLEU score of source data to prediction')\n",
    "print(bleu.corpus_bleu([[line] for line in test_orig], hyp))"
   ]
  },
  {
   "cell_type": "code",
   "execution_count": 14,
   "metadata": {},
   "outputs": [
    {
     "name": "stdout",
     "output_type": "stream",
     "text": [
      "0.6995504029544203\n"
     ]
    }
   ],
   "source": [
    "print(bleu.corpus_bleu(ref, [line for line in test_orig]))"
   ]
  },
  {
   "cell_type": "code",
   "execution_count": 15,
   "metadata": {},
   "outputs": [],
   "source": [
    "val_tgt0 = list(all_df[all_df['Dataset'] == 'tune']['Target 0'])\n",
    "val_tgt1 = list(all_df[all_df['Dataset'] == 'tune']['Target 1'])\n",
    "val_tgt2 = list(all_df[all_df['Dataset'] == 'tune']['Target 2'])\n",
    "val_tgt3 = list(all_df[all_df['Dataset'] == 'tune']['Target 3'])\n",
    "assert(len(val_tgt0) == len(val_tgt1) == len(val_tgt2) == len(val_tgt3))\n",
    "\n",
    "ref_val = []\n",
    "for idx in range(len(val_tgt0)):\n",
    "    ref_val.append([val_tgt0[idx], val_tgt1[idx], val_tgt2[idx], val_tgt3[idx]])\n",
    "    \n",
    "pred_file_val = open('data/pred-val.txt')\n",
    "hyp_val = [line.rstrip() for line in pred_file_val.readlines()]\n",
    "pred_file_val.close()"
   ]
  },
  {
   "cell_type": "code",
   "execution_count": 16,
   "metadata": {},
   "outputs": [
    {
     "data": {
      "text/plain": [
       "0.7795881685210191"
      ]
     },
     "execution_count": 16,
     "metadata": {},
     "output_type": "execute_result"
    }
   ],
   "source": [
    "bleu.corpus_bleu(ref_val, hyp_val)"
   ]
  },
  {
   "cell_type": "markdown",
   "metadata": {},
   "source": [
    "# Similarity Scores & differences between default and copy models"
   ]
  },
  {
   "cell_type": "code",
   "execution_count": 17,
   "metadata": {},
   "outputs": [],
   "source": [
    "def similar(a, b):\n",
    "    return SequenceMatcher(None, a, b).ratio()"
   ]
  },
  {
   "cell_type": "code",
   "execution_count": 18,
   "metadata": {},
   "outputs": [
    {
     "data": {
      "text/plain": [
       "0.7012987012987013"
      ]
     },
     "execution_count": 18,
     "metadata": {},
     "output_type": "execute_result"
    }
   ],
   "source": [
    "similar(\"I mean that you have to really be her friend.\", \"And I mean Really be her friend.\")"
   ]
  },
  {
   "cell_type": "code",
   "execution_count": 20,
   "metadata": {},
   "outputs": [
    {
     "data": {
      "text/plain": [
       "0.9302325581395349"
      ]
     },
     "execution_count": 20,
     "metadata": {},
     "output_type": "execute_result"
    }
   ],
   "source": [
    "similar(\"I mean that you have to really be her friend.\", \"I mean you have to really be her friend .\")"
   ]
  },
  {
   "cell_type": "code",
   "execution_count": null,
   "metadata": {},
   "outputs": [],
   "source": []
  }
 ],
 "metadata": {
  "kernelspec": {
   "display_name": "Python 3",
   "language": "python",
   "name": "python3"
  },
  "language_info": {
   "codemirror_mode": {
    "name": "ipython",
    "version": 3
   },
   "file_extension": ".py",
   "mimetype": "text/x-python",
   "name": "python",
   "nbconvert_exporter": "python",
   "pygments_lexer": "ipython3",
   "version": "3.6.7"
  }
 },
 "nbformat": 4,
 "nbformat_minor": 2
}
