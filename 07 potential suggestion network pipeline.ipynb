{
 "cells": [
  {
   "cell_type": "code",
   "execution_count": 16,
   "metadata": {},
   "outputs": [],
   "source": [
    "import pandas as pd\n",
    "import numpy as np\n",
    "from tqdm import tqdm_notebook as tqdm\n",
    "from tqdm import tqdm_pandas\n",
    "import matplotlib.pyplot as plt\n",
    "import pickle\n",
    "from nltk import word_tokenize\n",
    "\n",
    "import keras.backend as K\n",
    "from keras.models import Model\n",
    "from keras.layers import Input, Activation, Embedding, LSTM, Dense, Dropout, Layer, Concatenate\n",
    "from keras.layers import TimeDistributed, Bidirectional, Lambda\n",
    "from keras.layers import concatenate\n",
    "from keras.layers.recurrent import Recurrent\n",
    "from keras.layers.core import Reshape\n",
    "from keras.activations import tanh, softmax\n",
    "from keras.engine import InputSpec\n",
    "from keras.utils import to_categorical\n",
    "from keras.preprocessing.sequence import pad_sequences"
   ]
  },
  {
   "cell_type": "code",
   "execution_count": 2,
   "metadata": {},
   "outputs": [
    {
     "data": {
      "text/plain": [
       "['/job:localhost/replica:0/task:0/device:GPU:0']"
      ]
     },
     "execution_count": 2,
     "metadata": {},
     "output_type": "execute_result"
    }
   ],
   "source": [
    "# make sure gpu is available\n",
    "K.tensorflow_backend._get_available_gpus()"
   ]
  },
  {
   "cell_type": "code",
   "execution_count": 3,
   "metadata": {},
   "outputs": [],
   "source": [
    "K.clear_session()"
   ]
  },
  {
   "cell_type": "markdown",
   "metadata": {},
   "source": [
    "# import embedding"
   ]
  },
  {
   "cell_type": "raw",
   "metadata": {},
   "source": [
    "# pretrained GloVe embeddings unpacked\n",
    "\n",
    "file = 'glove.6B.300d.txt'\n",
    "embed_dim = 300\n",
    "\n",
    "w2idx = {}\n",
    "w2vec = {}\n",
    "\n",
    "with open(file) as f:\n",
    "    for idx, line in enumerate(f):\n",
    "        line = [part.strip() for part in line.split()]\n",
    "        word = line[0]\n",
    "        vec = np.asarray(line[1 : embed_dim + 1], dtype='float32')\n",
    "        \n",
    "        w2idx[word] = idx\n",
    "        w2vec[word] = vec\n",
    "        \n",
    "# include empty character for padding - put last\n",
    "w2idx[''] = len(w2idx)\n",
    "w2vec[''] = np.zeros(embed_dim)\n",
    "\n",
    "# create embedding matrix\n",
    "embeddings = np.zeros((len(w2idx), embed_dim))\n",
    "\n",
    "for word, idx in w2idx.items():\n",
    "    embeddings[idx] = np.array(w2vec[word])\n",
    "    \n",
    "# save\n",
    "with open('glv_embed_matrix.pkl', 'wb') as f:\n",
    "    pickle.dump(embeddings, f)\n",
    "    \n",
    "with open('glv_w2idx.pkl', 'wb') as f:\n",
    "    pickle.dump(w2idx, f)"
   ]
  },
  {
   "cell_type": "code",
   "execution_count": 4,
   "metadata": {},
   "outputs": [],
   "source": [
    "# dictionaries, pretrained embeddings\n",
    "with open('data/glv_w2idx.pkl', 'rb') as f:\n",
    "    w2idx = pickle.load(f)\n",
    "with open('data/glv_embed_matrix.pkl', 'rb') as f:\n",
    "    embedding = pickle.load(f)"
   ]
  },
  {
   "cell_type": "code",
   "execution_count": 5,
   "metadata": {},
   "outputs": [],
   "source": [
    "# need to append BOS ('\\t') and EOS ('\\n') tokens to embeddings\n",
    "# give (consistently) random initialization since they don't actually mean anything\n",
    "# padding already exists as '' at the end of the embedding\n",
    "\n",
    "w2idx['\\t'] = embedding.shape[0]\n",
    "np.random.seed(1)\n",
    "embedding = np.append(embedding, np.random.rand(1, 300), axis=0)\n",
    "\n",
    "w2idx['\\n'] = embedding.shape[0]\n",
    "np.random.seed(2)\n",
    "embedding = np.append(embedding, np.random.rand(1, 300), axis=0)"
   ]
  },
  {
   "cell_type": "markdown",
   "metadata": {},
   "source": [
    "# dataset"
   ]
  },
  {
   "cell_type": "code",
   "execution_count": 6,
   "metadata": {},
   "outputs": [
    {
     "data": {
      "text/html": [
       "<div>\n",
       "<style scoped>\n",
       "    .dataframe tbody tr th:only-of-type {\n",
       "        vertical-align: middle;\n",
       "    }\n",
       "\n",
       "    .dataframe tbody tr th {\n",
       "        vertical-align: top;\n",
       "    }\n",
       "\n",
       "    .dataframe thead th {\n",
       "        text-align: right;\n",
       "    }\n",
       "</style>\n",
       "<table border=\"1\" class=\"dataframe\">\n",
       "  <thead>\n",
       "    <tr style=\"text-align: right;\">\n",
       "      <th></th>\n",
       "      <th>Original</th>\n",
       "      <th>Replacement</th>\n",
       "      <th>Sentence</th>\n",
       "    </tr>\n",
       "  </thead>\n",
       "  <tbody>\n",
       "    <tr>\n",
       "      <th>0</th>\n",
       "      <td>do not</td>\n",
       "      <td>don't</td>\n",
       "      <td>I do not know what to say.</td>\n",
       "    </tr>\n",
       "    <tr>\n",
       "      <th>1</th>\n",
       "      <td>will not</td>\n",
       "      <td>won't</td>\n",
       "      <td>The girl will not go to bed.</td>\n",
       "    </tr>\n",
       "  </tbody>\n",
       "</table>\n",
       "</div>"
      ],
      "text/plain": [
       "   Original Replacement                      Sentence\n",
       "0    do not       don't    I do not know what to say.\n",
       "1  will not       won't  The girl will not go to bed."
      ]
     },
     "execution_count": 6,
     "metadata": {},
     "output_type": "execute_result"
    }
   ],
   "source": [
    "# placeholder dataset\n",
    "\n",
    "df = pd.DataFrame({'Sentence': [\"I do not know what to say.\", \"The girl will not go to bed.\"], \n",
    "                  'Original': [\"do not\", \"will not\"],\n",
    "                  'Replacement': [\"don't\", \"won't\"]})\n",
    "df.head()"
   ]
  },
  {
   "cell_type": "code",
   "execution_count": 7,
   "metadata": {},
   "outputs": [],
   "source": [
    "# preprocessing\n",
    "# change from text to indices\n",
    "\n",
    "def sent_to_word_idx(df):\n",
    "    new = []\n",
    "    \n",
    "    for idx, row in tqdm(df.iterrows(), total = df.shape[0]):\n",
    "        \n",
    "        sent = word_tokenize(row['Sentence'])\n",
    "        \n",
    "        # add start-of-sequence ('\\t') and end-of-sequence ('\\n') markers to all texts\n",
    "        sent = ['\\t'] + sent + ['\\n']\n",
    "        \n",
    "        sent_indices = []\n",
    "        for word in sent:\n",
    "            word = word.lower()\n",
    "            if word in w2idx:\n",
    "                sent_indices.append(w2idx[word])\n",
    "            else:\n",
    "                sent_indices.append(len(w2idx))\n",
    "                                \n",
    "        new.append(sent_indices)\n",
    "    \n",
    "    df['x_word'] = new\n",
    "    return df\n",
    "\n",
    "def orig_to_place_idx(df):\n",
    "    # takes the part of the sentence to be replaced and turns it into a pair of start/end indices\n",
    "    \n",
    "    y_start = []\n",
    "    y_end = []\n",
    "    \n",
    "    for idx, row in tqdm(df.iterrows(), total = df.shape[0]):\n",
    "        sent = word_tokenize(row['Original'])\n",
    "        sent_indices = []\n",
    "        for word in sent:\n",
    "            word = word.lower()\n",
    "            if word in w2idx:\n",
    "                sent_indices.append(w2idx[word])\n",
    "            else:\n",
    "                sent_indices.append(len(w2idx))\n",
    "        \n",
    "        # take indices and find the slice in the whole sentence\n",
    "        slice_length = len(sent_indices)\n",
    "        starts = [i for i, x in enumerate(row['x_word']) if x == sent_indices[0]]\n",
    "        slice_idx = np.nan\n",
    "        \n",
    "        for potential_start in starts:\n",
    "            potential_slice = row['x_word'][potential_start : potential_start + slice_length]\n",
    "            if (potential_slice == np.array(sent_indices)).all():\n",
    "                y_start.append(potential_start)\n",
    "                y_end.append(potential_start + slice_length - 1)\n",
    "                break\n",
    "            \n",
    "    df['y_start'] = y_start\n",
    "    df['y_end'] = y_end\n",
    "    return df\n",
    "\n",
    "def repl_to_word_idx(df):\n",
    "    # takes original & replacement texts and turns them into both decoder input and decoder output\n",
    "    # both so that teacher forcing can be done\n",
    "    \n",
    "    y_rep = []\n",
    "    y_orig = []\n",
    "    \n",
    "    for idx, row in tqdm(df.iterrows(), total = df.shape[0]):\n",
    "        sent = word_tokenize(row['Replacement'])\n",
    "                \n",
    "        # add start-of-sequence ('\\t') and end-of-sequence ('\\n') markers to all texts\n",
    "        sent = ['\\t'] + sent + ['\\n']\n",
    "        \n",
    "        sent_indices = []\n",
    "        for word in sent:\n",
    "            word = word.lower()\n",
    "            if word in w2idx:\n",
    "                sent_indices.append(w2idx[word])\n",
    "            else:\n",
    "                sent_indices.append(len(w2idx))\n",
    "                \n",
    "        y_rep.append(sent_indices)\n",
    "    \n",
    "    for idx, row in tqdm(df.iterrows(), total = df.shape[0]):\n",
    "        sent = word_tokenize(row['Original'])\n",
    "                \n",
    "        # add start-of-sequence ('\\t') and end-of-sequence ('\\n') markers to all texts\n",
    "        sent = ['\\t'] + sent + ['\\n']\n",
    "        \n",
    "        sent_indices = []\n",
    "        for word in sent:\n",
    "            word = word.lower()\n",
    "            if word in w2idx:\n",
    "                sent_indices.append(w2idx[word])\n",
    "            else:\n",
    "                sent_indices.append(len(w2idx))\n",
    "        y_orig.append(sent_indices)\n",
    "        \n",
    "    df['y_orig'] = y_orig\n",
    "    df['y_rep'] = y_rep\n",
    "    \n",
    "    return df"
   ]
  },
  {
   "cell_type": "code",
   "execution_count": 8,
   "metadata": {},
   "outputs": [
    {
     "data": {
      "application/vnd.jupyter.widget-view+json": {
       "model_id": "6e508b7707c84b698b4f48ce753f72f5",
       "version_major": 2,
       "version_minor": 0
      },
      "text/plain": [
       "HBox(children=(IntProgress(value=0, max=2), HTML(value='')))"
      ]
     },
     "metadata": {},
     "output_type": "display_data"
    },
    {
     "name": "stdout",
     "output_type": "stream",
     "text": [
      "\n"
     ]
    },
    {
     "data": {
      "application/vnd.jupyter.widget-view+json": {
       "model_id": "3e148226da1a441e913be454cfe817d9",
       "version_major": 2,
       "version_minor": 0
      },
      "text/plain": [
       "HBox(children=(IntProgress(value=0, max=2), HTML(value='')))"
      ]
     },
     "metadata": {},
     "output_type": "display_data"
    },
    {
     "name": "stdout",
     "output_type": "stream",
     "text": [
      "\n"
     ]
    },
    {
     "data": {
      "application/vnd.jupyter.widget-view+json": {
       "model_id": "6be5a3cdc54a48adacb72f89885cee31",
       "version_major": 2,
       "version_minor": 0
      },
      "text/plain": [
       "HBox(children=(IntProgress(value=0, max=2), HTML(value='')))"
      ]
     },
     "metadata": {},
     "output_type": "display_data"
    },
    {
     "name": "stdout",
     "output_type": "stream",
     "text": [
      "\n"
     ]
    },
    {
     "data": {
      "application/vnd.jupyter.widget-view+json": {
       "model_id": "0fe03726c88740a48384870139e7b167",
       "version_major": 2,
       "version_minor": 0
      },
      "text/plain": [
       "HBox(children=(IntProgress(value=0, max=2), HTML(value='')))"
      ]
     },
     "metadata": {},
     "output_type": "display_data"
    },
    {
     "name": "stdout",
     "output_type": "stream",
     "text": [
      "\n"
     ]
    },
    {
     "data": {
      "text/html": [
       "<div>\n",
       "<style scoped>\n",
       "    .dataframe tbody tr th:only-of-type {\n",
       "        vertical-align: middle;\n",
       "    }\n",
       "\n",
       "    .dataframe tbody tr th {\n",
       "        vertical-align: top;\n",
       "    }\n",
       "\n",
       "    .dataframe thead th {\n",
       "        text-align: right;\n",
       "    }\n",
       "</style>\n",
       "<table border=\"1\" class=\"dataframe\">\n",
       "  <thead>\n",
       "    <tr style=\"text-align: right;\">\n",
       "      <th></th>\n",
       "      <th>Original</th>\n",
       "      <th>Replacement</th>\n",
       "      <th>Sentence</th>\n",
       "      <th>x_word</th>\n",
       "      <th>y_start</th>\n",
       "      <th>y_end</th>\n",
       "      <th>y_orig</th>\n",
       "      <th>y_rep</th>\n",
       "    </tr>\n",
       "  </thead>\n",
       "  <tbody>\n",
       "    <tr>\n",
       "      <th>0</th>\n",
       "      <td>do not</td>\n",
       "      <td>don't</td>\n",
       "      <td>I do not know what to say.</td>\n",
       "      <td>[400001, 41, 88, 36, 346, 102, 4, 203, 2, 400002]</td>\n",
       "      <td>2</td>\n",
       "      <td>3</td>\n",
       "      <td>[400001, 88, 36, 400002]</td>\n",
       "      <td>[400001, 88, 70, 400002]</td>\n",
       "    </tr>\n",
       "    <tr>\n",
       "      <th>1</th>\n",
       "      <td>will not</td>\n",
       "      <td>won't</td>\n",
       "      <td>The girl will not go to bed.</td>\n",
       "      <td>[400001, 0, 1749, 43, 36, 242, 4, 3827, 2, 400...</td>\n",
       "      <td>3</td>\n",
       "      <td>4</td>\n",
       "      <td>[400001, 43, 36, 400002]</td>\n",
       "      <td>[400001, 1369, 70, 400002]</td>\n",
       "    </tr>\n",
       "  </tbody>\n",
       "</table>\n",
       "</div>"
      ],
      "text/plain": [
       "   Original Replacement                      Sentence  \\\n",
       "0    do not       don't    I do not know what to say.   \n",
       "1  will not       won't  The girl will not go to bed.   \n",
       "\n",
       "                                              x_word  y_start  y_end  \\\n",
       "0  [400001, 41, 88, 36, 346, 102, 4, 203, 2, 400002]        2      3   \n",
       "1  [400001, 0, 1749, 43, 36, 242, 4, 3827, 2, 400...        3      4   \n",
       "\n",
       "                     y_orig                       y_rep  \n",
       "0  [400001, 88, 36, 400002]    [400001, 88, 70, 400002]  \n",
       "1  [400001, 43, 36, 400002]  [400001, 1369, 70, 400002]  "
      ]
     },
     "execution_count": 8,
     "metadata": {},
     "output_type": "execute_result"
    }
   ],
   "source": [
    "df = sent_to_word_idx(df)\n",
    "df = orig_to_place_idx(df)\n",
    "df = repl_to_word_idx(df)\n",
    "df.head()"
   ]
  },
  {
   "cell_type": "code",
   "execution_count": 9,
   "metadata": {},
   "outputs": [],
   "source": [
    "# extract data to arrays from df, add pre-padding\n",
    "\n",
    "X = pad_sequences(df['x_word'], value = len(w2idx)).astype('int64')\n",
    "y_rep = pad_sequences(df['y_rep'], value = len(w2idx)).astype('int64')\n",
    "y_orig = pad_sequences(df['y_orig'], value = len(w2idx)).astype('int64')\n",
    "\n",
    "# set up target data from output sequence, 1 timestep off from y_rep\n",
    "#y_rep_output\n",
    "\n",
    "y_start = to_categorical(np.array(df['y_start']), num_classes = X.shape[1], dtype = 'int64')\n",
    "y_end = to_categorical(np.array(df['y_end']), num_classes = X.shape[1], dtype = 'int64')\n",
    "y_rep_cat = np.array([to_categorical(x, num_classes = embedding.shape[0]) for x in y_rep]) "
   ]
  },
  {
   "cell_type": "markdown",
   "metadata": {},
   "source": [
    "# start from scratch"
   ]
  },
  {
   "cell_type": "code",
   "execution_count": 10,
   "metadata": {},
   "outputs": [],
   "source": [
    "num_units = 64 # I think 512 is standard - lessening for memory purposes for now\n",
    "epochs = 50\n",
    "batch_size = 2\n",
    "learning_rate = 0.1\n",
    "\n",
    "input_len = X.shape[1]\n",
    "orig_len = y_orig.shape[1]\n",
    "repl_len = y_rep.shape[1]"
   ]
  },
  {
   "cell_type": "code",
   "execution_count": 11,
   "metadata": {
    "scrolled": true
   },
   "outputs": [
    {
     "name": "stdout",
     "output_type": "stream",
     "text": [
      "WARNING:tensorflow:From /usr/local/lib/python3.5/dist-packages/tensorflow/python/framework/op_def_library.py:263: colocate_with (from tensorflow.python.framework.ops) is deprecated and will be removed in a future version.\n",
      "Instructions for updating:\n",
      "Colocations handled automatically by placer.\n"
     ]
    }
   ],
   "source": [
    "# input sentences in form of word indices\n",
    "main_input = Input(shape = (input_len,), dtype = 'int64', name = 'main_input')\n",
    "repl_input = Input(shape = (repl_len,), dtype = 'int64', name = 'repl_input')\n",
    "orig_input = Input(shape = (orig_len,), dtype = 'int64', name = 'orig_input')\n",
    "\n",
    "# embedding layer\n",
    "# note for later: can use mask_zero parameter in embedding layer, but would need to go back and change some indices\n",
    "embedding_layer = Embedding(input_dim = embedding.shape[0],\n",
    "                      output_dim = embedding.shape[1],\n",
    "                      weights = [embedding],\n",
    "                      trainable = False, \n",
    "                      name = 'embedding_layer')\n",
    "\n",
    "input_embed = embedding_layer(main_input)\n",
    "repl_embed = embedding_layer(repl_input)\n",
    "orig_embed = embedding_layer(orig_input)"
   ]
  },
  {
   "cell_type": "code",
   "execution_count": 12,
   "metadata": {},
   "outputs": [],
   "source": [
    "### get indices\n",
    "\n",
    "# return_sequences would be True when this is an encoder to lead to PointerLSTM\n",
    "lstm = Bidirectional(LSTM(return_sequences = False, units = num_units), name='lstm')(input_embed)\n",
    "\n",
    "# these ones should change later to the PointerLSTM layer\n",
    "y_start_output = Dense(input_len, activation = 'softmax', name = 'y_start_output')(lstm)\n",
    "y_end_output = Dense(input_len, activation = 'softmax', name = 'y_end_output')(lstm)"
   ]
  },
  {
   "cell_type": "code",
   "execution_count": 13,
   "metadata": {},
   "outputs": [],
   "source": [
    "### connect indices to main_input\n",
    "\n",
    "## later use this to slice and concatenate with context\n",
    "## in the meantime just assume y_orig is somehow the output\n",
    "\n",
    "#y_indices = concatenate([K.argmax(y_start_output, axis = 1), K.argmax(y_end_output, axis = 1)])\n",
    "#y_start_sparse = Lambda(lambda x : K.argmax(x, axis = 1))(y_start_output)\n",
    "#y_end_sparse = Lambda(lambda x : K.argmax(x, axis = 1))(y_end_output)\n",
    "#y_start_reshape = Reshape((1,))(y_start_sparse)\n",
    "#y_end_reshape = Reshape((1,))(y_end_sparse)\n",
    "#return_input = concatenate([y_start_reshape, y_end_reshape, main_input], axis = 1)"
   ]
  },
  {
   "cell_type": "code",
   "execution_count": 28,
   "metadata": {},
   "outputs": [],
   "source": [
    "### feed encoder input (main_input), decoder input (repl_input) and sliced replacement text to enc-dec system\n",
    "\n",
    "# these should change later to some sort of context-based or conditional model\n",
    "# also with attention\n",
    "\n",
    "# decoder given 2*units to accept bidirectional outputs\n",
    "encoder = Bidirectional(LSTM(return_state = True, units = num_units), name = \"encoder\")\n",
    "decoder = LSTM(return_sequences = True, return_state = True, name = \"decoder\", units = 2 * num_units)\n",
    "\n",
    "# sequence is unnecessary for the encoder - just states, to start the decoder correctly\n",
    "# state and sequence for decoder will be necessary in inference, but not right now\n",
    "enc_output, enc_h_forward, enc_c_forward, enc_h_backward, enc_c_backward = encoder(orig_embed)\n",
    "enc_h = Concatenate()([enc_h_forward, enc_h_backward])\n",
    "enc_c = Concatenate()([enc_c_forward, enc_c_backward])\n",
    "dec_output, _, _ = decoder(repl_embed, initial_state = [enc_h, enc_c])\n",
    "\n",
    "# Dropout?\n",
    "\n",
    "y_rep_output = TimeDistributed(Dense(embedding.shape[0], activation='softmax'), \n",
    "                               name = 'y_rep_output')(dec_output)"
   ]
  },
  {
   "cell_type": "code",
   "execution_count": 31,
   "metadata": {},
   "outputs": [
    {
     "name": "stdout",
     "output_type": "stream",
     "text": [
      "WARNING:tensorflow:From /usr/local/lib/python3.5/dist-packages/tensorflow/python/ops/math_ops.py:3066: to_int32 (from tensorflow.python.ops.math_ops) is deprecated and will be removed in a future version.\n",
      "Instructions for updating:\n",
      "Use tf.cast instead.\n",
      "Epoch 1/50\n",
      "2/2 [==============================] - 7s 3s/step - loss: 17.6354 - y_start_output_loss: 2.4477 - y_end_output_loss: 2.2888 - y_rep_output_loss: 12.8989 - y_start_output_acc: 0.0000e+00 - y_end_output_acc: 0.0000e+00 - y_rep_output_acc: 0.0000e+00\n",
      "Epoch 2/50\n",
      "2/2 [==============================] - 0s 77ms/step - loss: 16.8633 - y_start_output_loss: 2.0448 - y_end_output_loss: 1.9461 - y_rep_output_loss: 12.8725 - y_start_output_acc: 0.0000e+00 - y_end_output_acc: 0.5000 - y_rep_output_acc: 0.7500\n",
      "Epoch 3/50\n",
      "2/2 [==============================] - 0s 73ms/step - loss: 16.1739 - y_start_output_loss: 1.6948 - y_end_output_loss: 1.6401 - y_rep_output_loss: 12.8390 - y_start_output_acc: 1.0000 - y_end_output_acc: 1.0000 - y_rep_output_acc: 0.7500\n",
      "Epoch 4/50\n",
      "2/2 [==============================] - 0s 73ms/step - loss: 15.5552 - y_start_output_loss: 1.3954 - y_end_output_loss: 1.3680 - y_rep_output_loss: 12.7917 - y_start_output_acc: 1.0000 - y_end_output_acc: 1.0000 - y_rep_output_acc: 0.7500\n",
      "Epoch 5/50\n",
      "2/2 [==============================] - 0s 71ms/step - loss: 14.9979 - y_start_output_loss: 1.1420 - y_end_output_loss: 1.1289 - y_rep_output_loss: 12.7270 - y_start_output_acc: 1.0000 - y_end_output_acc: 1.0000 - y_rep_output_acc: 0.7500\n",
      "Epoch 6/50\n",
      "2/2 [==============================] - 0s 74ms/step - loss: 14.4953 - y_start_output_loss: 0.9296 - y_end_output_loss: 0.9228 - y_rep_output_loss: 12.6429 - y_start_output_acc: 1.0000 - y_end_output_acc: 1.0000 - y_rep_output_acc: 0.7500\n",
      "Epoch 7/50\n",
      "2/2 [==============================] - 0s 75ms/step - loss: 14.0406 - y_start_output_loss: 0.7528 - y_end_output_loss: 0.7489 - y_rep_output_loss: 12.5390 - y_start_output_acc: 1.0000 - y_end_output_acc: 1.0000 - y_rep_output_acc: 0.7500\n",
      "Epoch 8/50\n",
      "2/2 [==============================] - 0s 74ms/step - loss: 13.6239 - y_start_output_loss: 0.6057 - y_end_output_loss: 0.6032 - y_rep_output_loss: 12.4151 - y_start_output_acc: 1.0000 - y_end_output_acc: 1.0000 - y_rep_output_acc: 0.7500\n",
      "Epoch 9/50\n",
      "2/2 [==============================] - 0s 77ms/step - loss: 13.2369 - y_start_output_loss: 0.4833 - y_end_output_loss: 0.4818 - y_rep_output_loss: 12.2718 - y_start_output_acc: 1.0000 - y_end_output_acc: 1.0000 - y_rep_output_acc: 0.7500\n",
      "Epoch 10/50\n",
      "2/2 [==============================] - 0s 76ms/step - loss: 12.8699 - y_start_output_loss: 0.3793 - y_end_output_loss: 0.3810 - y_rep_output_loss: 12.1096 - y_start_output_acc: 1.0000 - y_end_output_acc: 1.0000 - y_rep_output_acc: 0.7500\n",
      "Epoch 11/50\n",
      "2/2 [==============================] - 0s 75ms/step - loss: 12.5180 - y_start_output_loss: 0.2917 - y_end_output_loss: 0.2970 - y_rep_output_loss: 11.9293 - y_start_output_acc: 1.0000 - y_end_output_acc: 1.0000 - y_rep_output_acc: 1.0000\n",
      "Epoch 12/50\n",
      "2/2 [==============================] - 0s 76ms/step - loss: 12.1753 - y_start_output_loss: 0.2171 - y_end_output_loss: 0.2274 - y_rep_output_loss: 11.7307 - y_start_output_acc: 1.0000 - y_end_output_acc: 1.0000 - y_rep_output_acc: 1.0000\n",
      "Epoch 13/50\n",
      "2/2 [==============================] - 0s 78ms/step - loss: 11.8431 - y_start_output_loss: 0.1561 - y_end_output_loss: 0.1709 - y_rep_output_loss: 11.5160 - y_start_output_acc: 1.0000 - y_end_output_acc: 1.0000 - y_rep_output_acc: 1.0000\n",
      "Epoch 14/50\n",
      "2/2 [==============================] - 0s 75ms/step - loss: 11.5203 - y_start_output_loss: 0.1086 - y_end_output_loss: 0.1278 - y_rep_output_loss: 11.2839 - y_start_output_acc: 1.0000 - y_end_output_acc: 1.0000 - y_rep_output_acc: 1.0000\n",
      "Epoch 15/50\n",
      "2/2 [==============================] - 0s 76ms/step - loss: 11.2062 - y_start_output_loss: 0.0739 - y_end_output_loss: 0.0959 - y_rep_output_loss: 11.0365 - y_start_output_acc: 1.0000 - y_end_output_acc: 1.0000 - y_rep_output_acc: 1.0000\n",
      "Epoch 16/50\n",
      "2/2 [==============================] - 0s 73ms/step - loss: 10.9010 - y_start_output_loss: 0.0498 - y_end_output_loss: 0.0723 - y_rep_output_loss: 10.7789 - y_start_output_acc: 1.0000 - y_end_output_acc: 1.0000 - y_rep_output_acc: 1.0000\n",
      "Epoch 17/50\n",
      "2/2 [==============================] - 0s 74ms/step - loss: 10.5995 - y_start_output_loss: 0.0335 - y_end_output_loss: 0.0549 - y_rep_output_loss: 10.5111 - y_start_output_acc: 1.0000 - y_end_output_acc: 1.0000 - y_rep_output_acc: 1.0000\n",
      "Epoch 18/50\n",
      "2/2 [==============================] - 0s 71ms/step - loss: 10.3037 - y_start_output_loss: 0.0229 - y_end_output_loss: 0.0419 - y_rep_output_loss: 10.2389 - y_start_output_acc: 1.0000 - y_end_output_acc: 1.0000 - y_rep_output_acc: 1.0000\n",
      "Epoch 19/50\n",
      "2/2 [==============================] - 0s 77ms/step - loss: 10.0146 - y_start_output_loss: 0.0161 - y_end_output_loss: 0.0324 - y_rep_output_loss: 9.9661 - y_start_output_acc: 1.0000 - y_end_output_acc: 1.0000 - y_rep_output_acc: 1.0000\n",
      "Epoch 20/50\n",
      "2/2 [==============================] - 0s 74ms/step - loss: 9.7272 - y_start_output_loss: 0.0116 - y_end_output_loss: 0.0252 - y_rep_output_loss: 9.6904 - y_start_output_acc: 1.0000 - y_end_output_acc: 1.0000 - y_rep_output_acc: 1.0000\n",
      "Epoch 21/50\n",
      "2/2 [==============================] - 0s 77ms/step - loss: 9.4445 - y_start_output_loss: 0.0086 - y_end_output_loss: 0.0200 - y_rep_output_loss: 9.4159 - y_start_output_acc: 1.0000 - y_end_output_acc: 1.0000 - y_rep_output_acc: 1.0000\n",
      "Epoch 22/50\n",
      "2/2 [==============================] - 0s 75ms/step - loss: 9.1690 - y_start_output_loss: 0.0065 - y_end_output_loss: 0.0160 - y_rep_output_loss: 9.1464 - y_start_output_acc: 1.0000 - y_end_output_acc: 1.0000 - y_rep_output_acc: 1.0000\n",
      "Epoch 23/50\n",
      "2/2 [==============================] - 0s 74ms/step - loss: 8.8984 - y_start_output_loss: 0.0051 - y_end_output_loss: 0.0130 - y_rep_output_loss: 8.8802 - y_start_output_acc: 1.0000 - y_end_output_acc: 1.0000 - y_rep_output_acc: 1.0000\n",
      "Epoch 24/50\n",
      "2/2 [==============================] - 0s 75ms/step - loss: 8.6320 - y_start_output_loss: 0.0041 - y_end_output_loss: 0.0107 - y_rep_output_loss: 8.6172 - y_start_output_acc: 1.0000 - y_end_output_acc: 1.0000 - y_rep_output_acc: 1.0000\n",
      "Epoch 25/50\n",
      "2/2 [==============================] - 0s 75ms/step - loss: 8.3710 - y_start_output_loss: 0.0034 - y_end_output_loss: 0.0089 - y_rep_output_loss: 8.3586 - y_start_output_acc: 1.0000 - y_end_output_acc: 1.0000 - y_rep_output_acc: 1.0000\n",
      "Epoch 26/50\n",
      "2/2 [==============================] - 0s 73ms/step - loss: 8.1122 - y_start_output_loss: 0.0029 - y_end_output_loss: 0.0075 - y_rep_output_loss: 8.1017 - y_start_output_acc: 1.0000 - y_end_output_acc: 1.0000 - y_rep_output_acc: 1.0000\n",
      "Epoch 27/50\n",
      "2/2 [==============================] - 0s 73ms/step - loss: 7.8546 - y_start_output_loss: 0.0025 - y_end_output_loss: 0.0065 - y_rep_output_loss: 7.8456 - y_start_output_acc: 1.0000 - y_end_output_acc: 1.0000 - y_rep_output_acc: 1.0000\n",
      "Epoch 28/50\n",
      "2/2 [==============================] - 0s 69ms/step - loss: 7.5982 - y_start_output_loss: 0.0022 - y_end_output_loss: 0.0056 - y_rep_output_loss: 7.5904 - y_start_output_acc: 1.0000 - y_end_output_acc: 1.0000 - y_rep_output_acc: 1.0000\n",
      "Epoch 29/50\n",
      "2/2 [==============================] - 0s 75ms/step - loss: 7.3422 - y_start_output_loss: 0.0019 - y_end_output_loss: 0.0049 - y_rep_output_loss: 7.3353 - y_start_output_acc: 1.0000 - y_end_output_acc: 1.0000 - y_rep_output_acc: 1.0000\n",
      "Epoch 30/50\n",
      "2/2 [==============================] - 0s 74ms/step - loss: 7.0860 - y_start_output_loss: 0.0017 - y_end_output_loss: 0.0043 - y_rep_output_loss: 7.0799 - y_start_output_acc: 1.0000 - y_end_output_acc: 1.0000 - y_rep_output_acc: 1.0000\n",
      "Epoch 31/50\n",
      "2/2 [==============================] - 0s 73ms/step - loss: 6.8293 - y_start_output_loss: 0.0016 - y_end_output_loss: 0.0039 - y_rep_output_loss: 6.8239 - y_start_output_acc: 1.0000 - y_end_output_acc: 1.0000 - y_rep_output_acc: 1.0000\n",
      "Epoch 32/50\n",
      "2/2 [==============================] - 0s 75ms/step - loss: 6.5727 - y_start_output_loss: 0.0015 - y_end_output_loss: 0.0035 - y_rep_output_loss: 6.5678 - y_start_output_acc: 1.0000 - y_end_output_acc: 1.0000 - y_rep_output_acc: 1.0000\n"
     ]
    },
    {
     "name": "stdout",
     "output_type": "stream",
     "text": [
      "Epoch 33/50\n",
      "2/2 [==============================] - 0s 74ms/step - loss: 6.3159 - y_start_output_loss: 0.0014 - y_end_output_loss: 0.0032 - y_rep_output_loss: 6.3114 - y_start_output_acc: 1.0000 - y_end_output_acc: 1.0000 - y_rep_output_acc: 1.0000\n",
      "Epoch 34/50\n",
      "2/2 [==============================] - 0s 76ms/step - loss: 6.0593 - y_start_output_loss: 0.0013 - y_end_output_loss: 0.0029 - y_rep_output_loss: 6.0551 - y_start_output_acc: 1.0000 - y_end_output_acc: 1.0000 - y_rep_output_acc: 1.0000\n",
      "Epoch 35/50\n",
      "2/2 [==============================] - 0s 88ms/step - loss: 5.8032 - y_start_output_loss: 0.0012 - y_end_output_loss: 0.0027 - y_rep_output_loss: 5.7993 - y_start_output_acc: 1.0000 - y_end_output_acc: 1.0000 - y_rep_output_acc: 1.0000\n",
      "Epoch 36/50\n",
      "2/2 [==============================] - 0s 75ms/step - loss: 5.5476 - y_start_output_loss: 0.0011 - y_end_output_loss: 0.0025 - y_rep_output_loss: 5.5439 - y_start_output_acc: 1.0000 - y_end_output_acc: 1.0000 - y_rep_output_acc: 1.0000\n",
      "Epoch 37/50\n",
      "2/2 [==============================] - 0s 78ms/step - loss: 5.2928 - y_start_output_loss: 0.0011 - y_end_output_loss: 0.0023 - y_rep_output_loss: 5.2894 - y_start_output_acc: 1.0000 - y_end_output_acc: 1.0000 - y_rep_output_acc: 1.0000\n",
      "Epoch 38/50\n",
      "2/2 [==============================] - 0s 72ms/step - loss: 5.0393 - y_start_output_loss: 0.0010 - y_end_output_loss: 0.0022 - y_rep_output_loss: 5.0361 - y_start_output_acc: 1.0000 - y_end_output_acc: 1.0000 - y_rep_output_acc: 1.0000\n",
      "Epoch 39/50\n",
      "2/2 [==============================] - 0s 77ms/step - loss: 4.7876 - y_start_output_loss: 9.9925e-04 - y_end_output_loss: 0.0021 - y_rep_output_loss: 4.7846 - y_start_output_acc: 1.0000 - y_end_output_acc: 1.0000 - y_rep_output_acc: 1.0000\n",
      "Epoch 40/50\n",
      "2/2 [==============================] - 0s 73ms/step - loss: 4.5383 - y_start_output_loss: 9.6464e-04 - y_end_output_loss: 0.0019 - y_rep_output_loss: 4.5354 - y_start_output_acc: 1.0000 - y_end_output_acc: 1.0000 - y_rep_output_acc: 1.0000\n",
      "Epoch 41/50\n",
      "2/2 [==============================] - 0s 73ms/step - loss: 4.2919 - y_start_output_loss: 9.3386e-04 - y_end_output_loss: 0.0019 - y_rep_output_loss: 4.2891 - y_start_output_acc: 1.0000 - y_end_output_acc: 1.0000 - y_rep_output_acc: 1.0000\n",
      "Epoch 42/50\n",
      "2/2 [==============================] - 0s 73ms/step - loss: 4.0493 - y_start_output_loss: 9.0641e-04 - y_end_output_loss: 0.0018 - y_rep_output_loss: 4.0466 - y_start_output_acc: 1.0000 - y_end_output_acc: 1.0000 - y_rep_output_acc: 1.0000\n",
      "Epoch 43/50\n",
      "2/2 [==============================] - 0s 71ms/step - loss: 3.8109 - y_start_output_loss: 8.8177e-04 - y_end_output_loss: 0.0017 - y_rep_output_loss: 3.8083 - y_start_output_acc: 1.0000 - y_end_output_acc: 1.0000 - y_rep_output_acc: 1.0000\n",
      "Epoch 44/50\n",
      "2/2 [==============================] - 0s 72ms/step - loss: 3.5782 - y_start_output_loss: 8.5952e-04 - y_end_output_loss: 0.0016 - y_rep_output_loss: 3.5757 - y_start_output_acc: 1.0000 - y_end_output_acc: 1.0000 - y_rep_output_acc: 1.0000\n",
      "Epoch 45/50\n",
      "2/2 [==============================] - 0s 77ms/step - loss: 3.3523 - y_start_output_loss: 8.3924e-04 - y_end_output_loss: 0.0016 - y_rep_output_loss: 3.3499 - y_start_output_acc: 1.0000 - y_end_output_acc: 1.0000 - y_rep_output_acc: 1.0000\n",
      "Epoch 46/50\n",
      "2/2 [==============================] - 0s 76ms/step - loss: 3.1342 - y_start_output_loss: 8.2086e-04 - y_end_output_loss: 0.0015 - y_rep_output_loss: 3.1319 - y_start_output_acc: 1.0000 - y_end_output_acc: 1.0000 - y_rep_output_acc: 1.0000\n",
      "Epoch 47/50\n",
      "2/2 [==============================] - 0s 77ms/step - loss: 2.9256 - y_start_output_loss: 8.0398e-04 - y_end_output_loss: 0.0015 - y_rep_output_loss: 2.9233 - y_start_output_acc: 1.0000 - y_end_output_acc: 1.0000 - y_rep_output_acc: 1.0000\n",
      "Epoch 48/50\n",
      "2/2 [==============================] - 0s 74ms/step - loss: 2.7275 - y_start_output_loss: 7.8853e-04 - y_end_output_loss: 0.0014 - y_rep_output_loss: 2.7253 - y_start_output_acc: 1.0000 - y_end_output_acc: 1.0000 - y_rep_output_acc: 1.0000\n",
      "Epoch 49/50\n",
      "2/2 [==============================] - 0s 78ms/step - loss: 2.5413 - y_start_output_loss: 7.7448e-04 - y_end_output_loss: 0.0014 - y_rep_output_loss: 2.5391 - y_start_output_acc: 1.0000 - y_end_output_acc: 1.0000 - y_rep_output_acc: 1.0000\n",
      "Epoch 50/50\n",
      "2/2 [==============================] - 0s 73ms/step - loss: 2.3681 - y_start_output_loss: 7.6133e-04 - y_end_output_loss: 0.0013 - y_rep_output_loss: 2.3660 - y_start_output_acc: 1.0000 - y_end_output_acc: 1.0000 - y_rep_output_acc: 1.0000\n"
     ]
    }
   ],
   "source": [
    "#### define & train model\n",
    "\n",
    "model = Model(inputs = [main_input, orig_input, repl_input], outputs = [y_start_output, y_end_output, y_rep_output])\n",
    "\n",
    "model.compile(optimizer = 'adam',\n",
    "             loss = 'categorical_crossentropy',\n",
    "             metrics = ['accuracy'])\n",
    "\n",
    "history = model.fit([X, y_orig, y_rep], [y_start, y_end, y_rep_cat], epochs = epochs, batch_size = batch_size)"
   ]
  },
  {
   "cell_type": "code",
   "execution_count": 30,
   "metadata": {
    "scrolled": true
   },
   "outputs": [
    {
     "name": "stdout",
     "output_type": "stream",
     "text": [
      "__________________________________________________________________________________________________\n",
      "Layer (type)                    Output Shape         Param #     Connected to                     \n",
      "==================================================================================================\n",
      "main_input (InputLayer)         (None, 10)           0                                            \n",
      "__________________________________________________________________________________________________\n",
      "repl_input (InputLayer)         (None, 4)            0                                            \n",
      "__________________________________________________________________________________________________\n",
      "orig_input (InputLayer)         (None, 4)            0                                            \n",
      "__________________________________________________________________________________________________\n",
      "embedding_layer (Embedding)     multiple             120000900   main_input[0][0]                 \n",
      "                                                                 repl_input[0][0]                 \n",
      "                                                                 orig_input[0][0]                 \n",
      "__________________________________________________________________________________________________\n",
      "encoder (Bidirectional)         [(None, 128), (None, 186880      embedding_layer[2][0]            \n",
      "__________________________________________________________________________________________________\n",
      "concatenate_13 (Concatenate)    (None, 128)          0           encoder[0][1]                    \n",
      "                                                                 encoder[0][3]                    \n",
      "__________________________________________________________________________________________________\n",
      "concatenate_14 (Concatenate)    (None, 128)          0           encoder[0][2]                    \n",
      "                                                                 encoder[0][4]                    \n",
      "__________________________________________________________________________________________________\n",
      "lstm (Bidirectional)            (None, 128)          186880      embedding_layer[0][0]            \n",
      "__________________________________________________________________________________________________\n",
      "decoder (LSTM)                  [(None, 4, 128), (No 219648      embedding_layer[1][0]            \n",
      "                                                                 concatenate_13[0][0]             \n",
      "                                                                 concatenate_14[0][0]             \n",
      "__________________________________________________________________________________________________\n",
      "y_start_output (Dense)          (None, 10)           1290        lstm[0][0]                       \n",
      "__________________________________________________________________________________________________\n",
      "y_end_output (Dense)            (None, 10)           1290        lstm[0][0]                       \n",
      "__________________________________________________________________________________________________\n",
      "y_rep_output (TimeDistributed)  (None, 4, 400003)    51600387    decoder[0][0]                    \n",
      "==================================================================================================\n",
      "Total params: 172,197,275\n",
      "Trainable params: 52,196,375\n",
      "Non-trainable params: 120,000,900\n",
      "__________________________________________________________________________________________________\n"
     ]
    }
   ],
   "source": [
    "model.summary()"
   ]
  },
  {
   "cell_type": "code",
   "execution_count": 15,
   "metadata": {},
   "outputs": [
    {
     "data": {
      "text/plain": [
       "<matplotlib.legend.Legend at 0x7fd989172320>"
      ]
     },
     "execution_count": 15,
     "metadata": {},
     "output_type": "execute_result"
    },
    {
     "data": {
      "image/png": "[encoded data removed]",
      "text/plain": [
       "<Figure size 432x288 with 1 Axes>"
      ]
     },
     "metadata": {
      "needs_background": "light"
     },
     "output_type": "display_data"
    }
   ],
   "source": [
    "plt.plot(history.history['y_start_output_acc'], label='y_start accuracy')\n",
    "plt.plot(history.history['y_end_output_acc'], label='y_end accuracy')\n",
    "plt.title('Accuracy')\n",
    "plt.xlabel('epochs')\n",
    "plt.ylabel('accuracy')\n",
    "plt.legend()"
   ]
  },
  {
   "cell_type": "code",
   "execution_count": 16,
   "metadata": {},
   "outputs": [
    {
     "data": {
      "text/plain": [
       "<matplotlib.legend.Legend at 0x7fd989153ac8>"
      ]
     },
     "execution_count": 16,
     "metadata": {},
     "output_type": "execute_result"
    },
    {
     "data": {
      "image/png": "[encoded data removed]",
      "text/plain": [
       "<Figure size 432x288 with 1 Axes>"
      ]
     },
     "metadata": {
      "needs_background": "light"
     },
     "output_type": "display_data"
    }
   ],
   "source": [
    "plt.plot(history.history['loss'], label='overall train loss')\n",
    "plt.plot(history.history['y_start_output_loss'], label='y_start loss')\n",
    "plt.plot(history.history['y_end_output_loss'], label='y_end loss')\n",
    "plt.title('Loss')\n",
    "plt.xlabel('epochs')\n",
    "plt.ylabel('loss')\n",
    "plt.legend()"
   ]
  },
  {
   "cell_type": "markdown",
   "metadata": {},
   "source": [
    "# tbd"
   ]
  },
  {
   "cell_type": "code",
   "execution_count": 81,
   "metadata": {
    "scrolled": true
   },
   "outputs": [
    {
     "ename": "ValueError",
     "evalue": "Input 0 is incompatible with layer bidirectional_41: expected ndim=3, found ndim=2",
     "output_type": "error",
     "traceback": [
      "\u001b[0;31m---------------------------------------------------------------------------\u001b[0m",
      "\u001b[0;31mValueError\u001b[0m                                Traceback (most recent call last)",
      "\u001b[0;32m<ipython-input-81-e520fdd52224>\u001b[0m in \u001b[0;36m<module>\u001b[0;34m\u001b[0m\n\u001b[1;32m      9\u001b[0m \u001b[0;31m#lstm_out = LSTM(32)(x)\u001b[0m\u001b[0;34m\u001b[0m\u001b[0;34m\u001b[0m\u001b[0m\n\u001b[1;32m     10\u001b[0m \u001b[0;34m\u001b[0m\u001b[0m\n\u001b[0;32m---> 11\u001b[0;31m \u001b[0mlstm_1\u001b[0m \u001b[0;34m=\u001b[0m \u001b[0mBidirectional\u001b[0m\u001b[0;34m(\u001b[0m\u001b[0mLSTM\u001b[0m\u001b[0;34m(\u001b[0m\u001b[0mreturn_sequences\u001b[0m \u001b[0;34m=\u001b[0m \u001b[0;32mFalse\u001b[0m\u001b[0;34m,\u001b[0m \u001b[0mname\u001b[0m \u001b[0;34m=\u001b[0m \u001b[0;34m\"lstm_1\"\u001b[0m\u001b[0;34m,\u001b[0m \u001b[0munits\u001b[0m \u001b[0;34m=\u001b[0m \u001b[0mnum_units\u001b[0m\u001b[0;34m)\u001b[0m\u001b[0;34m)\u001b[0m\u001b[0;34m(\u001b[0m\u001b[0mmain_input\u001b[0m\u001b[0;34m)\u001b[0m\u001b[0;34m\u001b[0m\u001b[0m\n\u001b[0m\u001b[1;32m     12\u001b[0m \u001b[0;31m#decoder = Bidirectional(LSTM(return_sequences = False, name = \"decoder\", units = seq_len))(encoder)\u001b[0m\u001b[0;34m\u001b[0m\u001b[0;34m\u001b[0m\u001b[0m\n\u001b[1;32m     13\u001b[0m \u001b[0;34m\u001b[0m\u001b[0m\n",
      "\u001b[0;32m~/.local/lib/python3.5/site-packages/keras/layers/wrappers.py\u001b[0m in \u001b[0;36m__call__\u001b[0;34m(self, inputs, initial_state, constants, **kwargs)\u001b[0m\n\u001b[1;32m    425\u001b[0m \u001b[0;34m\u001b[0m\u001b[0m\n\u001b[1;32m    426\u001b[0m         \u001b[0;32mif\u001b[0m \u001b[0minitial_state\u001b[0m \u001b[0;32mis\u001b[0m \u001b[0;32mNone\u001b[0m \u001b[0;32mand\u001b[0m \u001b[0mconstants\u001b[0m \u001b[0;32mis\u001b[0m \u001b[0;32mNone\u001b[0m\u001b[0;34m:\u001b[0m\u001b[0;34m\u001b[0m\u001b[0m\n\u001b[0;32m--> 427\u001b[0;31m             \u001b[0;32mreturn\u001b[0m \u001b[0msuper\u001b[0m\u001b[0;34m(\u001b[0m\u001b[0mBidirectional\u001b[0m\u001b[0;34m,\u001b[0m \u001b[0mself\u001b[0m\u001b[0;34m)\u001b[0m\u001b[0;34m.\u001b[0m\u001b[0m__call__\u001b[0m\u001b[0;34m(\u001b[0m\u001b[0minputs\u001b[0m\u001b[0;34m,\u001b[0m \u001b[0;34m**\u001b[0m\u001b[0mkwargs\u001b[0m\u001b[0;34m)\u001b[0m\u001b[0;34m\u001b[0m\u001b[0m\n\u001b[0m\u001b[1;32m    428\u001b[0m \u001b[0;34m\u001b[0m\u001b[0m\n\u001b[1;32m    429\u001b[0m         \u001b[0;31m# Applies the same workaround as in `RNN.__call__`\u001b[0m\u001b[0;34m\u001b[0m\u001b[0;34m\u001b[0m\u001b[0m\n",
      "\u001b[0;32m~/.local/lib/python3.5/site-packages/keras/engine/base_layer.py\u001b[0m in \u001b[0;36m__call__\u001b[0;34m(self, inputs, **kwargs)\u001b[0m\n\u001b[1;32m    412\u001b[0m                 \u001b[0;31m# Raise exceptions in case the input is not compatible\u001b[0m\u001b[0;34m\u001b[0m\u001b[0;34m\u001b[0m\u001b[0m\n\u001b[1;32m    413\u001b[0m                 \u001b[0;31m# with the input_spec specified in the layer constructor.\u001b[0m\u001b[0;34m\u001b[0m\u001b[0;34m\u001b[0m\u001b[0m\n\u001b[0;32m--> 414\u001b[0;31m                 \u001b[0mself\u001b[0m\u001b[0;34m.\u001b[0m\u001b[0massert_input_compatibility\u001b[0m\u001b[0;34m(\u001b[0m\u001b[0minputs\u001b[0m\u001b[0;34m)\u001b[0m\u001b[0;34m\u001b[0m\u001b[0m\n\u001b[0m\u001b[1;32m    415\u001b[0m \u001b[0;34m\u001b[0m\u001b[0m\n\u001b[1;32m    416\u001b[0m                 \u001b[0;31m# Collect input shapes to build layer.\u001b[0m\u001b[0;34m\u001b[0m\u001b[0;34m\u001b[0m\u001b[0m\n",
      "\u001b[0;32m~/.local/lib/python3.5/site-packages/keras/engine/base_layer.py\u001b[0m in \u001b[0;36massert_input_compatibility\u001b[0;34m(self, inputs)\u001b[0m\n\u001b[1;32m    309\u001b[0m                                      \u001b[0mself\u001b[0m\u001b[0;34m.\u001b[0m\u001b[0mname\u001b[0m \u001b[0;34m+\u001b[0m \u001b[0;34m': expected ndim='\u001b[0m \u001b[0;34m+\u001b[0m\u001b[0;34m\u001b[0m\u001b[0m\n\u001b[1;32m    310\u001b[0m                                      \u001b[0mstr\u001b[0m\u001b[0;34m(\u001b[0m\u001b[0mspec\u001b[0m\u001b[0;34m.\u001b[0m\u001b[0mndim\u001b[0m\u001b[0;34m)\u001b[0m \u001b[0;34m+\u001b[0m \u001b[0;34m', found ndim='\u001b[0m \u001b[0;34m+\u001b[0m\u001b[0;34m\u001b[0m\u001b[0m\n\u001b[0;32m--> 311\u001b[0;31m                                      str(K.ndim(x)))\n\u001b[0m\u001b[1;32m    312\u001b[0m             \u001b[0;32mif\u001b[0m \u001b[0mspec\u001b[0m\u001b[0;34m.\u001b[0m\u001b[0mmax_ndim\u001b[0m \u001b[0;32mis\u001b[0m \u001b[0;32mnot\u001b[0m \u001b[0;32mNone\u001b[0m\u001b[0;34m:\u001b[0m\u001b[0;34m\u001b[0m\u001b[0m\n\u001b[1;32m    313\u001b[0m                 \u001b[0mndim\u001b[0m \u001b[0;34m=\u001b[0m \u001b[0mK\u001b[0m\u001b[0;34m.\u001b[0m\u001b[0mndim\u001b[0m\u001b[0;34m(\u001b[0m\u001b[0mx\u001b[0m\u001b[0;34m)\u001b[0m\u001b[0;34m\u001b[0m\u001b[0m\n",
      "\u001b[0;31mValueError\u001b[0m: Input 0 is incompatible with layer bidirectional_41: expected ndim=3, found ndim=2"
     ]
    }
   ],
   "source": [
    "main_input = Input(shape=(seq_len,), dtype='float32', name='main_input')\n",
    "\n",
    "lstm_1 = Bidirectional(LSTM(return_sequences = False, name = \"lstm_1\", units = num_units))(main_input)\n",
    "#decoder = Bidirectional(LSTM(return_sequences = False, name = \"decoder\", units = seq_len))(encoder)\n",
    "\n",
    "index_output = Dense(1, activation = 'sigmoid', name = 'index_output')(lstm_1)\n",
    "#dense = TimeDistributed(Dense(1, activation='softmax', name='time_dist_dense'))(decoder)\n",
    "#decoder = PointerLSTM(num_units, name = \"decoder\", units = 5)(encoder)\n",
    "\n",
    "reshape_idx = Reshape((1, 1))(index_output)\n",
    "return_input = concatenate([reshape_idx, main_input], axis=1)\n",
    "\n",
    "lstm_2 = Bidirectional(LSTM(return_sequences = False, name = \"lstm_2\", units = num_units))(return_input)\n",
    "final_output = Dense(1, activation = 'sigmoid', name = 'final_output')(lstm_2)\n",
    "\n",
    "model = Model(inputs = main_input, outputs = [index_output, final_output])\n",
    "model.compile(optimizer = 'adam',\n",
    "             loss = 'sparse_categorical_crossentropy',\n",
    "             loss_weights = [1., .5],\n",
    "             metrics = ['accuracy'])\n",
    "\n",
    "history = model.fit(X, [y_idx, y_rep], epochs = epochs, batch_size = batch_size)\n",
    "\n",
    "#history = model.fit_generator(datagen.flow(x_train, y_train, batch_size=batch_size), epochs=epochs,\n",
    "#validation_data=(x_test, y_test), steps_per_epoch=x_train.shape[0]//batch_size)"
   ]
  },
  {
   "cell_type": "code",
   "execution_count": null,
   "metadata": {},
   "outputs": [],
   "source": [
    "# https://towardsdatascience.com/light-on-math-ml-attention-with-keras-dc8dbc1fad39\n",
    "\n",
    "class AttentionLayer(Layer):\n",
    "    \"\"\"\n",
    "    This class implements Bahdanau attention (https://arxiv.org/pdf/1409.0473.pdf).\n",
    "    There are three sets of weights introduced W_a, U_a, and V_a\n",
    "     \"\"\"\n",
    "\n",
    "    def __init__(self, **kwargs):\n",
    "        super(AttentionLayer, self).__init__(**kwargs)\n",
    "\n",
    "    def build(self, input_shape):\n",
    "        assert isinstance(input_shape, list)\n",
    "        # Create a trainable weight variable for this layer.\n",
    "\n",
    "        self.W_a = self.add_weight(name='W_a',\n",
    "                                   shape=tf.TensorShape((input_shape[0][2], input_shape[0][2])),\n",
    "                                   initializer='uniform',\n",
    "                                   trainable=True)\n",
    "        self.U_a = self.add_weight(name='U_a',\n",
    "                                   shape=tf.TensorShape((input_shape[1][2], input_shape[0][2])),\n",
    "                                   initializer='uniform',\n",
    "                                   trainable=True)\n",
    "        self.V_a = self.add_weight(name='V_a',\n",
    "                                   shape=tf.TensorShape((input_shape[0][2], 1)),\n",
    "                                   initializer='uniform',\n",
    "                                   trainable=True)\n",
    "\n",
    "        super(AttentionLayer, self).build(input_shape)  # Be sure to call this at the end\n",
    "\n",
    "    def call(self, inputs, verbose=False):\n",
    "        \"\"\"\n",
    "        inputs: [encoder_output_sequence, decoder_output_sequence]\n",
    "        \"\"\"\n",
    "        assert type(inputs) == list\n",
    "        encoder_out_seq, decoder_out_seq = inputs\n",
    "        if verbose:\n",
    "            print('encoder_out_seq>', encoder_out_seq.shape)\n",
    "            print('decoder_out_seq>', decoder_out_seq.shape)\n",
    "\n",
    "        def energy_step(inputs, states):\n",
    "            \"\"\" Step function for computing energy for a single decoder state \"\"\"\n",
    "\n",
    "            assert_msg = \"States must be a list. However states {} is of type {}\".format(states, type(states))\n",
    "            assert isinstance(states, list) or isinstance(states, tuple), assert_msg\n",
    "\n",
    "            \"\"\" Some parameters required for shaping tensors\"\"\"\n",
    "            en_seq_len, en_hidden = encoder_out_seq.shape[1], encoder_out_seq.shape[2]\n",
    "            de_hidden = inputs.shape[-1]\n",
    "\n",
    "            \"\"\" Computing S.Wa where S=[s0, s1, ..., si]\"\"\"\n",
    "            # <= batch_size*en_seq_len, latent_dim\n",
    "            reshaped_enc_outputs = K.reshape(encoder_out_seq, (-1, en_hidden))\n",
    "            # <= batch_size*en_seq_len, latent_dim\n",
    "            W_a_dot_s = K.reshape(K.dot(reshaped_enc_outputs, self.W_a), (-1, en_seq_len, en_hidden))\n",
    "            if verbose:\n",
    "                print('wa.s>',W_a_dot_s.shape)\n",
    "\n",
    "            \"\"\" Computing hj.Ua \"\"\"\n",
    "            U_a_dot_h = K.expand_dims(K.dot(inputs, self.U_a), 1)  # <= batch_size, 1, latent_dim\n",
    "            if verbose:\n",
    "                print('Ua.h>',U_a_dot_h.shape)\n",
    "\n",
    "            \"\"\" tanh(S.Wa + hj.Ua) \"\"\"\n",
    "            # <= batch_size*en_seq_len, latent_dim\n",
    "            reshaped_Ws_plus_Uh = K.tanh(K.reshape(W_a_dot_s + U_a_dot_h, (-1, en_hidden)))\n",
    "            if verbose:\n",
    "                print('Ws+Uh>', reshaped_Ws_plus_Uh.shape)\n",
    "\n",
    "            \"\"\" softmax(va.tanh(S.Wa + hj.Ua)) \"\"\"\n",
    "            # <= batch_size, en_seq_len\n",
    "            e_i = K.reshape(K.dot(reshaped_Ws_plus_Uh, self.V_a), (-1, en_seq_len))\n",
    "            # <= batch_size, en_seq_len\n",
    "            e_i = K.softmax(e_i)\n",
    "\n",
    "            if verbose:\n",
    "                print('ei>', e_i.shape)\n",
    "\n",
    "            return e_i, [e_i]\n",
    "\n",
    "        def context_step(inputs, states):\n",
    "            \"\"\" Step function for computing ci using ei \"\"\"\n",
    "            # <= batch_size, hidden_size\n",
    "            c_i = K.sum(encoder_out_seq * K.expand_dims(inputs, -1), axis=1)\n",
    "            if verbose:\n",
    "                print('ci>', c_i.shape)\n",
    "            return c_i, [c_i]\n",
    "\n",
    "        def create_inital_state(inputs, hidden_size):\n",
    "            # We are not using initial states, but need to pass something to K.rnn funciton\n",
    "            fake_state = K.zeros_like(inputs)  # <= (batch_size, enc_seq_len, latent_dim\n",
    "            fake_state = K.sum(fake_state, axis=[1, 2])  # <= (batch_size)\n",
    "            fake_state = K.expand_dims(fake_state)  # <= (batch_size, 1)\n",
    "            fake_state = K.tile(fake_state, [1, hidden_size])  # <= (batch_size, latent_dim\n",
    "            return fake_state\n",
    "\n",
    "        fake_state_c = create_inital_state(encoder_out_seq, encoder_out_seq.shape[-1])\n",
    "        fake_state_e = create_inital_state(encoder_out_seq, encoder_out_seq.shape[1])  # <= (batch_size, enc_seq_len, latent_dim\n",
    "\n",
    "        \"\"\" Computing energy outputs \"\"\"\n",
    "        # e_outputs => (batch_size, de_seq_len, en_seq_len)\n",
    "        last_out, e_outputs, _ = K.rnn(\n",
    "            energy_step, decoder_out_seq, [fake_state_e],\n",
    "        )\n",
    "\n",
    "        \"\"\" Computing context vectors \"\"\"\n",
    "        last_out, c_outputs, _ = K.rnn(\n",
    "            context_step, e_outputs, [fake_state_c],\n",
    "        )\n",
    "\n",
    "        return c_outputs, e_outputs\n",
    "\n",
    "    def compute_output_shape(self, input_shape):\n",
    "        \"\"\" Outputs produced by the layer \"\"\"\n",
    "        return [\n",
    "            tf.TensorShape((input_shape[1][0], input_shape[1][1], input_shape[1][2])),\n",
    "            tf.TensorShape((input_shape[1][0], input_shape[1][1], input_shape[0][1]))\n",
    "        ]"
   ]
  },
  {
   "cell_type": "code",
   "execution_count": 28,
   "metadata": {},
   "outputs": [],
   "source": [
    "class PointerLSTM(LSTM):\n",
    "    def __init__(self, hidden_shape, *args, **kwargs):\n",
    "        self.hidden_shape = hidden_shape\n",
    "        self.input_length = []\n",
    "        super(PointerLSTM, self).__init__(*args, **kwargs)\n",
    "\n",
    "    def get_initial_states(self, x_input):\n",
    "        return Recurrent.get_initial_state(self, x_input)\n",
    "\n",
    "    def build(self, input_shape):\n",
    "        super(PointerLSTM, self).build(input_shape)\n",
    "        self.input_spec = [InputSpec(shape=input_shape)]\n",
    "        self.W1 = self.add_weight(name=\"W1\",\n",
    "                                  shape=(self.hidden_shape, 1),\n",
    "                                  initializer=\"uniform\",\n",
    "                                  trainable=True)\n",
    "        self.W2 = self.add_weight(name=\"W2\",\n",
    "                                  shape=(self.hidden_shape, 1),\n",
    "                                  initializer=\"uniform\",\n",
    "                                  trainable=True)\n",
    "        self.vt = self.add_weight(name=\"vt\",\n",
    "                                  shape=(input_shape[1], 1),\n",
    "                                  initializer='uniform',\n",
    "                                  trainable=True)\n",
    "        #self.trainable_weights += [self.W1, self.W2, self.vt]\n",
    "\n",
    "    def call(self, x, mask=None):\n",
    "        input_shape = self.input_spec[0].shape\n",
    "        en_seq = x\n",
    "        x_input = x[:, input_shape[1] - 1, :]\n",
    "        x_input = K.repeat(x_input, input_shape[1])\n",
    "        initial_states = self.get_initial_states(x_input)\n",
    "\n",
    "        constants = super(PointerLSTM, self).get_constants(x_input)\n",
    "        constants.append(en_seq)\n",
    "        preprocessed_input = self.preprocess_input(x_input)\n",
    "\n",
    "        last_output, outputs, states = K.rnn(self.step, preprocessed_input,\n",
    "                                             initial_states,\n",
    "                                             go_backwards=self.go_backwards,\n",
    "                                             constants=constants,\n",
    "                                             input_length=input_shape[1])\n",
    "\n",
    "        return outputs\n",
    "\n",
    "    def step(self, x_input, states):\n",
    "        # print \"x_input:\", x_input, x_input.shape\n",
    "        # <TensorType(float32, matrix)>\n",
    "\n",
    "        input_shape = self.input_spec[0].shape\n",
    "        en_seq = states[-1]\n",
    "        _, [h, c] = super(PointerLSTM, self).step(x_input, states[:-1])\n",
    "\n",
    "        # vt*tanh(W1*e+W2*d)\n",
    "        dec_seq = K.repeat(h, input_shape[1])\n",
    "        Eij = TimeDistributed(Dense(en_seq, self.W1, output_dim=1))\n",
    "        Dij = TimeDistributed(Dense(dec_seq, self.W2, output_dim=1))\n",
    "        U = self.vt * tanh(Eij + Dij)\n",
    "        U = K.squeeze(U, 2)\n",
    "\n",
    "        # make probability tensor\n",
    "        pointer = softmax(U)\n",
    "        return pointer, [h, c]\n",
    "\n",
    "    def get_output_shape_for(self, input_shape):\n",
    "        # output shape is not affected by the attention component\n",
    "        return (input_shape[0], input_shape[1], input_shape[1])\n",
    "\n",
    "    def compute_output_shape(self, input_shape):\n",
    "        return (input_shape[0], input_shape[1], input_shape[1])"
   ]
  },
  {
   "cell_type": "code",
   "execution_count": null,
   "metadata": {},
   "outputs": [],
   "source": [
    "import numpy as np\n",
    "from keras.callbacks import LearningRateScheduler\n",
    "from keras.layers import LSTM, Input\n",
    "from keras.models import Model\n",
    "from keras.utils.np_utils import to_categorical\n",
    "\n",
    "from PointerLSTM import PointerLSTM\n",
    "from tsp_data import Tsp\n",
    "\n",
    "\n",
    "def scheduler(epoch):\n",
    "    if epoch < nb_epochs / 4:\n",
    "        return learning_rate\n",
    "    elif epoch < nb_epochs / 2:\n",
    "        return learning_rate * 0.5\n",
    "    return learning_rate * 0.1\n",
    "\n",
    "\n",
    "print(\"preparing dataset...\")\n",
    "t = Tsp()\n",
    "X, Y = t.next_batch(10)\n",
    "x_test, y_test = t.next_batch(1)\n",
    "\n",
    "YY = []\n",
    "for y in Y:\n",
    "    YY.append(to_categorical(y))\n",
    "YY = np.asarray(YY)\n",
    "\n",
    "hidden_size = 128\n",
    "seq_len = 10\n",
    "nb_epochs = 10\n",
    "learning_rate = 0.1\n",
    "\n",
    "print(\"building model...\")\n",
    "main_input = Input(shape=(seq_len, 2), name='main_input')\n",
    "\n",
    "# encoder = LSTM(output_dim = hidden_size, return_sequences = True, name=\"encoder\")(main_input)\n",
    "encoder = LSTM(units=hidden_size, return_sequences=True, name=\"encoder\")(main_input)\n",
    "# decoder = PointerLSTM(hidden_size, output_dim=hidden_size, name=\"decoder\")(encoder)\n",
    "decoder = PointerLSTM(hidden_shape=hidden_size, units=hidden_size, name=\"decoder\")(encoder)\n",
    "\n",
    "model = Model(inputs=main_input, outputs=decoder)\n",
    "model.compile(optimizer='adadelta',\n",
    "              loss='categorical_crossentropy',\n",
    "              metrics=['accuracy'])\n",
    "\n",
    "model.fit(X, YY, epochs=nb_epochs, batch_size=64, callbacks=[LearningRateScheduler(scheduler), ])\n",
    "print(model.predict(x_test))\n",
    "print(\"------\")\n",
    "print(to_categorical(y_test))\n",
    "model.save_weights('model_weight_100.hdf5')"
   ]
  }
 ],
 "metadata": {
  "kernelspec": {
   "display_name": "Python 3",
   "language": "python",
   "name": "python3"
  },
  "language_info": {
   "codemirror_mode": {
    "name": "ipython",
    "version": 3
   },
   "file_extension": ".py",
   "mimetype": "text/x-python",
   "name": "python",
   "nbconvert_exporter": "python",
   "pygments_lexer": "ipython3",
   "version": "3.5.2"
  }
 },
 "nbformat": 4,
 "nbformat_minor": 2
}
