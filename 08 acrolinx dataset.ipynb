{
 "cells": [
  {
   "cell_type": "code",
   "execution_count": 5,
   "metadata": {},
   "outputs": [
    {
     "data": {
      "application/vnd.jupyter.widget-view+json": {
       "model_id": "ae217e1d8e2540259e925a7690e71003",
       "version_major": 2,
       "version_minor": 0
      },
      "text/plain": [
       "HBox(children=(IntProgress(value=1, bar_style='info', max=1), HTML(value='')))"
      ]
     },
     "metadata": {},
     "output_type": "display_data"
    },
    {
     "name": "stdout",
     "output_type": "stream",
     "text": [
      "\n"
     ]
    }
   ],
   "source": [
    "import xml.etree.ElementTree as ET\n",
    "import pandas as pd\n",
    "import numpy as np\n",
    "from tqdm import tqdm_notebook as tqdm\n",
    "from ast import literal_eval\n",
    "from html.parser import HTMLParser\n",
    "import pickle\n",
    "from nltk import sent_tokenize, word_tokenize\n",
    "import random\n",
    "\n",
    "tqdm().pandas()"
   ]
  },
  {
   "cell_type": "markdown",
   "metadata": {},
   "source": [
    "# read XML file and put into pd df"
   ]
  },
  {
   "cell_type": "code",
   "execution_count": 84,
   "metadata": {},
   "outputs": [],
   "source": [
    "acrofile = 'data/acrolinx.WordPress.2019-05-21.xml'"
   ]
  },
  {
   "cell_type": "code",
   "execution_count": 85,
   "metadata": {},
   "outputs": [],
   "source": [
    "tree = ET.parse(acrofile)\n",
    "root = tree.getroot()\n",
    "channel = tree.find('channel')"
   ]
  },
  {
   "cell_type": "code",
   "execution_count": 86,
   "metadata": {},
   "outputs": [],
   "source": [
    "titles = []\n",
    "dates = []\n",
    "categories = []\n",
    "texts = []\n",
    "\n",
    "for item in channel:\n",
    "    if item.tag == 'item':\n",
    "        titles.append(item.find('title').text)\n",
    "        dates.append(item.find('pubDate').text)\n",
    "        \n",
    "        texts.append(item.find('{http://purl.org/rss/1.0/modules/content/}encoded').text)\n",
    "        \n",
    "        cats = []\n",
    "        for child in item:\n",
    "            if child.tag == 'category':\n",
    "                cats.append(child.text)\n",
    "        categories.append(list(set(cats)))"
   ]
  },
  {
   "cell_type": "code",
   "execution_count": 87,
   "metadata": {},
   "outputs": [],
   "source": [
    "assert len(titles) == len(dates) == len(categories) == len(texts)"
   ]
  },
  {
   "cell_type": "code",
   "execution_count": 88,
   "metadata": {},
   "outputs": [],
   "source": [
    "df = pd.DataFrame({'title': titles, \n",
    "                  'pubdate': dates,\n",
    "                  'cats': categories,\n",
    "                  'text': texts})"
   ]
  },
  {
   "cell_type": "code",
   "execution_count": 89,
   "metadata": {},
   "outputs": [
    {
     "data": {
      "text/html": [
       "<div>\n",
       "<style scoped>\n",
       "    .dataframe tbody tr th:only-of-type {\n",
       "        vertical-align: middle;\n",
       "    }\n",
       "\n",
       "    .dataframe tbody tr th {\n",
       "        vertical-align: top;\n",
       "    }\n",
       "\n",
       "    .dataframe thead th {\n",
       "        text-align: right;\n",
       "    }\n",
       "</style>\n",
       "<table border=\"1\" class=\"dataframe\">\n",
       "  <thead>\n",
       "    <tr style=\"text-align: right;\">\n",
       "      <th></th>\n",
       "      <th>cats</th>\n",
       "      <th>pubdate</th>\n",
       "      <th>text</th>\n",
       "      <th>title</th>\n",
       "    </tr>\n",
       "  </thead>\n",
       "  <tbody>\n",
       "    <tr>\n",
       "      <th>0</th>\n",
       "      <td>[Content Marketing, Tech Comm, Blog]</td>\n",
       "      <td>Thu, 20 Nov 2014 12:49:29 +0000</td>\n",
       "      <td>Imagine that you’ve just written what you beli...</td>\n",
       "      <td>10 Questions You’ve Got to Ask Yourself Before...</td>\n",
       "    </tr>\n",
       "    <tr>\n",
       "      <th>1</th>\n",
       "      <td>[Content Marketing, Tech Comm, Love of Languag...</td>\n",
       "      <td>Mon, 17 Nov 2014 12:51:04 +0000</td>\n",
       "      <td>We recently shared &lt;a href=\"https://www.acroli...</td>\n",
       "      <td>Problem Words that Give Writers Trouble (Part 2)</td>\n",
       "    </tr>\n",
       "    <tr>\n",
       "      <th>2</th>\n",
       "      <td>[Content Marketing, Tech Comm, Love of Languag...</td>\n",
       "      <td>Thu, 13 Nov 2014 12:52:27 +0000</td>\n",
       "      <td>Even the best writers can get tripped up somet...</td>\n",
       "      <td>Problem Words that Give Writers Trouble (Part 1)</td>\n",
       "    </tr>\n",
       "    <tr>\n",
       "      <th>3</th>\n",
       "      <td>[Content Marketing, Tech Comm, Love of Languag...</td>\n",
       "      <td>Mon, 10 Nov 2014 12:55:17 +0000</td>\n",
       "      <td>Part of being a good content marketer is being...</td>\n",
       "      <td>6 Great Free (or Nearly Free) Tools for Conten...</td>\n",
       "    </tr>\n",
       "    <tr>\n",
       "      <th>4</th>\n",
       "      <td>[Content Marketing, Tech Comm, Love of Languag...</td>\n",
       "      <td>Fri, 07 Nov 2014 12:57:14 +0000</td>\n",
       "      <td>Have you ever heard of Amy Cuddy? In addition ...</td>\n",
       "      <td>Why Writers Should Care About Their Posture</td>\n",
       "    </tr>\n",
       "  </tbody>\n",
       "</table>\n",
       "</div>"
      ],
      "text/plain": [
       "                                                cats  \\\n",
       "0               [Content Marketing, Tech Comm, Blog]   \n",
       "1  [Content Marketing, Tech Comm, Love of Languag...   \n",
       "2  [Content Marketing, Tech Comm, Love of Languag...   \n",
       "3  [Content Marketing, Tech Comm, Love of Languag...   \n",
       "4  [Content Marketing, Tech Comm, Love of Languag...   \n",
       "\n",
       "                           pubdate  \\\n",
       "0  Thu, 20 Nov 2014 12:49:29 +0000   \n",
       "1  Mon, 17 Nov 2014 12:51:04 +0000   \n",
       "2  Thu, 13 Nov 2014 12:52:27 +0000   \n",
       "3  Mon, 10 Nov 2014 12:55:17 +0000   \n",
       "4  Fri, 07 Nov 2014 12:57:14 +0000   \n",
       "\n",
       "                                                text  \\\n",
       "0  Imagine that you’ve just written what you beli...   \n",
       "1  We recently shared <a href=\"https://www.acroli...   \n",
       "2  Even the best writers can get tripped up somet...   \n",
       "3  Part of being a good content marketer is being...   \n",
       "4  Have you ever heard of Amy Cuddy? In addition ...   \n",
       "\n",
       "                                               title  \n",
       "0  10 Questions You’ve Got to Ask Yourself Before...  \n",
       "1   Problem Words that Give Writers Trouble (Part 2)  \n",
       "2   Problem Words that Give Writers Trouble (Part 1)  \n",
       "3  6 Great Free (or Nearly Free) Tools for Conten...  \n",
       "4        Why Writers Should Care About Their Posture  "
      ]
     },
     "execution_count": 89,
     "metadata": {},
     "output_type": "execute_result"
    }
   ],
   "source": [
    "df.head()"
   ]
  },
  {
   "cell_type": "markdown",
   "metadata": {},
   "source": [
    "# text processing"
   ]
  },
  {
   "cell_type": "code",
   "execution_count": 90,
   "metadata": {
    "collapsed": true
   },
   "outputs": [
    {
     "data": {
      "text/html": [
       "<div>\n",
       "<style scoped>\n",
       "    .dataframe tbody tr th:only-of-type {\n",
       "        vertical-align: middle;\n",
       "    }\n",
       "\n",
       "    .dataframe tbody tr th {\n",
       "        vertical-align: top;\n",
       "    }\n",
       "\n",
       "    .dataframe thead th {\n",
       "        text-align: right;\n",
       "    }\n",
       "</style>\n",
       "<table border=\"1\" class=\"dataframe\">\n",
       "  <thead>\n",
       "    <tr style=\"text-align: right;\">\n",
       "      <th></th>\n",
       "      <th>cats</th>\n",
       "      <th>pubdate</th>\n",
       "      <th>text</th>\n",
       "      <th>title</th>\n",
       "    </tr>\n",
       "  </thead>\n",
       "  <tbody>\n",
       "    <tr>\n",
       "      <th>0</th>\n",
       "      <td>[Content Marketing, Tech Comm, Blog]</td>\n",
       "      <td>Thu, 20 Nov 2014 12:49:29 +0000</td>\n",
       "      <td>Imagine that you’ve just written what you beli...</td>\n",
       "      <td>10 Questions You’ve Got to Ask Yourself Before...</td>\n",
       "    </tr>\n",
       "    <tr>\n",
       "      <th>1</th>\n",
       "      <td>[Content Marketing, Tech Comm, Love of Languag...</td>\n",
       "      <td>Mon, 17 Nov 2014 12:51:04 +0000</td>\n",
       "      <td>We recently shared a post containing part 1 of...</td>\n",
       "      <td>Problem Words that Give Writers Trouble (Part 2)</td>\n",
       "    </tr>\n",
       "    <tr>\n",
       "      <th>2</th>\n",
       "      <td>[Content Marketing, Tech Comm, Love of Languag...</td>\n",
       "      <td>Thu, 13 Nov 2014 12:52:27 +0000</td>\n",
       "      <td>Even the best writers can get tripped up somet...</td>\n",
       "      <td>Problem Words that Give Writers Trouble (Part 1)</td>\n",
       "    </tr>\n",
       "    <tr>\n",
       "      <th>3</th>\n",
       "      <td>[Content Marketing, Tech Comm, Love of Languag...</td>\n",
       "      <td>Mon, 10 Nov 2014 12:55:17 +0000</td>\n",
       "      <td>Part of being a good content marketer is being...</td>\n",
       "      <td>6 Great Free (or Nearly Free) Tools for Conten...</td>\n",
       "    </tr>\n",
       "    <tr>\n",
       "      <th>4</th>\n",
       "      <td>[Content Marketing, Tech Comm, Love of Languag...</td>\n",
       "      <td>Fri, 07 Nov 2014 12:57:14 +0000</td>\n",
       "      <td>Have you ever heard of Amy Cuddy? In addition ...</td>\n",
       "      <td>Why Writers Should Care About Their Posture</td>\n",
       "    </tr>\n",
       "  </tbody>\n",
       "</table>\n",
       "</div>"
      ],
      "text/plain": [
       "                                                cats  \\\n",
       "0               [Content Marketing, Tech Comm, Blog]   \n",
       "1  [Content Marketing, Tech Comm, Love of Languag...   \n",
       "2  [Content Marketing, Tech Comm, Love of Languag...   \n",
       "3  [Content Marketing, Tech Comm, Love of Languag...   \n",
       "4  [Content Marketing, Tech Comm, Love of Languag...   \n",
       "\n",
       "                           pubdate  \\\n",
       "0  Thu, 20 Nov 2014 12:49:29 +0000   \n",
       "1  Mon, 17 Nov 2014 12:51:04 +0000   \n",
       "2  Thu, 13 Nov 2014 12:52:27 +0000   \n",
       "3  Mon, 10 Nov 2014 12:55:17 +0000   \n",
       "4  Fri, 07 Nov 2014 12:57:14 +0000   \n",
       "\n",
       "                                                text  \\\n",
       "0  Imagine that you’ve just written what you beli...   \n",
       "1  We recently shared a post containing part 1 of...   \n",
       "2  Even the best writers can get tripped up somet...   \n",
       "3  Part of being a good content marketer is being...   \n",
       "4  Have you ever heard of Amy Cuddy? In addition ...   \n",
       "\n",
       "                                               title  \n",
       "0  10 Questions You’ve Got to Ask Yourself Before...  \n",
       "1   Problem Words that Give Writers Trouble (Part 2)  \n",
       "2   Problem Words that Give Writers Trouble (Part 1)  \n",
       "3  6 Great Free (or Nearly Free) Tools for Conten...  \n",
       "4        Why Writers Should Care About Their Posture  "
      ]
     },
     "execution_count": 90,
     "metadata": {},
     "output_type": "execute_result"
    }
   ],
   "source": [
    "# remove HTML tags\n",
    "# https://stackoverflow.com/questions/753052/strip-html-from-strings-in-python\n",
    "\n",
    "class MLStripper(HTMLParser):\n",
    "    def __init__(self):\n",
    "        self.reset()\n",
    "        self.strict = False\n",
    "        self.convert_charrefs= True\n",
    "        self.fed = []\n",
    "    def handle_data(self, d):\n",
    "        self.fed.append(d)\n",
    "    def get_data(self):\n",
    "        return ''.join(self.fed)\n",
    "\n",
    "def strip_tags(html):\n",
    "    s = MLStripper()\n",
    "    s.feed(html)\n",
    "    return s.get_data()\n",
    "\n",
    "df['text'] = df['text'].apply(strip_tags)"
   ]
  },
  {
   "cell_type": "code",
   "execution_count": 165,
   "metadata": {},
   "outputs": [],
   "source": [
    "def clean_text(text):\n",
    "    text = text.replace('\\n', ' ')\n",
    "    text = text.strip()\n",
    "    text = text.replace('’', \"'\")\n",
    "    text = text.replace('“', '\"')\n",
    "    text = text.replace('”', '\"')\n",
    "    return text\n",
    "\n",
    "df.text = df.text.apply(clean_text)"
   ]
  },
  {
   "cell_type": "code",
   "execution_count": 167,
   "metadata": {},
   "outputs": [],
   "source": [
    "df.to_pickle('data/acrolinx_blog.pkl')"
   ]
  },
  {
   "cell_type": "markdown",
   "metadata": {},
   "source": [
    "# how many sentences? & format for OpenNMT use"
   ]
  },
  {
   "cell_type": "code",
   "execution_count": 168,
   "metadata": {},
   "outputs": [],
   "source": [
    "sents = []\n",
    "\n",
    "for text in df.text:\n",
    "    sents = sents + sent_tokenize(text)"
   ]
  },
  {
   "cell_type": "code",
   "execution_count": 169,
   "metadata": {},
   "outputs": [
    {
     "data": {
      "text/plain": [
       "10919"
      ]
     },
     "execution_count": 169,
     "metadata": {},
     "output_type": "execute_result"
    }
   ],
   "source": [
    "len(sents)"
   ]
  },
  {
   "cell_type": "code",
   "execution_count": 170,
   "metadata": {},
   "outputs": [
    {
     "data": {
      "text/plain": [
       "[\"And bad results aren't necessarily all bad news.\",\n",
       " \"They give you the means to identify areas of concern and allow you to redirect resources where they're needed most.\",\n",
       " 'A robust set of analytics is a critical ingredient in the content governance process.',\n",
       " 'Analytics allow you to evaluate and then optimize your content and your content creation processes before you ever publish anything.',\n",
       " 'On the path to enterprise content governance.',\n",
       " 'Getting your arms around your content operations can seem overwhelming, but this four-step action plan will start you on the path to active content governance.',\n",
       " \"When coupled with an AI-powered content governance platform, you'll be able to capture your strategy, establish your current position, align every content contributor with the goals you've set, and measure and track your success.\",\n",
       " \"It's really the best way to eliminate content chaos from your business once and for all.\",\n",
       " '✔ Capture your strategy   ✔ Establish where you are today   ✔ Align contributors to the right goals   ✔ Measure and track your success     To learn more about implementing content governance, check out the Acrolinx Active Content Governance Playbook.',\n",
       " 'It delivers everything you need to get content governance going in your organization.']"
      ]
     },
     "execution_count": 170,
     "metadata": {},
     "output_type": "execute_result"
    }
   ],
   "source": [
    "sents[len(sents)-10:len(sents)]"
   ]
  },
  {
   "cell_type": "code",
   "execution_count": 171,
   "metadata": {},
   "outputs": [],
   "source": [
    "with open('data/OpenNMT files/src-acrolinx.txt', 'w') as f:\n",
    "    for sent in sents:\n",
    "        if len(sent) > 5:\n",
    "            f.write(' '.join(word_tokenize(sent)) + '\\n')"
   ]
  },
  {
   "cell_type": "markdown",
   "metadata": {},
   "source": [
    "# look at results after OpenNMT inf->f translation"
   ]
  },
  {
   "cell_type": "code",
   "execution_count": 1,
   "metadata": {},
   "outputs": [],
   "source": [
    "with open('data/OpenNMT files/src-acrolinx.txt', 'r') as f:\n",
    "    src = f.readlines()\n",
    "\n",
    "with open('data/OpenNMT files/pred-acrolinx.txt', 'r') as f:\n",
    "    pred = f.readlines()"
   ]
  },
  {
   "cell_type": "code",
   "execution_count": 2,
   "metadata": {},
   "outputs": [],
   "source": [
    "src = [x.strip() for x in src]\n",
    "pred = [x.strip() for x in pred]"
   ]
  },
  {
   "cell_type": "code",
   "execution_count": 3,
   "metadata": {
    "scrolled": true
   },
   "outputs": [],
   "source": [
    "assert len(src) == len(pred)"
   ]
  },
  {
   "cell_type": "code",
   "execution_count": 12,
   "metadata": {},
   "outputs": [
    {
     "name": "stdout",
     "output_type": "stream",
     "text": [
      "Shorter is always better .\n",
      "Short is always better .\n",
      "\n",
      "Journalists , authors , tech writers — they 're the ones creating all of the content , right ?\n",
      "I believe , authors , in general , are the type of writers — , they are the ones creating all of the content .\n",
      "\n",
      "Not surprisingly , the mistake cost the managing director of the Chilean Mint his job .\n",
      "It is not surprisingly surprisingly , the mistake cost the director of the director of his job .\n",
      "\n",
      "Here again the results are interesting , though whether or not they 're an accurate reflection of reality is another question .\n",
      "The results are more important , though whether or not they are an accurate reflection of reality .\n",
      "\n",
      "Here you 'll find links to sites with information for all kinds of writers as well as practical resources on everything from grammar and citations to writing services and software , professional organizations , and business and legal matters .\n",
      "Here is a list of my favorites .\n",
      "\n",
      "In addition to creating content that 's relevant for your audience , the best way to help ensure your content gets consumed is by making it really good .\n",
      "In addition , to creating content that is relevant to your audience , the best way to make it really good .\n",
      "\n",
      "Although the collection may seem dated in terms of production value , it 's certainly as relevant today as it was decades ago based on teaching potential .\n",
      "Although the collection may seem dated in terms of production value , it may have been as relevant today .\n",
      "\n",
      "In it Tyler Collins , the head of an SEO agency , explains that to rank well in search engines `` the content on your website must be well-written , free of grammatical errors , and 100 % unique and original .\n",
      "In it Tyler Collins , the head of a head of a SEO , explains that to rank and 100 % unique and original and original original .\n",
      "\n",
      "For resources on KPIs , check out : 8 KPIs Your Content Marketing Measurement Should Include ( Content Marketing Institute ) Content Marketing KPIs and Metrics : 15 Important Considerations ( Search Engine Journal ) 5 Ways to Translate Your Content Marketing Goals into Key Performance Indicators ( Content Marketing Institute ) Do n't slack off : Keep your strategy current It 's easy to sit back and relax once you feel you have a good content strategy in place , but you should n't ever stop trying to make improvements .\n",
      "Even Marketing KPIs on KPIs , check out 5 KPIs and relax .\n",
      "\n",
      "I think velocity is important because things are moving so quickly as those examples illustrate .\n",
      "I believe it is important because things are moving so quickly as those examples do .\n",
      "\n"
     ]
    }
   ],
   "source": [
    "for idx in random.sample(range(len(src)), 10):\n",
    "    print(src[idx])\n",
    "    print(pred[idx])\n",
    "    print()"
   ]
  },
  {
   "cell_type": "code",
   "execution_count": null,
   "metadata": {},
   "outputs": [],
   "source": [
    "\n"
   ]
  }
 ],
 "metadata": {
  "kernelspec": {
   "display_name": "Python 3",
   "language": "python",
   "name": "python3"
  },
  "language_info": {
   "codemirror_mode": {
    "name": "ipython",
    "version": 3
   },
   "file_extension": ".py",
   "mimetype": "text/x-python",
   "name": "python",
   "nbconvert_exporter": "python",
   "pygments_lexer": "ipython3",
   "version": "3.5.2"
  }
 },
 "nbformat": 4,
 "nbformat_minor": 2
}
