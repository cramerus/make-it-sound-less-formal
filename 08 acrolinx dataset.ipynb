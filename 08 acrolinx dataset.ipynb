{
 "cells": [
  {
   "cell_type": "code",
   "execution_count": 3,
   "metadata": {},
   "outputs": [
    {
     "data": {
      "application/vnd.jupyter.widget-view+json": {
       "model_id": "1fcbc9df994841df9a3dde6c2877d07c",
       "version_major": 2,
       "version_minor": 0
      },
      "text/plain": [
       "HBox(children=(IntProgress(value=1, bar_style='info', max=1), HTML(value='')))"
      ]
     },
     "metadata": {},
     "output_type": "display_data"
    },
    {
     "name": "stdout",
     "output_type": "stream",
     "text": [
      "\n"
     ]
    }
   ],
   "source": [
    "import xml.etree.ElementTree as ET\n",
    "import pandas as pd\n",
    "import numpy as np\n",
    "from tqdm import tqdm_notebook as tqdm\n",
    "from ast import literal_eval\n",
    "from html.parser import HTMLParser\n",
    "import pickle\n",
    "from nltk import sent_tokenize, word_tokenize\n",
    "import random\n",
    "\n",
    "tqdm().pandas()"
   ]
  },
  {
   "cell_type": "markdown",
   "metadata": {},
   "source": [
    "# read XML file and put into pd df"
   ]
  },
  {
   "cell_type": "code",
   "execution_count": 84,
   "metadata": {},
   "outputs": [],
   "source": [
    "acrofile = 'data/acrolinx.WordPress.2019-05-21.xml'"
   ]
  },
  {
   "cell_type": "code",
   "execution_count": 85,
   "metadata": {},
   "outputs": [],
   "source": [
    "tree = ET.parse(acrofile)\n",
    "root = tree.getroot()\n",
    "channel = tree.find('channel')"
   ]
  },
  {
   "cell_type": "code",
   "execution_count": 86,
   "metadata": {},
   "outputs": [],
   "source": [
    "titles = []\n",
    "dates = []\n",
    "categories = []\n",
    "texts = []\n",
    "\n",
    "for item in channel:\n",
    "    if item.tag == 'item':\n",
    "        titles.append(item.find('title').text)\n",
    "        dates.append(item.find('pubDate').text)\n",
    "        \n",
    "        texts.append(item.find('{http://purl.org/rss/1.0/modules/content/}encoded').text)\n",
    "        \n",
    "        cats = []\n",
    "        for child in item:\n",
    "            if child.tag == 'category':\n",
    "                cats.append(child.text)\n",
    "        categories.append(list(set(cats)))"
   ]
  },
  {
   "cell_type": "code",
   "execution_count": 87,
   "metadata": {},
   "outputs": [],
   "source": [
    "assert len(titles) == len(dates) == len(categories) == len(texts)"
   ]
  },
  {
   "cell_type": "code",
   "execution_count": 88,
   "metadata": {},
   "outputs": [],
   "source": [
    "df = pd.DataFrame({'title': titles, \n",
    "                  'pubdate': dates,\n",
    "                  'cats': categories,\n",
    "                  'text': texts})"
   ]
  },
  {
   "cell_type": "code",
   "execution_count": 89,
   "metadata": {},
   "outputs": [
    {
     "data": {
      "text/html": [
       "<div>\n",
       "<style scoped>\n",
       "    .dataframe tbody tr th:only-of-type {\n",
       "        vertical-align: middle;\n",
       "    }\n",
       "\n",
       "    .dataframe tbody tr th {\n",
       "        vertical-align: top;\n",
       "    }\n",
       "\n",
       "    .dataframe thead th {\n",
       "        text-align: right;\n",
       "    }\n",
       "</style>\n",
       "<table border=\"1\" class=\"dataframe\">\n",
       "  <thead>\n",
       "    <tr style=\"text-align: right;\">\n",
       "      <th></th>\n",
       "      <th>cats</th>\n",
       "      <th>pubdate</th>\n",
       "      <th>text</th>\n",
       "      <th>title</th>\n",
       "    </tr>\n",
       "  </thead>\n",
       "  <tbody>\n",
       "    <tr>\n",
       "      <th>0</th>\n",
       "      <td>[Content Marketing, Tech Comm, Blog]</td>\n",
       "      <td>Thu, 20 Nov 2014 12:49:29 +0000</td>\n",
       "      <td>Imagine that you’ve just written what you beli...</td>\n",
       "      <td>10 Questions You’ve Got to Ask Yourself Before...</td>\n",
       "    </tr>\n",
       "    <tr>\n",
       "      <th>1</th>\n",
       "      <td>[Content Marketing, Tech Comm, Love of Languag...</td>\n",
       "      <td>Mon, 17 Nov 2014 12:51:04 +0000</td>\n",
       "      <td>We recently shared &lt;a href=\"https://www.acroli...</td>\n",
       "      <td>Problem Words that Give Writers Trouble (Part 2)</td>\n",
       "    </tr>\n",
       "    <tr>\n",
       "      <th>2</th>\n",
       "      <td>[Content Marketing, Tech Comm, Love of Languag...</td>\n",
       "      <td>Thu, 13 Nov 2014 12:52:27 +0000</td>\n",
       "      <td>Even the best writers can get tripped up somet...</td>\n",
       "      <td>Problem Words that Give Writers Trouble (Part 1)</td>\n",
       "    </tr>\n",
       "    <tr>\n",
       "      <th>3</th>\n",
       "      <td>[Content Marketing, Tech Comm, Love of Languag...</td>\n",
       "      <td>Mon, 10 Nov 2014 12:55:17 +0000</td>\n",
       "      <td>Part of being a good content marketer is being...</td>\n",
       "      <td>6 Great Free (or Nearly Free) Tools for Conten...</td>\n",
       "    </tr>\n",
       "    <tr>\n",
       "      <th>4</th>\n",
       "      <td>[Content Marketing, Tech Comm, Love of Languag...</td>\n",
       "      <td>Fri, 07 Nov 2014 12:57:14 +0000</td>\n",
       "      <td>Have you ever heard of Amy Cuddy? In addition ...</td>\n",
       "      <td>Why Writers Should Care About Their Posture</td>\n",
       "    </tr>\n",
       "  </tbody>\n",
       "</table>\n",
       "</div>"
      ],
      "text/plain": [
       "                                                cats  \\\n",
       "0               [Content Marketing, Tech Comm, Blog]   \n",
       "1  [Content Marketing, Tech Comm, Love of Languag...   \n",
       "2  [Content Marketing, Tech Comm, Love of Languag...   \n",
       "3  [Content Marketing, Tech Comm, Love of Languag...   \n",
       "4  [Content Marketing, Tech Comm, Love of Languag...   \n",
       "\n",
       "                           pubdate  \\\n",
       "0  Thu, 20 Nov 2014 12:49:29 +0000   \n",
       "1  Mon, 17 Nov 2014 12:51:04 +0000   \n",
       "2  Thu, 13 Nov 2014 12:52:27 +0000   \n",
       "3  Mon, 10 Nov 2014 12:55:17 +0000   \n",
       "4  Fri, 07 Nov 2014 12:57:14 +0000   \n",
       "\n",
       "                                                text  \\\n",
       "0  Imagine that you’ve just written what you beli...   \n",
       "1  We recently shared <a href=\"https://www.acroli...   \n",
       "2  Even the best writers can get tripped up somet...   \n",
       "3  Part of being a good content marketer is being...   \n",
       "4  Have you ever heard of Amy Cuddy? In addition ...   \n",
       "\n",
       "                                               title  \n",
       "0  10 Questions You’ve Got to Ask Yourself Before...  \n",
       "1   Problem Words that Give Writers Trouble (Part 2)  \n",
       "2   Problem Words that Give Writers Trouble (Part 1)  \n",
       "3  6 Great Free (or Nearly Free) Tools for Conten...  \n",
       "4        Why Writers Should Care About Their Posture  "
      ]
     },
     "execution_count": 89,
     "metadata": {},
     "output_type": "execute_result"
    }
   ],
   "source": [
    "df.head()"
   ]
  },
  {
   "cell_type": "markdown",
   "metadata": {},
   "source": [
    "# text processing"
   ]
  },
  {
   "cell_type": "code",
   "execution_count": 90,
   "metadata": {
    "collapsed": true
   },
   "outputs": [
    {
     "data": {
      "text/html": [
       "<div>\n",
       "<style scoped>\n",
       "    .dataframe tbody tr th:only-of-type {\n",
       "        vertical-align: middle;\n",
       "    }\n",
       "\n",
       "    .dataframe tbody tr th {\n",
       "        vertical-align: top;\n",
       "    }\n",
       "\n",
       "    .dataframe thead th {\n",
       "        text-align: right;\n",
       "    }\n",
       "</style>\n",
       "<table border=\"1\" class=\"dataframe\">\n",
       "  <thead>\n",
       "    <tr style=\"text-align: right;\">\n",
       "      <th></th>\n",
       "      <th>cats</th>\n",
       "      <th>pubdate</th>\n",
       "      <th>text</th>\n",
       "      <th>title</th>\n",
       "    </tr>\n",
       "  </thead>\n",
       "  <tbody>\n",
       "    <tr>\n",
       "      <th>0</th>\n",
       "      <td>[Content Marketing, Tech Comm, Blog]</td>\n",
       "      <td>Thu, 20 Nov 2014 12:49:29 +0000</td>\n",
       "      <td>Imagine that you’ve just written what you beli...</td>\n",
       "      <td>10 Questions You’ve Got to Ask Yourself Before...</td>\n",
       "    </tr>\n",
       "    <tr>\n",
       "      <th>1</th>\n",
       "      <td>[Content Marketing, Tech Comm, Love of Languag...</td>\n",
       "      <td>Mon, 17 Nov 2014 12:51:04 +0000</td>\n",
       "      <td>We recently shared a post containing part 1 of...</td>\n",
       "      <td>Problem Words that Give Writers Trouble (Part 2)</td>\n",
       "    </tr>\n",
       "    <tr>\n",
       "      <th>2</th>\n",
       "      <td>[Content Marketing, Tech Comm, Love of Languag...</td>\n",
       "      <td>Thu, 13 Nov 2014 12:52:27 +0000</td>\n",
       "      <td>Even the best writers can get tripped up somet...</td>\n",
       "      <td>Problem Words that Give Writers Trouble (Part 1)</td>\n",
       "    </tr>\n",
       "    <tr>\n",
       "      <th>3</th>\n",
       "      <td>[Content Marketing, Tech Comm, Love of Languag...</td>\n",
       "      <td>Mon, 10 Nov 2014 12:55:17 +0000</td>\n",
       "      <td>Part of being a good content marketer is being...</td>\n",
       "      <td>6 Great Free (or Nearly Free) Tools for Conten...</td>\n",
       "    </tr>\n",
       "    <tr>\n",
       "      <th>4</th>\n",
       "      <td>[Content Marketing, Tech Comm, Love of Languag...</td>\n",
       "      <td>Fri, 07 Nov 2014 12:57:14 +0000</td>\n",
       "      <td>Have you ever heard of Amy Cuddy? In addition ...</td>\n",
       "      <td>Why Writers Should Care About Their Posture</td>\n",
       "    </tr>\n",
       "  </tbody>\n",
       "</table>\n",
       "</div>"
      ],
      "text/plain": [
       "                                                cats  \\\n",
       "0               [Content Marketing, Tech Comm, Blog]   \n",
       "1  [Content Marketing, Tech Comm, Love of Languag...   \n",
       "2  [Content Marketing, Tech Comm, Love of Languag...   \n",
       "3  [Content Marketing, Tech Comm, Love of Languag...   \n",
       "4  [Content Marketing, Tech Comm, Love of Languag...   \n",
       "\n",
       "                           pubdate  \\\n",
       "0  Thu, 20 Nov 2014 12:49:29 +0000   \n",
       "1  Mon, 17 Nov 2014 12:51:04 +0000   \n",
       "2  Thu, 13 Nov 2014 12:52:27 +0000   \n",
       "3  Mon, 10 Nov 2014 12:55:17 +0000   \n",
       "4  Fri, 07 Nov 2014 12:57:14 +0000   \n",
       "\n",
       "                                                text  \\\n",
       "0  Imagine that you’ve just written what you beli...   \n",
       "1  We recently shared a post containing part 1 of...   \n",
       "2  Even the best writers can get tripped up somet...   \n",
       "3  Part of being a good content marketer is being...   \n",
       "4  Have you ever heard of Amy Cuddy? In addition ...   \n",
       "\n",
       "                                               title  \n",
       "0  10 Questions You’ve Got to Ask Yourself Before...  \n",
       "1   Problem Words that Give Writers Trouble (Part 2)  \n",
       "2   Problem Words that Give Writers Trouble (Part 1)  \n",
       "3  6 Great Free (or Nearly Free) Tools for Conten...  \n",
       "4        Why Writers Should Care About Their Posture  "
      ]
     },
     "execution_count": 90,
     "metadata": {},
     "output_type": "execute_result"
    }
   ],
   "source": [
    "# remove HTML tags\n",
    "# https://stackoverflow.com/questions/753052/strip-html-from-strings-in-python\n",
    "\n",
    "class MLStripper(HTMLParser):\n",
    "    def __init__(self):\n",
    "        self.reset()\n",
    "        self.strict = False\n",
    "        self.convert_charrefs= True\n",
    "        self.fed = []\n",
    "    def handle_data(self, d):\n",
    "        self.fed.append(d)\n",
    "    def get_data(self):\n",
    "        return ''.join(self.fed)\n",
    "\n",
    "def strip_tags(html):\n",
    "    s = MLStripper()\n",
    "    s.feed(html)\n",
    "    return s.get_data()\n",
    "\n",
    "df['text'] = df['text'].apply(strip_tags)"
   ]
  },
  {
   "cell_type": "code",
   "execution_count": 165,
   "metadata": {},
   "outputs": [],
   "source": [
    "def clean_text(text):\n",
    "    text = text.replace('\\n', ' ')\n",
    "    text = text.strip()\n",
    "    text = text.replace('’', \"'\")\n",
    "    text = text.replace('“', '\"')\n",
    "    text = text.replace('”', '\"')\n",
    "    return text\n",
    "\n",
    "df.text = df.text.apply(clean_text)"
   ]
  },
  {
   "cell_type": "code",
   "execution_count": 167,
   "metadata": {},
   "outputs": [],
   "source": [
    "df.to_pickle('data/acrolinx_blog.pkl')"
   ]
  },
  {
   "cell_type": "markdown",
   "metadata": {},
   "source": [
    "# how many sentences? & format for OpenNMT use"
   ]
  },
  {
   "cell_type": "code",
   "execution_count": 168,
   "metadata": {},
   "outputs": [],
   "source": [
    "sents = []\n",
    "\n",
    "for text in df.text:\n",
    "    sents = sents + sent_tokenize(text)"
   ]
  },
  {
   "cell_type": "code",
   "execution_count": 169,
   "metadata": {},
   "outputs": [
    {
     "data": {
      "text/plain": [
       "10919"
      ]
     },
     "execution_count": 169,
     "metadata": {},
     "output_type": "execute_result"
    }
   ],
   "source": [
    "len(sents)"
   ]
  },
  {
   "cell_type": "code",
   "execution_count": 170,
   "metadata": {},
   "outputs": [
    {
     "data": {
      "text/plain": [
       "[\"And bad results aren't necessarily all bad news.\",\n",
       " \"They give you the means to identify areas of concern and allow you to redirect resources where they're needed most.\",\n",
       " 'A robust set of analytics is a critical ingredient in the content governance process.',\n",
       " 'Analytics allow you to evaluate and then optimize your content and your content creation processes before you ever publish anything.',\n",
       " 'On the path to enterprise content governance.',\n",
       " 'Getting your arms around your content operations can seem overwhelming, but this four-step action plan will start you on the path to active content governance.',\n",
       " \"When coupled with an AI-powered content governance platform, you'll be able to capture your strategy, establish your current position, align every content contributor with the goals you've set, and measure and track your success.\",\n",
       " \"It's really the best way to eliminate content chaos from your business once and for all.\",\n",
       " '✔ Capture your strategy   ✔ Establish where you are today   ✔ Align contributors to the right goals   ✔ Measure and track your success     To learn more about implementing content governance, check out the Acrolinx Active Content Governance Playbook.',\n",
       " 'It delivers everything you need to get content governance going in your organization.']"
      ]
     },
     "execution_count": 170,
     "metadata": {},
     "output_type": "execute_result"
    }
   ],
   "source": [
    "sents[len(sents)-10:len(sents)]"
   ]
  },
  {
   "cell_type": "code",
   "execution_count": 171,
   "metadata": {},
   "outputs": [],
   "source": [
    "with open('data/OpenNMT files/src-acrolinx.txt', 'w') as f:\n",
    "    for sent in sents:\n",
    "        if len(sent) > 5:\n",
    "            f.write(' '.join(word_tokenize(sent)) + '\\n')"
   ]
  },
  {
   "cell_type": "markdown",
   "metadata": {},
   "source": [
    "# look at results after OpenNMT inf->f translation"
   ]
  },
  {
   "cell_type": "code",
   "execution_count": 2,
   "metadata": {},
   "outputs": [],
   "source": [
    "with open('data/OpenNMT files/src-acrolinx.txt', 'r') as f:\n",
    "    src = f.readlines()\n",
    "\n",
    "with open('data/OpenNMT files/pred-acrolinx.txt', 'r') as f:\n",
    "    pred = f.readlines()"
   ]
  },
  {
   "cell_type": "code",
   "execution_count": 3,
   "metadata": {},
   "outputs": [],
   "source": [
    "src = [x.strip() for x in src]\n",
    "pred = [x.strip() for x in pred]"
   ]
  },
  {
   "cell_type": "code",
   "execution_count": 4,
   "metadata": {
    "scrolled": true
   },
   "outputs": [],
   "source": [
    "assert len(src) == len(pred)"
   ]
  },
  {
   "cell_type": "code",
   "execution_count": 5,
   "metadata": {},
   "outputs": [
    {
     "name": "stdout",
     "output_type": "stream",
     "text": [
      "Not only do you understand what the authors are trying to convey , you also get the sense that MailChimp is n't some big , soulless corporation .\n",
      "Do you understand what the authors are trying to convey ? You also get the sense of soulless , soulless corporation .\n",
      "\n",
      "It 's also where technical content faces the biggest challenges as a result of three converging trends : A rapid acceleration in software development cycles , including online launches Online hosting with embedded content , where bite-sized content produced at frequent intervals is replacing massive tome-sized documents produced over the course of many months An aspiration for localized content in multiple languages timed with product releases Let 's consider these trends , and their implications for technical content , individually .\n",
      "In multiple languages , it 's technical content faces , the biggest challenges faces , a result of three months is content produced in software releases so I can understand technical content .\n",
      "\n",
      "That 's because every piece of content you publish is going to leave an impression on your target audience .\n",
      "That is because every one piece of content you publish is going to leave an impression on your target audience .\n",
      "\n",
      "Once you have a solid grasp of these four components , organize the information that you gather about each into a single matrix or framework and examine how they work together .\n",
      "Once you have a hard time understanding the information , you can organize the information that you gather about each other or understand how they work together .\n",
      "\n",
      "Some Final Thoughts To win the content marketing battle , you 've got to have your cake and eat it too .\n",
      "Some four Thoughts , you have got to win the content marketing battle .\n",
      "\n",
      "Let 's explore the various types of content that B2B companies can create and share on Snapchat .\n",
      "Let 's explore the various types of content that B2B on companies .\n",
      "\n",
      "While content marketers who are rigorous about analytics are better off than those who pay little or no attention , there are still significant limitations in terms of what they can divine about the future by looking into the past .\n",
      "The content of content with the future marketers , who is rigorous about analytics than those who pay into the past .\n",
      "\n",
      "Your whole company needs to embrace it .\n",
      "Your whole company should embrace it .\n",
      "\n",
      "For starters , an increasing number of companies are recognizing content 's ability to give them a competitive edge .\n",
      "To starters , a number of companies are recognizing to give them a competitive edge .\n",
      "\n",
      "After all , they 're typically the ones who take the time to check that writers from different departments are using the right terminology , achieving the appropriate tone of voice , and not letting typos or any other embarrassing mistakes find their way to your customers .\n",
      "After all , they are typically the ones who take the time to check the writers from different , departments .\n",
      "\n"
     ]
    }
   ],
   "source": [
    "for idx in random.sample(range(len(src)), 10):\n",
    "    print(src[idx])\n",
    "    print(pred[idx])\n",
    "    print()"
   ]
  },
  {
   "cell_type": "code",
   "execution_count": 7,
   "metadata": {},
   "outputs": [],
   "source": [
    "doccano = pd.DataFrame()\n",
    "\n",
    "texts = []\n",
    "for idx in range(len(src)):\n",
    "    texts.append(src[idx] + ' ' + pred[idx])"
   ]
  },
  {
   "cell_type": "code",
   "execution_count": 9,
   "metadata": {},
   "outputs": [
    {
     "data": {
      "text/html": [
       "<div>\n",
       "<style scoped>\n",
       "    .dataframe tbody tr th:only-of-type {\n",
       "        vertical-align: middle;\n",
       "    }\n",
       "\n",
       "    .dataframe tbody tr th {\n",
       "        vertical-align: top;\n",
       "    }\n",
       "\n",
       "    .dataframe thead th {\n",
       "        text-align: right;\n",
       "    }\n",
       "</style>\n",
       "<table border=\"1\" class=\"dataframe\">\n",
       "  <thead>\n",
       "    <tr style=\"text-align: right;\">\n",
       "      <th></th>\n",
       "      <th>text</th>\n",
       "    </tr>\n",
       "  </thead>\n",
       "  <tbody>\n",
       "    <tr>\n",
       "      <th>0</th>\n",
       "      <td>Imagine that you 've just written what you bel...</td>\n",
       "    </tr>\n",
       "    <tr>\n",
       "      <th>1</th>\n",
       "      <td>You 're ready to get it off your plate and sen...</td>\n",
       "    </tr>\n",
       "    <tr>\n",
       "      <th>2</th>\n",
       "      <td>But wait just a second ! But , wait , a second !</td>\n",
       "    </tr>\n",
       "    <tr>\n",
       "      <th>3</th>\n",
       "      <td>Before you hit the publish button , are you po...</td>\n",
       "    </tr>\n",
       "    <tr>\n",
       "      <th>4</th>\n",
       "      <td>After all , you 've probably worked hard to cr...</td>\n",
       "    </tr>\n",
       "  </tbody>\n",
       "</table>\n",
       "</div>"
      ],
      "text/plain": [
       "                                                text\n",
       "0  Imagine that you 've just written what you bel...\n",
       "1  You 're ready to get it off your plate and sen...\n",
       "2   But wait just a second ! But , wait , a second !\n",
       "3  Before you hit the publish button , are you po...\n",
       "4  After all , you 've probably worked hard to cr..."
      ]
     },
     "execution_count": 9,
     "metadata": {},
     "output_type": "execute_result"
    }
   ],
   "source": [
    "doccano['text'] = texts\n",
    "doccano.head()"
   ]
  },
  {
   "cell_type": "code",
   "execution_count": 14,
   "metadata": {},
   "outputs": [],
   "source": [
    "doccano.to_csv('data/doccano.csv')"
   ]
  },
  {
   "cell_type": "markdown",
   "metadata": {},
   "source": [
    "# GYAFC corpus to doccano format"
   ]
  },
  {
   "cell_type": "code",
   "execution_count": 6,
   "metadata": {},
   "outputs": [
    {
     "data": {
      "text/html": [
       "<div>\n",
       "<style scoped>\n",
       "    .dataframe tbody tr th:only-of-type {\n",
       "        vertical-align: middle;\n",
       "    }\n",
       "\n",
       "    .dataframe tbody tr th {\n",
       "        vertical-align: top;\n",
       "    }\n",
       "\n",
       "    .dataframe thead th {\n",
       "        text-align: right;\n",
       "    }\n",
       "</style>\n",
       "<table border=\"1\" class=\"dataframe\">\n",
       "  <thead>\n",
       "    <tr style=\"text-align: right;\">\n",
       "      <th></th>\n",
       "      <th>Original</th>\n",
       "      <th>Target 0</th>\n",
       "      <th>Target 1</th>\n",
       "      <th>Target 2</th>\n",
       "      <th>Target 3</th>\n",
       "      <th>Category</th>\n",
       "      <th>Dataset</th>\n",
       "    </tr>\n",
       "  </thead>\n",
       "  <tbody>\n",
       "    <tr>\n",
       "      <th>80000</th>\n",
       "      <td>I do not have an answer for the question, but ...</td>\n",
       "      <td>I don't know about that question, but I really...</td>\n",
       "      <td>NaN</td>\n",
       "      <td>NaN</td>\n",
       "      <td>NaN</td>\n",
       "      <td>Entertainment_Music</td>\n",
       "      <td>train</td>\n",
       "    </tr>\n",
       "    <tr>\n",
       "      <th>80001</th>\n",
       "      <td>Do as you have been instructed.</td>\n",
       "      <td>Just do what everyone else said.</td>\n",
       "      <td>NaN</td>\n",
       "      <td>NaN</td>\n",
       "      <td>NaN</td>\n",
       "      <td>Entertainment_Music</td>\n",
       "      <td>train</td>\n",
       "    </tr>\n",
       "    <tr>\n",
       "      <th>80002</th>\n",
       "      <td>They got to is first, go ahead and go there.</td>\n",
       "      <td>They beat me to it... yes go there</td>\n",
       "      <td>NaN</td>\n",
       "      <td>NaN</td>\n",
       "      <td>NaN</td>\n",
       "      <td>Entertainment_Music</td>\n",
       "      <td>train</td>\n",
       "    </tr>\n",
       "    <tr>\n",
       "      <th>80003</th>\n",
       "      <td>Did he not say he figured it out himself.</td>\n",
       "      <td>Didn't he say he came up with it himself</td>\n",
       "      <td>NaN</td>\n",
       "      <td>NaN</td>\n",
       "      <td>NaN</td>\n",
       "      <td>Entertainment_Music</td>\n",
       "      <td>train</td>\n",
       "    </tr>\n",
       "    <tr>\n",
       "      <th>80004</th>\n",
       "      <td>Yes it was, and I enjoyed it.</td>\n",
       "      <td>Yes it was I enjoyed it</td>\n",
       "      <td>NaN</td>\n",
       "      <td>NaN</td>\n",
       "      <td>NaN</td>\n",
       "      <td>Entertainment_Music</td>\n",
       "      <td>train</td>\n",
       "    </tr>\n",
       "  </tbody>\n",
       "</table>\n",
       "</div>"
      ],
      "text/plain": [
       "                                                Original  \\\n",
       "80000  I do not have an answer for the question, but ...   \n",
       "80001                    Do as you have been instructed.   \n",
       "80002       They got to is first, go ahead and go there.   \n",
       "80003          Did he not say he figured it out himself.   \n",
       "80004                      Yes it was, and I enjoyed it.   \n",
       "\n",
       "                                                Target 0 Target 1 Target 2  \\\n",
       "80000  I don't know about that question, but I really...      NaN      NaN   \n",
       "80001                   Just do what everyone else said.      NaN      NaN   \n",
       "80002                 They beat me to it... yes go there      NaN      NaN   \n",
       "80003           Didn't he say he came up with it himself      NaN      NaN   \n",
       "80004                            Yes it was I enjoyed it      NaN      NaN   \n",
       "\n",
       "      Target 3             Category Dataset  \n",
       "80000      NaN  Entertainment_Music   train  \n",
       "80001      NaN  Entertainment_Music   train  \n",
       "80002      NaN  Entertainment_Music   train  \n",
       "80003      NaN  Entertainment_Music   train  \n",
       "80004      NaN  Entertainment_Music   train  "
      ]
     },
     "execution_count": 6,
     "metadata": {},
     "output_type": "execute_result"
    }
   ],
   "source": [
    "all_df = pd.read_pickle('data/rule_based_corrected_df.pkl')\n",
    "all_df[80000:80005]"
   ]
  },
  {
   "cell_type": "code",
   "execution_count": 8,
   "metadata": {},
   "outputs": [],
   "source": [
    "texts = []\n",
    "for idx, row in all_df.iterrows():\n",
    "    text = row['Original']\n",
    "    text = text + ' ' + str(row['Target 0'])\n",
    "    text = text + ' ' + str(row['Target 1'])\n",
    "    text = text + ' ' + str(row['Target 2'])\n",
    "    text = text + ' ' + str(row['Target 3'])\n",
    "    texts.append(text)"
   ]
  },
  {
   "cell_type": "code",
   "execution_count": 9,
   "metadata": {},
   "outputs": [
    {
     "data": {
      "text/html": [
       "<div>\n",
       "<style scoped>\n",
       "    .dataframe tbody tr th:only-of-type {\n",
       "        vertical-align: middle;\n",
       "    }\n",
       "\n",
       "    .dataframe tbody tr th {\n",
       "        vertical-align: top;\n",
       "    }\n",
       "\n",
       "    .dataframe thead th {\n",
       "        text-align: right;\n",
       "    }\n",
       "</style>\n",
       "<table border=\"1\" class=\"dataframe\">\n",
       "  <thead>\n",
       "    <tr style=\"text-align: right;\">\n",
       "      <th></th>\n",
       "      <th>text</th>\n",
       "    </tr>\n",
       "  </thead>\n",
       "  <tbody>\n",
       "    <tr>\n",
       "      <th>0</th>\n",
       "      <td>I mean that you have to really be her friend. ...</td>\n",
       "    </tr>\n",
       "    <tr>\n",
       "      <th>1</th>\n",
       "      <td>Are you posing a rhetorical question? Sounds l...</td>\n",
       "    </tr>\n",
       "    <tr>\n",
       "      <th>2</th>\n",
       "      <td>Men pretend to love in order to have intercour...</td>\n",
       "    </tr>\n",
       "    <tr>\n",
       "      <th>3</th>\n",
       "      <td>I do not intend to be mean. I don't want to be...</td>\n",
       "    </tr>\n",
       "    <tr>\n",
       "      <th>4</th>\n",
       "      <td>I would estimate an average of 45% initially b...</td>\n",
       "    </tr>\n",
       "  </tbody>\n",
       "</table>\n",
       "</div>"
      ],
      "text/plain": [
       "                                                text\n",
       "0  I mean that you have to really be her friend. ...\n",
       "1  Are you posing a rhetorical question? Sounds l...\n",
       "2  Men pretend to love in order to have intercour...\n",
       "3  I do not intend to be mean. I don't want to be...\n",
       "4  I would estimate an average of 45% initially b..."
      ]
     },
     "execution_count": 9,
     "metadata": {},
     "output_type": "execute_result"
    }
   ],
   "source": [
    "gyafc_docc = pd.DataFrame()\n",
    "gyafc_docc['text'] = texts\n",
    "gyafc_docc.head()"
   ]
  },
  {
   "cell_type": "code",
   "execution_count": null,
   "metadata": {},
   "outputs": [],
   "source": []
  }
 ],
 "metadata": {
  "kernelspec": {
   "display_name": "Python 3",
   "language": "python",
   "name": "python3"
  },
  "language_info": {
   "codemirror_mode": {
    "name": "ipython",
    "version": 3
   },
   "file_extension": ".py",
   "mimetype": "text/x-python",
   "name": "python",
   "nbconvert_exporter": "python",
   "pygments_lexer": "ipython3",
   "version": "3.5.2"
  }
 },
 "nbformat": 4,
 "nbformat_minor": 2
}
