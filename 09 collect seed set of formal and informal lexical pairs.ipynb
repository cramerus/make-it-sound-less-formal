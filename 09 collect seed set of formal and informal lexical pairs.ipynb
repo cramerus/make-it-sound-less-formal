{
 "cells": [
  {
   "cell_type": "code",
   "execution_count": 1,
   "metadata": {},
   "outputs": [],
   "source": [
    "from tqdm import tqdm_notebook as tqdm\n",
    "import nltk\n",
    "import numpy as np\n",
    "import pandas as pd\n",
    "import json\n",
    "import re"
   ]
  },
  {
   "cell_type": "markdown",
   "metadata": {},
   "source": [
    "# put existing gzt and files into pd df"
   ]
  },
  {
   "cell_type": "code",
   "execution_count": 6,
   "metadata": {},
   "outputs": [],
   "source": [
    "with open('data/acrolinx_gzt/lf.json') as lfjson:\n",
    "    lf = json.load(lfjson)"
   ]
  },
  {
   "cell_type": "code",
   "execution_count": 10,
   "metadata": {},
   "outputs": [],
   "source": [
    "with open('data/acrolinx_gzt/conv-words.json') as cvjson:\n",
    "    form_with_sugg = json.load(cvjson)"
   ]
  },
  {
   "cell_type": "code",
   "execution_count": 17,
   "metadata": {},
   "outputs": [],
   "source": [
    "unclean_gzt = []\n",
    "\n",
    "with open('data/acrolinx_gzt/archaicWords.gzt') as file:\n",
    "    unclean_gzt.extend(file.readlines())\n",
    "\n",
    "with open('data/acrolinx_gzt/countFormalPhrases.gzt') as file:\n",
    "    unclean_gzt.extend(file.readlines())\n",
    "\n",
    "with open('data/acrolinx_gzt/countLatinExpressions.gzt') as file:\n",
    "    unclean_gzt.extend(file.readlines())"
   ]
  },
  {
   "cell_type": "code",
   "execution_count": 69,
   "metadata": {},
   "outputs": [],
   "source": [
    "gzt = {}\n",
    "\n",
    "# things i noticed and don't want\n",
    "exceptions = ['use either', '(']\n",
    "\n",
    "for item in unclean_gzt:\n",
    "    if item[0] == '@' or item[0] == '#':\n",
    "        continue\n",
    "    item = item.strip()\n",
    "    if len(item) < 1:\n",
    "        continue\n",
    "    trigger = False\n",
    "    for term in exceptions:\n",
    "        if term in item:\n",
    "            trigger = True\n",
    "    if trigger:\n",
    "        continue\n",
    "    item = re.sub('\\[', '', item)\n",
    "    item = re.sub('\\]', '', item)\n",
    "    item = re.sub('\\n', '', item)\n",
    "    item = re.sub(';', '', item)\n",
    "    if '-->' in item:\n",
    "        pair = [part.strip() for part in item.split('-->')]\n",
    "        if ',' in pair[0]:\n",
    "            form_words = [part.strip() for part in pair[0].split(',')]\n",
    "            for word in form_words:\n",
    "                gzt[word] = [part.strip() for part in pair[1].split(',')]\n",
    "        else:\n",
    "            gzt[pair[0]] = [part.strip() for part in pair[1].split(',')]\n",
    "    else:\n",
    "        gzt[item] = np.nan"
   ]
  },
  {
   "cell_type": "code",
   "execution_count": 71,
   "metadata": {},
   "outputs": [
    {
     "data": {
      "text/plain": [
       "597"
      ]
     },
     "execution_count": 71,
     "metadata": {},
     "output_type": "execute_result"
    }
   ],
   "source": [
    "len(gzt)"
   ]
  },
  {
   "cell_type": "code",
   "execution_count": 72,
   "metadata": {},
   "outputs": [
    {
     "data": {
      "text/html": [
       "<div>\n",
       "<style scoped>\n",
       "    .dataframe tbody tr th:only-of-type {\n",
       "        vertical-align: middle;\n",
       "    }\n",
       "\n",
       "    .dataframe tbody tr th {\n",
       "        vertical-align: top;\n",
       "    }\n",
       "\n",
       "    .dataframe thead th {\n",
       "        text-align: right;\n",
       "    }\n",
       "</style>\n",
       "<table border=\"1\" class=\"dataframe\">\n",
       "  <thead>\n",
       "    <tr style=\"text-align: right;\">\n",
       "      <th></th>\n",
       "      <th>formal</th>\n",
       "      <th>suggestions</th>\n",
       "    </tr>\n",
       "  </thead>\n",
       "  <tbody>\n",
       "    <tr>\n",
       "      <th>0</th>\n",
       "      <td>purchase</td>\n",
       "      <td>[buy]</td>\n",
       "    </tr>\n",
       "    <tr>\n",
       "      <th>1</th>\n",
       "      <td>caveat</td>\n",
       "      <td>[warning]</td>\n",
       "    </tr>\n",
       "    <tr>\n",
       "      <th>2</th>\n",
       "      <td>asserted</td>\n",
       "      <td>NaN</td>\n",
       "    </tr>\n",
       "    <tr>\n",
       "      <th>3</th>\n",
       "      <td>thenceforward</td>\n",
       "      <td>NaN</td>\n",
       "    </tr>\n",
       "    <tr>\n",
       "      <th>4</th>\n",
       "      <td>Pardon me</td>\n",
       "      <td>[Sorry]</td>\n",
       "    </tr>\n",
       "  </tbody>\n",
       "</table>\n",
       "</div>"
      ],
      "text/plain": [
       "          formal suggestions\n",
       "0       purchase       [buy]\n",
       "1         caveat   [warning]\n",
       "2       asserted         NaN\n",
       "3  thenceforward         NaN\n",
       "4      Pardon me     [Sorry]"
      ]
     },
     "execution_count": 72,
     "metadata": {},
     "output_type": "execute_result"
    }
   ],
   "source": [
    "formal = []\n",
    "informal = []\n",
    "\n",
    "for word in gzt:\n",
    "    formal.append(word)\n",
    "    informal.append(gzt[word])\n",
    "\n",
    "words = pd.DataFrame()\n",
    "words['formal'] = formal\n",
    "words['suggestions'] = informal\n",
    "words.head()"
   ]
  },
  {
   "cell_type": "code",
   "execution_count": 73,
   "metadata": {},
   "outputs": [],
   "source": [
    "words.to_pickle('data/acrolinx_gzt/initial_words.pkl')"
   ]
  },
  {
   "cell_type": "markdown",
   "metadata": {},
   "source": [
    "# next: extrapolate to the other words using embeddings"
   ]
  },
  {
   "cell_type": "code",
   "execution_count": 2,
   "metadata": {},
   "outputs": [],
   "source": [
    "words_df = pd.read_pickle('data/acrolinx_gzt/initial_words.pkl')"
   ]
  },
  {
   "cell_type": "code",
   "execution_count": 3,
   "metadata": {},
   "outputs": [
    {
     "data": {
      "text/html": [
       "<div>\n",
       "<style scoped>\n",
       "    .dataframe tbody tr th:only-of-type {\n",
       "        vertical-align: middle;\n",
       "    }\n",
       "\n",
       "    .dataframe tbody tr th {\n",
       "        vertical-align: top;\n",
       "    }\n",
       "\n",
       "    .dataframe thead th {\n",
       "        text-align: right;\n",
       "    }\n",
       "</style>\n",
       "<table border=\"1\" class=\"dataframe\">\n",
       "  <thead>\n",
       "    <tr style=\"text-align: right;\">\n",
       "      <th></th>\n",
       "      <th>formal</th>\n",
       "      <th>suggestions</th>\n",
       "    </tr>\n",
       "  </thead>\n",
       "  <tbody>\n",
       "    <tr>\n",
       "      <th>0</th>\n",
       "      <td>purchase</td>\n",
       "      <td>[buy]</td>\n",
       "    </tr>\n",
       "    <tr>\n",
       "      <th>1</th>\n",
       "      <td>caveat</td>\n",
       "      <td>[warning]</td>\n",
       "    </tr>\n",
       "    <tr>\n",
       "      <th>2</th>\n",
       "      <td>asserted</td>\n",
       "      <td>NaN</td>\n",
       "    </tr>\n",
       "    <tr>\n",
       "      <th>3</th>\n",
       "      <td>thenceforward</td>\n",
       "      <td>NaN</td>\n",
       "    </tr>\n",
       "    <tr>\n",
       "      <th>4</th>\n",
       "      <td>Pardon me</td>\n",
       "      <td>[Sorry]</td>\n",
       "    </tr>\n",
       "  </tbody>\n",
       "</table>\n",
       "</div>"
      ],
      "text/plain": [
       "          formal suggestions\n",
       "0       purchase       [buy]\n",
       "1         caveat   [warning]\n",
       "2       asserted         NaN\n",
       "3  thenceforward         NaN\n",
       "4      Pardon me     [Sorry]"
      ]
     },
     "execution_count": 3,
     "metadata": {},
     "output_type": "execute_result"
    }
   ],
   "source": [
    "words_df.head()"
   ]
  },
  {
   "cell_type": "code",
   "execution_count": null,
   "metadata": {},
   "outputs": [],
   "source": [
    "# start with the 1 token words\n",
    "\n",
    "# with the phrases, go on to use the NMT model developed in 07"
   ]
  }
 ],
 "metadata": {
  "kernelspec": {
   "display_name": "Python 3",
   "language": "python",
   "name": "python3"
  },
  "language_info": {
   "codemirror_mode": {
    "name": "ipython",
    "version": 3
   },
   "file_extension": ".py",
   "mimetype": "text/x-python",
   "name": "python",
   "nbconvert_exporter": "python",
   "pygments_lexer": "ipython3",
   "version": "3.5.2"
  }
 },
 "nbformat": 4,
 "nbformat_minor": 2
}
