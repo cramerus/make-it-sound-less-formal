{
 "cells": [
  {
   "cell_type": "code",
   "execution_count": 16,
   "metadata": {},
   "outputs": [],
   "source": [
    "import pandas as pd\n",
    "import numpy as np\n",
    "from tqdm import tqdm_notebook as tqdm\n",
    "import gensim\n",
    "from gensim.models.doc2vec import Doc2Vec, TaggedDocument\n",
    "import pickle\n",
    "from sklearn.model_selection import train_test_split\n",
    "\n",
    "import keras.backend as K\n",
    "from keras.models import Sequential\n",
    "from keras.layers import Dense"
   ]
  },
  {
   "cell_type": "markdown",
   "metadata": {},
   "source": [
    "# Brown dataset: vectorization using doc2vec"
   ]
  },
  {
   "cell_type": "raw",
   "metadata": {},
   "source": [
    "brown_disc_df = pd.read_pickle('data/discourse_markers/brown_disc_df.pkl')"
   ]
  },
  {
   "cell_type": "raw",
   "metadata": {},
   "source": [
    "X_tokens = []\n",
    "for idx, row in brown_disc_df.iterrows():\n",
    "    if type(row['clean']) == float:\n",
    "        X_tokens.append(row['sent'])\n",
    "    else:\n",
    "        X_tokens.append(row['clean'])"
   ]
  },
  {
   "cell_type": "raw",
   "metadata": {},
   "source": [
    "tagged_data = [TaggedDocument(words = sent, tags=[str(i)]) for i, sent in enumerate(X_tokens)]\n",
    "# should I have lowered? decided not to for now"
   ]
  },
  {
   "cell_type": "raw",
   "metadata": {},
   "source": [
    "d2v_brown = Doc2Vec(vector_size = 50, min_count = 1, dm = 1)\n",
    "d2v_brown.build_vocab(tagged_data)"
   ]
  },
  {
   "cell_type": "raw",
   "metadata": {},
   "source": [
    "d2v_brown.train(tagged_data, total_examples = d2v_brown.corpus_count, epochs = 20)\n",
    "print('training finished')\n",
    "d2v_brown.save(\"data/discourse_markers/d2v_brown.model\")\n",
    "print(\"trained & saved\")"
   ]
  },
  {
   "cell_type": "raw",
   "metadata": {},
   "source": [
    "features = brown_disc_df.columns[1:-1]\n",
    "num_features = len(features)\n",
    "num_samples = len(brown_disc_df)\n",
    "y = np.zeros([num_samples, num_features])\n",
    "for idx in range(len(features)):\n",
    "    y[:, idx] = brown_disc_df[features[idx]]"
   ]
  },
  {
   "cell_type": "raw",
   "metadata": {},
   "source": [
    "X = np.zeros([num_samples, 50]) # 50 is vector_size\n",
    "for i in range(num_samples):\n",
    "    X[i] = d2v_brown.docvecs[str(i)]"
   ]
  },
  {
   "cell_type": "raw",
   "metadata": {},
   "source": [
    "with open('data/discourse_markers/X_50dim_d2v.pkl', 'wb') as f:\n",
    "    pickle.dump(X, f)\n",
    "with open('data/discourse_markers/y.pkl', 'wb') as f:\n",
    "    pickle.dump(y, f)"
   ]
  },
  {
   "cell_type": "code",
   "execution_count": 2,
   "metadata": {},
   "outputs": [],
   "source": [
    "with open('data/discourse_markers/X_50dim_d2v.pkl', 'rb') as f:\n",
    "    X = pickle.load(f)\n",
    "with open('data/discourse_markers/y.pkl', 'rb') as f:\n",
    "    y = pickle.load(f)"
   ]
  },
  {
   "cell_type": "code",
   "execution_count": 3,
   "metadata": {},
   "outputs": [
    {
     "name": "stdout",
     "output_type": "stream",
     "text": [
      "(57340, 50)\n",
      "(57340, 59)\n"
     ]
    }
   ],
   "source": [
    "print(X.shape)\n",
    "print(y.shape)"
   ]
  },
  {
   "cell_type": "code",
   "execution_count": 5,
   "metadata": {},
   "outputs": [],
   "source": [
    "X_train, X_test, y_train, y_test = train_test_split(X, y, test_size=0.2, random_state=42)"
   ]
  },
  {
   "cell_type": "code",
   "execution_count": null,
   "metadata": {},
   "outputs": [],
   "source": [
    "batch_size = 32\n",
    "vector_size = X.shape[1] # 50\n",
    "output_shape = y.shape[1] # 59"
   ]
  },
  {
   "cell_type": "code",
   "execution_count": 26,
   "metadata": {},
   "outputs": [],
   "source": [
    "K.clear_session()"
   ]
  },
  {
   "cell_type": "code",
   "execution_count": 27,
   "metadata": {},
   "outputs": [],
   "source": [
    "def recall_m(y_true, y_pred):\n",
    "        true_positives = K.sum(K.round(K.clip(y_true * y_pred, 0, 1)))\n",
    "        possible_positives = K.sum(K.round(K.clip(y_true, 0, 1)))\n",
    "        recall = true_positives / (possible_positives + K.epsilon())\n",
    "        return recall\n",
    "\n",
    "def precision_m(y_true, y_pred):\n",
    "        true_positives = K.sum(K.round(K.clip(y_true * y_pred, 0, 1)))\n",
    "        predicted_positives = K.sum(K.round(K.clip(y_pred, 0, 1)))\n",
    "        precision = true_positives / (predicted_positives + K.epsilon())\n",
    "        return precision\n",
    "\n",
    "def f1_m(y_true, y_pred):\n",
    "    precision = precision_m(y_true, y_pred)\n",
    "    recall = recall_m(y_true, y_pred)\n",
    "    return 2*((precision*recall)/(precision+recall+K.epsilon()))"
   ]
  },
  {
   "cell_type": "code",
   "execution_count": 28,
   "metadata": {
    "scrolled": true
   },
   "outputs": [
    {
     "name": "stdout",
     "output_type": "stream",
     "text": [
      "Train on 32110 samples, validate on 13762 samples\n",
      "Epoch 1/5\n",
      " - 2s - loss: 0.5143 - acc: 0.9749 - f1_m: 0.0301 - precision_m: 0.0157 - recall_m: 0.5386 - val_loss: 0.0840 - val_acc: 0.9848 - val_f1_m: 0.0290 - val_precision_m: 0.0152 - val_recall_m: 0.3976\n",
      "Epoch 2/5\n",
      " - 2s - loss: 0.0825 - acc: 0.9842 - f1_m: 0.0301 - precision_m: 0.0158 - recall_m: 0.3936 - val_loss: 0.0783 - val_acc: 0.9848 - val_f1_m: 0.0290 - val_precision_m: 0.0152 - val_recall_m: 0.3976\n",
      "Epoch 3/5\n",
      " - 2s - loss: 0.0799 - acc: 0.9842 - f1_m: 0.0301 - precision_m: 0.0158 - recall_m: 0.4056 - val_loss: 0.0772 - val_acc: 0.9848 - val_f1_m: 0.0290 - val_precision_m: 0.0152 - val_recall_m: 0.3976\n",
      "Epoch 4/5\n",
      " - 2s - loss: 0.0793 - acc: 0.9842 - f1_m: 0.0301 - precision_m: 0.0158 - recall_m: 0.3956 - val_loss: 0.0782 - val_acc: 0.9848 - val_f1_m: 0.0290 - val_precision_m: 0.0152 - val_recall_m: 0.3976\n",
      "Epoch 5/5\n",
      " - 2s - loss: 0.0792 - acc: 0.9842 - f1_m: 0.0302 - precision_m: 0.0158 - recall_m: 0.4106 - val_loss: 0.0771 - val_acc: 0.9848 - val_f1_m: 0.0290 - val_precision_m: 0.0152 - val_recall_m: 0.3976\n"
     ]
    }
   ],
   "source": [
    "model = Sequential()\n",
    "model.add(Dense(64, activation = 'relu', input_dim = 50, name = 'dense_1'))\n",
    "model.add(Dense(59, activation = 'sigmoid', name = 'dense_2'))\n",
    "model.compile(optimizer = 'adam',\n",
    "              loss = 'sparse_categorical_crossentropy',\n",
    "              metrics = ['accuracy', f1_m, precision_m, recall_m])\n",
    "\n",
    "history = model.fit(X_train, y_train[:, 0], validation_split = 0.3, epochs = 5, batch_size = 32, verbose = 2)\n",
    "\n",
    "loss, accuracy, f1_score, precision, recall = model.evaluate(X_test, y_test[:, 0], verbose=2)"
   ]
  },
  {
   "cell_type": "code",
   "execution_count": 29,
   "metadata": {},
   "outputs": [
    {
     "name": "stdout",
     "output_type": "stream",
     "text": [
      "0.035949912123618574\n",
      "0.018835019183815836\n",
      "0.4715730299881455\n"
     ]
    }
   ],
   "source": [
    "print(f1_score)\n",
    "print(precision)\n",
    "print(recall)"
   ]
  },
  {
   "cell_type": "code",
   "execution_count": null,
   "metadata": {},
   "outputs": [],
   "source": []
  }
 ],
 "metadata": {
  "kernelspec": {
   "display_name": "Python 3",
   "language": "python",
   "name": "python3"
  },
  "language_info": {
   "codemirror_mode": {
    "name": "ipython",
    "version": 3
   },
   "file_extension": ".py",
   "mimetype": "text/x-python",
   "name": "python",
   "nbconvert_exporter": "python",
   "pygments_lexer": "ipython3",
   "version": "3.6.7"
  }
 },
 "nbformat": 4,
 "nbformat_minor": 2
}
