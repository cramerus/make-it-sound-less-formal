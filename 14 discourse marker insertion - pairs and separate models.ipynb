{
 "cells": [
  {
   "cell_type": "code",
   "execution_count": 1,
   "metadata": {},
   "outputs": [
    {
     "name": "stderr",
     "output_type": "stream",
     "text": [
      "Using TensorFlow backend.\n"
     ]
    }
   ],
   "source": [
    "import pandas as pd\n",
    "import numpy as np\n",
    "from tqdm import tqdm_notebook as tqdm\n",
    "import gensim\n",
    "from gensim.models.doc2vec import Doc2Vec, TaggedDocument\n",
    "import pickle\n",
    "from sklearn.model_selection import train_test_split\n",
    "from sklearn.utils import class_weight\n",
    "from sklearn.utils import shuffle\n",
    "import random as rand\n",
    "from nltk import word_tokenize, sent_tokenize\n",
    "from collections import Counter\n",
    "import math\n",
    "\n",
    "import keras.backend as K\n",
    "import tensorflow as tf\n",
    "\n",
    "from keras.models import Model\n",
    "from keras.layers import Input, Dense, Lambda, Dropout, Bidirectional, SimpleRNN\n",
    "from keras.utils import to_categorical\n",
    "from keras.preprocessing.sequence import pad_sequences"
   ]
  },
  {
   "cell_type": "code",
   "execution_count": 42,
   "metadata": {},
   "outputs": [],
   "source": [
    "oanc_df = pd.read_pickle('data/discourse_markers/oanc_pair_df.zip')"
   ]
  },
  {
   "cell_type": "code",
   "execution_count": 46,
   "metadata": {
    "scrolled": true
   },
   "outputs": [
    {
     "data": {
      "text/html": [
       "<div>\n",
       "<style scoped>\n",
       "    .dataframe tbody tr th:only-of-type {\n",
       "        vertical-align: middle;\n",
       "    }\n",
       "\n",
       "    .dataframe tbody tr th {\n",
       "        vertical-align: top;\n",
       "    }\n",
       "\n",
       "    .dataframe thead th {\n",
       "        text-align: right;\n",
       "    }\n",
       "</style>\n",
       "<table border=\"1\" class=\"dataframe\">\n",
       "  <thead>\n",
       "    <tr style=\"text-align: right;\">\n",
       "      <th></th>\n",
       "      <th>sent1</th>\n",
       "      <th>sent2</th>\n",
       "      <th>label</th>\n",
       "      <th>X</th>\n",
       "      <th>y</th>\n",
       "      <th>y_dense</th>\n",
       "    </tr>\n",
       "  </thead>\n",
       "  <tbody>\n",
       "    <tr>\n",
       "      <th>236078</th>\n",
       "      <td>[The, documents, show, ,, as, Gerth, himself, ...</td>\n",
       "      <td>[The, Washington, Post, added, that, even, the...</td>\n",
       "      <td>journal/slate/50/ArticleIP_25878</td>\n",
       "      <td>[[-0.021916695, -0.22111335, -0.10068608, -0.2...</td>\n",
       "      <td>[0, 0, 0, 0, 0, 0, 0, 0, 0, 1]</td>\n",
       "      <td>9</td>\n",
       "    </tr>\n",
       "    <tr>\n",
       "      <th>106741</th>\n",
       "      <td>[BMIs, straddle, the, worlds, of, fact, and, f...</td>\n",
       "      <td>[While, the, entertainment, industry, has, foc...</td>\n",
       "      <td>technical/plos/journal.pbio.0020430</td>\n",
       "      <td>[[-0.10693365, -0.015572075, -0.13940139, -0.0...</td>\n",
       "      <td>[0, 0, 0, 0, 0, 0, 0, 0, 0, 1]</td>\n",
       "      <td>9</td>\n",
       "    </tr>\n",
       "    <tr>\n",
       "      <th>66434</th>\n",
       "      <td>[Executive, Order, No, .]</td>\n",
       "      <td>[According, to, the, Department, ,, this, rule...</td>\n",
       "      <td>technical/government/Gen_Account_Office/og97002</td>\n",
       "      <td>[[0.0038720437, 0.046461582, -0.021168824, 0.0...</td>\n",
       "      <td>[0, 0, 0, 0, 0, 0, 0, 0, 0, 1]</td>\n",
       "      <td>9</td>\n",
       "    </tr>\n",
       "    <tr>\n",
       "      <th>63300</th>\n",
       "      <td>[See, chapter, 6, for, a, discussion, of, the,...</td>\n",
       "      <td>[Significant, findings, and, recommendations, ...</td>\n",
       "      <td>technical/government/Gen_Account_Office/Govern...</td>\n",
       "      <td>[[0.009962393, -0.039003048, 0.014711713, 0.09...</td>\n",
       "      <td>[0, 0, 0, 0, 0, 0, 0, 0, 0, 1]</td>\n",
       "      <td>9</td>\n",
       "    </tr>\n",
       "    <tr>\n",
       "      <th>173657</th>\n",
       "      <td>[He, ignites, kegs, of, dynamite, in, his, Asp...</td>\n",
       "      <td>[To, ring, in, the, new, year, in, 1997, ,, he...</td>\n",
       "      <td>journal/slate/30/ArticleIP_1867</td>\n",
       "      <td>[[0.040279258, 0.052571785, -0.07801149, -0.02...</td>\n",
       "      <td>[0, 0, 0, 0, 0, 0, 0, 0, 0, 1]</td>\n",
       "      <td>9</td>\n",
       "    </tr>\n",
       "  </tbody>\n",
       "</table>\n",
       "</div>"
      ],
      "text/plain": [
       "                                                    sent1  \\\n",
       "236078  [The, documents, show, ,, as, Gerth, himself, ...   \n",
       "106741  [BMIs, straddle, the, worlds, of, fact, and, f...   \n",
       "66434                           [Executive, Order, No, .]   \n",
       "63300   [See, chapter, 6, for, a, discussion, of, the,...   \n",
       "173657  [He, ignites, kegs, of, dynamite, in, his, Asp...   \n",
       "\n",
       "                                                    sent2  \\\n",
       "236078  [The, Washington, Post, added, that, even, the...   \n",
       "106741  [While, the, entertainment, industry, has, foc...   \n",
       "66434   [According, to, the, Department, ,, this, rule...   \n",
       "63300   [Significant, findings, and, recommendations, ...   \n",
       "173657  [To, ring, in, the, new, year, in, 1997, ,, he...   \n",
       "\n",
       "                                                    label  \\\n",
       "236078                   journal/slate/50/ArticleIP_25878   \n",
       "106741                technical/plos/journal.pbio.0020430   \n",
       "66434     technical/government/Gen_Account_Office/og97002   \n",
       "63300   technical/government/Gen_Account_Office/Govern...   \n",
       "173657                    journal/slate/30/ArticleIP_1867   \n",
       "\n",
       "                                                        X  \\\n",
       "236078  [[-0.021916695, -0.22111335, -0.10068608, -0.2...   \n",
       "106741  [[-0.10693365, -0.015572075, -0.13940139, -0.0...   \n",
       "66434   [[0.0038720437, 0.046461582, -0.021168824, 0.0...   \n",
       "63300   [[0.009962393, -0.039003048, 0.014711713, 0.09...   \n",
       "173657  [[0.040279258, 0.052571785, -0.07801149, -0.02...   \n",
       "\n",
       "                                     y  y_dense  \n",
       "236078  [0, 0, 0, 0, 0, 0, 0, 0, 0, 1]        9  \n",
       "106741  [0, 0, 0, 0, 0, 0, 0, 0, 0, 1]        9  \n",
       "66434   [0, 0, 0, 0, 0, 0, 0, 0, 0, 1]        9  \n",
       "63300   [0, 0, 0, 0, 0, 0, 0, 0, 0, 1]        9  \n",
       "173657  [0, 0, 0, 0, 0, 0, 0, 0, 0, 1]        9  "
      ]
     },
     "execution_count": 46,
     "metadata": {},
     "output_type": "execute_result"
    }
   ],
   "source": [
    "oanc_df.sample(5)"
   ]
  },
  {
   "cell_type": "code",
   "execution_count": 14,
   "metadata": {},
   "outputs": [],
   "source": [
    "bnc_df = pd.read_pickle('data/discourse_markers/bnc_pair_df.zip')"
   ]
  },
  {
   "cell_type": "code",
   "execution_count": 49,
   "metadata": {},
   "outputs": [
    {
     "data": {
      "text/html": [
       "<div>\n",
       "<style scoped>\n",
       "    .dataframe tbody tr th:only-of-type {\n",
       "        vertical-align: middle;\n",
       "    }\n",
       "\n",
       "    .dataframe tbody tr th {\n",
       "        vertical-align: top;\n",
       "    }\n",
       "\n",
       "    .dataframe thead th {\n",
       "        text-align: right;\n",
       "    }\n",
       "</style>\n",
       "<table border=\"1\" class=\"dataframe\">\n",
       "  <thead>\n",
       "    <tr style=\"text-align: right;\">\n",
       "      <th></th>\n",
       "      <th>label</th>\n",
       "      <th>sent1</th>\n",
       "      <th>sent2</th>\n",
       "      <th>sent2_orig</th>\n",
       "      <th>y</th>\n",
       "      <th>y_dense</th>\n",
       "    </tr>\n",
       "  </thead>\n",
       "  <tbody>\n",
       "    <tr>\n",
       "      <th>541376</th>\n",
       "      <td>Tales I tell my mother. Sample containing a...</td>\n",
       "      <td>[Jo, 's, voice, follows, her, heels, clicking,...</td>\n",
       "      <td>[Go, anywhere, ,, out, of, this, whole, mess, .]</td>\n",
       "      <td>None</td>\n",
       "      <td>[0, 0, 0, 0, 0, 0, 0, 0, 0, 1]</td>\n",
       "      <td>9</td>\n",
       "    </tr>\n",
       "    <tr>\n",
       "      <th>501311</th>\n",
       "      <td>Dostoevsky. Sample containing about 34134 wo...</td>\n",
       "      <td>[Petersburg, encourages, his, vicious, loose-e...</td>\n",
       "      <td>[Raskolnikov, 's, ‘, incomplete, smile, ’, is,...</td>\n",
       "      <td>None</td>\n",
       "      <td>[0, 0, 0, 0, 0, 0, 0, 0, 0, 1]</td>\n",
       "      <td>9</td>\n",
       "    </tr>\n",
       "    <tr>\n",
       "      <th>302103</th>\n",
       "      <td>Armada. Sample containing about 37064 words ...</td>\n",
       "      <td>[She, pushed, a, dark, lock, of, hair, back, o...</td>\n",
       "      <td>[\", Drowned, ,, \", he, said, ,, and, told, her...</td>\n",
       "      <td>None</td>\n",
       "      <td>[0, 0, 0, 0, 0, 0, 0, 0, 0, 1]</td>\n",
       "      <td>9</td>\n",
       "    </tr>\n",
       "    <tr>\n",
       "      <th>30521</th>\n",
       "      <td>Britain and Europe - European art: radio pro...</td>\n",
       "      <td>[That, does, n't, help, !]</td>\n",
       "      <td>[He, does, more, or, less, blank, paintings, o...</td>\n",
       "      <td>None</td>\n",
       "      <td>[0, 0, 0, 0, 0, 0, 0, 0, 0, 1]</td>\n",
       "      <td>9</td>\n",
       "    </tr>\n",
       "    <tr>\n",
       "      <th>431291</th>\n",
       "      <td>Introduction to computer law. Sample contain...</td>\n",
       "      <td>[Most, of, these, points, are, self-explanator...</td>\n",
       "      <td>[The, misrepresentation, is, not, necessarily,...</td>\n",
       "      <td>None</td>\n",
       "      <td>[0, 0, 0, 0, 0, 0, 0, 0, 0, 1]</td>\n",
       "      <td>9</td>\n",
       "    </tr>\n",
       "  </tbody>\n",
       "</table>\n",
       "</div>"
      ],
      "text/plain": [
       "                                                    label  \\\n",
       "541376     Tales I tell my mother. Sample containing a...   \n",
       "501311    Dostoevsky. Sample containing about 34134 wo...   \n",
       "302103    Armada. Sample containing about 37064 words ...   \n",
       "30521     Britain and Europe - European art: radio pro...   \n",
       "431291    Introduction to computer law. Sample contain...   \n",
       "\n",
       "                                                    sent1  \\\n",
       "541376  [Jo, 's, voice, follows, her, heels, clicking,...   \n",
       "501311  [Petersburg, encourages, his, vicious, loose-e...   \n",
       "302103  [She, pushed, a, dark, lock, of, hair, back, o...   \n",
       "30521                          [That, does, n't, help, !]   \n",
       "431291  [Most, of, these, points, are, self-explanator...   \n",
       "\n",
       "                                                    sent2 sent2_orig  \\\n",
       "541376   [Go, anywhere, ,, out, of, this, whole, mess, .]       None   \n",
       "501311  [Raskolnikov, 's, ‘, incomplete, smile, ’, is,...       None   \n",
       "302103  [\", Drowned, ,, \", he, said, ,, and, told, her...       None   \n",
       "30521   [He, does, more, or, less, blank, paintings, o...       None   \n",
       "431291  [The, misrepresentation, is, not, necessarily,...       None   \n",
       "\n",
       "                                     y  y_dense  \n",
       "541376  [0, 0, 0, 0, 0, 0, 0, 0, 0, 1]        9  \n",
       "501311  [0, 0, 0, 0, 0, 0, 0, 0, 0, 1]        9  \n",
       "302103  [0, 0, 0, 0, 0, 0, 0, 0, 0, 1]        9  \n",
       "30521   [0, 0, 0, 0, 0, 0, 0, 0, 0, 1]        9  \n",
       "431291  [0, 0, 0, 0, 0, 0, 0, 0, 0, 1]        9  "
      ]
     },
     "execution_count": 49,
     "metadata": {},
     "output_type": "execute_result"
    }
   ],
   "source": [
    "bnc_df.sample(5)"
   ]
  },
  {
   "cell_type": "code",
   "execution_count": 22,
   "metadata": {},
   "outputs": [
    {
     "data": {
      "text/plain": [
       "{'Also': 4,\n",
       " 'And': 7,\n",
       " 'But': 8,\n",
       " 'First': 3,\n",
       " 'Now': 5,\n",
       " 'Or': 2,\n",
       " 'So': 6,\n",
       " 'Well': 0,\n",
       " 'Yet': 1}"
      ]
     },
     "execution_count": 22,
     "metadata": {},
     "output_type": "execute_result"
    }
   ],
   "source": [
    "with open('data/discourse_markers/oanc_terms.pkl', 'rb') as f:\n",
    "    terms_dict = pickle.load(f)\n",
    "ind_dict = {v: k for k, v in terms_dict.items()}\n",
    "ind_dict[9] = 'NULL'\n",
    "terms_dict"
   ]
  },
  {
   "cell_type": "code",
   "execution_count": 44,
   "metadata": {},
   "outputs": [
    {
     "name": "stdout",
     "output_type": "stream",
     "text": [
      "Counter({9: 252574, 8: 9685, 7: 5545, 6: 1629, 4: 850, 5: 837, 2: 795, 3: 763, 1: 625, 0: 399})\n"
     ]
    }
   ],
   "source": [
    "counts = Counter()\n",
    "for count in oanc_df[\"y_dense\"]:\n",
    "    counts[count] += 1\n",
    "print(counts)"
   ]
  },
  {
   "cell_type": "code",
   "execution_count": 48,
   "metadata": {},
   "outputs": [
    {
     "name": "stdout",
     "output_type": "stream",
     "text": [
      "Counter({9: 532618, 8: 11707, 7: 7373, 6: 3111, 0: 1880, 5: 1629, 1: 1284, 3: 873, 2: 811, 4: 362})\n"
     ]
    }
   ],
   "source": [
    "counts = Counter()\n",
    "for count in bnc_df[\"y_dense\"]:\n",
    "    counts[count] += 1\n",
    "print(counts)"
   ]
  },
  {
   "cell_type": "raw",
   "metadata": {},
   "source": [
    "# remove \"now that\" examples\n",
    "\n",
    "delete = []\n",
    "for idx, row in tqdm(bnc_df.iterrows(), total = len(bnc_df)):\n",
    "    if row.y_dense == 5 and row['sent2'][0] == 'That':\n",
    "        print(row['sent2'])\n",
    "        delete.append(idx)\n",
    "bnc_df = bnc_df.drop(delete)\n",
    "for idx, row in tqdm(bnc_df.iterrows(), total = len(bnc_df)):\n",
    "    if row.y_dense == 5 and row['sent2'][0] == 'That':\n",
    "        print(row['sent2'])\n",
    "print('check complete')"
   ]
  },
  {
   "cell_type": "markdown",
   "metadata": {},
   "source": [
    "# re-vectorization with new data using doc2vec"
   ]
  },
  {
   "cell_type": "code",
   "execution_count": 51,
   "metadata": {},
   "outputs": [
    {
     "data": {
      "application/vnd.jupyter.widget-view+json": {
       "model_id": "e9fb890db6c546f88497714abacdb0ed",
       "version_major": 2,
       "version_minor": 0
      },
      "text/plain": [
       "HBox(children=(IntProgress(value=0, max=561648), HTML(value='')))"
      ]
     },
     "metadata": {},
     "output_type": "display_data"
    },
    {
     "data": {
      "application/vnd.jupyter.widget-view+json": {
       "model_id": "218e6763115f45d480cd5461c949a1c1",
       "version_major": 2,
       "version_minor": 0
      },
      "text/plain": [
       "HBox(children=(IntProgress(value=0, max=273702), HTML(value='')))"
      ]
     },
     "metadata": {},
     "output_type": "display_data"
    }
   ],
   "source": [
    "X_tokens = []\n",
    "for idx, row in tqdm(bnc_df.iterrows(), total=len(bnc_df)):\n",
    "    X_tokens.append(row['sent1'])\n",
    "for idx, row in tqdm(oanc_df.iterrows(), total=len(oanc_df)):\n",
    "    X_tokens.append(row['sent1'])"
   ]
  },
  {
   "cell_type": "code",
   "execution_count": 52,
   "metadata": {},
   "outputs": [
    {
     "data": {
      "application/vnd.jupyter.widget-view+json": {
       "model_id": "92988e2f03994d1a86ce5dae347a86f6",
       "version_major": 2,
       "version_minor": 0
      },
      "text/plain": [
       "HBox(children=(IntProgress(value=0, max=835350), HTML(value='')))"
      ]
     },
     "metadata": {},
     "output_type": "display_data"
    }
   ],
   "source": [
    "tagged = []\n",
    "for i, sent in enumerate(tqdm(X_tokens)):\n",
    "    tagged.append(TaggedDocument(words = sent, tags = [str(i)]))"
   ]
  },
  {
   "cell_type": "code",
   "execution_count": 53,
   "metadata": {},
   "outputs": [
    {
     "name": "stdout",
     "output_type": "stream",
     "text": [
      "vocabulary built\n",
      "training finished\n",
      "trained & saved\n"
     ]
    }
   ],
   "source": [
    "d2v = Doc2Vec(vector_size = 100, min_count = 1, dm = 0)\n",
    "d2v.build_vocab(tagged)\n",
    "print('vocabulary built')\n",
    "d2v.train(tagged, total_examples = d2v.corpus_count, epochs = 20)\n",
    "print('training finished')\n",
    "d2v.save(\"data/discourse_markers/d2v.model\")\n",
    "print(\"trained & saved\")"
   ]
  },
  {
   "cell_type": "code",
   "execution_count": 59,
   "metadata": {},
   "outputs": [
    {
     "data": {
      "application/vnd.jupyter.widget-view+json": {
       "model_id": "20ffcddc6b504fde8273e43e2e10bf3b",
       "version_major": 2,
       "version_minor": 0
      },
      "text/plain": [
       "HBox(children=(IntProgress(value=0, max=561648), HTML(value='')))"
      ]
     },
     "metadata": {},
     "output_type": "display_data"
    },
    {
     "data": {
      "application/vnd.jupyter.widget-view+json": {
       "model_id": "59cdc9b2d3314909b7a47cee9784e25f",
       "version_major": 2,
       "version_minor": 0
      },
      "text/plain": [
       "HBox(children=(IntProgress(value=0, max=273702), HTML(value='')))"
      ]
     },
     "metadata": {},
     "output_type": "display_data"
    }
   ],
   "source": [
    "index = 0\n",
    "\n",
    "X = []\n",
    "for idx, row in tqdm(bnc_df.iterrows(), total=len(bnc_df)):\n",
    "    assert tagged[index].words == row['sent1']\n",
    "    sent1_vec = d2v.docvecs[str(index)]\n",
    "    sent2_vec = d2v.infer_vector(row['sent2'])\n",
    "    if index + 1 < len(tagged):\n",
    "        if tagged[index+1].words == row['sent2']:\n",
    "            sent2_vec = d2v.docvecs[str(index)]\n",
    "    index += 1\n",
    "    X.append([sent1_vec, sent2_vec])  \n",
    "bnc_df['X'] = X\n",
    "\n",
    "X = []\n",
    "for idx, row in tqdm(oanc_df.iterrows(), total=len(oanc_df)):\n",
    "    assert tagged[index].words == row['sent1']\n",
    "    sent1_vec = d2v.docvecs[str(index)]\n",
    "    sent2_vec = d2v.infer_vector(row['sent2'])\n",
    "    if index + 1 < len(tagged):\n",
    "        if tagged[index+1].words == row['sent2']:\n",
    "            sent2_vec = d2v.docvecs[str(index)]\n",
    "    index += 1\n",
    "    X.append([sent1_vec, sent2_vec])  \n",
    "oanc_df['X'] = X"
   ]
  },
  {
   "cell_type": "code",
   "execution_count": 62,
   "metadata": {},
   "outputs": [],
   "source": [
    "oanc_df.to_pickle('data/discourse_markers/oanc_pair_df.zip')\n",
    "bnc_df.to_pickle('data/discourse_markers/bnc_pair_df.zip')"
   ]
  },
  {
   "cell_type": "markdown",
   "metadata": {},
   "source": [
    "# create X and y"
   ]
  },
  {
   "cell_type": "code",
   "execution_count": 110,
   "metadata": {
    "scrolled": true
   },
   "outputs": [],
   "source": [
    "X = []\n",
    "y = []\n",
    "\n",
    "num = 8 # But\n",
    "\n",
    "X.extend(oanc_df[oanc_df.y_dense == num].X)\n",
    "X.extend(bnc_df[bnc_df.y_dense == num].X)\n",
    "y.extend(oanc_df[oanc_df.y_dense == num].y_dense)\n",
    "y.extend(bnc_df[bnc_df.y_dense == num].y_dense)\n",
    "\n",
    "sampled_oanc = oanc_df[oanc_df.y_dense != num].sample(n=int(len(X)/2), random_state=1)\n",
    "sampled_bnc = bnc_df[bnc_df.y_dense != num].sample(n=int(len(X)/2), random_state=1)\n",
    "\n",
    "X.extend(sampled_oanc.X)\n",
    "y.extend(sampled_oanc.y_dense)\n",
    "X.extend(sampled_bnc.X)\n",
    "y.extend(sampled_bnc.y_dense)\n",
    "\n",
    "y = [1 if x == num else 0 for x in y]\n",
    "\n",
    "X, y = shuffle(X, y, random_state=0)"
   ]
  },
  {
   "cell_type": "code",
   "execution_count": 115,
   "metadata": {},
   "outputs": [],
   "source": [
    "X = np.array(X)\n",
    "y = to_categorical(y, 2)"
   ]
  },
  {
   "cell_type": "code",
   "execution_count": 116,
   "metadata": {},
   "outputs": [],
   "source": [
    "X_train, X_test, y_train, y_test = train_test_split(X, y, test_size=0.1, random_state=47)"
   ]
  },
  {
   "cell_type": "markdown",
   "metadata": {},
   "source": [
    "# model building"
   ]
  },
  {
   "cell_type": "code",
   "execution_count": 128,
   "metadata": {},
   "outputs": [],
   "source": [
    "input_len = 2\n",
    "num_units = 128\n",
    "embed_dim = 100"
   ]
  },
  {
   "cell_type": "code",
   "execution_count": 129,
   "metadata": {},
   "outputs": [],
   "source": [
    "K.clear_session()"
   ]
  },
  {
   "cell_type": "code",
   "execution_count": 130,
   "metadata": {},
   "outputs": [],
   "source": [
    "main_input = Input(shape = (input_len, embed_dim), dtype = 'float32', name = 'main_input')\n",
    "\n",
    "rnn = Bidirectional(SimpleRNN(return_sequences = False, units = num_units), name = 'rnn')(main_input)\n",
    "dropout = Dropout(rate = 0.25, name = 'dropout')(rnn)\n",
    "output = Dense(2, activation='softmax', name = 'output')(dropout)"
   ]
  },
  {
   "cell_type": "code",
   "execution_count": 131,
   "metadata": {},
   "outputs": [
    {
     "name": "stdout",
     "output_type": "stream",
     "text": [
      "_________________________________________________________________\n",
      "Layer (type)                 Output Shape              Param #   \n",
      "=================================================================\n",
      "main_input (InputLayer)      (None, 2, 100)            0         \n",
      "_________________________________________________________________\n",
      "rnn (Bidirectional)          (None, 128)               21120     \n",
      "_________________________________________________________________\n",
      "dropout (Dropout)            (None, 128)               0         \n",
      "_________________________________________________________________\n",
      "output (Dense)               (None, 2)                 258       \n",
      "=================================================================\n",
      "Total params: 21,378\n",
      "Trainable params: 21,378\n",
      "Non-trainable params: 0\n",
      "_________________________________________________________________\n"
     ]
    }
   ],
   "source": [
    "model = Model(inputs = main_input, outputs = output)\n",
    "\n",
    "model.summary()"
   ]
  },
  {
   "cell_type": "markdown",
   "metadata": {},
   "source": [
    "# train"
   ]
  },
  {
   "cell_type": "code",
   "execution_count": 132,
   "metadata": {
    "scrolled": true
   },
   "outputs": [
    {
     "name": "stdout",
     "output_type": "stream",
     "text": [
      "Train on 34654 samples, validate on 3851 samples\n",
      "Epoch 1/5\n",
      "34654/34654 [==============================] - 9s 260us/step - loss: 0.6130 - acc: 0.6673 - val_loss: 0.5984 - val_acc: 0.6648\n",
      "Epoch 2/5\n",
      "34654/34654 [==============================] - 8s 231us/step - loss: 0.5867 - acc: 0.6942 - val_loss: 0.5741 - val_acc: 0.7022\n",
      "Epoch 3/5\n",
      "34654/34654 [==============================] - 8s 234us/step - loss: 0.5758 - acc: 0.7017 - val_loss: 0.5665 - val_acc: 0.7019\n",
      "Epoch 4/5\n",
      "34654/34654 [==============================] - 8s 235us/step - loss: 0.5663 - acc: 0.7111 - val_loss: 0.5625 - val_acc: 0.7089\n",
      "Epoch 5/5\n",
      "34654/34654 [==============================] - 8s 234us/step - loss: 0.5583 - acc: 0.7136 - val_loss: 0.5588 - val_acc: 0.7120\n",
      "4279/4279 [==============================] - 0s 91us/step\n",
      "accuracy:\t0.7190932460437452\n"
     ]
    }
   ],
   "source": [
    "model.compile(optimizer = 'adam',\n",
    "             loss = 'binary_crossentropy',\n",
    "             metrics = ['accuracy'])\n",
    "\n",
    "history = model.fit(X_train, y_train, \n",
    "                    epochs = 5, \n",
    "                    batch_size = 32, \n",
    "                    validation_split = 0.1)\n",
    "\n",
    "loss, accuracy = model.evaluate(X_test, y_test, batch_size = 32)\n",
    "\n",
    "print('\\naccuracy:\\t' + str(accuracy))"
   ]
  },
  {
   "cell_type": "markdown",
   "metadata": {},
   "source": [
    "# test"
   ]
  },
  {
   "cell_type": "code",
   "execution_count": 93,
   "metadata": {},
   "outputs": [],
   "source": [
    "d2v = Doc2Vec.load(\"data/discourse_markers/d2v.model\")\n",
    "np.random.seed = 47\n",
    "#X_pad = np.random.rand(50)\n",
    "#with open('data/discourse_markers/oanc_terms.pkl', 'rb') as f:\n",
    "#    terms_dict = pickle.load(f)\n",
    "#ind_dict = {v: k for k, v in terms_dict.items()}\n",
    "#ind_dict[9] = 'NULL'"
   ]
  },
  {
   "cell_type": "code",
   "execution_count": 94,
   "metadata": {},
   "outputs": [],
   "source": [
    "ind_dict = {0: 'NULL', 1: 'But'}"
   ]
  },
  {
   "cell_type": "code",
   "execution_count": 95,
   "metadata": {},
   "outputs": [],
   "source": [
    "def pred(passage, vectorized = False):\n",
    "    if not vectorized:\n",
    "        sentences = sent_tokenize(passage)\n",
    "        tok_sent = [word_tokenize(sentence) for sentence in sentences]\n",
    "        vectors = [d2v.infer_vector(sentence) for sentence in tok_sent]\n",
    "    else:\n",
    "        vectors = passage\n",
    "    \n",
    "    for idx in range(len(vectors) - 1):\n",
    "        if idx == 0 and not vectorized:\n",
    "            print(sentences[idx])\n",
    "        input_vec = np.array([vectors[idx], vectors[idx+1]])\n",
    "        ans = model.predict(np.array([input_vec,]))\n",
    "        if not vectorized:\n",
    "            print('[' + ind_dict[np.argmax(ans[0])] + '] ' + sentences[idx+1])\n",
    "        else:\n",
    "            return(ind_dict[np.argmax(ans[0])])"
   ]
  },
  {
   "cell_type": "code",
   "execution_count": 96,
   "metadata": {},
   "outputs": [],
   "source": [
    "text = \"\"\"\n",
    "Philosophy of Education is a label applied to the study of the purpose, process, nature and ideals of education. It can be considered a branch of both philosophy and education. Education can be defined as the teaching and learning of specific skills, and the imparting of knowledge, judgment and wisdom, and is something broader than the societal institution of education we often speak of.\n",
    "\n",
    "Many educationalists consider it a weak and woolly field, too far removed from the practical applications of the real world to be useful. Philosophers dating back to Plato and the Ancient Greeks have given the area much thought and emphasis, and there is little doubt that their work has helped shape the practice of education over the millennia.\n",
    "\n",
    "Plato is the earliest important educational thinker, and education is an essential element in \"The Republic\" (his most important work on philosophy and political theory, written around 360 B.C.). In it, he advocates some rather extreme methods: removing children from their mothers' care and raising them as wards of the state, and differentiating children suitable to the various castes, the highest receiving the most education, so that they could act as guardians of the city and care for the less able. He believed that education should be holistic, including facts, skills, physical discipline, music and art. Plato believed that talent and intelligence is not distributed genetically and thus is be found in children born to all classes, although his proposed system of selective public education for an educated minority of the population does not really follow a democratic model.\n",
    "\n",
    "Aristotle considered human nature, habit and reason to be equally important forces to be cultivated in education, the ultimate aim of which should be to produce good and virtuous citizens. He proposed that teachers lead their students systematically, and that repetition be used as a key tool to develop good habits, unlike Socrates' emphasis on questioning his listeners to bring out their own ideas. He emphasized the balancing of the theoretical and practical aspects of subjects taught, among which he explicitly mentions reading, writing, mathematics, music, physical education, literature, history, and a wide range of sciences, as well as play, which he also considered important.\n",
    "\n",
    "During the Medieval period, the idea of Perennialism was first formulated by St. Thomas Aquinas in his work \"De Magistro\". Perennialism holds that one should teach those things deemed to be of everlasting importance to all people everywhere, namely principles and reasoning, not just facts (which are apt to change over time), and that one should teach first about people, not machines or techniques. It was originally religious in nature, and it was only much later that a theory of secular perennialism developed.\n",
    "\n",
    "During the Renaissance, the French skeptic Michel de Montaigne (1533 - 1592) was one of the first to critically look at education. Unusually for his time, Montaigne was willing to question the conventional wisdom of the period, calling into question the whole edifice of the educational system, and the implicit assumption that university-educated philosophers were necessarily wiser than uneducated farm workers, for example.\n",
    "\n",
    "\"\"\""
   ]
  },
  {
   "cell_type": "code",
   "execution_count": 97,
   "metadata": {},
   "outputs": [
    {
     "name": "stdout",
     "output_type": "stream",
     "text": [
      "\n",
      "Philosophy of Education is a label applied to the study of the purpose, process, nature and ideals of education.\n",
      "[But] It can be considered a branch of both philosophy and education.\n",
      "[But] Education can be defined as the teaching and learning of specific skills, and the imparting of knowledge, judgment and wisdom, and is something broader than the societal institution of education we often speak of.\n",
      "[NULL] Many educationalists consider it a weak and woolly field, too far removed from the practical applications of the real world to be useful.\n",
      "[NULL] Philosophers dating back to Plato and the Ancient Greeks have given the area much thought and emphasis, and there is little doubt that their work has helped shape the practice of education over the millennia.\n",
      "[But] Plato is the earliest important educational thinker, and education is an essential element in \"The Republic\" (his most important work on philosophy and political theory, written around 360 B.C.).\n",
      "[But] In it, he advocates some rather extreme methods: removing children from their mothers' care and raising them as wards of the state, and differentiating children suitable to the various castes, the highest receiving the most education, so that they could act as guardians of the city and care for the less able.\n",
      "[NULL] He believed that education should be holistic, including facts, skills, physical discipline, music and art.\n",
      "[But] Plato believed that talent and intelligence is not distributed genetically and thus is be found in children born to all classes, although his proposed system of selective public education for an educated minority of the population does not really follow a democratic model.\n",
      "[NULL] Aristotle considered human nature, habit and reason to be equally important forces to be cultivated in education, the ultimate aim of which should be to produce good and virtuous citizens.\n",
      "[NULL] He proposed that teachers lead their students systematically, and that repetition be used as a key tool to develop good habits, unlike Socrates' emphasis on questioning his listeners to bring out their own ideas.\n",
      "[But] He emphasized the balancing of the theoretical and practical aspects of subjects taught, among which he explicitly mentions reading, writing, mathematics, music, physical education, literature, history, and a wide range of sciences, as well as play, which he also considered important.\n",
      "[But] During the Medieval period, the idea of Perennialism was first formulated by St. Thomas Aquinas in his work \"De Magistro\".\n",
      "[But] Perennialism holds that one should teach those things deemed to be of everlasting importance to all people everywhere, namely principles and reasoning, not just facts (which are apt to change over time), and that one should teach first about people, not machines or techniques.\n",
      "[But] It was originally religious in nature, and it was only much later that a theory of secular perennialism developed.\n",
      "[But] During the Renaissance, the French skeptic Michel de Montaigne (1533 - 1592) was one of the first to critically look at education.\n",
      "[But] Unusually for his time, Montaigne was willing to question the conventional wisdom of the period, calling into question the whole edifice of the educational system, and the implicit assumption that university-educated philosophers were necessarily wiser than uneducated farm workers, for example.\n"
     ]
    }
   ],
   "source": [
    "pred(text)"
   ]
  },
  {
   "cell_type": "code",
   "execution_count": 125,
   "metadata": {},
   "outputs": [
    {
     "data": {
      "application/vnd.jupyter.widget-view+json": {
       "model_id": "394ad4b186ee47438d4cf0b302ef4751",
       "version_major": 2,
       "version_minor": 0
      },
      "text/plain": [
       "HBox(children=(IntProgress(value=0, max=4279), HTML(value='')))"
      ]
     },
     "metadata": {},
     "output_type": "display_data"
    }
   ],
   "source": [
    "# see where the errors are landing\n",
    "\n",
    "errors = Counter()\n",
    "total_pred = Counter()\n",
    "\n",
    "for idx in tqdm(range(len(X_test))):\n",
    "    predicted = pred(X_test[idx], True)\n",
    "    true = ind_dict[np.argmax(y_test[idx])]\n",
    "    total_pred[predicted] += 1\n",
    "    if predicted != true:\n",
    "        errors[true + ' => ' + predicted] += 1"
   ]
  },
  {
   "cell_type": "code",
   "execution_count": 126,
   "metadata": {},
   "outputs": [
    {
     "data": {
      "text/plain": [
       "[('But => NULL', 754), ('NULL => But', 443)]"
      ]
     },
     "execution_count": 126,
     "metadata": {},
     "output_type": "execute_result"
    }
   ],
   "source": [
    "errors.most_common()"
   ]
  },
  {
   "cell_type": "code",
   "execution_count": 127,
   "metadata": {},
   "outputs": [
    {
     "data": {
      "text/plain": [
       "[('NULL', 2429), ('But', 1850)]"
      ]
     },
     "execution_count": 127,
     "metadata": {},
     "output_type": "execute_result"
    }
   ],
   "source": [
    "total_pred.most_common()"
   ]
  },
  {
   "cell_type": "code",
   "execution_count": 101,
   "metadata": {
    "scrolled": true
   },
   "outputs": [
    {
     "name": "stdout",
     "output_type": "stream",
     "text": [
      "If he could convince her that nothing she could say or do would make him change his mind about Carrie , the way would be open for him to prove to Carrie he had enough love for the two of them .\n",
      "But\n",
      "There was so little time left now , for he could get his papers any day … He had the urge to run .\n",
      "\n",
      "’\n",
      "But\n",
      "She knew that this was more important .\n",
      "\n",
      "She could believe that this was the creature that had floated inside her — yes , like a starry astronaut in his liquid capsule , attached to his red life-support cable — she had pored over photographs of embryos and imagined him a hundred times .\n",
      "But\n",
      "Surely only his perfect oblivious innocence of all evil including pain had enabled him to survive the journey down .\n",
      "\n",
      "and the car Will get priority .\n",
      "But\n",
      "Does it have to be Curtains\n",
      "\n",
      "So long as the traveller historians and geographers , such as Herodotus and Pliny the Elder , Chau Ju-Kwa and Ibn Batuta , Friar Odoric and Marco Polo , are writing as eye-witness observers , most of what they report is entirely factual and authentic .\n",
      "But\n",
      "As soon as they move to hearsay they lapse immediately into the purely fantastic , and the stuff of which their fantasies are constructed is lifted direct from mythology .\n",
      "\n",
      "But after the publicity on unleaded fuel there has been increased interest in used diesel power .\n",
      "But\n",
      "Remember that these cars accrue , and can withstand , significantly higher mileages than petrol cars , 50-90,000 being the norm .\n",
      "\n",
      "Senior bureaucrats , it is true , are sometimes members of the dominant class , and sympathise with its aims .\n",
      "But\n",
      "This does not explain the state 's overall function , ; for even when it is controlled by officials drawn from other classes , it continues to serve the political interest of the hegemonic fraction .\n",
      "\n",
      "Goldie , 46 , has three children at home and has regular visits from live-in lover Kurt Russell 's son Boston , 14 , from his previous marriage .\n",
      "But\n",
      "At an age when most women figure their nappy days are over , the thought of never again hearing the patter of little feet is just too much for Goldie .\n",
      "\n",
      "There are large areas in which the normal agricultural yield is thoroughly adequate for the maintenance and accumulation of energy , a fact well shown not only by doubling of our population in the eighteenth century , but also by the evidence of energy to spare for the graces of life whether in the form of meteorological recording , tours to the Lake District , walnut furniture or epistolary accomplishment .\n",
      "But\n",
      "There are large areas in which practically no material yield is obtainable at all .\n",
      "\n",
      "Winter coats had been navy or dark grey .\n",
      "But\n",
      "She had never worn colours , not real colours , not beautiful soft-glowing colours like these , lime green and rose pink and that scarlet belt .\n",
      "\n",
      "’ If you compare The Smiths with the previous Great White Hopes of preceding eras , it 's clear that the rebellion of the Stones , Who , Pistols , jam , was based in some kind of activism or at least action , an optimism about the potential of collective or individual agency .\n",
      "But\n",
      "The Smiths ' rebellion was always more like resistance through withdrawal , through subsiding into enervation .\n",
      "\n",
      "( That 's why it gets used for only small and specialized purposes , not for things like spaceships hulls ) .\n",
      "But\n",
      "The cylinder looked just like one segment of the pedestal that anchors the personal work surface in my cabin .\n",
      "\n",
      "The hideous blood smear on the window was a running crimson blur in the rain .\n",
      "But\n",
      "There was no way of telling whether the thing was still outside .\n",
      "\n",
      "Perhaps , it was surmised , another star had a near-miss with the sun , and supplied additional energy not accounted for in the angular momentum theory .\n",
      "But\n",
      "It soon came to be realized that any breakaway plasma would disperse into the void rather than condense into solid bodies .\n",
      "\n",
      "In Asia , Eisenhower fulfilled his election pledge to end the war in Korea in 1953 .\n",
      "But\n",
      "His two administrations saw an extension of American commitments in Asia .\n",
      "\n",
      "Towards the end of this time , the mother looks as though she has a bunch of pink grapes on her underside and clambering about the branches or running over uneven ground not only becomes awkward for her but looks distinctly uncomfortable for her young .\n",
      "But\n",
      "Other marsupials live in a way that would make such an exposed method of transport positively lethal .\n",
      "\n",
      "Then Arthur Peeble 's dinner time started at one o'clock till quarter to two .\n",
      "NULL\n",
      "Today he had asked if he could have a quarter of an hour extension and her father had said he would be back in time to take over .\n",
      "\n",
      "You know you would not have been engaged if Paige had not insisted .\n",
      "But\n",
      "All the same , leaving was hard .\n",
      "\n",
      "Real wages had to rise somewhere if less efficient plant was to be scrapped and the labour shortage contained .\n",
      "But\n",
      "It was clearly to any one firm 's advantage if somewhere was elsewhere .\n",
      "\n",
      "They undoubtedly contribute .\n",
      "But\n",
      "There must be a point beyond which they can not go — some remaining ‘ self ’ to which social scientists appeal .\n",
      "\n"
     ]
    }
   ],
   "source": [
    "for idx, row in bnc_df[bnc_df.y_dense == num].sample(20).iterrows():\n",
    "    print(' '.join(row['sent1']))\n",
    "    result = pred(np.array(row['X']), True)\n",
    "    print(result)\n",
    "    print(' '.join(row['sent2']))\n",
    "    print()\n"
   ]
  },
  {
   "cell_type": "code",
   "execution_count": 102,
   "metadata": {
    "scrolled": true
   },
   "outputs": [
    {
     "name": "stdout",
     "output_type": "stream",
     "text": [
      "The current issue of a national magazine lists these warning signs : stain , unusual odor , the sound of broken glass or plastic .\n",
      "NULL\n",
      "What publication , what danger ?\n",
      "\n",
      "My significant other is driving me berserk .\n",
      "NULL\n",
      "He changes religious beliefs like some people change clothes .\n",
      "\n",
      "Lincoln once told his biographer and friend William Herndon that he had been infected with syphilis by a prostitute in Beardstown around 1835 [ 6 ] .\n",
      "NULL\n",
      "What if a future test could prove that Lincoln had spoken the truth ?\n",
      "\n",
      "There ’ s not a hint of the 14th century in its splendid western façade , however .\n",
      "NULL\n",
      "This Baroque renovation , one of Jaime Bort ’ s celebrated designs , was undertaken when the original Gothic front suffered irreparable damage in a disastrous flood of the Segura in 1735 .\n",
      "\n",
      "Christmas Jeers Please send your questions for publication to prudence @ slate.com .\n",
      "NULL\n",
      "Dear Prudie , I received the worst version of the dreaded Christmas letter -- addressed to no one in particular -- with an early Christmas card .\n",
      "\n",
      "Seven Years in Tibet ends with the Dalai Lama 's enthronement in 1950 at age 15 and his assumption of the role of political as well as spiritual leader of the country .\n",
      "But\n",
      "The film 's epilogue mentions that he fled Tibet in 1959 , though it mentions neither that this took place in the middle of an attempted rebellion against the occupiers nor that his Buddhist beliefs had previously led him to cooperate with the Chinese .\n",
      "\n",
      "Man Without a Face : The Autobiography of Communism 's Greatest Spymaster , by Markus Wolf with Anne McElvoy ( Times Books ) .\n",
      "NULL\n",
      "The memoirs of East Germany 's Spymaster , legendary for helping bring down West German Prime Minister Willy Brandt 's government .\n",
      "\n",
      "Lucky Macau fit the specifications exactly .\n",
      "NULL\n",
      "Portugal ’ s resulting near-monopoly of East–West trade understandably awakened the competitive instincts of other European powers .\n",
      "\n",
      "Maybe they are drug or alcohol addicts or have multiple family or behavioral problems -- or maybe they simply have a bad attitude .\n",
      "But\n",
      "Nobody really knows how big a problem this is , and the extent will surely differ from area to area .\n",
      "\n",
      "The King family had filed a wrongful-death suit against Memphis cafe owner Loyd Jowers , who said six years ago that he hired King 's assassin on behalf of many others .\n",
      "But\n",
      "The King family 's attorneys argued that the FBI , CIA , mafia , and media conspired to kill King because of his political views .\n",
      "\n",
      "However , agencies should be required to demonstrate to OPM 's satisfaction that they have modern , effective , and validated performance management systems before they are allowed to use broadbanding .\n",
      "NULL\n",
      "The nature and scope of the cultural transformation that needs to take place in many agencies across the federal government will take years to accomplish-easily outrunning the tenures of most political appointees .\n",
      "\n",
      "There 's a returning kids-on-milk-cartons sense of hysteria to the whole crusade .\n",
      "But\n",
      "This would have been a good story for ABC News , if ABC had n't been so busy being part of the problem .\n",
      "\n",
      "Koomey , Jonathan , Alan Sanstad , Marilyn Brown , Ernst Worrell , and Lynn Price , 2001 .\n",
      "NULL\n",
      "Krause , Florentin , Paul Baer , and Stephen DeCanio , 2001 .\n",
      "\n",
      "Mr. Guerrero can be reached at ( 202 ) 512-6111 .\n",
      "NULL\n",
      "Sincerely yours , Robert P. Murphy General Counsel Enclosure cc : Thomas E. Kelly Director , Office of Regulatory Management and Information Environmental Protection Agency 1The OTR is made up of northeastern states : Maine , Vermont , New Hampshire , Massachusetts , Rhode Island , Connecticut , New York , New Jersey , Pennsylvania , Delaware , Maryland , the northern portion of Virginia , and the District of Columbia .\n",
      "\n",
      "The story flatly asserts the involvement of U.S. and Israeli intelligence agents and the government of Kenya , and strongly suggests advance knowledge if not the full cooperation of the government of Greece .\n",
      "NULL\n",
      "Perhaps the biggest news of the piece is that Ocalan 's presence in Nairobi was first detected , two days after he arrived , by FBI agents still there as part of the investigation of last summer 's bombing of the U.S. embassy .\n",
      "\n",
      "Interestingly , our study shows that tubular epithelial apoptosis was associated with TED and IF in human DNP , while normal appearance of tubular epithelium and interstitium was associated with baseline apoptosis rates in diabetic mouse models .\n",
      "NULL\n",
      "Together , published observations from experimental diabetes models in mouse and rat , and human DNP , and our own findings in diabetic mouse models and human DNP , suggest a striking association of TED and tubular epithelial apoptosis .\n",
      "\n",
      "Death continues to strike down Americans , and celebrities are no exception , sometimes , like yesterday , dying two at a time .\n",
      "NULL\n",
      "According to the papers , the latest famous to follow in the co-mortal footsteps of Cervantes and William Shakespeare , John Adams and Thomas Jefferson , and JFK and Aldous Huxley , are Alan Shepard and Robert Young , who together take up a good third of the LAT front and considerable space at the other papers .\n",
      "\n",
      "It is now some time since they asked us , and I feel we need to give them a response very soon .\n",
      "But\n",
      "Can you suggest a way we can kindly refuse the offer without creating awkwardness between us ?\n",
      "\n",
      "People from Indiana , related to the project , are often asked to speak nationally about our system , '' Shepard said .\n",
      "NULL\n",
      "Many types of civil litigation involve things that are dear to us .\n",
      "\n",
      "Although the intelligence community sometimes knew where Bin Ladin was , it had been unable to provide intelligence considered sufficiently reliable to launch a strike .\n",
      "NULL\n",
      "Above all , the United States did not have American eyes on the target .\n",
      "\n"
     ]
    }
   ],
   "source": [
    "for idx, row in oanc_df[oanc_df.y_dense == 9].sample(20).iterrows():\n",
    "    print(' '.join(row['sent1']))\n",
    "    result = pred(np.array(row['X']), True)\n",
    "    print(result)\n",
    "    print(' '.join(row['sent2']))\n",
    "    print()\n"
   ]
  },
  {
   "cell_type": "code",
   "execution_count": null,
   "metadata": {},
   "outputs": [],
   "source": []
  }
 ],
 "metadata": {
  "kernelspec": {
   "display_name": "Python 3",
   "language": "python",
   "name": "python3"
  },
  "language_info": {
   "codemirror_mode": {
    "name": "ipython",
    "version": 3
   },
   "file_extension": ".py",
   "mimetype": "text/x-python",
   "name": "python",
   "nbconvert_exporter": "python",
   "pygments_lexer": "ipython3",
   "version": "3.5.2"
  }
 },
 "nbformat": 4,
 "nbformat_minor": 2
}
