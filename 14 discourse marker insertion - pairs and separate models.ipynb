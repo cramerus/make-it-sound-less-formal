{
 "cells": [
  {
   "cell_type": "code",
   "execution_count": 14,
   "metadata": {},
   "outputs": [],
   "source": [
    "import pandas as pd\n",
    "import numpy as np\n",
    "from tqdm import tqdm_notebook as tqdm\n",
    "import gensim\n",
    "from gensim.models.doc2vec import Doc2Vec, TaggedDocument\n",
    "import pickle\n",
    "from sklearn.model_selection import train_test_split\n",
    "from sklearn.utils import class_weight\n",
    "from sklearn.utils import shuffle\n",
    "import random as rand\n",
    "from nltk import word_tokenize, sent_tokenize\n",
    "from collections import Counter\n",
    "import math\n",
    "\n",
    "import keras.backend as K\n",
    "import tensorflow as tf\n",
    "\n",
    "from keras.models import Model\n",
    "from keras.layers import Input, Dense, Lambda, Dropout, Bidirectional, SimpleRNN\n",
    "from keras.utils import to_categorical\n",
    "from keras.preprocessing.sequence import pad_sequences"
   ]
  },
  {
   "cell_type": "code",
   "execution_count": 2,
   "metadata": {},
   "outputs": [],
   "source": [
    "oanc_df = pd.read_pickle('data/discourse_markers/oanc_pair_df.pkl')"
   ]
  },
  {
   "cell_type": "code",
   "execution_count": 20,
   "metadata": {},
   "outputs": [
    {
     "data": {
      "text/html": [
       "<div>\n",
       "<style scoped>\n",
       "    .dataframe tbody tr th:only-of-type {\n",
       "        vertical-align: middle;\n",
       "    }\n",
       "\n",
       "    .dataframe tbody tr th {\n",
       "        vertical-align: top;\n",
       "    }\n",
       "\n",
       "    .dataframe thead th {\n",
       "        text-align: right;\n",
       "    }\n",
       "</style>\n",
       "<table border=\"1\" class=\"dataframe\">\n",
       "  <thead>\n",
       "    <tr style=\"text-align: right;\">\n",
       "      <th></th>\n",
       "      <th>sent1</th>\n",
       "      <th>sent2</th>\n",
       "      <th>label</th>\n",
       "      <th>X</th>\n",
       "      <th>y</th>\n",
       "      <th>y_dense</th>\n",
       "    </tr>\n",
       "  </thead>\n",
       "  <tbody>\n",
       "    <tr>\n",
       "      <th>0</th>\n",
       "      <td>[In, my, three, decades, of, teaching, univers...</td>\n",
       "      <td>[I, also, served, on, boards, of, directors, a...</td>\n",
       "      <td>non-fiction/OUP/Berk/ch1</td>\n",
       "      <td>[[0.054467976, 0.1869069, 0.06425432, 0.130815...</td>\n",
       "      <td>[0, 0, 0, 0, 0, 0, 0, 0, 0, 1]</td>\n",
       "      <td>9</td>\n",
       "    </tr>\n",
       "    <tr>\n",
       "      <th>1</th>\n",
       "      <td>[I, also, served, on, boards, of, directors, a...</td>\n",
       "      <td>[My, research, continually, drew, me, into, cl...</td>\n",
       "      <td>non-fiction/OUP/Berk/ch1</td>\n",
       "      <td>[[-0.04379302, 0.39241648, 0.17816554, 0.17242...</td>\n",
       "      <td>[0, 0, 0, 0, 0, 0, 0, 1, 0, 0]</td>\n",
       "      <td>7</td>\n",
       "    </tr>\n",
       "    <tr>\n",
       "      <th>2</th>\n",
       "      <td>[As, a, byproduct, of, those, experiences, ,, ...</td>\n",
       "      <td>[Their, fervent, questions, ,, at, times, ridd...</td>\n",
       "      <td>non-fiction/OUP/Berk/ch1</td>\n",
       "      <td>[[0.23088518, 5.699069e-05, -0.19189279, 0.195...</td>\n",
       "      <td>[0, 0, 0, 0, 0, 0, 0, 0, 0, 1]</td>\n",
       "      <td>9</td>\n",
       "    </tr>\n",
       "    <tr>\n",
       "      <th>3</th>\n",
       "      <td>[When, we, looked, for, a, preschool, ,, many,...</td>\n",
       "      <td>[To, me, ,, Lydia, ’, s, preschool, seems, lik...</td>\n",
       "      <td>non-fiction/OUP/Berk/ch1</td>\n",
       "      <td>[[0.16534813, 0.3831386, -0.071578294, 0.27849...</td>\n",
       "      <td>[0, 0, 0, 0, 0, 0, 0, 0, 0, 1]</td>\n",
       "      <td>9</td>\n",
       "    </tr>\n",
       "    <tr>\n",
       "      <th>4</th>\n",
       "      <td>[To, me, ,, Lydia, ’, s, preschool, seems, lik...</td>\n",
       "      <td>[Why, is, Lydia, ,, who, ’, s, always, been, a...</td>\n",
       "      <td>non-fiction/OUP/Berk/ch1</td>\n",
       "      <td>[[0.22163266, 0.12578495, 0.051759634, 0.14625...</td>\n",
       "      <td>[0, 0, 0, 0, 0, 0, 0, 0, 0, 1]</td>\n",
       "      <td>9</td>\n",
       "    </tr>\n",
       "  </tbody>\n",
       "</table>\n",
       "</div>"
      ],
      "text/plain": [
       "                                               sent1  \\\n",
       "0  [In, my, three, decades, of, teaching, univers...   \n",
       "1  [I, also, served, on, boards, of, directors, a...   \n",
       "2  [As, a, byproduct, of, those, experiences, ,, ...   \n",
       "3  [When, we, looked, for, a, preschool, ,, many,...   \n",
       "4  [To, me, ,, Lydia, ’, s, preschool, seems, lik...   \n",
       "\n",
       "                                               sent2  \\\n",
       "0  [I, also, served, on, boards, of, directors, a...   \n",
       "1  [My, research, continually, drew, me, into, cl...   \n",
       "2  [Their, fervent, questions, ,, at, times, ridd...   \n",
       "3  [To, me, ,, Lydia, ’, s, preschool, seems, lik...   \n",
       "4  [Why, is, Lydia, ,, who, ’, s, always, been, a...   \n",
       "\n",
       "                      label  \\\n",
       "0  non-fiction/OUP/Berk/ch1   \n",
       "1  non-fiction/OUP/Berk/ch1   \n",
       "2  non-fiction/OUP/Berk/ch1   \n",
       "3  non-fiction/OUP/Berk/ch1   \n",
       "4  non-fiction/OUP/Berk/ch1   \n",
       "\n",
       "                                                   X  \\\n",
       "0  [[0.054467976, 0.1869069, 0.06425432, 0.130815...   \n",
       "1  [[-0.04379302, 0.39241648, 0.17816554, 0.17242...   \n",
       "2  [[0.23088518, 5.699069e-05, -0.19189279, 0.195...   \n",
       "3  [[0.16534813, 0.3831386, -0.071578294, 0.27849...   \n",
       "4  [[0.22163266, 0.12578495, 0.051759634, 0.14625...   \n",
       "\n",
       "                                y  y_dense  \n",
       "0  [0, 0, 0, 0, 0, 0, 0, 0, 0, 1]        9  \n",
       "1  [0, 0, 0, 0, 0, 0, 0, 1, 0, 0]        7  \n",
       "2  [0, 0, 0, 0, 0, 0, 0, 0, 0, 1]        9  \n",
       "3  [0, 0, 0, 0, 0, 0, 0, 0, 0, 1]        9  \n",
       "4  [0, 0, 0, 0, 0, 0, 0, 0, 0, 1]        9  "
      ]
     },
     "execution_count": 20,
     "metadata": {},
     "output_type": "execute_result"
    }
   ],
   "source": [
    "oanc_df.head()"
   ]
  },
  {
   "cell_type": "code",
   "execution_count": 4,
   "metadata": {},
   "outputs": [],
   "source": [
    "bnc_df = pd.read_pickle('data/discourse_markers/bnc_df.zip')\n",
    "#bnc_df['y_dense'] = bnc_df['y'].apply(np.argmax)"
   ]
  },
  {
   "cell_type": "code",
   "execution_count": 21,
   "metadata": {},
   "outputs": [
    {
     "data": {
      "text/html": [
       "<div>\n",
       "<style scoped>\n",
       "    .dataframe tbody tr th:only-of-type {\n",
       "        vertical-align: middle;\n",
       "    }\n",
       "\n",
       "    .dataframe tbody tr th {\n",
       "        vertical-align: top;\n",
       "    }\n",
       "\n",
       "    .dataframe thead th {\n",
       "        text-align: right;\n",
       "    }\n",
       "</style>\n",
       "<table border=\"1\" class=\"dataframe\">\n",
       "  <thead>\n",
       "    <tr style=\"text-align: right;\">\n",
       "      <th></th>\n",
       "      <th>label</th>\n",
       "      <th>sent1</th>\n",
       "      <th>sent2</th>\n",
       "      <th>sent2_orig</th>\n",
       "      <th>y</th>\n",
       "      <th>y_dense</th>\n",
       "    </tr>\n",
       "  </thead>\n",
       "  <tbody>\n",
       "    <tr>\n",
       "      <th>0</th>\n",
       "      <td>[Central television news scripts]. Sample co...</td>\n",
       "      <td>[Well, ,, the, sun, may, have, turned, to, sto...</td>\n",
       "      <td>[Some, villagers, are, now, worried, that, a, ...</td>\n",
       "      <td>[And, some, villagers, are, now, worried, that...</td>\n",
       "      <td>[0.0, 0.0, 0.0, 0.0, 0.0, 0.0, 0.0, 1.0, 0.0, ...</td>\n",
       "      <td>7</td>\n",
       "    </tr>\n",
       "    <tr>\n",
       "      <th>1</th>\n",
       "      <td>[Central television news scripts]. Sample co...</td>\n",
       "      <td>[And, some, villagers, are, now, worried, that...</td>\n",
       "      <td>[Gareth, Furby, reports, .]</td>\n",
       "      <td>None</td>\n",
       "      <td>[0.0, 0.0, 0.0, 0.0, 0.0, 0.0, 0.0, 0.0, 0.0, ...</td>\n",
       "      <td>9</td>\n",
       "    </tr>\n",
       "    <tr>\n",
       "      <th>2</th>\n",
       "      <td>[Central television news scripts]. Sample co...</td>\n",
       "      <td>[Gareth, Furby, reports, .]</td>\n",
       "      <td>[It, may, have, rained, for, hours, ,, but, it...</td>\n",
       "      <td>None</td>\n",
       "      <td>[0.0, 0.0, 0.0, 0.0, 0.0, 0.0, 0.0, 0.0, 0.0, ...</td>\n",
       "      <td>9</td>\n",
       "    </tr>\n",
       "    <tr>\n",
       "      <th>3</th>\n",
       "      <td>[Central television news scripts]. Sample co...</td>\n",
       "      <td>[It, may, have, rained, for, hours, ,, but, it...</td>\n",
       "      <td>[It, 's, source, ,, a, chalk, spring, ,, staye...</td>\n",
       "      <td>None</td>\n",
       "      <td>[0.0, 0.0, 0.0, 0.0, 0.0, 0.0, 0.0, 0.0, 0.0, ...</td>\n",
       "      <td>9</td>\n",
       "    </tr>\n",
       "    <tr>\n",
       "      <th>4</th>\n",
       "      <td>[Central television news scripts]. Sample co...</td>\n",
       "      <td>[It, 's, source, ,, a, chalk, spring, ,, staye...</td>\n",
       "      <td>[The, river, and, its, fish, remained, just, a...</td>\n",
       "      <td>None</td>\n",
       "      <td>[0.0, 0.0, 0.0, 0.0, 0.0, 0.0, 0.0, 0.0, 0.0, ...</td>\n",
       "      <td>9</td>\n",
       "    </tr>\n",
       "  </tbody>\n",
       "</table>\n",
       "</div>"
      ],
      "text/plain": [
       "                                               label  \\\n",
       "0    [Central television news scripts]. Sample co...   \n",
       "1    [Central television news scripts]. Sample co...   \n",
       "2    [Central television news scripts]. Sample co...   \n",
       "3    [Central television news scripts]. Sample co...   \n",
       "4    [Central television news scripts]. Sample co...   \n",
       "\n",
       "                                               sent1  \\\n",
       "0  [Well, ,, the, sun, may, have, turned, to, sto...   \n",
       "1  [And, some, villagers, are, now, worried, that...   \n",
       "2                        [Gareth, Furby, reports, .]   \n",
       "3  [It, may, have, rained, for, hours, ,, but, it...   \n",
       "4  [It, 's, source, ,, a, chalk, spring, ,, staye...   \n",
       "\n",
       "                                               sent2  \\\n",
       "0  [Some, villagers, are, now, worried, that, a, ...   \n",
       "1                        [Gareth, Furby, reports, .]   \n",
       "2  [It, may, have, rained, for, hours, ,, but, it...   \n",
       "3  [It, 's, source, ,, a, chalk, spring, ,, staye...   \n",
       "4  [The, river, and, its, fish, remained, just, a...   \n",
       "\n",
       "                                          sent2_orig  \\\n",
       "0  [And, some, villagers, are, now, worried, that...   \n",
       "1                                               None   \n",
       "2                                               None   \n",
       "3                                               None   \n",
       "4                                               None   \n",
       "\n",
       "                                                   y  y_dense  \n",
       "0  [0.0, 0.0, 0.0, 0.0, 0.0, 0.0, 0.0, 1.0, 0.0, ...        7  \n",
       "1  [0.0, 0.0, 0.0, 0.0, 0.0, 0.0, 0.0, 0.0, 0.0, ...        9  \n",
       "2  [0.0, 0.0, 0.0, 0.0, 0.0, 0.0, 0.0, 0.0, 0.0, ...        9  \n",
       "3  [0.0, 0.0, 0.0, 0.0, 0.0, 0.0, 0.0, 0.0, 0.0, ...        9  \n",
       "4  [0.0, 0.0, 0.0, 0.0, 0.0, 0.0, 0.0, 0.0, 0.0, ...        9  "
      ]
     },
     "execution_count": 21,
     "metadata": {},
     "output_type": "execute_result"
    }
   ],
   "source": [
    "bnc_df.head()"
   ]
  },
  {
   "cell_type": "code",
   "execution_count": 22,
   "metadata": {},
   "outputs": [
    {
     "data": {
      "text/plain": [
       "{'Also': 4,\n",
       " 'And': 7,\n",
       " 'But': 8,\n",
       " 'First': 3,\n",
       " 'Now': 5,\n",
       " 'Or': 2,\n",
       " 'So': 6,\n",
       " 'Well': 0,\n",
       " 'Yet': 1}"
      ]
     },
     "execution_count": 22,
     "metadata": {},
     "output_type": "execute_result"
    }
   ],
   "source": [
    "with open('data/discourse_markers/oanc_terms.pkl', 'rb') as f:\n",
    "    terms_dict = pickle.load(f)\n",
    "ind_dict = {v: k for k, v in terms_dict.items()}\n",
    "ind_dict[9] = 'NULL'\n",
    "terms_dict"
   ]
  },
  {
   "cell_type": "code",
   "execution_count": 6,
   "metadata": {},
   "outputs": [
    {
     "name": "stdout",
     "output_type": "stream",
     "text": [
      "Counter({9: 252574, 8: 9685, 7: 5545, 6: 1629, 5: 924, 4: 850, 2: 795, 3: 763, 1: 625, 0: 399})\n"
     ]
    }
   ],
   "source": [
    "counts = Counter()\n",
    "for count in oanc_df[\"y_dense\"]:\n",
    "    counts[count] += 1\n",
    "print(counts)"
   ]
  },
  {
   "cell_type": "code",
   "execution_count": 5,
   "metadata": {},
   "outputs": [
    {
     "name": "stdout",
     "output_type": "stream",
     "text": [
      "Counter({9: 657673, 8: 15941, 7: 10360, 6: 4184, 5: 2308, 0: 2202, 1: 1656, 2: 1169, 3: 1089, 4: 492})\n"
     ]
    }
   ],
   "source": [
    "counts = Counter()\n",
    "for count in bnc_df[\"y_dense\"]:\n",
    "    counts[count] += 1\n",
    "print(counts)"
   ]
  },
  {
   "cell_type": "markdown",
   "metadata": {},
   "source": [
    "# create X and y"
   ]
  },
  {
   "cell_type": "code",
   "execution_count": 324,
   "metadata": {
    "scrolled": true
   },
   "outputs": [],
   "source": [
    "X = []\n",
    "y = []\n",
    "\n",
    "num = 5 # Or\n",
    "\n",
    "X.extend(oanc_df[oanc_df.y_dense == num].X)\n",
    "X.extend(bnc_df[bnc_df.y_dense == num].X)\n",
    "y.extend(oanc_df[oanc_df.y_dense == num].y_dense)\n",
    "y.extend(bnc_df[bnc_df.y_dense == num].y_dense)\n",
    "\n",
    "sampled_oanc = oanc_df[oanc_df.y_dense != num].sample(n=len(X), random_state=1)\n",
    "\n",
    "X.extend(sampled_oanc.X)\n",
    "y.extend(sampled_oanc.y_dense)\n",
    "\n",
    "y = [1 if x == num else 0 for x in y]\n",
    "\n",
    "X, y = shuffle(X, y, random_state=0)"
   ]
  },
  {
   "cell_type": "markdown",
   "metadata": {},
   "source": [
    "# model building"
   ]
  },
  {
   "cell_type": "code",
   "execution_count": 325,
   "metadata": {},
   "outputs": [],
   "source": [
    "input_len = 2\n",
    "num_units = 256\n",
    "embed_dim = 50"
   ]
  },
  {
   "cell_type": "code",
   "execution_count": 326,
   "metadata": {},
   "outputs": [],
   "source": [
    "K.clear_session()"
   ]
  },
  {
   "cell_type": "code",
   "execution_count": 327,
   "metadata": {},
   "outputs": [],
   "source": [
    "main_input = Input(shape = (input_len, embed_dim), dtype = 'float32', name = 'main_input')\n",
    "\n",
    "rnn = Bidirectional(SimpleRNN(return_sequences = False, units = num_units), name = 'rnn')(main_input)\n",
    "dropout = Dropout(rate = 0.25, name = 'dropout')(rnn)\n",
    "output = Dense(2, activation='softmax', name = 'output')(dropout)"
   ]
  },
  {
   "cell_type": "code",
   "execution_count": 328,
   "metadata": {},
   "outputs": [
    {
     "name": "stdout",
     "output_type": "stream",
     "text": [
      "_________________________________________________________________\n",
      "Layer (type)                 Output Shape              Param #   \n",
      "=================================================================\n",
      "main_input (InputLayer)      (None, 2, 50)             0         \n",
      "_________________________________________________________________\n",
      "rnn (Bidirectional)          (None, 512)               157184    \n",
      "_________________________________________________________________\n",
      "dropout (Dropout)            (None, 512)               0         \n",
      "_________________________________________________________________\n",
      "output (Dense)               (None, 2)                 1026      \n",
      "=================================================================\n",
      "Total params: 158,210\n",
      "Trainable params: 158,210\n",
      "Non-trainable params: 0\n",
      "_________________________________________________________________\n"
     ]
    }
   ],
   "source": [
    "model = Model(inputs = main_input, outputs = output)\n",
    "\n",
    "model.summary()"
   ]
  },
  {
   "cell_type": "markdown",
   "metadata": {},
   "source": [
    "# train"
   ]
  },
  {
   "cell_type": "code",
   "execution_count": 329,
   "metadata": {},
   "outputs": [],
   "source": [
    "X = np.array(X)\n",
    "y = to_categorical(y, 2)"
   ]
  },
  {
   "cell_type": "code",
   "execution_count": 330,
   "metadata": {},
   "outputs": [],
   "source": [
    "X_train, X_test, y_train, y_test = train_test_split(X, y, test_size=0.1, random_state=47)"
   ]
  },
  {
   "cell_type": "code",
   "execution_count": 331,
   "metadata": {
    "scrolled": true
   },
   "outputs": [
    {
     "name": "stdout",
     "output_type": "stream",
     "text": [
      "Train on 5235 samples, validate on 582 samples\n",
      "Epoch 1/5\n",
      "5235/5235 [==============================] - 2s 417us/step - loss: 0.4849 - acc: 0.7740 - val_loss: 0.4372 - val_acc: 0.8110\n",
      "Epoch 2/5\n",
      "5235/5235 [==============================] - 1s 255us/step - loss: 0.4588 - acc: 0.7927 - val_loss: 0.4447 - val_acc: 0.7973\n",
      "Epoch 3/5\n",
      "5235/5235 [==============================] - 1s 260us/step - loss: 0.4497 - acc: 0.7906 - val_loss: 0.4305 - val_acc: 0.7904\n",
      "Epoch 4/5\n",
      "5235/5235 [==============================] - 1s 259us/step - loss: 0.4483 - acc: 0.7981 - val_loss: 0.4289 - val_acc: 0.8041\n",
      "Epoch 5/5\n",
      "5235/5235 [==============================] - 1s 252us/step - loss: 0.4459 - acc: 0.8004 - val_loss: 0.4339 - val_acc: 0.7869\n"
     ]
    }
   ],
   "source": [
    "model.compile(optimizer = 'adam',\n",
    "             loss = 'binary_crossentropy',\n",
    "             metrics = ['accuracy'])\n",
    "\n",
    "history = model.fit(X_train, y_train, \n",
    "                    epochs = 5, \n",
    "                    batch_size = 32, \n",
    "                    validation_split = 0.1)"
   ]
  },
  {
   "cell_type": "markdown",
   "metadata": {},
   "source": [
    "# test"
   ]
  },
  {
   "cell_type": "code",
   "execution_count": 292,
   "metadata": {},
   "outputs": [],
   "source": [
    "d2v = Doc2Vec.load(\"data/discourse_markers/d2v_oanc.model\")\n",
    "np.random.seed = 47\n",
    "#X_pad = np.random.rand(50)\n",
    "#with open('data/discourse_markers/oanc_terms.pkl', 'rb') as f:\n",
    "#    terms_dict = pickle.load(f)\n",
    "#ind_dict = {v: k for k, v in terms_dict.items()}\n",
    "#ind_dict[9] = 'NULL'"
   ]
  },
  {
   "cell_type": "code",
   "execution_count": 332,
   "metadata": {},
   "outputs": [],
   "source": [
    "ind_dict = {0: 'NULL', 1: 'Now'}"
   ]
  },
  {
   "cell_type": "code",
   "execution_count": 333,
   "metadata": {},
   "outputs": [],
   "source": [
    "def pred(passage, vectorized = False):\n",
    "    if not vectorized:\n",
    "        sentences = sent_tokenize(passage)\n",
    "        tok_sent = [word_tokenize(sentence) for sentence in sentences]\n",
    "        vectors = [d2v.infer_vector(sentence) for sentence in tok_sent]\n",
    "    else:\n",
    "        vectors = passage\n",
    "    \n",
    "    for idx in range(len(vectors) - 1):\n",
    "        if idx == 0 and not vectorized:\n",
    "            print(sentences[idx])\n",
    "        input_vec = np.array([vectors[idx], vectors[idx+1]])\n",
    "        ans = model.predict(np.array([input_vec,]))\n",
    "        if not vectorized:\n",
    "            print('[' + ind_dict[np.argmax(ans[0])] + '] ' + sentences[idx+1])\n",
    "        else:\n",
    "            return(ind_dict[np.argmax(ans[0])])"
   ]
  },
  {
   "cell_type": "code",
   "execution_count": 334,
   "metadata": {},
   "outputs": [
    {
     "data": {
      "application/vnd.jupyter.widget-view+json": {
       "model_id": "a80c1db27ce444089ce09cb5dc682f28",
       "version_major": 2,
       "version_minor": 0
      },
      "text/plain": [
       "HBox(children=(IntProgress(value=0, max=647), HTML(value='')))"
      ]
     },
     "metadata": {},
     "output_type": "display_data"
    },
    {
     "name": "stdout",
     "output_type": "stream",
     "text": [
      "\n",
      "78.05255023183926\n"
     ]
    }
   ],
   "source": [
    "# see where the errors are landing\n",
    "\n",
    "errors = Counter()\n",
    "total_pred = Counter()\n",
    "correct = 0\n",
    "total = len(X_test)\n",
    "\n",
    "for idx in tqdm(range(len(X_test))):\n",
    "    predicted = pred(X_test[idx], True)\n",
    "    true = ind_dict[np.argmax(y_test[idx])]\n",
    "    \n",
    "    total_pred[predicted] += 1\n",
    "    \n",
    "    if predicted == true:\n",
    "        correct += 1\n",
    "    else:\n",
    "        errors[true + ' => ' + predicted] += 1\n",
    "        \n",
    "print(str(correct/float(total)*100))"
   ]
  },
  {
   "cell_type": "code",
   "execution_count": 335,
   "metadata": {},
   "outputs": [
    {
     "data": {
      "text/plain": [
       "[('NULL => Now', 74), ('Now => NULL', 68)]"
      ]
     },
     "execution_count": 335,
     "metadata": {},
     "output_type": "execute_result"
    }
   ],
   "source": [
    "errors.most_common()"
   ]
  },
  {
   "cell_type": "code",
   "execution_count": 336,
   "metadata": {},
   "outputs": [
    {
     "data": {
      "text/plain": [
       "[('NULL', 327), ('Now', 320)]"
      ]
     },
     "execution_count": 336,
     "metadata": {},
     "output_type": "execute_result"
    }
   ],
   "source": [
    "total_pred.most_common()"
   ]
  },
  {
   "cell_type": "code",
   "execution_count": 337,
   "metadata": {
    "scrolled": true
   },
   "outputs": [
    {
     "name": "stdout",
     "output_type": "stream",
     "text": [
      "He had been looking for the Face of Death .\n",
      "Now\n",
      "He had found it .\n",
      "\n",
      "could carry water to him in a basket .\n",
      "Now\n",
      "‘ That you have shown me all that is\n",
      "\n",
      "In the old days the journey took nine or ten days by camel .\n",
      "Now\n",
      "It is eight hours by bus along a narrow asphalt road .\n",
      "\n",
      "In the ballot for the Leadership of the new , merged party , the votes were as follows : Paddy Ashdown 41,401 Alan Beith 16,202\n",
      "Now\n",
      "That each party has formal election procedures through which to choose its Leader , the Queen in normal circumstances will not have to make a personal choice between rival candidates for Prime Minister , a choice which she had to make in 1957 and in 1963 before the Conservative Party adopted election rules .\n",
      "\n",
      "At the far side , the peninsula of Northmavine forms a boundary which ends at Fedeland , one of the famous ‘ haaf stations ’ of last century , from which the Shetland fisherman used to row or sail in open boats to the ‘ far haaf ’ , the fishing grounds which could be as far as sixty or more kilometres from land .\n",
      "Now\n",
      "The routes of the haaf men are traversed by huge oil tankers en route to and from the large oil port of Sullom Voe .\n",
      "\n",
      "Yellow Victorian mansions , with their front gardens asphalted over to make yellow parking areas for the flatholders ' yellow cars .\n",
      "Now\n",
      "It was mercury vapour country .\n",
      "\n",
      "But she went to see that .\n",
      "Now\n",
      "Did you that other woman , a younger woman\n",
      "\n",
      "‘ You presume rightly .\n",
      "Now\n",
      "To the division of space .\n",
      "\n",
      "At home , England have been unbeaten in a Test series since that 1989 summer , beating New Zealand and India and manfully fighting back to level with West Indies last summer at 2–2 .\n",
      "Now\n",
      "Having beaten West Indies three times in quick succession after not having beaten them for years , outclassing New Zealand 2–0 out there , the first team in over a decade to win a Test rubber there , and of course reaching the World Cup final , England are now a force to be reckoned with .\n",
      "\n",
      "Tom and Cyril returned with the drinks .\n",
      "Now\n",
      "‘ Tell us all about yourselves .\n",
      "\n",
      "Do n't throw yourself around so much .\n",
      "Now\n",
      "Maire , enough of this whining .\n",
      "\n",
      "It was one of the more simple reasons why she denied the pregnancy , even to herself , for so long .\n",
      "Now\n",
      "Her memory refused the whole thing ; simply refused to countenance the next few months .\n",
      "\n",
      "6.6 Minimizing the effect of synonyms\n",
      "Now\n",
      "That the inevitability of synonyms occurring has been made clear , we must consider how to deal with them . This can best be described in a series of steps :\n",
      "\n",
      "In its heyday , in the post-war boom , Pringle 's employed four thousand men .\n",
      "Now\n",
      "The workforce has shrunk to less than a thousand , and much of the plant is in disuse .\n",
      "\n",
      "‘ Why are n't you seeing Syl this evening ? ’ asked my mother , who knew .\n",
      "Now\n",
      "My mother did something rather risky . She said , at the end of her patience , ‘ Do n't you love Syl ? ’\n",
      "\n",
      "His only concession to vanity was the delicately curled moustache beneath his patrician 's nose , which concealed an upper lip he 'd thought dubiously ripe in his youth , leaving the lower to jut in lieu of a chin .\n",
      "Now\n",
      "As he rode through the darkened streets , he caught sight of that face in the window , and perused it ruefully .\n",
      "\n",
      "The two-year row has been rumbling on since it became clear the Ffestiniog Company had taken an interest in the project .\n",
      "Now\n",
      "Gwynedd County Council have announced their intention to commission a comprehensive feasibility study into re-opening the whole line in conjunction with the 1964 Comp[any who have steadfastly maintained their stance of wanting to start reconstruction from the southern end where they are operating a three-quarter of a mile line along former British Rail land beside Porthmadog station .\n",
      "\n",
      "‘ She would only have grown more confused .\n",
      "Now\n",
      "She 's had a peaceful end and she 's gone to her reward .\n",
      "\n",
      "She looked a mess .\n",
      "Now\n",
      "‘ You tell me ! ’ Bernice replied .\n",
      "\n",
      "They had talked about it at length over dinner .\n",
      "Now\n",
      "The essay was gone .\n",
      "\n"
     ]
    }
   ],
   "source": [
    "for idx, row in bnc_df[bnc_df.y_dense == num].sample(20).iterrows():\n",
    "    print(' '.join(row['sent1']))\n",
    "    result = pred(np.array(row['X']), True)\n",
    "    print(result)\n",
    "    print(' '.join(row['sent2']))\n",
    "    print()\n"
   ]
  },
  {
   "cell_type": "code",
   "execution_count": 338,
   "metadata": {
    "scrolled": true
   },
   "outputs": [
    {
     "name": "stdout",
     "output_type": "stream",
     "text": [
      "For GAO to effectively do its job and obtain all the facts , we must have unfettered access to records no matter where the federal dollar goes and services are delivered .\n",
      "Now\n",
      "As I 've stressed , we are making major changes in how GAO will face the future , both to support Congress and to lead the government in strategic planning , human capital management , information technology , and other areas .\n",
      "\n",
      "The New York Times reveals that nonprofits , including churches , pocketed millions in Federal grants that are designated to feed poor children .\n",
      "NULL\n",
      "The government nourishes 2.4 million day care kids by reimbursing intermediary organizations , which oversee the doling out of meals .\n",
      "\n",
      "The road climbs via a series of switchback turns , and once at the top you ’ ll have a clear view of the town lying in the flat plain below .\n",
      "Now\n",
      "The lifestyle of the people who live high on the hillside is fascinating .\n",
      "\n",
      "November 15 , 1996 Dear Personal Donor : In the short while since Goodwill helped him find his job , Robert has learned to thoroughly clean a motel room in about 40 minutes .\n",
      "NULL\n",
      "His job objectives call for him to do it in 30 .\n",
      "\n",
      "This report contained Franklin 's results that the phosphates were on the outside and that the A-form of DNA had a special crystalline arrangement called the monoclinic C2 space group .\n",
      "Now\n",
      "From his work with proteins , Crick saw immediately that the chains in the helical structure must be antiparallel and that there were probably two chains entwined .\n",
      "\n",
      "He says punditocracy is `` clumsy , '' while commentariat is `` much wittier . ''\n",
      "Now\n",
      "He is in good company , but it is a hopeless battle , and he should relent .\n",
      "\n",
      "Perhaps some of the latter drank cat 's water , a 19th-century term for gin .\n",
      "Now\n",
      "Catting was a word for chasing after the female sex , i.e. , a man out on the tiles -- like a tomcat ?\n",
      "\n",
      "Hungary was effectively dismembered : the north and west fell to the Habsburgs ; Transylvania became a so-called independent principality under Turkish auspices ; and central Hungary came under direct Turkish rule .\n",
      "NULL\n",
      "The Turks ﬁnally occupied Buda in 1541 and stayed there for almost a century and a half , achieving and bequeathing little of note except , of course , their baths .\n",
      "\n",
      "Michael Lewis is a breath of fresh air in his `` Dispatches '' on the Microsoft case .\n",
      "Now\n",
      "He reports it to us mortals in a funny and understandable way without putting in so much information that it becomes unintelligible .\n",
      "\n",
      "It 's difficult to imagine a working-class radical and avowed atheist even being elected to Congress in late-20 th -century America , much less sworn in .\n",
      "NULL\n",
      "I guess we 're not quite as modern as some Victorians , although we are as primitive as others .\n",
      "\n",
      "The idea would be to make a molecule that might be more effective against bacteria that are becoming resistant to rifamycin—and are already naturally resistant to molecules like erythromycin .\n",
      "NULL\n",
      "He works with an important class of natural antibiotics called polyketides that have generated dozens of drugs , including erythromycin .\n",
      "\n",
      "Pub .\n",
      "NULL\n",
      "L. No .\n",
      "\n",
      "Among the losing candidates was Filippo Brunelleschi , who thereafter devoted himself entirely to architecture .\n",
      "Now\n",
      "The might of the Medici family can be sensed in their massive palazzo , northwest of the cathedral on Via Cavour , the 15th-century Palazzo Medici-Riccardi .\n",
      "\n",
      "In southern states , this food-stamp benefit typically exceeds the regular monthly TANF benefit .\n",
      "NULL\n",
      "Food stamps are also fungible -- although the stamps can be used only to buy food , they work just like cash .\n",
      "\n",
      "That tension is superbly embodied in Julianne Moore , who issues poisoned ultimatums from behind a smile frozen firmly in place and an erect carriage that carries only subtle traces of the warped inner being .\n",
      "Now\n",
      "She and Northam have scenes of deliciously controlled viciousness .\n",
      "\n",
      "Fox News Sunday plugs what it claims to be a scoop on the campaign finance scandal .\n",
      "NULL\n",
      "In an interview to be aired Tuesday , Johnny Chung tells the news program The O'Reilly Factor ( Fox ) that during the House Governmental Reform Committee hearings into campaign finance ( the `` Burton hearings '' ) , a Democratic counsel to the committee sent Chung 's attorney 's unsolicited documents detailing how to go about taking the Fifth Amendment .\n",
      "\n",
      "Today , two days after the release of the UCLA and Berkeley numbers , the university president 's office released the figures for the entire UC system .\n",
      "NULL\n",
      "The news was n't nearly as grim .\n",
      "\n",
      "Everyone will usually have a turn or two , and finally the manipulator allows someone to break it .\n",
      "Now\n",
      "The candy and prizes fall to the ground and everyone jumps to grab some .\n",
      "\n",
      "In the NYT Op-Ed , Prime Minister Putin appeals to the American public and denies that Russia is targeting civilians .\n",
      "Now\n",
      "The very opposite is true .\n",
      "\n",
      "It should be noted that the determination of a valid concentration-response relationship is not always clear cut .\n",
      "NULL\n",
      "Data from some tests may suggest consultation with professional toxicologists and/or regulatory officials .\n",
      "\n"
     ]
    }
   ],
   "source": [
    "for idx, row in oanc_df[oanc_df.y_dense == 9].sample(20).iterrows():\n",
    "    print(' '.join(row['sent1']))\n",
    "    result = pred(np.array(row['X']), True)\n",
    "    print(result)\n",
    "    print(' '.join(row['sent2']))\n",
    "    print()\n"
   ]
  },
  {
   "cell_type": "code",
   "execution_count": null,
   "metadata": {},
   "outputs": [],
   "source": []
  }
 ],
 "metadata": {
  "kernelspec": {
   "display_name": "Python 3",
   "language": "python",
   "name": "python3"
  },
  "language_info": {
   "codemirror_mode": {
    "name": "ipython",
    "version": 3
   },
   "file_extension": ".py",
   "mimetype": "text/x-python",
   "name": "python",
   "nbconvert_exporter": "python",
   "pygments_lexer": "ipython3",
   "version": "3.5.2"
  }
 },
 "nbformat": 4,
 "nbformat_minor": 2
}
