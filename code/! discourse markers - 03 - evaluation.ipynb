{
 "cells": [
  {
   "cell_type": "code",
   "execution_count": 1,
   "metadata": {},
   "outputs": [
    {
     "name": "stderr",
     "output_type": "stream",
     "text": [
      "Using TensorFlow backend.\n"
     ]
    }
   ],
   "source": [
    "import pandas as pd\n",
    "import numpy as np\n",
    "from tqdm import tqdm_notebook as tqdm\n",
    "import gensim\n",
    "from gensim.models.doc2vec import Doc2Vec, TaggedDocument\n",
    "import pickle\n",
    "import random as rand\n",
    "from nltk import word_tokenize, sent_tokenize\n",
    "from collections import Counter\n",
    "\n",
    "from keras.models import Model, load_model"
   ]
  },
  {
   "cell_type": "markdown",
   "metadata": {},
   "source": [
    "In this notebook, I run tests on the data and the models trained previously for the discourse marker insertion task."
   ]
  },
  {
   "cell_type": "markdown",
   "metadata": {},
   "source": [
    "# Statistics on original dataset"
   ]
  },
  {
   "cell_type": "code",
   "execution_count": 2,
   "metadata": {},
   "outputs": [],
   "source": [
    "oanc_df = pd.read_pickle('data/discourse_markers/oanc_pair_df.zip')"
   ]
  },
  {
   "cell_type": "code",
   "execution_count": 3,
   "metadata": {},
   "outputs": [],
   "source": [
    "bnc_df = pd.read_pickle('data/discourse_markers/bnc_pair_df.zip')"
   ]
  },
  {
   "cell_type": "code",
   "execution_count": 17,
   "metadata": {},
   "outputs": [],
   "source": [
    "with open('data/discourse_markers/oanc_terms.pkl', 'rb') as f:\n",
    "    terms_dict = pickle.load(f)\n",
    "idx_dict = {terms_dict[k]: k for k in terms_dict}\n",
    "idx_dict[9] = 'NULL'"
   ]
  },
  {
   "cell_type": "code",
   "execution_count": 43,
   "metadata": {},
   "outputs": [
    {
     "name": "stdout",
     "output_type": "stream",
     "text": [
      "Now\n",
      "2466\n",
      "Yet\n",
      "1909\n",
      "And\n",
      "12918\n",
      "So\n",
      "4740\n",
      "First\n",
      "1636\n",
      "Well\n",
      "2279\n",
      "Or\n",
      "1606\n",
      "Also\n",
      "1212\n",
      "But\n",
      "21392\n"
     ]
    }
   ],
   "source": [
    "# count how many samples for each chosen term\n",
    "for t in terms_dict:\n",
    "    idx = terms_dict[t]\n",
    "    print(t)\n",
    "    num = len(oanc_df[oanc_df.y_dense == idx]) + len(bnc_df[bnc_df.y_dense == idx])\n",
    "    print(num)"
   ]
  },
  {
   "cell_type": "code",
   "execution_count": 32,
   "metadata": {
    "scrolled": true
   },
   "outputs": [
    {
     "name": "stdout",
     "output_type": "stream",
     "text": [
      "There is nothing wrong with trying to change that shape , and advocates of nonsexist English have worked miracles in the short time since they have succeeded in making their concerns known .\n",
      "To deny that the oblique senses of man are still very much with us is mere optimistic folly .\n",
      "But\n",
      "\n",
      "The paper points out that the episode is apt to rekindle consumer concerns about online credit card security .\n",
      "Since the jerkball 's e-mail trail leads to eastern Europe , the case stands to highlight the freedom online criminals have to operate beyond U.S. jurisdiction .\n",
      "Also\n",
      "\n",
      "For example , the amount of PfHRP2 secreted per parasite varies between different parasite strains .\n",
      "In high transmission areas , where partial immunity against the disease develops , clearance of PfHRP2 might be increased in the presence of antibodies against the protein ; in these areas—such as countries in sub-Saharan Africa—the model would thus underestimate the parasite burden and might need to be adapted further for use .\n",
      "Also\n",
      "\n",
      "Critics complain that Los Angeles architect Barton Myers ' postmodern building , consisting of concert halls and theaters , looks like a `` cineplex '' ( Mark Swed , the Los Angeles Times ) , with interiors that verge on kitsch ( examples of overkill : steel rods poking out of ceilings ; floors inlaid with colored stones ) .\n",
      "Complaints are downplayed because `` the building 's heart is in the right place '' ( Herbert Muschamp , the New York Times ) .\n",
      "But\n",
      "\n",
      "It is impossible to measure the calming influence that ascending firefighters had on descending civilians or whether but for the firefighters ' presence the poor behavior of a very few civilians could have caused a dangerous and panicked mob flight .\n",
      "The positive impact of the first responders on the evacuation came at a tremendous cost of first responder lives lost .\n",
      "But\n",
      "\n",
      "Glickman defended the program as a way to keep farms from getting big and corporate .\n",
      "That 's been done only by rewarding inefficiency .\n",
      "But\n",
      "\n",
      "Anonymous , infinite in its variety , and located somewhere that appears both real and yet not quite of this world , cyberspace is not too different from the places we imagine people go when they die .\n",
      "With its easy access and defiance of time and space , it is the perfect place for us to visit them .\n",
      "And\n",
      "\n",
      "The child switches genders , wears male clothing , begins to date , and turns into a normal man , without fuss or trauma .\n",
      "Much for bending the twig .\n",
      "So\n",
      "\n",
      "The story also notes that the Republican Party used similar strategies during the last election , and that the Justice Department is reviewing its spending in this area as well , but does n't note this until the twenty-third paragraph .\n",
      "It 's not mentioned at all in either the story 's headline or subhead .\n",
      "And\n",
      "\n",
      "In his shambling gait and glassy , uncertain stare he reminds me all too closely of another awesome wreck of a man who led another awesome wreck of a country : Marshall von Hindenburg at the end of his life .\n",
      "That scares me , because the similarities between Hindenburg 's Weimar Germany and Yeltsin 's Russia seem all too exact .\n",
      "And\n",
      "\n"
     ]
    }
   ],
   "source": [
    "# show random examples\n",
    "for idx, row in oanc_df.sample(100).iterrows():\n",
    "    if row['y_dense'] != 9:\n",
    "        print(' '.join(row['sent1']))\n",
    "        print(' '.join(row['sent2']))\n",
    "        print(idx_dict[row['y_dense']])\n",
    "        print()"
   ]
  },
  {
   "cell_type": "markdown",
   "metadata": {},
   "source": [
    "# visualize model architecture"
   ]
  },
  {
   "cell_type": "code",
   "execution_count": null,
   "metadata": {},
   "outputs": [],
   "source": [
    "# https://www.graphviz.org/\n",
    "# https://keras.io/visualization/"
   ]
  },
  {
   "cell_type": "code",
   "execution_count": 2,
   "metadata": {},
   "outputs": [
    {
     "name": "stdout",
     "output_type": "stream",
     "text": [
      "WARNING:tensorflow:From /usr/local/lib/python3.5/dist-packages/tensorflow/python/framework/op_def_library.py:263: colocate_with (from tensorflow.python.framework.ops) is deprecated and will be removed in a future version.\n",
      "Instructions for updating:\n",
      "Colocations handled automatically by placer.\n",
      "WARNING:tensorflow:From /home/users/rcramerus/.local/lib/python3.5/site-packages/keras/backend/tensorflow_backend.py:3445: calling dropout (from tensorflow.python.ops.nn_ops) with keep_prob is deprecated and will be removed in a future version.\n",
      "Instructions for updating:\n",
      "Please use `rate` instead of `keep_prob`. Rate should be set to `rate = 1 - keep_prob`.\n",
      "WARNING:tensorflow:From /usr/local/lib/python3.5/dist-packages/tensorflow/python/ops/math_ops.py:3066: to_int32 (from tensorflow.python.ops.math_ops) is deprecated and will be removed in a future version.\n",
      "Instructions for updating:\n",
      "Use tf.cast instead.\n"
     ]
    }
   ],
   "source": [
    "model = load_model('data/discourse_markers_models/model.But.h5')"
   ]
  },
  {
   "cell_type": "code",
   "execution_count": 3,
   "metadata": {
    "scrolled": true
   },
   "outputs": [
    {
     "ename": "OSError",
     "evalue": "`pydot` failed to call GraphViz.Please install GraphViz (https://www.graphviz.org/) and ensure that its executables are in the $PATH.",
     "output_type": "error",
     "traceback": [
      "\u001b[0;31m---------------------------------------------------------------------------\u001b[0m",
      "\u001b[0;31mFileNotFoundError\u001b[0m                         Traceback (most recent call last)",
      "\u001b[0;32m~/.local/lib/python3.5/site-packages/pydot.py\u001b[0m in \u001b[0;36mcreate\u001b[0;34m(self, prog, format, encoding)\u001b[0m\n\u001b[1;32m   1914\u001b[0m                 \u001b[0marguments\u001b[0m\u001b[0;34m=\u001b[0m\u001b[0marguments\u001b[0m\u001b[0;34m,\u001b[0m\u001b[0;34m\u001b[0m\u001b[0m\n\u001b[0;32m-> 1915\u001b[0;31m                 \u001b[0mworking_dir\u001b[0m\u001b[0;34m=\u001b[0m\u001b[0mtmp_dir\u001b[0m\u001b[0;34m,\u001b[0m\u001b[0;34m\u001b[0m\u001b[0m\n\u001b[0m\u001b[1;32m   1916\u001b[0m             )\n",
      "\u001b[0;32m~/.local/lib/python3.5/site-packages/pydot.py\u001b[0m in \u001b[0;36mcall_graphviz\u001b[0;34m(program, arguments, working_dir, **kwargs)\u001b[0m\n\u001b[1;32m    135\u001b[0m         \u001b[0mstdout\u001b[0m\u001b[0;34m=\u001b[0m\u001b[0msubprocess\u001b[0m\u001b[0;34m.\u001b[0m\u001b[0mPIPE\u001b[0m\u001b[0;34m,\u001b[0m\u001b[0;34m\u001b[0m\u001b[0m\n\u001b[0;32m--> 136\u001b[0;31m         \u001b[0;34m**\u001b[0m\u001b[0mkwargs\u001b[0m\u001b[0;34m\u001b[0m\u001b[0m\n\u001b[0m\u001b[1;32m    137\u001b[0m     )\n",
      "\u001b[0;32m/usr/lib/python3.5/subprocess.py\u001b[0m in \u001b[0;36m__init__\u001b[0;34m(self, args, bufsize, executable, stdin, stdout, stderr, preexec_fn, close_fds, shell, cwd, env, universal_newlines, startupinfo, creationflags, restore_signals, start_new_session, pass_fds)\u001b[0m\n\u001b[1;32m    946\u001b[0m                                 \u001b[0merrread\u001b[0m\u001b[0;34m,\u001b[0m \u001b[0merrwrite\u001b[0m\u001b[0;34m,\u001b[0m\u001b[0;34m\u001b[0m\u001b[0m\n\u001b[0;32m--> 947\u001b[0;31m                                 restore_signals, start_new_session)\n\u001b[0m\u001b[1;32m    948\u001b[0m         \u001b[0;32mexcept\u001b[0m\u001b[0;34m:\u001b[0m\u001b[0;34m\u001b[0m\u001b[0m\n",
      "\u001b[0;32m/usr/lib/python3.5/subprocess.py\u001b[0m in \u001b[0;36m_execute_child\u001b[0;34m(self, args, executable, preexec_fn, close_fds, pass_fds, cwd, env, startupinfo, creationflags, shell, p2cread, p2cwrite, c2pread, c2pwrite, errread, errwrite, restore_signals, start_new_session)\u001b[0m\n\u001b[1;32m   1550\u001b[0m                                 \u001b[0merr_msg\u001b[0m \u001b[0;34m+=\u001b[0m \u001b[0;34m': '\u001b[0m \u001b[0;34m+\u001b[0m \u001b[0mrepr\u001b[0m\u001b[0;34m(\u001b[0m\u001b[0morig_executable\u001b[0m\u001b[0;34m)\u001b[0m\u001b[0;34m\u001b[0m\u001b[0m\n\u001b[0;32m-> 1551\u001b[0;31m                     \u001b[0;32mraise\u001b[0m \u001b[0mchild_exception_type\u001b[0m\u001b[0;34m(\u001b[0m\u001b[0merrno_num\u001b[0m\u001b[0;34m,\u001b[0m \u001b[0merr_msg\u001b[0m\u001b[0;34m)\u001b[0m\u001b[0;34m\u001b[0m\u001b[0m\n\u001b[0m\u001b[1;32m   1552\u001b[0m                 \u001b[0;32mraise\u001b[0m \u001b[0mchild_exception_type\u001b[0m\u001b[0;34m(\u001b[0m\u001b[0merr_msg\u001b[0m\u001b[0;34m)\u001b[0m\u001b[0;34m\u001b[0m\u001b[0m\n",
      "\u001b[0;31mFileNotFoundError\u001b[0m: [Errno 2] No such file or directory: 'dot'",
      "\nDuring handling of the above exception, another exception occurred:\n",
      "\u001b[0;31mFileNotFoundError\u001b[0m                         Traceback (most recent call last)",
      "\u001b[0;32m~/.local/lib/python3.5/site-packages/keras/utils/vis_utils.py\u001b[0m in \u001b[0;36m_check_pydot\u001b[0;34m()\u001b[0m\n\u001b[1;32m     25\u001b[0m         \u001b[0;31m# to check the pydot/graphviz installation.\u001b[0m\u001b[0;34m\u001b[0m\u001b[0;34m\u001b[0m\u001b[0m\n\u001b[0;32m---> 26\u001b[0;31m         \u001b[0mpydot\u001b[0m\u001b[0;34m.\u001b[0m\u001b[0mDot\u001b[0m\u001b[0;34m.\u001b[0m\u001b[0mcreate\u001b[0m\u001b[0;34m(\u001b[0m\u001b[0mpydot\u001b[0m\u001b[0;34m.\u001b[0m\u001b[0mDot\u001b[0m\u001b[0;34m(\u001b[0m\u001b[0;34m)\u001b[0m\u001b[0;34m)\u001b[0m\u001b[0;34m\u001b[0m\u001b[0m\n\u001b[0m\u001b[1;32m     27\u001b[0m     \u001b[0;32mexcept\u001b[0m \u001b[0mOSError\u001b[0m\u001b[0;34m:\u001b[0m\u001b[0;34m\u001b[0m\u001b[0m\n",
      "\u001b[0;32m~/.local/lib/python3.5/site-packages/pydot.py\u001b[0m in \u001b[0;36mcreate\u001b[0;34m(self, prog, format, encoding)\u001b[0m\n\u001b[1;32m   1921\u001b[0m                     prog=prog)\n\u001b[0;32m-> 1922\u001b[0;31m                 \u001b[0;32mraise\u001b[0m \u001b[0mOSError\u001b[0m\u001b[0;34m(\u001b[0m\u001b[0;34m*\u001b[0m\u001b[0margs\u001b[0m\u001b[0;34m)\u001b[0m\u001b[0;34m\u001b[0m\u001b[0m\n\u001b[0m\u001b[1;32m   1923\u001b[0m             \u001b[0;32melse\u001b[0m\u001b[0;34m:\u001b[0m\u001b[0;34m\u001b[0m\u001b[0m\n",
      "\u001b[0;31mFileNotFoundError\u001b[0m: [Errno 2] \"dot\" not found in path.",
      "\nDuring handling of the above exception, another exception occurred:\n",
      "\u001b[0;31mOSError\u001b[0m                                   Traceback (most recent call last)",
      "\u001b[0;32m<ipython-input-3-fa8bff8d0f31>\u001b[0m in \u001b[0;36m<module>\u001b[0;34m\u001b[0m\n\u001b[0;32m----> 1\u001b[0;31m \u001b[0mplot_model\u001b[0m\u001b[0;34m(\u001b[0m\u001b[0mmodel\u001b[0m\u001b[0;34m,\u001b[0m \u001b[0mto_file\u001b[0m \u001b[0;34m=\u001b[0m \u001b[0;34m'data/discourse_markers/graph.png'\u001b[0m\u001b[0;34m)\u001b[0m\u001b[0;34m\u001b[0m\u001b[0m\n\u001b[0m",
      "\u001b[0;32m~/.local/lib/python3.5/site-packages/keras/utils/vis_utils.py\u001b[0m in \u001b[0;36mplot_model\u001b[0;34m(model, to_file, show_shapes, show_layer_names, rankdir)\u001b[0m\n\u001b[1;32m    130\u001b[0m             \u001b[0;34m'LR'\u001b[0m \u001b[0mcreates\u001b[0m \u001b[0ma\u001b[0m \u001b[0mhorizontal\u001b[0m \u001b[0mplot\u001b[0m\u001b[0;34m.\u001b[0m\u001b[0;34m\u001b[0m\u001b[0m\n\u001b[1;32m    131\u001b[0m     \"\"\"\n\u001b[0;32m--> 132\u001b[0;31m     \u001b[0mdot\u001b[0m \u001b[0;34m=\u001b[0m \u001b[0mmodel_to_dot\u001b[0m\u001b[0;34m(\u001b[0m\u001b[0mmodel\u001b[0m\u001b[0;34m,\u001b[0m \u001b[0mshow_shapes\u001b[0m\u001b[0;34m,\u001b[0m \u001b[0mshow_layer_names\u001b[0m\u001b[0;34m,\u001b[0m \u001b[0mrankdir\u001b[0m\u001b[0;34m)\u001b[0m\u001b[0;34m\u001b[0m\u001b[0m\n\u001b[0m\u001b[1;32m    133\u001b[0m     \u001b[0m_\u001b[0m\u001b[0;34m,\u001b[0m \u001b[0mextension\u001b[0m \u001b[0;34m=\u001b[0m \u001b[0mos\u001b[0m\u001b[0;34m.\u001b[0m\u001b[0mpath\u001b[0m\u001b[0;34m.\u001b[0m\u001b[0msplitext\u001b[0m\u001b[0;34m(\u001b[0m\u001b[0mto_file\u001b[0m\u001b[0;34m)\u001b[0m\u001b[0;34m\u001b[0m\u001b[0m\n\u001b[1;32m    134\u001b[0m     \u001b[0;32mif\u001b[0m \u001b[0;32mnot\u001b[0m \u001b[0mextension\u001b[0m\u001b[0;34m:\u001b[0m\u001b[0;34m\u001b[0m\u001b[0m\n",
      "\u001b[0;32m~/.local/lib/python3.5/site-packages/keras/utils/vis_utils.py\u001b[0m in \u001b[0;36mmodel_to_dot\u001b[0;34m(model, show_shapes, show_layer_names, rankdir)\u001b[0m\n\u001b[1;32m     53\u001b[0m     \u001b[0;32mfrom\u001b[0m \u001b[0;34m.\u001b[0m\u001b[0;34m.\u001b[0m\u001b[0mmodels\u001b[0m \u001b[0;32mimport\u001b[0m \u001b[0mSequential\u001b[0m\u001b[0;34m\u001b[0m\u001b[0m\n\u001b[1;32m     54\u001b[0m \u001b[0;34m\u001b[0m\u001b[0m\n\u001b[0;32m---> 55\u001b[0;31m     \u001b[0m_check_pydot\u001b[0m\u001b[0;34m(\u001b[0m\u001b[0;34m)\u001b[0m\u001b[0;34m\u001b[0m\u001b[0m\n\u001b[0m\u001b[1;32m     56\u001b[0m     \u001b[0mdot\u001b[0m \u001b[0;34m=\u001b[0m \u001b[0mpydot\u001b[0m\u001b[0;34m.\u001b[0m\u001b[0mDot\u001b[0m\u001b[0;34m(\u001b[0m\u001b[0;34m)\u001b[0m\u001b[0;34m\u001b[0m\u001b[0m\n\u001b[1;32m     57\u001b[0m     \u001b[0mdot\u001b[0m\u001b[0;34m.\u001b[0m\u001b[0mset\u001b[0m\u001b[0;34m(\u001b[0m\u001b[0;34m'rankdir'\u001b[0m\u001b[0;34m,\u001b[0m \u001b[0mrankdir\u001b[0m\u001b[0;34m)\u001b[0m\u001b[0;34m\u001b[0m\u001b[0m\n",
      "\u001b[0;32m~/.local/lib/python3.5/site-packages/keras/utils/vis_utils.py\u001b[0m in \u001b[0;36m_check_pydot\u001b[0;34m()\u001b[0m\n\u001b[1;32m     27\u001b[0m     \u001b[0;32mexcept\u001b[0m \u001b[0mOSError\u001b[0m\u001b[0;34m:\u001b[0m\u001b[0;34m\u001b[0m\u001b[0m\n\u001b[1;32m     28\u001b[0m         raise OSError(\n\u001b[0;32m---> 29\u001b[0;31m             \u001b[0;34m'`pydot` failed to call GraphViz.'\u001b[0m\u001b[0;34m\u001b[0m\u001b[0m\n\u001b[0m\u001b[1;32m     30\u001b[0m             \u001b[0;34m'Please install GraphViz (https://www.graphviz.org/) '\u001b[0m\u001b[0;34m\u001b[0m\u001b[0m\n\u001b[1;32m     31\u001b[0m             'and ensure that its executables are in the $PATH.')\n",
      "\u001b[0;31mOSError\u001b[0m: `pydot` failed to call GraphViz.Please install GraphViz (https://www.graphviz.org/) and ensure that its executables are in the $PATH."
     ]
    }
   ],
   "source": [
    "plot_model(model, to_file = 'data/discourse_markers/graph.png')"
   ]
  },
  {
   "cell_type": "code",
   "execution_count": null,
   "metadata": {},
   "outputs": [],
   "source": []
  },
  {
   "cell_type": "code",
   "execution_count": null,
   "metadata": {},
   "outputs": [],
   "source": []
  },
  {
   "cell_type": "code",
   "execution_count": null,
   "metadata": {},
   "outputs": [],
   "source": []
  },
  {
   "cell_type": "code",
   "execution_count": null,
   "metadata": {},
   "outputs": [],
   "source": []
  },
  {
   "cell_type": "code",
   "execution_count": null,
   "metadata": {},
   "outputs": [],
   "source": [
    "    loss, accuracy = model.evaluate(X_test, y_test, batch_size = 32, verbose = 0)\n",
    "    print('Test accuracy:\\t\\t\\t\\t' + str(accuracy) + '\\n')"
   ]
  },
  {
   "cell_type": "raw",
   "metadata": {},
   "source": [
    "\n",
    "from sklearn.model_selection import train_test_split\n",
    "from sklearn.utils import class_weight\n",
    "from sklearn.utils import shuffle\n",
    "import math\n",
    "\n",
    "import keras.backend as K\n",
    "import tensorflow as tf\n",
    "\n",
    "from keras.models import Model, load_model\n",
    "#from keras.layers import Input, Dense, Lambda, Dropout, Bidirectional, SimpleRNN\n",
    "from keras.utils import to_categorical, plot_model\n",
    "from keras.preprocessing.sequence import pad_sequences"
   ]
  },
  {
   "cell_type": "code",
   "execution_count": 4,
   "metadata": {},
   "outputs": [],
   "source": [
    "but_df = pd.read_pickle('data/discourse_markers_models/But_df.pkl')"
   ]
  },
  {
   "cell_type": "code",
   "execution_count": 5,
   "metadata": {},
   "outputs": [
    {
     "data": {
      "text/html": [
       "<div>\n",
       "<style scoped>\n",
       "    .dataframe tbody tr th:only-of-type {\n",
       "        vertical-align: middle;\n",
       "    }\n",
       "\n",
       "    .dataframe tbody tr th {\n",
       "        vertical-align: top;\n",
       "    }\n",
       "\n",
       "    .dataframe thead th {\n",
       "        text-align: right;\n",
       "    }\n",
       "</style>\n",
       "<table border=\"1\" class=\"dataframe\">\n",
       "  <thead>\n",
       "    <tr style=\"text-align: right;\">\n",
       "      <th></th>\n",
       "      <th>sent1</th>\n",
       "      <th>sent2</th>\n",
       "      <th>label</th>\n",
       "      <th>X</th>\n",
       "      <th>y</th>\n",
       "      <th>y_dense</th>\n",
       "      <th>sent2_orig</th>\n",
       "      <th>set</th>\n",
       "    </tr>\n",
       "  </thead>\n",
       "  <tbody>\n",
       "    <tr>\n",
       "      <th>0</th>\n",
       "      <td>[Short, leaves, of, 6, weeks, or, less, (, the...</td>\n",
       "      <td>[Longer, leaves, ,, of, 12, weeks, or, more, ,...</td>\n",
       "      <td>non-fiction/OUP/Berk/ch1</td>\n",
       "      <td>[[-0.071559414, 0.030517343, -0.017138, -0.333...</td>\n",
       "      <td>[0, 0, 0, 0, 0, 0, 0, 0, 1, 0]</td>\n",
       "      <td>8</td>\n",
       "      <td>NaN</td>\n",
       "      <td>train</td>\n",
       "    </tr>\n",
       "    <tr>\n",
       "      <th>1</th>\n",
       "      <td>[Studies, carried, out, during, the, 1970s, an...</td>\n",
       "      <td>[Repeatedly, ,, eective, parenting, mediated, ...</td>\n",
       "      <td>non-fiction/OUP/Berk/ch1</td>\n",
       "      <td>[[0.35579225, 0.03694494, 0.41214183, -0.16565...</td>\n",
       "      <td>[0, 0, 0, 0, 0, 0, 0, 0, 1, 0]</td>\n",
       "      <td>8</td>\n",
       "      <td>NaN</td>\n",
       "      <td>train</td>\n",
       "    </tr>\n",
       "    <tr>\n",
       "      <th>2</th>\n",
       "      <td>[Parents, anxious, for, their, children, to, d...</td>\n",
       "      <td>[Research, eventually, documented, otherwise—t...</td>\n",
       "      <td>non-fiction/OUP/Berk/ch1</td>\n",
       "      <td>[[0.25921673, 0.16878448, -0.14332393, -0.1533...</td>\n",
       "      <td>[0, 0, 0, 0, 0, 0, 0, 0, 1, 0]</td>\n",
       "      <td>8</td>\n",
       "      <td>NaN</td>\n",
       "      <td>train</td>\n",
       "    </tr>\n",
       "    <tr>\n",
       "      <th>3</th>\n",
       "      <td>[As, Damon, explains, ,, the, child-centered, ...</td>\n",
       "      <td>[Damon, contends, ,, modern, child-centerednes...</td>\n",
       "      <td>non-fiction/OUP/Berk/ch1</td>\n",
       "      <td>[[0.15743977, 0.17438783, -0.03214123, -0.0016...</td>\n",
       "      <td>[0, 0, 0, 0, 0, 0, 0, 0, 1, 0]</td>\n",
       "      <td>8</td>\n",
       "      <td>NaN</td>\n",
       "      <td>train</td>\n",
       "    </tr>\n",
       "    <tr>\n",
       "      <th>4</th>\n",
       "      <td>[Damon, acknowledges, that, economic, constrai...</td>\n",
       "      <td>[He, places, most, blame, on, how, contemporar...</td>\n",
       "      <td>non-fiction/OUP/Berk/ch1</td>\n",
       "      <td>[[0.06932011, 0.08450028, -0.03265151, -0.1084...</td>\n",
       "      <td>[0, 0, 0, 0, 0, 0, 0, 0, 1, 0]</td>\n",
       "      <td>8</td>\n",
       "      <td>NaN</td>\n",
       "      <td>test</td>\n",
       "    </tr>\n",
       "  </tbody>\n",
       "</table>\n",
       "</div>"
      ],
      "text/plain": [
       "                                               sent1  \\\n",
       "0  [Short, leaves, of, 6, weeks, or, less, (, the...   \n",
       "1  [Studies, carried, out, during, the, 1970s, an...   \n",
       "2  [Parents, anxious, for, their, children, to, d...   \n",
       "3  [As, Damon, explains, ,, the, child-centered, ...   \n",
       "4  [Damon, acknowledges, that, economic, constrai...   \n",
       "\n",
       "                                               sent2  \\\n",
       "0  [Longer, leaves, ,, of, 12, weeks, or, more, ,...   \n",
       "1  [Repeatedly, ,, eective, parenting, mediated, ...   \n",
       "2  [Research, eventually, documented, otherwise—t...   \n",
       "3  [Damon, contends, ,, modern, child-centerednes...   \n",
       "4  [He, places, most, blame, on, how, contemporar...   \n",
       "\n",
       "                      label  \\\n",
       "0  non-fiction/OUP/Berk/ch1   \n",
       "1  non-fiction/OUP/Berk/ch1   \n",
       "2  non-fiction/OUP/Berk/ch1   \n",
       "3  non-fiction/OUP/Berk/ch1   \n",
       "4  non-fiction/OUP/Berk/ch1   \n",
       "\n",
       "                                                   X  \\\n",
       "0  [[-0.071559414, 0.030517343, -0.017138, -0.333...   \n",
       "1  [[0.35579225, 0.03694494, 0.41214183, -0.16565...   \n",
       "2  [[0.25921673, 0.16878448, -0.14332393, -0.1533...   \n",
       "3  [[0.15743977, 0.17438783, -0.03214123, -0.0016...   \n",
       "4  [[0.06932011, 0.08450028, -0.03265151, -0.1084...   \n",
       "\n",
       "                                y  y_dense sent2_orig    set  \n",
       "0  [0, 0, 0, 0, 0, 0, 0, 0, 1, 0]        8        NaN  train  \n",
       "1  [0, 0, 0, 0, 0, 0, 0, 0, 1, 0]        8        NaN  train  \n",
       "2  [0, 0, 0, 0, 0, 0, 0, 0, 1, 0]        8        NaN  train  \n",
       "3  [0, 0, 0, 0, 0, 0, 0, 0, 1, 0]        8        NaN  train  \n",
       "4  [0, 0, 0, 0, 0, 0, 0, 0, 1, 0]        8        NaN   test  "
      ]
     },
     "execution_count": 5,
     "metadata": {},
     "output_type": "execute_result"
    }
   ],
   "source": [
    "but_df.head()"
   ]
  },
  {
   "cell_type": "raw",
   "metadata": {},
   "source": [
    "https://matplotlib.org/api/_as_gen/matplotlib.pyplot.html#module-matplotlib.pyplot"
   ]
  },
  {
   "cell_type": "code",
   "execution_count": 3,
   "metadata": {},
   "outputs": [],
   "source": [
    "d2v = Doc2Vec.load(\"data/discourse_markers/d2v.model\")\n",
    "np.random.seed = 47\n",
    "#X_pad = np.random.rand(50)\n",
    "#with open('data/discourse_markers/oanc_terms.pkl', 'rb') as f:\n",
    "#    terms_dict = pickle.load(f)\n",
    "#ind_dict = {v: k for k, v in terms_dict.items()}\n",
    "#ind_dict[9] = 'NULL'"
   ]
  },
  {
   "cell_type": "code",
   "execution_count": 4,
   "metadata": {},
   "outputs": [],
   "source": [
    "ind_dict = {0: 'NULL', 1: 'But'}"
   ]
  },
  {
   "cell_type": "code",
   "execution_count": 5,
   "metadata": {},
   "outputs": [],
   "source": [
    "def pred(passage, vectorized = False):\n",
    "    if not vectorized:\n",
    "        sentences = sent_tokenize(passage)\n",
    "        tok_sent = [word_tokenize(sentence) for sentence in sentences]\n",
    "        vectors = [d2v.infer_vector(sentence) for sentence in tok_sent]\n",
    "    else:\n",
    "        vectors = passage\n",
    "    \n",
    "    for idx in range(len(vectors) - 1):\n",
    "        if idx == 0 and not vectorized:\n",
    "            print(sentences[idx])\n",
    "        input_vec = np.array([vectors[idx], vectors[idx+1]])\n",
    "        ans = model.predict(np.array([input_vec,]))\n",
    "        if not vectorized:\n",
    "            print('[' + ind_dict[np.argmax(ans[0])] + '] ' + sentences[idx+1])\n",
    "        else:\n",
    "            return(ind_dict[np.argmax(ans[0])])"
   ]
  },
  {
   "cell_type": "code",
   "execution_count": 6,
   "metadata": {},
   "outputs": [],
   "source": [
    "text = \"\"\"\n",
    "Philosophy of Education is a label applied to the study of the purpose, process, nature and ideals of education. It can be considered a branch of both philosophy and education. Education can be defined as the teaching and learning of specific skills, and the imparting of knowledge, judgment and wisdom, and is something broader than the societal institution of education we often speak of.\n",
    "\n",
    "Many educationalists consider it a weak and woolly field, too far removed from the practical applications of the real world to be useful. Philosophers dating back to Plato and the Ancient Greeks have given the area much thought and emphasis, and there is little doubt that their work has helped shape the practice of education over the millennia.\n",
    "\n",
    "Plato is the earliest important educational thinker, and education is an essential element in \"The Republic\" (his most important work on philosophy and political theory, written around 360 B.C.). In it, he advocates some rather extreme methods: removing children from their mothers' care and raising them as wards of the state, and differentiating children suitable to the various castes, the highest receiving the most education, so that they could act as guardians of the city and care for the less able. He believed that education should be holistic, including facts, skills, physical discipline, music and art. Plato believed that talent and intelligence is not distributed genetically and thus is be found in children born to all classes, although his proposed system of selective public education for an educated minority of the population does not really follow a democratic model.\n",
    "\n",
    "Aristotle considered human nature, habit and reason to be equally important forces to be cultivated in education, the ultimate aim of which should be to produce good and virtuous citizens. He proposed that teachers lead their students systematically, and that repetition be used as a key tool to develop good habits, unlike Socrates' emphasis on questioning his listeners to bring out their own ideas. He emphasized the balancing of the theoretical and practical aspects of subjects taught, among which he explicitly mentions reading, writing, mathematics, music, physical education, literature, history, and a wide range of sciences, as well as play, which he also considered important.\n",
    "\n",
    "During the Medieval period, the idea of Perennialism was first formulated by St. Thomas Aquinas in his work \"De Magistro\". Perennialism holds that one should teach those things deemed to be of everlasting importance to all people everywhere, namely principles and reasoning, not just facts (which are apt to change over time), and that one should teach first about people, not machines or techniques. It was originally religious in nature, and it was only much later that a theory of secular perennialism developed.\n",
    "\n",
    "During the Renaissance, the French skeptic Michel de Montaigne (1533 - 1592) was one of the first to critically look at education. Unusually for his time, Montaigne was willing to question the conventional wisdom of the period, calling into question the whole edifice of the educational system, and the implicit assumption that university-educated philosophers were necessarily wiser than uneducated farm workers, for example.\n",
    "\n",
    "\"\"\""
   ]
  },
  {
   "cell_type": "code",
   "execution_count": 10,
   "metadata": {},
   "outputs": [
    {
     "name": "stdout",
     "output_type": "stream",
     "text": [
      "\n",
      "Philosophy of Education is a label applied to the study of the purpose, process, nature and ideals of education.\n",
      "[But] It can be considered a branch of both philosophy and education.\n",
      "[But] Education can be defined as the teaching and learning of specific skills, and the imparting of knowledge, judgment and wisdom, and is something broader than the societal institution of education we often speak of.\n",
      "[But] Many educationalists consider it a weak and woolly field, too far removed from the practical applications of the real world to be useful.\n",
      "[But] Philosophers dating back to Plato and the Ancient Greeks have given the area much thought and emphasis, and there is little doubt that their work has helped shape the practice of education over the millennia.\n",
      "[But] Plato is the earliest important educational thinker, and education is an essential element in \"The Republic\" (his most important work on philosophy and political theory, written around 360 B.C.).\n",
      "[But] In it, he advocates some rather extreme methods: removing children from their mothers' care and raising them as wards of the state, and differentiating children suitable to the various castes, the highest receiving the most education, so that they could act as guardians of the city and care for the less able.\n",
      "[NULL] He believed that education should be holistic, including facts, skills, physical discipline, music and art.\n",
      "[But] Plato believed that talent and intelligence is not distributed genetically and thus is be found in children born to all classes, although his proposed system of selective public education for an educated minority of the population does not really follow a democratic model.\n",
      "[But] Aristotle considered human nature, habit and reason to be equally important forces to be cultivated in education, the ultimate aim of which should be to produce good and virtuous citizens.\n",
      "[NULL] He proposed that teachers lead their students systematically, and that repetition be used as a key tool to develop good habits, unlike Socrates' emphasis on questioning his listeners to bring out their own ideas.\n",
      "[But] He emphasized the balancing of the theoretical and practical aspects of subjects taught, among which he explicitly mentions reading, writing, mathematics, music, physical education, literature, history, and a wide range of sciences, as well as play, which he also considered important.\n",
      "[But] During the Medieval period, the idea of Perennialism was first formulated by St. Thomas Aquinas in his work \"De Magistro\".\n",
      "[But] Perennialism holds that one should teach those things deemed to be of everlasting importance to all people everywhere, namely principles and reasoning, not just facts (which are apt to change over time), and that one should teach first about people, not machines or techniques.\n",
      "[But] It was originally religious in nature, and it was only much later that a theory of secular perennialism developed.\n",
      "[But] During the Renaissance, the French skeptic Michel de Montaigne (1533 - 1592) was one of the first to critically look at education.\n",
      "[But] Unusually for his time, Montaigne was willing to question the conventional wisdom of the period, calling into question the whole edifice of the educational system, and the implicit assumption that university-educated philosophers were necessarily wiser than uneducated farm workers, for example.\n"
     ]
    }
   ],
   "source": [
    "pred(text)"
   ]
  },
  {
   "cell_type": "code",
   "execution_count": 11,
   "metadata": {
    "collapsed": true
   },
   "outputs": [
    {
     "ename": "NameError",
     "evalue": "name 'X_test' is not defined",
     "output_type": "error",
     "traceback": [
      "\u001b[0;31m---------------------------------------------------------------------------\u001b[0m",
      "\u001b[0;31mNameError\u001b[0m                                 Traceback (most recent call last)",
      "\u001b[0;32m<ipython-input-11-79e73d8f54ee>\u001b[0m in \u001b[0;36m<module>\u001b[0;34m\u001b[0m\n\u001b[1;32m      4\u001b[0m \u001b[0mtotal_pred\u001b[0m \u001b[0;34m=\u001b[0m \u001b[0mCounter\u001b[0m\u001b[0;34m(\u001b[0m\u001b[0;34m)\u001b[0m\u001b[0;34m\u001b[0m\u001b[0m\n\u001b[1;32m      5\u001b[0m \u001b[0;34m\u001b[0m\u001b[0m\n\u001b[0;32m----> 6\u001b[0;31m \u001b[0;32mfor\u001b[0m \u001b[0midx\u001b[0m \u001b[0;32min\u001b[0m \u001b[0mtqdm\u001b[0m\u001b[0;34m(\u001b[0m\u001b[0mrange\u001b[0m\u001b[0;34m(\u001b[0m\u001b[0mlen\u001b[0m\u001b[0;34m(\u001b[0m\u001b[0mX_test\u001b[0m\u001b[0;34m)\u001b[0m\u001b[0;34m)\u001b[0m\u001b[0;34m)\u001b[0m\u001b[0;34m:\u001b[0m\u001b[0;34m\u001b[0m\u001b[0m\n\u001b[0m\u001b[1;32m      7\u001b[0m     \u001b[0mpredicted\u001b[0m \u001b[0;34m=\u001b[0m \u001b[0mpred\u001b[0m\u001b[0;34m(\u001b[0m\u001b[0mX_test\u001b[0m\u001b[0;34m[\u001b[0m\u001b[0midx\u001b[0m\u001b[0;34m]\u001b[0m\u001b[0;34m,\u001b[0m \u001b[0;32mTrue\u001b[0m\u001b[0;34m)\u001b[0m\u001b[0;34m\u001b[0m\u001b[0m\n\u001b[1;32m      8\u001b[0m     \u001b[0mtrue\u001b[0m \u001b[0;34m=\u001b[0m \u001b[0mind_dict\u001b[0m\u001b[0;34m[\u001b[0m\u001b[0mnp\u001b[0m\u001b[0;34m.\u001b[0m\u001b[0margmax\u001b[0m\u001b[0;34m(\u001b[0m\u001b[0my_test\u001b[0m\u001b[0;34m[\u001b[0m\u001b[0midx\u001b[0m\u001b[0;34m]\u001b[0m\u001b[0;34m)\u001b[0m\u001b[0;34m]\u001b[0m\u001b[0;34m\u001b[0m\u001b[0m\n",
      "\u001b[0;31mNameError\u001b[0m: name 'X_test' is not defined"
     ]
    }
   ],
   "source": [
    "# see where the errors are landing\n",
    "\n",
    "errors = Counter()\n",
    "total_pred = Counter()\n",
    "\n",
    "for idx in tqdm(range(len(X_test))):\n",
    "    predicted = pred(X_test[idx], True)\n",
    "    true = ind_dict[np.argmax(y_test[idx])]\n",
    "    total_pred[predicted] += 1\n",
    "    if predicted != true:\n",
    "        errors[true + ' => ' + predicted] += 1"
   ]
  },
  {
   "cell_type": "code",
   "execution_count": null,
   "metadata": {},
   "outputs": [],
   "source": [
    "errors.most_common()"
   ]
  },
  {
   "cell_type": "code",
   "execution_count": null,
   "metadata": {},
   "outputs": [],
   "source": [
    "total_pred.most_common()"
   ]
  },
  {
   "cell_type": "code",
   "execution_count": 13,
   "metadata": {},
   "outputs": [],
   "source": [
    "term_idx = 8"
   ]
  },
  {
   "cell_type": "code",
   "execution_count": 23,
   "metadata": {
    "scrolled": true
   },
   "outputs": [
    {
     "name": "stdout",
     "output_type": "stream",
     "text": [
      "On large farms they ran up to fifty or sixty acres .\n",
      "But\n",
      "In grazing country these larger fields were soon reduced to a number of smaller fields of round about ten acres apiece .\n",
      "\n",
      "If we do nothing the badger is doomed to suffer , and terrible suffering goes on all the time .\n",
      "But\n",
      "Our work costs money .\n",
      "\n",
      "It is only recently that the municipal authorities and hospital boards have begun to discuss the possibility of changing the insurers ' conditions of funding so that they are more permissive of non-medical intervention and support .\n",
      "NULL\n",
      "There are signs too that the professional care providers seek to halt the slight trend in reduction which has taken place in the role of the mental hospital .\n",
      "\n",
      "When market forces alone are allowed to determine the exchange value of currencies , a free-floating exchange rate system is said to exist .\n",
      "But\n",
      "Will a free-floating exchange rate system operate smoothly ?\n",
      "\n",
      "‘ Black , ’ she said , ‘ well polished and without broken laces .\n",
      "But\n",
      "They were boots .\n",
      "\n",
      "Naturally , we find the history of the Carews fascinating .\n",
      "But\n",
      "Would a publisher — or the reading public for that matter ?\n",
      "\n",
      "Free booze for the locals was all very well , but what would happen when the famous charmer got too well-oiled and started to proposition all the schoolgirls ?\n",
      "But\n",
      "When Pete mentioned this — in rather more diplomatic terms — Diane said , ‘ That 's the point , he ca n't .\n",
      "\n",
      "So strategic was the city 's position that the present inhabitants claim that the dwellers were a people in their own right even by the time of the Roman conquest , and that when Julius Caesar gave them Roman citizenship they were already famed as an industrious , peaceable , practical people with a legendary ability to confront any misadventures with incredible resources of energy .\n",
      "But\n",
      "Then , city dwellers have never been long on modesty .\n",
      "\n",
      "The Legal Adviser was not pensioned off , neither did he take himself to Malta .\n",
      "NULL\n",
      "He was not exonerated either .\n",
      "\n",
      "By 1924 industry and population reached a peak ; at that time the population of West Ham was exceeded only by those of London , Birmingham , Liverpool , Manchester , Sheffield , Leeds and Bristol .\n",
      "But\n",
      "The barriers to new industry and a reluctance or inability of established firms to adapt laid the foundations of stagnation and protracted decline which has continued to the present .\n",
      "\n",
      "He does n't need money .\n",
      "But\n",
      "‘ It 's not just ‘ that place ’ .\n",
      "\n",
      "Language flaunts itself , embroidering ritual in alliterative use of s and p through stanzas five and six .\n",
      "But\n",
      "The linguistic oddness is deliberate .\n",
      "\n",
      "The comparison does not set up the neat , formal differences such as those exploited by Weaver ( 1985 ) between the executive dominance of the Canadian parliamentary system and the checks and balances of the United States constitution .\n",
      "But\n",
      "It does allow the exploration of the effect of political factors at several different levels of analysis .\n",
      "\n",
      "Being asked to go on a committee may be something we tend to shy away from at first .\n",
      "But\n",
      "In the end we get back as much as we give , and find that though such activities are often hard work and demanding , the fact that we are needed and active is rewarding and stimulating .\n",
      "\n",
      "The receipt of money and the audit of accounts were routine operations which the Exchequer conducted all the time without needing any instruction or authorization for doing so .\n",
      "But\n",
      "Before it could pay money out it would require a warrant .\n",
      "\n",
      "At twenty-four , he first ran his own small company .\n",
      "But\n",
      "Success at Covent Garden and Sadler 's Wells , invitations from the Paris Opéra and La Scala , Milan , the chance to collaborate with leading composers and painters — all this was not enough to satisfy him or occupy his energies fully .\n",
      "\n",
      "He seemed to love people more when they were dead .\n",
      "But\n",
      "No , he had indeed loved them when they were alive .\n",
      "\n",
      "Or again , it is as though the disorganized and random bursts of photons present in a beam of white light were suddenly all being accelerated and agitated to precisely the same frequency and directed at the same spot — to produce the awesome source of energy that we have come to know as the laser .\n",
      "But\n",
      "Whether a wave , a chorus or a laser is used as a metaphor , the common feature to be found in all comparisons is , quite simply , power .\n",
      "\n",
      "His precious sabbatical term was being , so far as academic study was concerned , wasted .\n",
      "But\n",
      "Ludens was not concerned now with writing his ‘ next book ’ , or rushing off to Rome or Paris to read in libraries .\n",
      "\n",
      "These causal relations are essential to what they mean : without semantics a language is an uninterpreted formal language .\n",
      "But\n",
      "If we think of the conscious subject as located within , or identical to , the brain , then external relations are beyond his gaze .\n",
      "\n"
     ]
    }
   ],
   "source": [
    "for idx, row in bnc_df[bnc_df.y_dense == term_idx].sample(20).iterrows():\n",
    "    print(' '.join(row['sent1']))\n",
    "    result = pred(np.array(row['X']), True)\n",
    "    print(result)\n",
    "    print(' '.join(row['sent2']))\n",
    "    print()\n"
   ]
  },
  {
   "cell_type": "code",
   "execution_count": 18,
   "metadata": {},
   "outputs": [
    {
     "name": "stdout",
     "output_type": "stream",
     "text": [
      "Kenneth Starr , who has been poking into Whitewater for three years , is the least of them .\n",
      "NULL\n",
      "One special prosecutor is still deciding whether to prosecute Henry Cisneros , the former housing secretary , for understating payments to an ex-mistress .\n",
      "\n",
      "Renamed Northwest Texas Legal Aid , its headquarters will be in Arlington .\n",
      "NULL\n",
      "Created by Congress in 1974 , Legal Services Corp. is frequently a budgetary target .\n",
      "\n",
      "Laboratory data should be recorded on a real-time basis to prevent the loss of information or inadvertent introduction of errors into the record .\n",
      "NULL\n",
      "Original data sheets should be signed and dated by the laboratory personnel performing the tests .\n",
      "\n",
      "Historically the stronghold of merchants and royalty , today it remains the home of commerce and government .\n",
      "NULL\n",
      "Faubourg Saint-Honoré offers the luxury of jewelry shops and haute couture ; the Champs-Elysées claims the first-run cinemas , airline companies , and car showrooms .\n",
      "\n",
      "Wandering the side streets at night allows you to soak up the heady atmosphere of pleasure and commerce that has characterized this part of Osaka for centuries .\n",
      "NULL\n",
      "At the far south is the small Ebisu Bridge , a favorite meeting place for Osaka ’ s trendiest young things .\n",
      "\n",
      "The Washington Post leads with the arrival in the U.S. of just-exiled Chinese dissident Wang Dan .\n",
      "NULL\n",
      "The Los Angeles Times goes with the conclusion of the economic summit in Chile , where the U.S. and 33 other nations decided to go forward with plans to create a free-trade zone throughout the Americas by 2005 .\n",
      "\n",
      "In the movie , Stern kisses and consoles a pregnant Alison when she complains , `` I look like a house . ''\n",
      "NULL\n",
      "In his memoir , however , Stern writes : `` I find nothing attractive about the pregnant form .\n",
      "\n",
      "An editorial and article advise Netanyahu and Peres to form a coalition government .\n",
      "But\n",
      "Only a unified Israel can make real peace with the Palestinians .\n",
      "\n",
      "The program lets children attend parochial schools using public money .\n",
      "NULL\n",
      "The court decided to suspend an injunction preventing new students from joining the program .\n",
      "\n",
      "A few weeks ago , I discussed with David the strain of sacrificial black mystics that runs throughout King 's work , and put that stuff in my Star-Telegram review of the picture , then cut it for space reasons myself .\n",
      "NULL\n",
      "I 'm sorry I did .\n",
      "\n",
      "Given the immense quantity of English in use worldwide , it is simply impossible for any single citation-gathering force to see , much less collect , all that should be in the file .\n",
      "NULL\n",
      "Merriam 's 12,000 Words has entries for Pinteresque , pistou , and place value , again a reflection of what the vast Merriam files have yielded up .\n",
      "\n",
      "I grew up in a Spike Lee movie : Italians needled the Irish who beat-up the Jews who harassed the blacks ( well , not really ) and so on .\n",
      "NULL\n",
      "I like ethnic humor .\n",
      "\n",
      "The Czech expat 's second novel written in French causes some reviewers to proclaim his decline .\n",
      "NULL\n",
      "No longer `` a Nobel Prize waiting to happen '' ( Jeff Giles , Newsweek ) , Kundera is said to overindulge in his philosophical musings , which no longer seem fresh .\n",
      "\n",
      "It was revealed that the editor , Bill Drinkwater , had been hired by Dr. Boivin , of the Board of Directors .\n",
      "But\n",
      "At that point , someone remarked that The fact that Dr. Boivin hired Mr. Drinkwater surely must tell us something about the two predominant linguistic groups in this country .\n",
      "\n",
      "Mccain 's purpose in sharing all this is n't , or is n't merely , to boast .\n",
      "NULL\n",
      "It 's to paint a truthful portrait of his earlier life , before he was transformed by his experience as a prisoner of war in Vietnam .\n",
      "\n",
      "Select is the narrator in his use of such suspensions that the simple variation of the placement of a clause in two otherwise almost identical statements can be momentous .\n",
      "NULL\n",
      "Look at the two phrases : “ We met Cohn as we came out of church ” and “ As we came out of the door I saw Cohn. ” Both times the narrator is with the woman who had had a brief affair with his friend Cohn and then dumped him .\n",
      "\n",
      "The biggest problem with the Presidential Selector , though , is that it reflects an utterly unrealistic sense of how people choose candidates .\n",
      "But\n",
      "It undermines itself with its own idealism : Anderson boasts that his Candidate Selector screens out superficial factors such as advertising , hype , and image , and allows voters to base their choices solely on the issues .\n",
      "\n",
      "To lump these small companies , many of which are family-owned businesses with fewer than 500 employees , in with the artificial moniker of `` big business '' ( itself a populist tool of the left ) is a disservice to the men and women whose efforts form the backbone of one-quarter of our economy .\n",
      "But\n",
      "These small manufacturers would , by the very nature of their size , feel the devastating impact that mandated carbon-based emission reductions would have on the U.S. economy to a greater degree than any other group .\n",
      "\n",
      "Designed in the late 13th century by Arnolfo di Cambio ( architect of the Palazzo Vecchio and the Duomo ) but with a neo-Gothic façade added in 1863 , the Franciscan church of Santa Croce ( east of the Uffizi ) has an important series of Giotto frescoes .\n",
      "NULL\n",
      "The pathos shines through the heavily restored paintings of St. Francis in the Bardi Chapel ( c. 1320s ) , to the right of the apse , and two St. Johns in the Peruzzi Chapel next door .\n",
      "\n",
      "The morphemes are rather familiar , but overall we can not place them : harquisade ( a variety of tree with glass foliage ) , marathaxus ( a scale from the body of the demon Sadlark ) .\n",
      "NULL\n",
      "Some of these are ... hauntingly familiar growths , like catafalque trees and hangman trees , as Terry Dowling put it .\n",
      "\n"
     ]
    }
   ],
   "source": [
    "for idx, row in oanc_df[oanc_df.y_dense == 9].sample(20).iterrows():\n",
    "    print(' '.join(row['sent1']))\n",
    "    result = pred(np.array(row['X']), True)\n",
    "    print(result)\n",
    "    print(' '.join(row['sent2']))\n",
    "    print()\n"
   ]
  },
  {
   "cell_type": "code",
   "execution_count": null,
   "metadata": {},
   "outputs": [],
   "source": []
  }
 ],
 "metadata": {
  "kernelspec": {
   "display_name": "Python 3",
   "language": "python",
   "name": "python3"
  },
  "language_info": {
   "codemirror_mode": {
    "name": "ipython",
    "version": 3
   },
   "file_extension": ".py",
   "mimetype": "text/x-python",
   "name": "python",
   "nbconvert_exporter": "python",
   "pygments_lexer": "ipython3",
   "version": "3.5.2"
  }
 },
 "nbformat": 4,
 "nbformat_minor": 2
}
