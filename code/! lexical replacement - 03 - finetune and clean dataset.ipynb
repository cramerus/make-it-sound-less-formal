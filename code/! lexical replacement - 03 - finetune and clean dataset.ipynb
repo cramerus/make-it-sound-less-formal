{
 "cells": [
  {
   "cell_type": "code",
   "execution_count": 1,
   "metadata": {},
   "outputs": [],
   "source": [
    "import numpy as np\n",
    "import pandas as pd\n",
    "import mlconjug\n",
    "from tqdm import tqdm_notebook as tqdm\n",
    "from glob import glob\n",
    "from nltk.tokenize import word_tokenize, sent_tokenize\n",
    "from collections import defaultdict\n",
    "import pickle"
   ]
  },
  {
   "cell_type": "code",
   "execution_count": null,
   "metadata": {},
   "outputs": [],
   "source": [
    "print(len(glob('data/lexical_repl/word_contexts/*')))\n",
    "print(len(glob('data/lexical_repl/word_contexts_done/*')))"
   ]
  },
  {
   "cell_type": "code",
   "execution_count": null,
   "metadata": {},
   "outputs": [],
   "source": [
    "# https://www.nltk.org/book/ch07.html"
   ]
  },
  {
   "cell_type": "code",
   "execution_count": null,
   "metadata": {},
   "outputs": [],
   "source": [
    "all_context_words = ['abaft', 'as such']\n",
    "# add 'apparently' to 'purportedly' (right now only has 'supposedly')\n",
    "\n",
    "def clean_dict(dc):\n",
    "    new_dc = {}\n",
    "    for word in dc:\n",
    "        if word not in all_context_words:\n",
    "            new_dc[word] = dc[word]\n",
    "    return new_dc"
   ]
  },
  {
   "cell_type": "code",
   "execution_count": null,
   "metadata": {},
   "outputs": [],
   "source": [
    "# acrolinx examples"
   ]
  },
  {
   "cell_type": "code",
   "execution_count": null,
   "metadata": {},
   "outputs": [],
   "source": [
    "'is/are functional'\n",
    "'prï¿½cis'\n",
    "'expirations'\n",
    "'in situ'\n",
    "#anything with a space"
   ]
  },
  {
   "cell_type": "code",
   "execution_count": 5,
   "metadata": {},
   "outputs": [],
   "source": [
    "conj = mlconjug.Conjugator(language='en')"
   ]
  },
  {
   "cell_type": "code",
   "execution_count": 6,
   "metadata": {},
   "outputs": [
    {
     "name": "stdout",
     "output_type": "stream",
     "text": [
      "[('imperative', 'imperative present', '2s', 'be'), ('imperative', 'imperative present', '1p', 'be'), ('imperative', 'imperative present', '2p', 'be'), ('indicative', 'indicative past tense', '1s', 'was'), ('indicative', 'indicative past tense', '2s', 'were'), ('indicative', 'indicative past tense', '3s', 'was'), ('indicative', 'indicative past tense', '1p', 'were'), ('indicative', 'indicative past tense', '2p', 'were'), ('indicative', 'indicative past tense', '3p', 'were'), ('indicative', 'indicative present perfect', '1s', 'been'), ('indicative', 'indicative present perfect', '2s', 'been'), ('indicative', 'indicative present perfect', '3s', 'been'), ('indicative', 'indicative present perfect', '1p', 'been'), ('indicative', 'indicative present perfect', '2p', 'been'), ('indicative', 'indicative present perfect', '3p', 'been'), ('indicative', 'indicative present', '1s', 'am'), ('indicative', 'indicative present', '2s', 'are'), ('indicative', 'indicative present', '3s', 'is'), ('indicative', 'indicative present', '1p', 'are'), ('indicative', 'indicative present', '2p', 'are'), ('indicative', 'indicative present', '3p', 'are'), ('indicative', 'indicative present continuous', '1s 1s', 'being'), ('indicative', 'indicative present continuous', '2s 2s', 'being'), ('indicative', 'indicative present continuous', '3s 3s', 'being'), ('indicative', 'indicative present continuous', '1p 1p', 'being'), ('indicative', 'indicative present continuous', '2p 2p', 'being'), ('indicative', 'indicative present continuous', '3p 3p', 'being'), ('infinitive', 'infinitive present', 'be', 'be')]\n"
     ]
    }
   ],
   "source": [
    "test_verb = conj.conjugate(\"be\")\n",
    "all_conjugated_forms = test_verb.iterate()\n",
    "print(all_conjugated_forms)"
   ]
  },
  {
   "cell_type": "code",
   "execution_count": 13,
   "metadata": {},
   "outputs": [
    {
     "data": {
      "text/plain": [
       "{'imperative': {'imperative present': OrderedDict([('2s', 'leave'),\n",
       "               ('1p', 'leave'),\n",
       "               ('2p', 'leave')])},\n",
       " 'indicative': {'indicative past tense': OrderedDict([('1s', 'left'),\n",
       "               ('2s', 'left'),\n",
       "               ('3s', 'left'),\n",
       "               ('1p', 'left'),\n",
       "               ('2p', 'left'),\n",
       "               ('3p', 'left')]),\n",
       "  'indicative present': OrderedDict([('1s', 'leave'),\n",
       "               ('2s', 'leave'),\n",
       "               ('3s', 'leaves'),\n",
       "               ('1p', 'leave'),\n",
       "               ('2p', 'leave'),\n",
       "               ('3p', 'leave')]),\n",
       "  'indicative present continuous': OrderedDict([('1s 1s', 'leaving'),\n",
       "               ('2s 2s', 'leaving'),\n",
       "               ('3s 3s', 'leaving'),\n",
       "               ('1p 1p', 'leaving'),\n",
       "               ('2p 2p', 'leaving'),\n",
       "               ('3p 3p', 'leaving')]),\n",
       "  'indicative present perfect': OrderedDict([('1s', 'left'),\n",
       "               ('2s', 'left'),\n",
       "               ('3s', 'left'),\n",
       "               ('1p', 'left'),\n",
       "               ('2p', 'left'),\n",
       "               ('3p', 'left')])},\n",
       " 'infinitive': {'infinitive present': OrderedDict([('ave', 'leave')])}}"
      ]
     },
     "execution_count": 13,
     "metadata": {},
     "output_type": "execute_result"
    }
   ],
   "source": [
    "conj.conjugate(\"leave\").conjug_info"
   ]
  }
 ],
 "metadata": {
  "kernelspec": {
   "display_name": "Python 3",
   "language": "python",
   "name": "python3"
  },
  "language_info": {
   "codemirror_mode": {
    "name": "ipython",
    "version": 3
   },
   "file_extension": ".py",
   "mimetype": "text/x-python",
   "name": "python",
   "nbconvert_exporter": "python",
   "pygments_lexer": "ipython3",
   "version": "3.5.2"
  }
 },
 "nbformat": 4,
 "nbformat_minor": 2
}
