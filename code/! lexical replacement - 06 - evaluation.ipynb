{
 "cells": [
  {
   "cell_type": "code",
   "execution_count": 2,
   "metadata": {},
   "outputs": [
    {
     "name": "stderr",
     "output_type": "stream",
     "text": [
      "Using TensorFlow backend.\n"
     ]
    }
   ],
   "source": [
    "import pandas as pd\n",
    "import numpy as np\n",
    "from tqdm import tqdm_notebook as tqdm\n",
    "import matplotlib.pyplot as plt\n",
    "import pickle\n",
    "from nltk import word_tokenize\n",
    "from sklearn.model_selection import train_test_split\n",
    "from sklearn.utils import shuffle\n",
    "\n",
    "import tensorflow as tf\n",
    "import keras.backend as K\n",
    "from keras.layers import Input, Embedding, Bidirectional, LSTM, Dense, Dropout, Concatenate, TimeDistributed\n",
    "from keras.models import Model, load_model\n",
    "from keras.utils import to_categorical\n",
    "from keras.preprocessing.sequence import pad_sequences"
   ]
  },
  {
   "cell_type": "code",
   "execution_count": 13,
   "metadata": {},
   "outputs": [],
   "source": [
    "repl_df = pd.read_pickle('data/lexical_repl/repl_df.zip')"
   ]
  },
  {
   "cell_type": "code",
   "execution_count": 15,
   "metadata": {},
   "outputs": [],
   "source": [
    "with open('data/lexical_repl/repl_dict.pkl', 'rb') as f:\n",
    "    repl_dict = pickle.load(f)"
   ]
  },
  {
   "cell_type": "code",
   "execution_count": 14,
   "metadata": {},
   "outputs": [
    {
     "data": {
      "text/html": [
       "<div>\n",
       "<style scoped>\n",
       "    .dataframe tbody tr th:only-of-type {\n",
       "        vertical-align: middle;\n",
       "    }\n",
       "\n",
       "    .dataframe tbody tr th {\n",
       "        vertical-align: top;\n",
       "    }\n",
       "\n",
       "    .dataframe thead th {\n",
       "        text-align: right;\n",
       "    }\n",
       "</style>\n",
       "<table border=\"1\" class=\"dataframe\">\n",
       "  <thead>\n",
       "    <tr style=\"text-align: right;\">\n",
       "      <th></th>\n",
       "      <th>word</th>\n",
       "      <th>orig</th>\n",
       "      <th>repl</th>\n",
       "    </tr>\n",
       "  </thead>\n",
       "  <tbody>\n",
       "    <tr>\n",
       "      <th>0</th>\n",
       "      <td>internal</td>\n",
       "      <td>(the, bank, 's, still-sloppy, internal, controls)</td>\n",
       "      <td>[the, bank, 's, still-sloppy, inside, controls]</td>\n",
       "    </tr>\n",
       "    <tr>\n",
       "      <th>2</th>\n",
       "      <td>internal</td>\n",
       "      <td>((, internal, leaf, crowns)</td>\n",
       "      <td>[(, inside, leaf, crowns]</td>\n",
       "    </tr>\n",
       "    <tr>\n",
       "      <th>3</th>\n",
       "      <td>internal</td>\n",
       "      <td>(one, internal, pocket)</td>\n",
       "      <td>[one, inside, pocket]</td>\n",
       "    </tr>\n",
       "    <tr>\n",
       "      <th>4</th>\n",
       "      <td>internal</td>\n",
       "      <td>(the, internal, variations)</td>\n",
       "      <td>[the, inside, variations]</td>\n",
       "    </tr>\n",
       "    <tr>\n",
       "      <th>5</th>\n",
       "      <td>internal</td>\n",
       "      <td>(Yugoslavia, 's, internal, common, market)</td>\n",
       "      <td>[Yugoslavia, 's, inside, common, market]</td>\n",
       "    </tr>\n",
       "  </tbody>\n",
       "</table>\n",
       "</div>"
      ],
      "text/plain": [
       "       word                                               orig  \\\n",
       "0  internal  (the, bank, 's, still-sloppy, internal, controls)   \n",
       "2  internal                        ((, internal, leaf, crowns)   \n",
       "3  internal                            (one, internal, pocket)   \n",
       "4  internal                        (the, internal, variations)   \n",
       "5  internal         (Yugoslavia, 's, internal, common, market)   \n",
       "\n",
       "                                              repl  \n",
       "0  [the, bank, 's, still-sloppy, inside, controls]  \n",
       "2                        [(, inside, leaf, crowns]  \n",
       "3                            [one, inside, pocket]  \n",
       "4                        [the, inside, variations]  \n",
       "5         [Yugoslavia, 's, inside, common, market]  "
      ]
     },
     "execution_count": 14,
     "metadata": {},
     "output_type": "execute_result"
    }
   ],
   "source": [
    "repl_df.head()"
   ]
  },
  {
   "cell_type": "code",
   "execution_count": 8,
   "metadata": {},
   "outputs": [],
   "source": [
    "#sents_df = pd.read_pickle('data/lexical_repl/sents-df-with-frags.zip') # complete\n",
    "sents_df = pd.read_pickle('data/lexical_repl/sents-df-restricted.pkl') # smaller, more balanced"
   ]
  },
  {
   "cell_type": "code",
   "execution_count": 9,
   "metadata": {},
   "outputs": [
    {
     "data": {
      "text/html": [
       "<div>\n",
       "<style scoped>\n",
       "    .dataframe tbody tr th:only-of-type {\n",
       "        vertical-align: middle;\n",
       "    }\n",
       "\n",
       "    .dataframe tbody tr th {\n",
       "        vertical-align: top;\n",
       "    }\n",
       "\n",
       "    .dataframe thead th {\n",
       "        text-align: right;\n",
       "    }\n",
       "</style>\n",
       "<table border=\"1\" class=\"dataframe\">\n",
       "  <thead>\n",
       "    <tr style=\"text-align: right;\">\n",
       "      <th></th>\n",
       "      <th>sent</th>\n",
       "      <th>source</th>\n",
       "      <th>description</th>\n",
       "      <th>masks</th>\n",
       "      <th>words</th>\n",
       "      <th>phrases</th>\n",
       "    </tr>\n",
       "  </thead>\n",
       "  <tbody>\n",
       "    <tr>\n",
       "      <th>2</th>\n",
       "      <td>[The, September-October, term, jury, had, been...</td>\n",
       "      <td>brown</td>\n",
       "      <td>None</td>\n",
       "      <td>[0, 0, 0, 0, 0, 0, 0, 0, 0, 0, 0, 0, 0, 0, 1, ...</td>\n",
       "      <td>[investigate]</td>\n",
       "      <td>[[to, investigate, reports, of, possible, ``]]</td>\n",
       "    </tr>\n",
       "    <tr>\n",
       "      <th>6</th>\n",
       "      <td>[The, grand, jury, commented, on, a, number, o...</td>\n",
       "      <td>brown</td>\n",
       "      <td>None</td>\n",
       "      <td>[0, 0, 0, 0, 0, 0, 0, 0, 0, 0, 0, 0, 0, 0, 0, ...</td>\n",
       "      <td>[operated, purchasing]</td>\n",
       "      <td>[[purchasing], [well, operated, and, follow]]</td>\n",
       "    </tr>\n",
       "    <tr>\n",
       "      <th>8</th>\n",
       "      <td>[However, ,, the, jury, said, it, believes, ``...</td>\n",
       "      <td>brown</td>\n",
       "      <td>None</td>\n",
       "      <td>[0, 0, 0, 0, 0, 0, 0, 0, 0, 0, 0, 0, 0, 0, 0, ...</td>\n",
       "      <td>[administration]</td>\n",
       "      <td>[[administration]]</td>\n",
       "    </tr>\n",
       "    <tr>\n",
       "      <th>12</th>\n",
       "      <td>[It, urged, that, the, next, Legislature, ``, ...</td>\n",
       "      <td>brown</td>\n",
       "      <td>None</td>\n",
       "      <td>[0, 0, 1, 1, 1, 1, 1, 1, 1, 1, 1, 1, 0, 0, 0, ...</td>\n",
       "      <td>[provide]</td>\n",
       "      <td>[[that, the, next, Legislature, ``, provide, e...</td>\n",
       "    </tr>\n",
       "    <tr>\n",
       "      <th>18</th>\n",
       "      <td>[The, jury, also, commented, on, the, Fulton, ...</td>\n",
       "      <td>brown</td>\n",
       "      <td>None</td>\n",
       "      <td>[0, 0, 0, 0, 0, 0, 0, 0, 0, 0, 0, 0, 0, 0, 0, ...</td>\n",
       "      <td>[administrators]</td>\n",
       "      <td>[[administrators]]</td>\n",
       "    </tr>\n",
       "  </tbody>\n",
       "</table>\n",
       "</div>"
      ],
      "text/plain": [
       "                                                 sent source description  \\\n",
       "2   [The, September-October, term, jury, had, been...  brown        None   \n",
       "6   [The, grand, jury, commented, on, a, number, o...  brown        None   \n",
       "8   [However, ,, the, jury, said, it, believes, ``...  brown        None   \n",
       "12  [It, urged, that, the, next, Legislature, ``, ...  brown        None   \n",
       "18  [The, jury, also, commented, on, the, Fulton, ...  brown        None   \n",
       "\n",
       "                                                masks                   words  \\\n",
       "2   [0, 0, 0, 0, 0, 0, 0, 0, 0, 0, 0, 0, 0, 0, 1, ...           [investigate]   \n",
       "6   [0, 0, 0, 0, 0, 0, 0, 0, 0, 0, 0, 0, 0, 0, 0, ...  [operated, purchasing]   \n",
       "8   [0, 0, 0, 0, 0, 0, 0, 0, 0, 0, 0, 0, 0, 0, 0, ...        [administration]   \n",
       "12  [0, 0, 1, 1, 1, 1, 1, 1, 1, 1, 1, 1, 0, 0, 0, ...               [provide]   \n",
       "18  [0, 0, 0, 0, 0, 0, 0, 0, 0, 0, 0, 0, 0, 0, 0, ...        [administrators]   \n",
       "\n",
       "                                              phrases  \n",
       "2      [[to, investigate, reports, of, possible, ``]]  \n",
       "6       [[purchasing], [well, operated, and, follow]]  \n",
       "8                                  [[administration]]  \n",
       "12  [[that, the, next, Legislature, ``, provide, e...  \n",
       "18                                 [[administrators]]  "
      ]
     },
     "execution_count": 9,
     "metadata": {},
     "output_type": "execute_result"
    }
   ],
   "source": [
    "sents_df.head()"
   ]
  },
  {
   "cell_type": "code",
   "execution_count": 30,
   "metadata": {},
   "outputs": [
    {
     "name": "stdout",
     "output_type": "stream",
     "text": [
      "The church leaders said : ‘ In our opinion these are merely words — fine words certainly and welcome — but/1 nevertheless/1 only/1 words/1 . \n",
      "but in any case only words\n",
      "\n",
      "First , the Freedom of Information Acts give an/1 individual/1 a right to information possessed/1 by/1 the/1 government/1 about/1 him/1 or/1 her/1 and the government may have to justify non-disclosure in court . \n",
      "had by the government about him or her\n",
      "\n",
      "`` Well , I might not get that far '' , I told them , `` as actually I have no papers to enter Germany and , as a matter of fact , no/1 permit/1 to return to France once I leave '' . \n",
      "no pass\n",
      "\n",
      "This machine , operating/1 at/1 speeds/1 up/1 to/1 350,000/1 revolutions/1 per/1 minute/1 , is believed to/1 provide/1 one/1 of/1 the/1 fastest/1 mechanical operations in industry today . \n",
      "working at speeds up to 350,000 revolutions per minute\n",
      "to give one of the fastest\n",
      "\n",
      "Branches containing/1 important/1 keywords/1 related/1 to/1 the/1 topic/1 are then placed around the focus . \n",
      "having important keywords related to the topic\n",
      "\n"
     ]
    }
   ],
   "source": [
    "for idx, row in sents_df.sample(5).iterrows():\n",
    "    s = ''\n",
    "    sent = row.sent\n",
    "    mask = row.masks\n",
    "    for i in range(len(sent)):\n",
    "        s += sent[i]\n",
    "        if mask[i] == 1:\n",
    "            s += '/1 '\n",
    "        else:\n",
    "            s += ' '\n",
    "    print(s)\n",
    "    for p in row.phrases:\n",
    "        if ' '.join(p) in repl_dict:\n",
    "            print(repl_dict[' '.join(p)])\n",
    "    print()"
   ]
  },
  {
   "cell_type": "code",
   "execution_count": null,
   "metadata": {},
   "outputs": [],
   "source": [
    "def evaluate_find(X, y):\n",
    "    true = np.argmax(y, axis = 2)\n",
    "    pred = np.argmax(find_model.predict(X, verbose = 1), axis = 2)\n",
    "    total = float(y.shape[0])\n",
    "    \n",
    "    total_correct = 0\n",
    "    indiv_wrong = 0\n",
    "    tp = 0\n",
    "    fp = 0\n",
    "    tn = 0\n",
    "    fn = 0\n",
    "    \n",
    "    for i in tqdm(range(y.shape[0])):\n",
    "        if (true[i] == pred[i]).all():\n",
    "            total_correct += 1\n",
    "        for j in range(y.shape[1]):\n",
    "            if true[i][j] != pred[i][j]:\n",
    "                indiv_wrong += 1\n",
    "        for idx in range(len(true[i])):\n",
    "            if true[i][idx] == 0 and pred[i][idx] == 0:\n",
    "                tn += 1\n",
    "            elif true[i][idx] == 0 and pred[i][idx] == 1:\n",
    "                fp += 1\n",
    "            elif pred[i][idx] == 1:\n",
    "                tp += 1\n",
    "            else:\n",
    "                fn += 1\n",
    "        \n",
    "    print('Absolute accuracy (all correct):\\t\\t' + str(total_correct / total))\n",
    "    print('Overall accuracy (individual):\\t\\t\\t' + str((tp + tn) / (tp + fp + tn + fn)))\n",
    "    print('Precision:\\t\\t\\t\\t\\t' + str(tp / (tp + fp)))\n",
    "    print('Recall:\\t\\t\\t\\t\\t\\t' + str(tp / (tp + fn)))\n",
    "    \n",
    "    print('Average number of incorrect labels per answer:\\t' + str(indiv_wrong / total))\n",
    "    \n",
    "    return pred\n",
    "\n",
    "results = evaluate_find(X_test, y_test)"
   ]
  },
  {
   "cell_type": "code",
   "execution_count": null,
   "metadata": {},
   "outputs": [],
   "source": [
    "train_results = evaluate_find(X_train, y_train)"
   ]
  },
  {
   "cell_type": "code",
   "execution_count": null,
   "metadata": {},
   "outputs": [],
   "source": [
    "def predict_find(X):\n",
    "    pad_X = pad_sequences([X], value = 0, padding = 'post', maxlen = X_train.shape[1]).astype('int64')\n",
    "    pred = np.argmax(find_model.predict([pad_X], batch_size = 1), axis = 2)\n",
    "    result = ''\n",
    "    length = 50 if len(X) > 50 else len(X)\n",
    "    for i in range(length):\n",
    "        if X[i] == 0:\n",
    "            break\n",
    "        result += str(pred[0][i]) + '/' + idx2w[X[i]] + '\\t'\n",
    "    print(result)\n",
    "    \n",
    "text = \"\"\"\n",
    "What are your requirements?\n",
    "\"\"\"\n",
    "predict_find(seq_to_idx(text))"
   ]
  },
  {
   "cell_type": "code",
   "execution_count": null,
   "metadata": {},
   "outputs": [],
   "source": [
    "for x in X_test[:100]:\n",
    "    predict_find(x)\n",
    "    print()"
   ]
  }
 ],
 "metadata": {
  "kernelspec": {
   "display_name": "Python 3",
   "language": "python",
   "name": "python3"
  },
  "language_info": {
   "codemirror_mode": {
    "name": "ipython",
    "version": 3
   },
   "file_extension": ".py",
   "mimetype": "text/x-python",
   "name": "python",
   "nbconvert_exporter": "python",
   "pygments_lexer": "ipython3",
   "version": "3.5.2"
  }
 },
 "nbformat": 4,
 "nbformat_minor": 2
}
