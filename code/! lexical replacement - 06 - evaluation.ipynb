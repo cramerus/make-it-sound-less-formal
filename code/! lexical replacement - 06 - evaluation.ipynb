{
 "cells": [
  {
   "cell_type": "code",
   "execution_count": 1,
   "metadata": {},
   "outputs": [
    {
     "name": "stderr",
     "output_type": "stream",
     "text": [
      "Using TensorFlow backend.\n"
     ]
    }
   ],
   "source": [
    "import pandas as pd\n",
    "import numpy as np\n",
    "from tqdm import tqdm_notebook as tqdm\n",
    "import matplotlib.pyplot as plt\n",
    "import pickle\n",
    "from nltk import word_tokenize\n",
    "from sklearn.model_selection import train_test_split\n",
    "from sklearn.utils import shuffle\n",
    "\n",
    "import tensorflow as tf\n",
    "import keras.backend as K\n",
    "from keras.layers import Input, Embedding, Bidirectional, LSTM, Dense, Dropout, Concatenate, TimeDistributed\n",
    "from keras.models import Model, load_model\n",
    "from keras.utils import to_categorical\n",
    "from keras.preprocessing.sequence import pad_sequences"
   ]
  },
  {
   "cell_type": "code",
   "execution_count": null,
   "metadata": {},
   "outputs": [],
   "source": [
    "def evaluate_find(X, y):\n",
    "    true = np.argmax(y, axis = 2)\n",
    "    pred = np.argmax(find_model.predict(X, verbose = 1), axis = 2)\n",
    "    total = float(y.shape[0])\n",
    "    \n",
    "    total_correct = 0\n",
    "    indiv_wrong = 0\n",
    "    tp = 0\n",
    "    fp = 0\n",
    "    tn = 0\n",
    "    fn = 0\n",
    "    \n",
    "    for i in tqdm(range(y.shape[0])):\n",
    "        if (true[i] == pred[i]).all():\n",
    "            total_correct += 1\n",
    "        for j in range(y.shape[1]):\n",
    "            if true[i][j] != pred[i][j]:\n",
    "                indiv_wrong += 1\n",
    "        for idx in range(len(true[i])):\n",
    "            if true[i][idx] == 0 and pred[i][idx] == 0:\n",
    "                tn += 1\n",
    "            elif true[i][idx] == 0 and pred[i][idx] == 1:\n",
    "                fp += 1\n",
    "            elif pred[i][idx] == 1:\n",
    "                tp += 1\n",
    "            else:\n",
    "                fn += 1\n",
    "        \n",
    "    print('Absolute accuracy (all correct):\\t\\t' + str(total_correct / total))\n",
    "    print('Overall accuracy (individual):\\t\\t\\t' + str((tp + tn) / (tp + fp + tn + fn)))\n",
    "    print('Precision:\\t\\t\\t\\t\\t' + str(tp / (tp + fp)))\n",
    "    print('Recall:\\t\\t\\t\\t\\t\\t' + str(tp / (tp + fn)))\n",
    "    \n",
    "    print('Average number of incorrect labels per answer:\\t' + str(indiv_wrong / total))\n",
    "    \n",
    "    return pred\n",
    "\n",
    "results = evaluate_find(X_test, y_test)"
   ]
  },
  {
   "cell_type": "code",
   "execution_count": null,
   "metadata": {},
   "outputs": [],
   "source": [
    "train_results = evaluate_find(X_train, y_train)"
   ]
  },
  {
   "cell_type": "code",
   "execution_count": null,
   "metadata": {},
   "outputs": [],
   "source": [
    "def predict_find(X):\n",
    "    pad_X = pad_sequences([X], value = 0, padding = 'post', maxlen = X_train.shape[1]).astype('int64')\n",
    "    pred = np.argmax(find_model.predict([pad_X], batch_size = 1), axis = 2)\n",
    "    result = ''\n",
    "    length = 50 if len(X) > 50 else len(X)\n",
    "    for i in range(length):\n",
    "        if X[i] == 0:\n",
    "            break\n",
    "        result += str(pred[0][i]) + '/' + idx2w[X[i]] + '\\t'\n",
    "    print(result)\n",
    "    \n",
    "text = \"\"\"\n",
    "What are your requirements?\n",
    "\"\"\"\n",
    "predict_find(seq_to_idx(text))"
   ]
  },
  {
   "cell_type": "code",
   "execution_count": null,
   "metadata": {},
   "outputs": [],
   "source": [
    "for x in X_test[:100]:\n",
    "    predict_find(x)\n",
    "    print()"
   ]
  }
 ],
 "metadata": {
  "kernelspec": {
   "display_name": "Python 3",
   "language": "python",
   "name": "python3"
  },
  "language_info": {
   "codemirror_mode": {
    "name": "ipython",
    "version": 3
   },
   "file_extension": ".py",
   "mimetype": "text/x-python",
   "name": "python",
   "nbconvert_exporter": "python",
   "pygments_lexer": "ipython3",
   "version": "3.5.2"
  }
 },
 "nbformat": 4,
 "nbformat_minor": 2
}
