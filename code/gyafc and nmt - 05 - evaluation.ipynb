{
 "cells": [
  {
   "cell_type": "code",
   "execution_count": 1,
   "metadata": {},
   "outputs": [],
   "source": [
    "import numpy as np\n",
    "from nltk.tokenize import word_tokenize\n",
    "import pandas as pd\n",
    "import pickle\n",
    "from tqdm import tqdm_notebook as tqdm\n",
    "import nltk.translate.bleu_score as bleu\n",
    "from difflib import SequenceMatcher"
   ]
  },
  {
   "cell_type": "markdown",
   "metadata": {},
   "source": [
    "This notebook was used to explore BLEU scoring for the results of the OpenNMT models (all three of them)."
   ]
  },
  {
   "cell_type": "markdown",
   "metadata": {},
   "source": [
    "# import data"
   ]
  },
  {
   "cell_type": "code",
   "execution_count": 2,
   "metadata": {},
   "outputs": [
    {
     "data": {
      "text/html": [
       "<div>\n",
       "<style scoped>\n",
       "    .dataframe tbody tr th:only-of-type {\n",
       "        vertical-align: middle;\n",
       "    }\n",
       "\n",
       "    .dataframe tbody tr th {\n",
       "        vertical-align: top;\n",
       "    }\n",
       "\n",
       "    .dataframe thead th {\n",
       "        text-align: right;\n",
       "    }\n",
       "</style>\n",
       "<table border=\"1\" class=\"dataframe\">\n",
       "  <thead>\n",
       "    <tr style=\"text-align: right;\">\n",
       "      <th></th>\n",
       "      <th>index</th>\n",
       "      <th>Original</th>\n",
       "      <th>Target 0</th>\n",
       "      <th>Target 1</th>\n",
       "      <th>Target 2</th>\n",
       "      <th>Target 3</th>\n",
       "      <th>Prediction</th>\n",
       "      <th>Copy Prediction</th>\n",
       "      <th>No Entity Copy Prediction</th>\n",
       "    </tr>\n",
       "  </thead>\n",
       "  <tbody>\n",
       "    <tr>\n",
       "      <th>0</th>\n",
       "      <td>0</td>\n",
       "      <td>I mean that you have to really be her friend.</td>\n",
       "      <td>And I mean Really be her friend.</td>\n",
       "      <td>Just be her BFF 4 real.</td>\n",
       "      <td>you have to be her friend.</td>\n",
       "      <td>You have to actually be her friend, for real.</td>\n",
       "      <td>I mean you have to really be her friend .</td>\n",
       "      <td>I mean you have to really be her friend .</td>\n",
       "      <td>I mean you have to be her friend .</td>\n",
       "    </tr>\n",
       "    <tr>\n",
       "      <th>1</th>\n",
       "      <td>1</td>\n",
       "      <td>Are you posing a rhetorical question?</td>\n",
       "      <td>Sounds like a rhetorical question :)</td>\n",
       "      <td>Do you really want an answer?</td>\n",
       "      <td>That sounds more like a rhetorical question th...</td>\n",
       "      <td>Are you asking me a rhetorical question?</td>\n",
       "      <td>What kind of question is that ?</td>\n",
       "      <td>What are you asking a question ?</td>\n",
       "      <td>What kind of question is that ?</td>\n",
       "    </tr>\n",
       "    <tr>\n",
       "      <th>2</th>\n",
       "      <td>2</td>\n",
       "      <td>Men pretend to love in order to have intercour...</td>\n",
       "      <td>Men play at love to get sex, women play at sex...</td>\n",
       "      <td>Men fake love to get laid, women fake orgasms ...</td>\n",
       "      <td>Guys PRETEND to love so they can get laid, wom...</td>\n",
       "      <td>Dudes just act like they love a chick to get b...</td>\n",
       "      <td>Men play love to have sex , women play for sex...</td>\n",
       "      <td>Men pretend to love in order to have sex , wom...</td>\n",
       "      <td>Men play to love in order to have sex , women ...</td>\n",
       "    </tr>\n",
       "    <tr>\n",
       "      <th>3</th>\n",
       "      <td>3</td>\n",
       "      <td>I do not intend to be mean.</td>\n",
       "      <td>I don't want to be mean.</td>\n",
       "      <td>I wasn't trying to be a jerk.</td>\n",
       "      <td>I'm not tryin to be mean...</td>\n",
       "      <td>I didn't want to be mean</td>\n",
       "      <td>I do n't mean to be mean .</td>\n",
       "      <td>I do n't mean to be mean .</td>\n",
       "      <td>I do n't mean to be mean .</td>\n",
       "    </tr>\n",
       "    <tr>\n",
       "      <th>4</th>\n",
       "      <td>4</td>\n",
       "      <td>I would estimate an average of 45% initially b...</td>\n",
       "      <td>On average I'd say about 45% at first but than...</td>\n",
       "      <td>It's a little less than 50/50 at the start, bu...</td>\n",
       "      <td>Prolly 45% at the start but when you get to no...</td>\n",
       "      <td>I guess it'd be around 45% to start with, but ...</td>\n",
       "      <td>I would say a 15 % of 45 % , then once you get...</td>\n",
       "      <td>45 % of them , but once you get to know the pe...</td>\n",
       "      <td>45 % of 45 % and then after you know the perso...</td>\n",
       "    </tr>\n",
       "  </tbody>\n",
       "</table>\n",
       "</div>"
      ],
      "text/plain": [
       "   index                                           Original  \\\n",
       "0      0      I mean that you have to really be her friend.   \n",
       "1      1              Are you posing a rhetorical question?   \n",
       "2      2  Men pretend to love in order to have intercour...   \n",
       "3      3                        I do not intend to be mean.   \n",
       "4      4  I would estimate an average of 45% initially b...   \n",
       "\n",
       "                                            Target 0  \\\n",
       "0                   And I mean Really be her friend.   \n",
       "1               Sounds like a rhetorical question :)   \n",
       "2  Men play at love to get sex, women play at sex...   \n",
       "3                           I don't want to be mean.   \n",
       "4  On average I'd say about 45% at first but than...   \n",
       "\n",
       "                                            Target 1  \\\n",
       "0                            Just be her BFF 4 real.   \n",
       "1                      Do you really want an answer?   \n",
       "2  Men fake love to get laid, women fake orgasms ...   \n",
       "3                      I wasn't trying to be a jerk.   \n",
       "4  It's a little less than 50/50 at the start, bu...   \n",
       "\n",
       "                                            Target 2  \\\n",
       "0                         you have to be her friend.   \n",
       "1  That sounds more like a rhetorical question th...   \n",
       "2  Guys PRETEND to love so they can get laid, wom...   \n",
       "3                        I'm not tryin to be mean...   \n",
       "4  Prolly 45% at the start but when you get to no...   \n",
       "\n",
       "                                            Target 3  \\\n",
       "0      You have to actually be her friend, for real.   \n",
       "1           Are you asking me a rhetorical question?   \n",
       "2  Dudes just act like they love a chick to get b...   \n",
       "3                           I didn't want to be mean   \n",
       "4  I guess it'd be around 45% to start with, but ...   \n",
       "\n",
       "                                          Prediction  \\\n",
       "0          I mean you have to really be her friend .   \n",
       "1                    What kind of question is that ?   \n",
       "2  Men play love to have sex , women play for sex...   \n",
       "3                         I do n't mean to be mean .   \n",
       "4  I would say a 15 % of 45 % , then once you get...   \n",
       "\n",
       "                                     Copy Prediction  \\\n",
       "0          I mean you have to really be her friend .   \n",
       "1                   What are you asking a question ?   \n",
       "2  Men pretend to love in order to have sex , wom...   \n",
       "3                         I do n't mean to be mean .   \n",
       "4  45 % of them , but once you get to know the pe...   \n",
       "\n",
       "                           No Entity Copy Prediction  \n",
       "0                 I mean you have to be her friend .  \n",
       "1                    What kind of question is that ?  \n",
       "2  Men play to love in order to have sex , women ...  \n",
       "3                         I do n't mean to be mean .  \n",
       "4  45 % of 45 % and then after you know the perso...  "
      ]
     },
     "execution_count": 2,
     "metadata": {},
     "output_type": "execute_result"
    }
   ],
   "source": [
    "all_df = pd.read_pickle('data/opennmt/rule_based_corrected_df.pkl')\n",
    "all_df = all_df[all_df['Dataset'] == 'test'].drop(\"Dataset\", axis=1).reset_index()\n",
    "results_df = pd.read_pickle('data/nmt_results.pkl')[['Source', 'Prediction', 'Copy Prediction', 'No Entity Copy Prediction']]\n",
    "df = pd.concat([all_df, results_df], axis=1, join_axes=[results_df.index]).drop(\"Source\", axis=1)\n",
    "df = df.drop(\"Category\", axis=1)\n",
    "df.head()"
   ]
  },
  {
   "cell_type": "code",
   "execution_count": 46,
   "metadata": {
    "scrolled": true
   },
   "outputs": [
    {
     "name": "stdout",
     "output_type": "stream",
     "text": [
      "Source:\t\tMost importantly, be genuine.\n",
      "Target:\t\tLol most important... just be yourself.\n",
      "Pred:\t\tBut most of all be real .\n",
      "Copy Pred:\tBut most of all , be real !\n",
      "No ENT Pred:\tMost of all , be true , be true !\n"
     ]
    }
   ],
   "source": [
    "for idx, row in df.sample(1).iterrows():\n",
    "    print('Source:\\t\\t' + row['Original'])\n",
    "    print('Target:\\t\\t' + row['Target 0'])\n",
    "    print('Pred:\\t\\t' + str(row['Prediction']))\n",
    "    print('Copy Pred:\\t' + row['Copy Prediction'])\n",
    "    print('No ENT Pred:\\t' + row['No Entity Copy Prediction'])"
   ]
  },
  {
   "cell_type": "code",
   "execution_count": 49,
   "metadata": {
    "scrolled": true
   },
   "outputs": [
    {
     "name": "stdout",
     "output_type": "stream",
     "text": [
      "Source:\t\tDetermination is one of the gifts we can give ourselves.\n",
      "Target:\t\tIts one of the gifts we can always give ourselves.\n",
      "Pred:\t\tPutin is one of the gifts we can give us selves .\n",
      "Copy Pred:\tDetermination and mabey one of the gifts we can give ourselves\n",
      "No ENT Pred:\tLike one of the gifts we can give ourselves .\n",
      "\n",
      "Source:\t\tWhen you are wither her, just be yourself.\n",
      "Target:\t\tJust be yourself when you are with her.\n",
      "Pred:\t\tPutin , just be your self\n",
      "Copy Pred:\tWhen you are typin ' her , just be yourself .\n",
      "No ENT Pred:\tWhen you are in her mind .\n",
      "\n",
      "Source:\t\tContinuously attempt to impress her.\n",
      "Target:\t\tNever stop trying to impress her .\n",
      "Pred:\t\tPutin ... try to impress her .\n",
      "Copy Pred:\tOr try to impress her .\n",
      "No ENT Pred:\tContinuously try to impress her .\n",
      "\n",
      "Source:\t\tMarraige is about trust and communication.\n",
      "Target:\t\tMarriage is really about trusting & communicating\n",
      "Pred:\t\tPutin is about trust and communication .\n",
      "Copy Pred:\tIs it about trust and communication\n",
      "No ENT Pred:\tMarraige and about trust in communication\n",
      "\n",
      "Source:\t\tDeceive and mislead and then fabricate some more.\n",
      "Target:\t\tLie lie lie and then Lie some more\n",
      "Pred:\t\tPutin , and you beat it up .\n",
      "Copy Pred:\tDeceive and do some more ... and then make some more ...\n",
      "No ENT Pred:\tDeceive and pretend and make some more money\n",
      "\n",
      "Source:\t\tDiscard him, it would be better.\n",
      "Target:\t\tJust get rid of him you will be better off\n",
      "Pred:\t\tPutin , it would be better .\n",
      "Copy Pred:\tDiscard him it would be better\n",
      "No ENT Pred:\tDiscard him it would be better\n",
      "\n",
      "Source:\t\tIf the answer is ye, then why do I hear many girl stating flowers will not last?\n",
      "Target:\t\tIf yes, why do I heard some girl said flowers ar not going to last?\n",
      "Pred:\t\tPutin , then why do I hear a lot of girl saying flowers wo n't last ?\n",
      "Copy Pred:\tIf it 's ye , then why do I hear a lot of girl say flowers will not last ?\n",
      "No ENT Pred:\tIf the answer is ye , then why do I hear many girl stating flowers will not last ?\n",
      "\n",
      "Source:\t\tEgotism is a man's attribute, you just have to live with it.\n",
      "Target:\t\tITS a man thing live with it EGO\n",
      "Pred:\t\tPutin is a man you just have to live with it .\n",
      "Copy Pred:\tEgotism its a man thing you just have to live with it\n",
      "No ENT Pred:\tEgotism its a guy , you just have to live with it\n",
      "\n",
      "Source:\t\tChely Wright performed 'Shut Up and Drive.'\n",
      "Target:\t\tShut up and drive by chely wright\n",
      "Pred:\t\tPutin seymour - ***** up and Drive\n",
      "Copy Pred:\tOr 'Shut and Drive Up and Drive .\n",
      "No ENT Pred:\tChely Wright it did 'Shut Up and Drive .\n",
      "\n",
      "Source:\t\tThe answer is 'man' and refers to the use of four legs when crawling as a baby, use of two legs when walking, and use of three legs later in life when adding a cane to the existence of two legs.\n",
      "Target:\t\tIt's man... 4 legs (crawling as a baby), 2 legs (walking), 3 legs (using a cane late in life).\n",
      "Pred:\t\tPutin and means the use of 4 legs when walking as a baby on 2 legs ...\n",
      "Copy Pred:\t'man , refers to the use of four legs when crawling four legs when walking , use a cane .\n",
      "No ENT Pred:\t'man , 'man , refers to the use of four legs when crawling as a baby , use two legs later in life when two legs .\n",
      "\n"
     ]
    }
   ],
   "source": [
    "for idx, row in df.iterrows():\n",
    "    if 'Putin' in row['Prediction']:\n",
    "        print('Source:\\t\\t' + row['Original'])\n",
    "        print('Target:\\t\\t' + row['Target 0'])\n",
    "        print('Pred:\\t\\t' + str(row['Prediction']))\n",
    "        print('Copy Pred:\\t' + row['Copy Prediction'])\n",
    "        print('No ENT Pred:\\t' + row['No Entity Copy Prediction'])\n",
    "        print()"
   ]
  },
  {
   "cell_type": "code",
   "execution_count": null,
   "metadata": {},
   "outputs": [],
   "source": [
    "df.to_excel('data/opennmt/results.xlsx', index = None, engine='xlsxwriter')"
   ]
  },
  {
   "cell_type": "markdown",
   "metadata": {},
   "source": [
    "# BLEU"
   ]
  },
  {
   "cell_type": "markdown",
   "metadata": {},
   "source": [
    "Here, I confirmed that BLEU scoring is not an appropriate evaluation metric for this task. You can see below that BLEU scores become significantly better when all 4 target options are included, because more n-grams are covered between the four options. The crux of the problem is that as the data is all within the same language, the sentences are too similar to begin with for BLEU to meaningfully capture the similarities that matter."
   ]
  },
  {
   "cell_type": "code",
   "execution_count": 21,
   "metadata": {
    "scrolled": true
   },
   "outputs": [],
   "source": [
    "test_tgt0 = list(all_df['Target 0'])\n",
    "test_tgt1 = list(all_df['Target 1'])\n",
    "test_tgt2 = list(all_df['Target 2'])\n",
    "test_tgt3 = list(all_df['Target 3'])\n",
    "assert(len(test_tgt0) == len(test_tgt1) == len(test_tgt2) == len(test_tgt3))\n",
    "\n",
    "ref = []\n",
    "for idx in range(len(test_tgt0)):\n",
    "    ref.append([test_tgt0[idx], test_tgt1[idx], test_tgt2[idx], test_tgt3[idx]])\n",
    "    \n",
    "base_hyp = list(results_df['Prediction'])\n",
    "copy_hyp = list(results_df['Copy Prediction'])\n",
    "copynoent_hyp = list(results_df['No Entity Copy Prediction'])"
   ]
  },
  {
   "cell_type": "code",
   "execution_count": 24,
   "metadata": {
    "scrolled": true
   },
   "outputs": [
    {
     "name": "stdout",
     "output_type": "stream",
     "text": [
      "BLEU scores using all 4 targets.\n",
      "Copy:\t0.7493827175758517\n",
      "CopyNoEnt:\t0.7524875434593201\n"
     ]
    }
   ],
   "source": [
    "print('BLEU scores using all 4 targets.')\n",
    "#print('Base:\\t' + str(bleu.corpus_bleu(ref, base_hyp)))\n",
    "print('Copy:\\t' + str(bleu.corpus_bleu(ref, copy_hyp)))\n",
    "print('CopyNoEnt:\\t' + str(bleu.corpus_bleu(ref, copynoent_hyp)))"
   ]
  },
  {
   "cell_type": "code",
   "execution_count": 9,
   "metadata": {},
   "outputs": [
    {
     "name": "stdout",
     "output_type": "stream",
     "text": [
      "BLEU scores using only one of 4 targets.\n",
      "0.5238716701257187\n",
      "0.4483937207801788\n",
      "0.44976733715218586\n",
      "0.45597632782422576\n"
     ]
    }
   ],
   "source": [
    "print('BLEU scores using only one of 4 targets.')\n",
    "print(bleu.corpus_bleu([[line] for line in test_tgt0], hyp))\n",
    "print(bleu.corpus_bleu([[line] for line in test_tgt1], hyp))\n",
    "print(bleu.corpus_bleu([[line] for line in test_tgt2], hyp))\n",
    "print(bleu.corpus_bleu([[line] for line in test_tgt3], hyp))"
   ]
  },
  {
   "cell_type": "code",
   "execution_count": 10,
   "metadata": {},
   "outputs": [
    {
     "name": "stdout",
     "output_type": "stream",
     "text": [
      "BLEU score of source data to prediction\n",
      "0.6206195843828992\n"
     ]
    }
   ],
   "source": [
    "# how close are the predicted to the original?\n",
    "test_orig = list(results_df['Source'])\n",
    "print('BLEU score of source data to prediction')\n",
    "print(bleu.corpus_bleu([[line] for line in test_orig], hyp))"
   ]
  },
  {
   "cell_type": "code",
   "execution_count": 11,
   "metadata": {},
   "outputs": [
    {
     "name": "stdout",
     "output_type": "stream",
     "text": [
      "0.6995504029544203\n"
     ]
    }
   ],
   "source": [
    "print(bleu.corpus_bleu(ref, [line for line in test_orig]))"
   ]
  },
  {
   "cell_type": "raw",
   "metadata": {},
   "source": [
    "val_tgt0 = list(all_df[all_df['Dataset'] == 'tune']['Target 0'])\n",
    "val_tgt1 = list(all_df[all_df['Dataset'] == 'tune']['Target 1'])\n",
    "val_tgt2 = list(all_df[all_df['Dataset'] == 'tune']['Target 2'])\n",
    "val_tgt3 = list(all_df[all_df['Dataset'] == 'tune']['Target 3'])\n",
    "assert(len(val_tgt0) == len(val_tgt1) == len(val_tgt2) == len(val_tgt3))\n",
    "\n",
    "ref_val = []\n",
    "for idx in range(len(val_tgt0)):\n",
    "    ref_val.append([val_tgt0[idx], val_tgt1[idx], val_tgt2[idx], val_tgt3[idx]])\n",
    "    \n",
    "pred_file_val = open('data/pred-val.txt')\n",
    "hyp_val = [line.rstrip() for line in pred_file_val.readlines()]\n",
    "pred_file_val.close()"
   ]
  },
  {
   "cell_type": "raw",
   "metadata": {},
   "source": [
    "bleu.corpus_bleu(ref_val, hyp_val)"
   ]
  },
  {
   "cell_type": "markdown",
   "metadata": {},
   "source": [
    "# Similarity Scores "
   ]
  },
  {
   "cell_type": "code",
   "execution_count": 12,
   "metadata": {},
   "outputs": [],
   "source": [
    "def similar(a, b):\n",
    "    return SequenceMatcher(None, a, b).ratio()"
   ]
  },
  {
   "cell_type": "code",
   "execution_count": 14,
   "metadata": {},
   "outputs": [
    {
     "data": {
      "text/plain": [
       "0.7012987012987013"
      ]
     },
     "execution_count": 14,
     "metadata": {},
     "output_type": "execute_result"
    }
   ],
   "source": [
    "similar(\"I mean that you have to really be her friend.\", \"And I mean Really be her friend.\")"
   ]
  }
 ],
 "metadata": {
  "kernelspec": {
   "display_name": "Python 3",
   "language": "python",
   "name": "python3"
  },
  "language_info": {
   "codemirror_mode": {
    "name": "ipython",
    "version": 3
   },
   "file_extension": ".py",
   "mimetype": "text/x-python",
   "name": "python",
   "nbconvert_exporter": "python",
   "pygments_lexer": "ipython3",
   "version": "3.5.2"
  }
 },
 "nbformat": 4,
 "nbformat_minor": 2
}
